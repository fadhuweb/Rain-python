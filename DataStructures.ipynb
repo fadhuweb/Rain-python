{
 "cells": [
  {
   "cell_type": "markdown",
   "id": "cf75c67c-d750-4575-a3c5-2ad6931a9806",
   "metadata": {},
   "source": [
    "## STRINGS\n"
   ]
  },
  {
   "cell_type": "code",
   "execution_count": 2,
   "id": "6e510792-9d23-4675-bd17-6237b326e342",
   "metadata": {},
   "outputs": [
    {
     "ename": "SyntaxError",
     "evalue": "invalid syntax (4094064767.py, line 1)",
     "output_type": "error",
     "traceback": [
      "\u001b[1;36m  Cell \u001b[1;32mIn[2], line 1\u001b[1;36m\u001b[0m\n\u001b[1;33m    Str 3 = '''Fadh\u001b[0m\n\u001b[1;37m        ^\u001b[0m\n\u001b[1;31mSyntaxError\u001b[0m\u001b[1;31m:\u001b[0m invalid syntax\n"
     ]
    }
   ],
   "source": [
    "Str 3 = '''Fadh\n",
    "UMAR\n",
    "Haneef\n",
    "'''"
   ]
  },
  {
   "cell_type": "markdown",
   "id": "9c7fec6c-4e91-4ee5-8287-c71d6ea7c1ba",
   "metadata": {},
   "source": [
    "## SLICING and INDEXING\n",
    "\n"
   ]
  },
  {
   "cell_type": "code",
   "execution_count": 8,
   "id": "9169d07a-1382-4fce-9910-fd8f934fd7a9",
   "metadata": {},
   "outputs": [
    {
     "data": {
      "text/plain": [
       "'Iot'"
      ]
     },
     "execution_count": 8,
     "metadata": {},
     "output_type": "execute_result"
    }
   ],
   "source": [
    "a = 'Innovation'\n",
    "a[7]\n",
    "a[0:10:3]"
   ]
  },
  {
   "cell_type": "code",
   "execution_count": 6,
   "id": "50551e1a-22ff-4279-8658-2e4794fcb9b0",
   "metadata": {},
   "outputs": [
    {
     "data": {
      "text/plain": [
       "'ang'"
      ]
     },
     "execution_count": 6,
     "metadata": {},
     "output_type": "execute_result"
    }
   ],
   "source": [
    " fruit = \"Mango\"\n",
    "fruit[-2]\n",
    "fruit [1:4]"
   ]
  },
  {
   "cell_type": "code",
   "execution_count": 5,
   "id": "6d039fc1-0dd5-4055-817f-05140c4a1bcc",
   "metadata": {},
   "outputs": [
    {
     "data": {
      "text/plain": [
       "'h'"
      ]
     },
     "execution_count": 5,
     "metadata": {},
     "output_type": "execute_result"
    }
   ],
   "source": [
    "animal = \"Elephant\"\n",
    "animal [4]"
   ]
  },
  {
   "cell_type": "code",
   "execution_count": 9,
   "id": "e0f31644-c610-436d-9cc7-fce6bd243f03",
   "metadata": {},
   "outputs": [
    {
     "data": {
      "text/plain": [
       "'Elepha'"
      ]
     },
     "execution_count": 9,
     "metadata": {},
     "output_type": "execute_result"
    }
   ],
   "source": [
    "animal [:6]"
   ]
  },
  {
   "cell_type": "code",
   "execution_count": null,
   "id": "89bdc069-afb3-4bf5-aad8-af552171033f",
   "metadata": {},
   "outputs": [],
   "source": [
    "animal [:1]"
   ]
  },
  {
   "cell_type": "markdown",
   "id": "dba5463c-8f87-4999-bddc-58a72a191d97",
   "metadata": {},
   "source": [
    "## STRING IMMUTABILITY\n",
    "\n",
    "Strings are immutable, they cannot be changed once they have been created and defined"
   ]
  },
  {
   "cell_type": "code",
   "execution_count": 10,
   "id": "71ccc8fc-6c80-4049-babd-5fad57133654",
   "metadata": {},
   "outputs": [],
   "source": [
    "str1 = 'Water'\n",
    "str2 = 'Melon'"
   ]
  },
  {
   "cell_type": "code",
   "execution_count": 11,
   "id": "66756f95-97a8-405a-98a3-27780d77bf90",
   "metadata": {},
   "outputs": [
    {
     "data": {
      "text/plain": [
       "'WaterMelon'"
      ]
     },
     "execution_count": 11,
     "metadata": {},
     "output_type": "execute_result"
    }
   ],
   "source": [
    "str1 + str2"
   ]
  },
  {
   "cell_type": "code",
   "execution_count": 12,
   "id": "010f14bd-4443-4de0-88ba-657821f61603",
   "metadata": {},
   "outputs": [
    {
     "data": {
      "text/plain": [
       "'WaterWaterWater'"
      ]
     },
     "execution_count": 12,
     "metadata": {},
     "output_type": "execute_result"
    }
   ],
   "source": [
    "str1 *3"
   ]
  },
  {
   "cell_type": "markdown",
   "id": "53c97890-3ac2-4833-9820-f14843fa9589",
   "metadata": {},
   "source": [
    "## ESCAPE CHARACTERS\n",
    "\n",
    "An escape character inserts characters that are otherwise impossible to add to a string. An escape character consists of a backslash (\\) followed by the character that you want to add to the string."
   ]
  },
  {
   "cell_type": "code",
   "execution_count": 14,
   "id": "59f14768-d3bc-45cd-bb02-d9e6f4762020",
   "metadata": {},
   "outputs": [],
   "source": [
    "text = \"Temi's bag is on the chair\""
   ]
  },
  {
   "cell_type": "code",
   "execution_count": 15,
   "id": "56cc30c7-cc1e-477b-8bf0-7bb731dae7ba",
   "metadata": {},
   "outputs": [
    {
     "data": {
      "text/plain": [
       "\"Temi's bag is on the chair\""
      ]
     },
     "execution_count": 15,
     "metadata": {},
     "output_type": "execute_result"
    }
   ],
   "source": [
    "text"
   ]
  },
  {
   "cell_type": "code",
   "execution_count": 16,
   "id": "f68cffad-ca5e-40f5-be4b-c14cafb71912",
   "metadata": {},
   "outputs": [
    {
     "name": "stdout",
     "output_type": "stream",
     "text": [
      "Temi's bag is on the chair\n"
     ]
    }
   ],
   "source": [
    "print (text)"
   ]
  },
  {
   "cell_type": "code",
   "execution_count": 17,
   "id": "13189c0d-2ef1-4262-ab2b-331d7c8cb658",
   "metadata": {},
   "outputs": [],
   "source": [
    "file = r\"C:\\Users\\fadhl\\Desktop\\RAIN\\python\""
   ]
  },
  {
   "cell_type": "code",
   "execution_count": 18,
   "id": "e90f01cf-f1fa-45a7-9f29-ea2c65e74bf8",
   "metadata": {},
   "outputs": [
    {
     "data": {
      "text/plain": [
       "'C:\\\\Users\\\\fadhl\\\\Desktop\\\\RAIN\\\\python'"
      ]
     },
     "execution_count": 18,
     "metadata": {},
     "output_type": "execute_result"
    }
   ],
   "source": [
    "file"
   ]
  },
  {
   "cell_type": "code",
   "execution_count": 20,
   "id": "06acb37e-0b7c-424f-b30f-a457fc92408c",
   "metadata": {},
   "outputs": [
    {
     "name": "stdout",
     "output_type": "stream",
     "text": [
      "['__add__', '__class__', '__contains__', '__delattr__', '__dir__', '__doc__', '__eq__', '__format__', '__ge__', '__getattribute__', '__getitem__', '__getnewargs__', '__getstate__', '__gt__', '__hash__', '__init__', '__init_subclass__', '__iter__', '__le__', '__len__', '__lt__', '__mod__', '__mul__', '__ne__', '__new__', '__reduce__', '__reduce_ex__', '__repr__', '__rmod__', '__rmul__', '__setattr__', '__sizeof__', '__str__', '__subclasshook__', 'capitalize', 'casefold', 'center', 'count', 'encode', 'endswith', 'expandtabs', 'find', 'format', 'format_map', 'index', 'isalnum', 'isalpha', 'isascii', 'isdecimal', 'isdigit', 'isidentifier', 'islower', 'isnumeric', 'isprintable', 'isspace', 'istitle', 'isupper', 'join', 'ljust', 'lower', 'lstrip', 'maketrans', 'partition', 'removeprefix', 'removesuffix', 'replace', 'rfind', 'rindex', 'rjust', 'rpartition', 'rsplit', 'rstrip', 'split', 'splitlines', 'startswith', 'strip', 'swapcase', 'title', 'translate', 'upper', 'zfill']\n"
     ]
    }
   ],
   "source": [
    "print(dir(str))"
   ]
  },
  {
   "cell_type": "code",
   "execution_count": 23,
   "id": "6b452f6f-ff76-4a8b-a18b-d1c3ede14902",
   "metadata": {},
   "outputs": [],
   "source": [
    "german =\"elefant\""
   ]
  },
  {
   "cell_type": "code",
   "execution_count": 24,
   "id": "5b2e37ad-7b41-4246-89ac-6fde1640a5f2",
   "metadata": {},
   "outputs": [
    {
     "name": "stdout",
     "output_type": "stream",
     "text": [
      "Elephant\n"
     ]
    }
   ],
   "source": [
    "print(animal.translate(german))"
   ]
  },
  {
   "cell_type": "code",
   "execution_count": 25,
   "id": "0ef3c3ab-c3f4-4c6c-b242-f2cfd091a259",
   "metadata": {},
   "outputs": [
    {
     "name": "stdout",
     "output_type": "stream",
     "text": [
      " I was born in 2021\n"
     ]
    }
   ],
   "source": [
    "year =2021\n",
    "when =' I was born in {}'\n",
    "when = when.format(year)\n",
    "print (when)"
   ]
  },
  {
   "cell_type": "markdown",
   "id": "51738bae-1d28-4991-a63b-dec5d1c66e42",
   "metadata": {},
   "source": [
    "## DELETING THROUGH A CODE\n",
    "\n",
    "\n",
    " "
   ]
  },
  {
   "cell_type": "code",
   "execution_count": 5,
   "id": "cab2c289-aa3c-4616-9d82-ef55f717f5ab",
   "metadata": {},
   "outputs": [],
   "source": [
    "mixed =['hey','good afternoon', 'good day', 'hello']"
   ]
  },
  {
   "cell_type": "markdown",
   "id": "5068dcd0-37a1-4b58-9bef-819a8b505f6a",
   "metadata": {},
   "source": [
    "mixed"
   ]
  },
  {
   "cell_type": "code",
   "execution_count": 6,
   "id": "2de356d2-a710-4081-8703-5429354cfeb6",
   "metadata": {},
   "outputs": [
    {
     "data": {
      "text/plain": [
       "['hey', 'good afternoon', 'good day', 'hello']"
      ]
     },
     "execution_count": 6,
     "metadata": {},
     "output_type": "execute_result"
    }
   ],
   "source": [
    "mixed"
   ]
  },
  {
   "cell_type": "code",
   "execution_count": 7,
   "id": "a7bf5d42-cee9-4723-9b7a-22d27f8d3d56",
   "metadata": {},
   "outputs": [],
   "source": [
    "del mixed[2]"
   ]
  },
  {
   "cell_type": "code",
   "execution_count": 8,
   "id": "3b5c4db6-0644-4e7d-a628-276c5731313a",
   "metadata": {},
   "outputs": [
    {
     "data": {
      "text/plain": [
       "['hey', 'good afternoon', 'hello']"
      ]
     },
     "execution_count": 8,
     "metadata": {},
     "output_type": "execute_result"
    }
   ],
   "source": [
    "mixed"
   ]
  },
  {
   "cell_type": "code",
   "execution_count": 31,
   "id": "b5a12c3f-c471-4e89-9902-70952251e9e1",
   "metadata": {},
   "outputs": [
    {
     "name": "stdout",
     "output_type": "stream",
     "text": [
      "hey\n",
      "good afternoon\n",
      "hello\n"
     ]
    }
   ],
   "source": [
    "# looping through a list\n",
    "for greeting in mixed:\n",
    "    print (greeting)\n"
   ]
  },
  {
   "cell_type": "code",
   "execution_count": 10,
   "id": "b5a42f80-70cd-4fba-87f4-78a7865d37de",
   "metadata": {},
   "outputs": [
    {
     "data": {
      "text/plain": [
       "3"
      ]
     },
     "execution_count": 10,
     "metadata": {},
     "output_type": "execute_result"
    }
   ],
   "source": [
    "len(mixed)"
   ]
  },
  {
   "cell_type": "code",
   "execution_count": 9,
   "id": "4d88fe11",
   "metadata": {},
   "outputs": [
    {
     "name": "stdout",
     "output_type": "stream",
     "text": [
      "1 hey\n",
      "2 good afternoon\n",
      "3 hello\n"
     ]
    }
   ],
   "source": [
    "#loop through lists by refering to their index number\n",
    "#using the range() and len() functions\n",
    "for i in range(len(mixed)):\n",
    "    print(i+1, mixed[i])"
   ]
  },
  {
   "cell_type": "markdown",
   "id": "e7c6022c",
   "metadata": {},
   "source": [
    "## USING ENUMERATE"
   ]
  },
  {
   "cell_type": "code",
   "execution_count": 11,
   "id": "3430a576",
   "metadata": {},
   "outputs": [
    {
     "data": {
      "text/plain": [
       "<enumerate at 0x1b9d6ae28e0>"
      ]
     },
     "execution_count": 11,
     "metadata": {},
     "output_type": "execute_result"
    }
   ],
   "source": [
    "enumerate(mixed)"
   ]
  },
  {
   "cell_type": "code",
   "execution_count": 12,
   "id": "d1f1c455",
   "metadata": {},
   "outputs": [
    {
     "data": {
      "text/plain": [
       "[(0, 'hey'), (1, 'good afternoon'), (2, 'hello')]"
      ]
     },
     "execution_count": 12,
     "metadata": {},
     "output_type": "execute_result"
    }
   ],
   "source": [
    "list(enumerate(mixed))"
   ]
  },
  {
   "cell_type": "code",
   "execution_count": 15,
   "id": "0fca2a2d",
   "metadata": {},
   "outputs": [
    {
     "name": "stdout",
     "output_type": "stream",
     "text": [
      "0 hey\n",
      "1 good afternoon\n",
      "2 hello\n"
     ]
    }
   ],
   "source": [
    "# using index & values\n",
    "for index, values in (enumerate(mixed)):\n",
    "    print(index, values) "
   ]
  },
  {
   "cell_type": "code",
   "execution_count": 18,
   "id": "8ae54646",
   "metadata": {},
   "outputs": [
    {
     "name": "stdout",
     "output_type": "stream",
     "text": [
      "1 hey\n",
      "2 good afternoon\n",
      "3 hello\n"
     ]
    }
   ],
   "source": [
    "for index, values in (enumerate(mixed,1)):\n",
    "    print(index ,values)"
   ]
  },
  {
   "cell_type": "code",
   "execution_count": 20,
   "id": "5f1e891d",
   "metadata": {},
   "outputs": [
    {
     "name": "stdout",
     "output_type": "stream",
     "text": [
      "good afternoon\n"
     ]
    }
   ],
   "source": [
    "#breaking the for loop using the if\n",
    "for x in mixed:\n",
    "    if x == \"good afternoon\":\n",
    "        break\n",
    "print (x)"
   ]
  },
  {
   "cell_type": "code",
   "execution_count": 21,
   "id": "5acbcf65",
   "metadata": {},
   "outputs": [
    {
     "name": "stdout",
     "output_type": "stream",
     "text": [
      "hey\n",
      "good afternoon\n"
     ]
    }
   ],
   "source": [
    "#breaking the for loop with the if statement coming after the print\n",
    "for x in mixed:\n",
    "    print (x)\n",
    "    if x== \"good afternoon\":\n",
    "        break"
   ]
  },
  {
   "cell_type": "code",
   "execution_count": 22,
   "id": "68e6e0c0",
   "metadata": {},
   "outputs": [
    {
     "name": "stdout",
     "output_type": "stream",
     "text": [
      "hey\n",
      "good afternoon\n",
      "hello\n"
     ]
    }
   ],
   "source": [
    "#using continue statement\n",
    "\n",
    "for x in mixed:\n",
    "    print (x)\n",
    "    if x== \"good afternoon\":\n",
    "        continue"
   ]
  },
  {
   "cell_type": "code",
   "execution_count": 28,
   "id": "0da41b12",
   "metadata": {},
   "outputs": [
    {
     "name": "stdout",
     "output_type": "stream",
     "text": [
      "hey\n"
     ]
    }
   ],
   "source": [
    "#using else in for loop\n",
    "for x in mixed:\n",
    "    print (x)\n",
    "    if x== \"hey\":\n",
    "        break\n",
    "else:\n",
    "    print (\"done\")"
   ]
  },
  {
   "cell_type": "code",
   "execution_count": 31,
   "id": "621fa2e3",
   "metadata": {},
   "outputs": [
    {
     "name": "stdout",
     "output_type": "stream",
     "text": [
      "red Mango\n",
      "red Banana\n",
      "red Cashew\n",
      "blue Mango\n",
      "blue Banana\n",
      "blue Cashew\n",
      "orange Mango\n",
      "orange Banana\n",
      "orange Cashew\n"
     ]
    }
   ],
   "source": [
    "# nested loop -a loop in a loop\n",
    "adj= [\"red\", \"blue\", \"orange\"]\n",
    "fruits= [\"Mango\", \"Banana\", \"Cashew\"]\n",
    "\n",
    "for x in adj:\n",
    "    for y in fruits:\n",
    "        print(x,y)"
   ]
  },
  {
   "cell_type": "code",
   "execution_count": 32,
   "id": "5995cc4b",
   "metadata": {},
   "outputs": [
    {
     "name": "stdout",
     "output_type": "stream",
     "text": [
      "hey\n",
      "good afternoon\n",
      "hello\n"
     ]
    }
   ],
   "source": [
    "#using a while loop to go through a list\n",
    "\n",
    "#initialize a loop to a variable\n",
    "x=0\n",
    "while x < len(mixed):\n",
    "    print(mixed[x])\n",
    "    x=x+1"
   ]
  },
  {
   "cell_type": "code",
   "execution_count": 34,
   "id": "71d95b70",
   "metadata": {},
   "outputs": [
    {
     "name": "stdout",
     "output_type": "stream",
     "text": [
      "hey\n",
      "good afternoon\n",
      "hello\n"
     ]
    },
    {
     "data": {
      "text/plain": [
       "[None, None, None]"
      ]
     },
     "execution_count": 34,
     "metadata": {},
     "output_type": "execute_result"
    }
   ],
   "source": [
    "# list comprehension\n",
    "[print(x) for x in mixed]"
   ]
  },
  {
   "cell_type": "code",
   "execution_count": 35,
   "id": "d95fb7cb",
   "metadata": {},
   "outputs": [
    {
     "data": {
      "text/plain": [
       "['red', 'blue', 'orange', 'Mango', 'Banana', 'Cashew']"
      ]
     },
     "execution_count": 35,
     "metadata": {},
     "output_type": "execute_result"
    }
   ],
   "source": [
    "#list operators\n",
    "\n",
    "adj + fruits"
   ]
  },
  {
   "cell_type": "code",
   "execution_count": 36,
   "id": "9dd499b7",
   "metadata": {},
   "outputs": [
    {
     "data": {
      "text/plain": [
       "False"
      ]
     },
     "execution_count": 36,
     "metadata": {},
     "output_type": "execute_result"
    }
   ],
   "source": [
    "\"red\" not in adj"
   ]
  },
  {
   "cell_type": "code",
   "execution_count": 92,
   "id": "72ea4a65",
   "metadata": {
    "scrolled": true
   },
   "outputs": [
    {
     "data": {
      "text/plain": [
       "['__add__',\n",
       " '__class__',\n",
       " '__class_getitem__',\n",
       " '__contains__',\n",
       " '__delattr__',\n",
       " '__delitem__',\n",
       " '__dir__',\n",
       " '__doc__',\n",
       " '__eq__',\n",
       " '__format__',\n",
       " '__ge__',\n",
       " '__getattribute__',\n",
       " '__getitem__',\n",
       " '__getstate__',\n",
       " '__gt__',\n",
       " '__hash__',\n",
       " '__iadd__',\n",
       " '__imul__',\n",
       " '__init__',\n",
       " '__init_subclass__',\n",
       " '__iter__',\n",
       " '__le__',\n",
       " '__len__',\n",
       " '__lt__',\n",
       " '__mul__',\n",
       " '__ne__',\n",
       " '__new__',\n",
       " '__reduce__',\n",
       " '__reduce_ex__',\n",
       " '__repr__',\n",
       " '__reversed__',\n",
       " '__rmul__',\n",
       " '__setattr__',\n",
       " '__setitem__',\n",
       " '__sizeof__',\n",
       " '__str__',\n",
       " '__subclasshook__',\n",
       " 'append',\n",
       " 'clear',\n",
       " 'copy',\n",
       " 'count',\n",
       " 'extend',\n",
       " 'index',\n",
       " 'insert',\n",
       " 'pop',\n",
       " 'remove',\n",
       " 'reverse',\n",
       " 'sort']"
      ]
     },
     "execution_count": 92,
     "metadata": {},
     "output_type": "execute_result"
    }
   ],
   "source": [
    "dir(list)"
   ]
  },
  {
   "cell_type": "code",
   "execution_count": 38,
   "id": "b465a13a",
   "metadata": {},
   "outputs": [
    {
     "data": {
      "text/plain": [
       "['__add__',\n",
       " '__class__',\n",
       " '__class_getitem__',\n",
       " '__contains__',\n",
       " '__delattr__',\n",
       " '__delitem__',\n",
       " '__dir__',\n",
       " '__doc__',\n",
       " '__eq__',\n",
       " '__format__',\n",
       " '__ge__',\n",
       " '__getattribute__',\n",
       " '__getitem__',\n",
       " '__getstate__',\n",
       " '__gt__',\n",
       " '__hash__',\n",
       " '__iadd__',\n",
       " '__imul__',\n",
       " '__init__',\n",
       " '__init_subclass__',\n",
       " '__iter__',\n",
       " '__le__',\n",
       " '__len__',\n",
       " '__lt__',\n",
       " '__mul__',\n",
       " '__ne__',\n",
       " '__new__',\n",
       " '__reduce__',\n",
       " '__reduce_ex__',\n",
       " '__repr__',\n",
       " '__reversed__',\n",
       " '__rmul__',\n",
       " '__setattr__',\n",
       " '__setitem__',\n",
       " '__sizeof__',\n",
       " '__str__',\n",
       " '__subclasshook__',\n",
       " 'append',\n",
       " 'clear',\n",
       " 'copy',\n",
       " 'count',\n",
       " 'extend',\n",
       " 'index',\n",
       " 'insert',\n",
       " 'pop',\n",
       " 'remove',\n",
       " 'reverse',\n",
       " 'sort']"
      ]
     },
     "execution_count": 38,
     "metadata": {},
     "output_type": "execute_result"
    }
   ],
   "source": [
    "dir(list)"
   ]
  },
  {
   "cell_type": "code",
   "execution_count": 39,
   "id": "e148b44a",
   "metadata": {},
   "outputs": [],
   "source": [
    "mixed.append(\"hi\")"
   ]
  },
  {
   "cell_type": "code",
   "execution_count": 40,
   "id": "8edb0a3c",
   "metadata": {},
   "outputs": [
    {
     "data": {
      "text/plain": [
       "['hey', 'good afternoon', 'hello', 'hi']"
      ]
     },
     "execution_count": 40,
     "metadata": {},
     "output_type": "execute_result"
    }
   ],
   "source": [
    "mixed"
   ]
  },
  {
   "cell_type": "code",
   "execution_count": 41,
   "id": "6ded8362",
   "metadata": {},
   "outputs": [],
   "source": [
    "quote =\"Abandon\"\n",
    "fruits =[\"Banana\", \"Mango\", \"Apple\" ,\"Grape\"]"
   ]
  },
  {
   "cell_type": "code",
   "execution_count": 42,
   "id": "332848da",
   "metadata": {},
   "outputs": [
    {
     "data": {
      "text/plain": [
       "['A', 'b', 'a', 'n', 'd', 'o', 'n']"
      ]
     },
     "execution_count": 42,
     "metadata": {},
     "output_type": "execute_result"
    }
   ],
   "source": [
    "list(quote)"
   ]
  },
  {
   "cell_type": "code",
   "execution_count": 43,
   "id": "434b1035",
   "metadata": {},
   "outputs": [],
   "source": [
    "sent =\"Ade likes banana and orange\""
   ]
  },
  {
   "cell_type": "code",
   "execution_count": 44,
   "id": "ff2a8beb",
   "metadata": {},
   "outputs": [
    {
     "data": {
      "text/plain": [
       "['Ade', 'likes', 'banana', 'and', 'orange']"
      ]
     },
     "execution_count": 44,
     "metadata": {},
     "output_type": "execute_result"
    }
   ],
   "source": [
    "list_sent=sent.split()\n",
    "list_sent"
   ]
  },
  {
   "cell_type": "code",
   "execution_count": 45,
   "id": "05a5b0fe",
   "metadata": {},
   "outputs": [
    {
     "data": {
      "text/plain": [
       "'Ade likes banana and orange'"
      ]
     },
     "execution_count": 45,
     "metadata": {},
     "output_type": "execute_result"
    }
   ],
   "source": [
    "#convert list to a string\n",
    "sent2 = \" \".join(list_sent)\n",
    "sent2"
   ]
  },
  {
   "cell_type": "code",
   "execution_count": 47,
   "id": "e756df95",
   "metadata": {},
   "outputs": [
    {
     "name": "stdout",
     "output_type": "stream",
     "text": [
      "[1, 4, 9, 16, 25, 36, 49, 64, 81]\n"
     ]
    }
   ],
   "source": [
    "# comprehension\n",
    "numbers=[1, 2, 3, 4, 5, 6, 7, 8, 9]\n",
    "squares= []\n",
    "for x in numbers:\n",
    "    squares.append(x**2)\n",
    "print(squares)"
   ]
  },
  {
   "cell_type": "code",
   "execution_count": 48,
   "id": "4a29fa27",
   "metadata": {},
   "outputs": [
    {
     "data": {
      "text/plain": [
       "[1, 4, 9, 16, 25, 36, 49, 64, 81]"
      ]
     },
     "execution_count": 48,
     "metadata": {},
     "output_type": "execute_result"
    }
   ],
   "source": [
    "[x**2 for x in numbers]"
   ]
  },
  {
   "cell_type": "markdown",
   "id": "df6f0ab7",
   "metadata": {},
   "source": [
    "## TUPLES\n",
    "\n",
    "They are used to store multiple items in a single variable. A tuple is a collection which is ordered in immutable. They are enclosed in parenthesis()."
   ]
  },
  {
   "cell_type": "code",
   "execution_count": 49,
   "id": "efb5d318",
   "metadata": {},
   "outputs": [
    {
     "data": {
      "text/plain": [
       "tuple"
      ]
     },
     "execution_count": 49,
     "metadata": {},
     "output_type": "execute_result"
    }
   ],
   "source": [
    "tuple1 = (\"you\", \"i\", \"we\",\"for\" ,\"they\", \"them\")\n",
    "type(tuple1)"
   ]
  },
  {
   "cell_type": "code",
   "execution_count": 50,
   "id": "f2c2a25c",
   "metadata": {},
   "outputs": [],
   "source": [
    "#a tuple withuout parenthesis\n",
    "mixed_tuple = 'Brian', '25-04-1997', 23 , 65.8\n"
   ]
  },
  {
   "cell_type": "code",
   "execution_count": 51,
   "id": "c33fdc29",
   "metadata": {},
   "outputs": [
    {
     "data": {
      "text/plain": [
       "('25-04-1997', 23)"
      ]
     },
     "execution_count": 51,
     "metadata": {},
     "output_type": "execute_result"
    }
   ],
   "source": [
    "#accessing items and elements in a tuple using slicing and indexing\n",
    "mixed_tuple[1:3]"
   ]
  },
  {
   "cell_type": "code",
   "execution_count": 52,
   "id": "cc3f460b",
   "metadata": {},
   "outputs": [
    {
     "data": {
      "text/plain": [
       "'ma'"
      ]
     },
     "execution_count": 52,
     "metadata": {},
     "output_type": "execute_result"
    }
   ],
   "source": [
    "#tuple asssignment\n",
    "x,y,z =(\"ma\", \"sir\", \"they\",)\n",
    "x"
   ]
  },
  {
   "cell_type": "code",
   "execution_count": 53,
   "id": "2ab436cd",
   "metadata": {},
   "outputs": [
    {
     "name": "stdout",
     "output_type": "stream",
     "text": [
      "My name is Tobi and i am 23 years old with a height of 5.3 feet\n"
     ]
    }
   ],
   "source": [
    "#tuple assignments with lists\n",
    "name, age ,height =[\"Tobi\", 23, 5.3]\n",
    "print(f'My name is {name} and i am {age} years old with a height of {height} feet')"
   ]
  },
  {
   "cell_type": "code",
   "execution_count": 54,
   "id": "abbc1db3",
   "metadata": {},
   "outputs": [],
   "source": [
    "#using the tuple method to make a tuple\n",
    "tuple3 = ((\"you\", \"i\", \"we\",\"for\" ,\"they\", \"them\"))"
   ]
  },
  {
   "cell_type": "code",
   "execution_count": 55,
   "id": "e8e0ec6e",
   "metadata": {},
   "outputs": [
    {
     "data": {
      "text/plain": [
       "('you', 'i', 'we', 'for', 'they', 'them')"
      ]
     },
     "execution_count": 55,
     "metadata": {},
     "output_type": "execute_result"
    }
   ],
   "source": [
    "tuple3"
   ]
  },
  {
   "cell_type": "code",
   "execution_count": 61,
   "id": "78f2410b",
   "metadata": {},
   "outputs": [
    {
     "name": "stdout",
     "output_type": "stream",
     "text": [
      "you\n",
      "i\n",
      "we\n",
      "for\n",
      "they\n",
      "them\n"
     ]
    }
   ],
   "source": [
    "#looping through tuple\n",
    "for x in tuple3:\n",
    "    print(x)"
   ]
  },
  {
   "cell_type": "code",
   "execution_count": 62,
   "id": "04771b5d",
   "metadata": {},
   "outputs": [
    {
     "data": {
      "text/plain": [
       "[(0, 'you'), (1, 'i'), (2, 'we'), (3, 'for'), (4, 'they'), (5, 'them')]"
      ]
     },
     "execution_count": 62,
     "metadata": {},
     "output_type": "execute_result"
    }
   ],
   "source": [
    "list(enumerate(tuple3))"
   ]
  },
  {
   "cell_type": "code",
   "execution_count": 63,
   "id": "676a9fad",
   "metadata": {},
   "outputs": [
    {
     "name": "stdout",
     "output_type": "stream",
     "text": [
      "0 you\n",
      "1 i\n",
      "2 we\n",
      "3 for\n",
      "4 they\n",
      "5 them\n"
     ]
    }
   ],
   "source": [
    "for index, values in (enumerate(tuple3)):\n",
    "    print(index, values) "
   ]
  },
  {
   "cell_type": "code",
   "execution_count": 67,
   "id": "f6f8205d",
   "metadata": {},
   "outputs": [
    {
     "name": "stdout",
     "output_type": "stream",
     "text": [
      "1 you\n",
      "2 i\n",
      "3 we\n",
      "4 for\n",
      "5 they\n",
      "6 them\n"
     ]
    }
   ],
   "source": [
    "for index, values in (enumerate(tuple3, 1)):\n",
    "    print(index, values) "
   ]
  },
  {
   "cell_type": "code",
   "execution_count": 68,
   "id": "bbad24a2",
   "metadata": {},
   "outputs": [
    {
     "name": "stdout",
     "output_type": "stream",
     "text": [
      "you\n",
      "i\n",
      "we\n",
      "for\n",
      "they\n",
      "them\n"
     ]
    }
   ],
   "source": [
    "x=0\n",
    "while x < len(tuple3):\n",
    "    print(tuple3[x])\n",
    "    x=x+1"
   ]
  },
  {
   "cell_type": "code",
   "execution_count": 72,
   "id": "2fab2a6c",
   "metadata": {},
   "outputs": [
    {
     "name": "stdout",
     "output_type": "stream",
     "text": [
      "you\n",
      "i\n",
      "we\n"
     ]
    }
   ],
   "source": [
    "for x in tuple3:\n",
    "    print (x)\n",
    "    if x==\"we\":\n",
    "        break"
   ]
  },
  {
   "cell_type": "code",
   "execution_count": 74,
   "id": "7426f3a2",
   "metadata": {},
   "outputs": [
    {
     "name": "stdout",
     "output_type": "stream",
     "text": [
      "you\n",
      "i\n"
     ]
    }
   ],
   "source": [
    "for x in tuple3:\n",
    "    if x==\"we\":\n",
    "        break\n",
    "    print(x)"
   ]
  },
  {
   "cell_type": "code",
   "execution_count": 75,
   "id": "1c08bd32",
   "metadata": {},
   "outputs": [
    {
     "data": {
      "text/plain": [
       "('you',\n",
       " 'i',\n",
       " 'we',\n",
       " 'for',\n",
       " 'they',\n",
       " 'them',\n",
       " 'you',\n",
       " 'i',\n",
       " 'we',\n",
       " 'for',\n",
       " 'they',\n",
       " 'them')"
      ]
     },
     "execution_count": 75,
     "metadata": {},
     "output_type": "execute_result"
    }
   ],
   "source": [
    "tuple1+tuple3"
   ]
  },
  {
   "cell_type": "code",
   "execution_count": 76,
   "id": "a2ca35ff",
   "metadata": {},
   "outputs": [
    {
     "data": {
      "text/plain": [
       "('you',\n",
       " 'i',\n",
       " 'we',\n",
       " 'for',\n",
       " 'they',\n",
       " 'them',\n",
       " 'you',\n",
       " 'i',\n",
       " 'we',\n",
       " 'for',\n",
       " 'they',\n",
       " 'them',\n",
       " 'you',\n",
       " 'i',\n",
       " 'we',\n",
       " 'for',\n",
       " 'they',\n",
       " 'them')"
      ]
     },
     "execution_count": 76,
     "metadata": {},
     "output_type": "execute_result"
    }
   ],
   "source": [
    "tuple1 *3"
   ]
  },
  {
   "cell_type": "code",
   "execution_count": 93,
   "id": "36864119",
   "metadata": {},
   "outputs": [
    {
     "data": {
      "text/plain": [
       "True"
      ]
     },
     "execution_count": 93,
     "metadata": {},
     "output_type": "execute_result"
    }
   ],
   "source": [
    "\"they\" in tuple3"
   ]
  },
  {
   "cell_type": "code",
   "execution_count": 78,
   "id": "b934437a",
   "metadata": {},
   "outputs": [
    {
     "data": {
      "text/plain": [
       "True"
      ]
     },
     "execution_count": 78,
     "metadata": {},
     "output_type": "execute_result"
    }
   ],
   "source": [
    "\"they\" in tuple3"
   ]
  },
  {
   "cell_type": "code",
   "execution_count": 81,
   "id": "2bff7560",
   "metadata": {},
   "outputs": [
    {
     "data": {
      "text/plain": [
       "False"
      ]
     },
     "execution_count": 81,
     "metadata": {},
     "output_type": "execute_result"
    }
   ],
   "source": [
    "\"that\" in tuple1"
   ]
  },
  {
   "cell_type": "code",
   "execution_count": 84,
   "id": "29698ee0",
   "metadata": {},
   "outputs": [
    {
     "data": {
      "text/plain": [
       "['__add__',\n",
       " '__class__',\n",
       " '__class_getitem__',\n",
       " '__contains__',\n",
       " '__delattr__',\n",
       " '__dir__',\n",
       " '__doc__',\n",
       " '__eq__',\n",
       " '__format__',\n",
       " '__ge__',\n",
       " '__getattribute__',\n",
       " '__getitem__',\n",
       " '__getnewargs__',\n",
       " '__getstate__',\n",
       " '__gt__',\n",
       " '__hash__',\n",
       " '__init__',\n",
       " '__init_subclass__',\n",
       " '__iter__',\n",
       " '__le__',\n",
       " '__len__',\n",
       " '__lt__',\n",
       " '__mul__',\n",
       " '__ne__',\n",
       " '__new__',\n",
       " '__reduce__',\n",
       " '__reduce_ex__',\n",
       " '__repr__',\n",
       " '__rmul__',\n",
       " '__setattr__',\n",
       " '__sizeof__',\n",
       " '__str__',\n",
       " '__subclasshook__',\n",
       " 'count',\n",
       " 'index']"
      ]
     },
     "execution_count": 84,
     "metadata": {},
     "output_type": "execute_result"
    }
   ],
   "source": [
    "#tuple methods\n",
    "(dir(tuple))"
   ]
  },
  {
   "cell_type": "code",
   "execution_count": 87,
   "id": "0d2c87c1",
   "metadata": {},
   "outputs": [
    {
     "data": {
      "text/plain": [
       "1"
      ]
     },
     "execution_count": 87,
     "metadata": {},
     "output_type": "execute_result"
    }
   ],
   "source": [
    "tuple3.count(\"them\")"
   ]
  },
  {
   "cell_type": "code",
   "execution_count": 88,
   "id": "56bdf039",
   "metadata": {},
   "outputs": [],
   "source": [
    "tuple.index?"
   ]
  },
  {
   "cell_type": "code",
   "execution_count": 91,
   "id": "bd75446b",
   "metadata": {},
   "outputs": [
    {
     "data": {
      "text/plain": [
       "5"
      ]
     },
     "execution_count": 91,
     "metadata": {},
     "output_type": "execute_result"
    }
   ],
   "source": [
    "tuple3.index(\"them\")"
   ]
  },
  {
   "cell_type": "markdown",
   "id": "be82085c",
   "metadata": {},
   "source": [
    "## SETS\n",
    "\n",
    "A set is an unordered collection with no duplicate elements. Basic uses include membership testing and eliminating duplicate entries."
   ]
  },
  {
   "cell_type": "code",
   "execution_count": 94,
   "id": "63d217b5",
   "metadata": {},
   "outputs": [
    {
     "data": {
      "text/plain": [
       "{'for', 'i', 'them', 'they', 'we', 'you'}"
      ]
     },
     "execution_count": 94,
     "metadata": {},
     "output_type": "execute_result"
    }
   ],
   "source": [
    "set1={\"you\", \"we\", \"i\", \"we\", \"for\", \"you\", \"they\", \"them\"}\n",
    "set1"
   ]
  },
  {
   "cell_type": "code",
   "execution_count": 96,
   "id": "0181a167",
   "metadata": {},
   "outputs": [
    {
     "data": {
      "text/plain": [
       "{2, 54.9, 'Tola', 'Tolu'}"
      ]
     },
     "execution_count": 96,
     "metadata": {},
     "output_type": "execute_result"
    }
   ],
   "source": [
    "set2 ={\"Tolu\", \"Tola\", 54.9, 2}\n",
    "set2"
   ]
  },
  {
   "cell_type": "code",
   "execution_count": 97,
   "id": "98e77dfd",
   "metadata": {},
   "outputs": [
    {
     "name": "stdout",
     "output_type": "stream",
     "text": [
      "54.9\n",
      "2\n",
      "Tola\n",
      "Tolu\n"
     ]
    }
   ],
   "source": [
    "#looping through a set\n",
    "for x in set2:\n",
    "    print(x)"
   ]
  },
  {
   "cell_type": "code",
   "execution_count": 98,
   "id": "61c213b5",
   "metadata": {},
   "outputs": [
    {
     "data": {
      "text/plain": [
       "['__and__',\n",
       " '__class__',\n",
       " '__class_getitem__',\n",
       " '__contains__',\n",
       " '__delattr__',\n",
       " '__dir__',\n",
       " '__doc__',\n",
       " '__eq__',\n",
       " '__format__',\n",
       " '__ge__',\n",
       " '__getattribute__',\n",
       " '__getstate__',\n",
       " '__gt__',\n",
       " '__hash__',\n",
       " '__iand__',\n",
       " '__init__',\n",
       " '__init_subclass__',\n",
       " '__ior__',\n",
       " '__isub__',\n",
       " '__iter__',\n",
       " '__ixor__',\n",
       " '__le__',\n",
       " '__len__',\n",
       " '__lt__',\n",
       " '__ne__',\n",
       " '__new__',\n",
       " '__or__',\n",
       " '__rand__',\n",
       " '__reduce__',\n",
       " '__reduce_ex__',\n",
       " '__repr__',\n",
       " '__ror__',\n",
       " '__rsub__',\n",
       " '__rxor__',\n",
       " '__setattr__',\n",
       " '__sizeof__',\n",
       " '__str__',\n",
       " '__sub__',\n",
       " '__subclasshook__',\n",
       " '__xor__',\n",
       " 'add',\n",
       " 'clear',\n",
       " 'copy',\n",
       " 'difference',\n",
       " 'difference_update',\n",
       " 'discard',\n",
       " 'intersection',\n",
       " 'intersection_update',\n",
       " 'isdisjoint',\n",
       " 'issubset',\n",
       " 'issuperset',\n",
       " 'pop',\n",
       " 'remove',\n",
       " 'symmetric_difference',\n",
       " 'symmetric_difference_update',\n",
       " 'union',\n",
       " 'update']"
      ]
     },
     "execution_count": 98,
     "metadata": {},
     "output_type": "execute_result"
    }
   ],
   "source": [
    "dir(set)"
   ]
  },
  {
   "cell_type": "code",
   "execution_count": 99,
   "id": "6961665e",
   "metadata": {},
   "outputs": [],
   "source": [
    "set2.add(45)"
   ]
  },
  {
   "cell_type": "code",
   "execution_count": 100,
   "id": "cb83faeb",
   "metadata": {},
   "outputs": [
    {
     "ename": "SyntaxError",
     "evalue": "unterminated string literal (detected at line 1) (402459531.py, line 1)",
     "output_type": "error",
     "traceback": [
      "\u001b[1;36m  Cell \u001b[1;32mIn[100], line 1\u001b[1;36m\u001b[0m\n\u001b[1;33m    set2\"\u001b[0m\n\u001b[1;37m        ^\u001b[0m\n\u001b[1;31mSyntaxError\u001b[0m\u001b[1;31m:\u001b[0m unterminated string literal (detected at line 1)\n"
     ]
    }
   ],
   "source": [
    "set2\""
   ]
  },
  {
   "cell_type": "code",
   "execution_count": 102,
   "id": "75527a6c",
   "metadata": {},
   "outputs": [
    {
     "data": {
      "text/plain": [
       "{2, 45, 54.9, 'Tola', 'Tolu'}"
      ]
     },
     "execution_count": 102,
     "metadata": {},
     "output_type": "execute_result"
    }
   ],
   "source": [
    "set2"
   ]
  },
  {
   "cell_type": "code",
   "execution_count": 103,
   "id": "3622b94d",
   "metadata": {},
   "outputs": [
    {
     "name": "stdout",
     "output_type": "stream",
     "text": [
      "2\n",
      "Tola\n",
      "45\n",
      "54.9\n",
      "Tolu\n"
     ]
    }
   ],
   "source": [
    "for x in set2:\n",
    "    print (x)"
   ]
  },
  {
   "cell_type": "code",
   "execution_count": 107,
   "id": "4aace015",
   "metadata": {
    "scrolled": true
   },
   "outputs": [
    {
     "name": "stdout",
     "output_type": "stream",
     "text": [
      "2\n",
      "Tola\n",
      "45\n"
     ]
    }
   ],
   "source": [
    "for x in set2:\n",
    "    if x ==54.9:\n",
    "        break\n",
    "    print (x)"
   ]
  },
  {
   "cell_type": "code",
   "execution_count": 110,
   "id": "b578c15f",
   "metadata": {},
   "outputs": [
    {
     "name": "stdout",
     "output_type": "stream",
     "text": [
      "2\n",
      "Tola\n",
      "45\n",
      "54.9\n"
     ]
    }
   ],
   "source": [
    "for x in set2:\n",
    "    print (x)\n",
    "    if x==54.9:\n",
    "        break"
   ]
  },
  {
   "cell_type": "code",
   "execution_count": 111,
   "id": "0b82dc9a",
   "metadata": {},
   "outputs": [
    {
     "data": {
      "text/plain": [
       "[(0, 2), (1, 'Tola'), (2, 45), (3, 54.9), (4, 'Tolu')]"
      ]
     },
     "execution_count": 111,
     "metadata": {},
     "output_type": "execute_result"
    }
   ],
   "source": [
    "list(enumerate(set2))"
   ]
  },
  {
   "cell_type": "code",
   "execution_count": 112,
   "id": "9d5c01f0",
   "metadata": {},
   "outputs": [
    {
     "name": "stdout",
     "output_type": "stream",
     "text": [
      "0 2\n",
      "1 Tola\n",
      "2 45\n",
      "3 54.9\n",
      "4 Tolu\n"
     ]
    }
   ],
   "source": [
    "for index,values in enumerate(set2):\n",
    "    print(index,values)"
   ]
  },
  {
   "cell_type": "code",
   "execution_count": 113,
   "id": "dff705dd",
   "metadata": {},
   "outputs": [
    {
     "name": "stdout",
     "output_type": "stream",
     "text": [
      "1 2\n",
      "2 Tola\n",
      "3 45\n",
      "4 54.9\n",
      "5 Tolu\n"
     ]
    }
   ],
   "source": [
    "for index,values in enumerate(set2 ,1):\n",
    "    print(index,values)"
   ]
  },
  {
   "cell_type": "code",
   "execution_count": 124,
   "id": "039fd581",
   "metadata": {},
   "outputs": [
    {
     "ename": "TypeError",
     "evalue": "'set' object is not subscriptable",
     "output_type": "error",
     "traceback": [
      "\u001b[1;31m---------------------------------------------------------------------------\u001b[0m",
      "\u001b[1;31mTypeError\u001b[0m                                 Traceback (most recent call last)",
      "Cell \u001b[1;32mIn[124], line 3\u001b[0m\n\u001b[0;32m      1\u001b[0m x\u001b[38;5;241m=\u001b[39m\u001b[38;5;241m0\u001b[39m\n\u001b[0;32m      2\u001b[0m \u001b[38;5;28;01mwhile\u001b[39;00m x \u001b[38;5;241m<\u001b[39m \u001b[38;5;28mlen\u001b[39m(set2):\n\u001b[1;32m----> 3\u001b[0m     \u001b[38;5;28mprint\u001b[39m(set2[x])\n\u001b[0;32m      4\u001b[0m     x\u001b[38;5;241m=\u001b[39mx\u001b[38;5;241m+\u001b[39m\u001b[38;5;241m1\u001b[39m\n",
      "\u001b[1;31mTypeError\u001b[0m: 'set' object is not subscriptable"
     ]
    }
   ],
   "source": [
    "x=0\n",
    "while x < len(set2):\n",
    "    print(set2[x])\n",
    "    x=x+1"
   ]
  },
  {
   "cell_type": "code",
   "execution_count": 125,
   "id": "b82d9856",
   "metadata": {},
   "outputs": [
    {
     "data": {
      "text/plain": [
       "set()"
      ]
     },
     "execution_count": 125,
     "metadata": {},
     "output_type": "execute_result"
    }
   ],
   "source": [
    "set2 &set1"
   ]
  },
  {
   "cell_type": "code",
   "execution_count": 126,
   "id": "bfb52724",
   "metadata": {},
   "outputs": [
    {
     "data": {
      "text/plain": [
       "{2, 45, 54.9, 'Tola', 'Tolu'}"
      ]
     },
     "execution_count": 126,
     "metadata": {},
     "output_type": "execute_result"
    }
   ],
   "source": [
    "set2 -set1"
   ]
  },
  {
   "cell_type": "code",
   "execution_count": 136,
   "id": "9286ff2e",
   "metadata": {},
   "outputs": [],
   "source": [
    "# converting string to set\n",
    "\n",
    "a= set('abracadabra')\n",
    "b= set('alabama')"
   ]
  },
  {
   "cell_type": "code",
   "execution_count": 137,
   "id": "9c4e0c75",
   "metadata": {},
   "outputs": [
    {
     "data": {
      "text/plain": [
       "{'c', 'd', 'r'}"
      ]
     },
     "execution_count": 137,
     "metadata": {},
     "output_type": "execute_result"
    }
   ],
   "source": [
    "a-b  # in a and not in b"
   ]
  },
  {
   "cell_type": "code",
   "execution_count": 130,
   "id": "1760ab81",
   "metadata": {},
   "outputs": [
    {
     "data": {
      "text/plain": [
       "{'l', 'm'}"
      ]
     },
     "execution_count": 130,
     "metadata": {},
     "output_type": "execute_result"
    }
   ],
   "source": [
    "b-a  #in b and not in a"
   ]
  },
  {
   "cell_type": "code",
   "execution_count": 131,
   "id": "b0a6fd08",
   "metadata": {},
   "outputs": [
    {
     "ename": "TypeError",
     "evalue": "unsupported operand type(s) for +: 'set' and 'set'",
     "output_type": "error",
     "traceback": [
      "\u001b[1;31m---------------------------------------------------------------------------\u001b[0m",
      "\u001b[1;31mTypeError\u001b[0m                                 Traceback (most recent call last)",
      "Cell \u001b[1;32mIn[131], line 1\u001b[0m\n\u001b[1;32m----> 1\u001b[0m b\u001b[38;5;241m+\u001b[39ma\n",
      "\u001b[1;31mTypeError\u001b[0m: unsupported operand type(s) for +: 'set' and 'set'"
     ]
    }
   ],
   "source": [
    "b+a  # in and not in a"
   ]
  },
  {
   "cell_type": "code",
   "execution_count": 132,
   "id": "b4c37e2d",
   "metadata": {},
   "outputs": [
    {
     "data": {
      "text/plain": [
       "{'a', 'b', 'c', 'd', 'l', 'm', 'r'}"
      ]
     },
     "execution_count": 132,
     "metadata": {},
     "output_type": "execute_result"
    }
   ],
   "source": [
    "a |b #in a and b"
   ]
  },
  {
   "cell_type": "code",
   "execution_count": 133,
   "id": "f186af8b",
   "metadata": {},
   "outputs": [
    {
     "data": {
      "text/plain": [
       "{'c', 'd', 'l', 'm', 'r'}"
      ]
     },
     "execution_count": 133,
     "metadata": {},
     "output_type": "execute_result"
    }
   ],
   "source": [
    "a^b #"
   ]
  },
  {
   "cell_type": "code",
   "execution_count": 138,
   "id": "febd23f5",
   "metadata": {},
   "outputs": [
    {
     "data": {
      "text/plain": [
       "{'a', 'b'}"
      ]
     },
     "execution_count": 138,
     "metadata": {},
     "output_type": "execute_result"
    }
   ],
   "source": [
    "a&b"
   ]
  },
  {
   "cell_type": "code",
   "execution_count": 1,
   "id": "03c60215",
   "metadata": {},
   "outputs": [],
   "source": [
    "a =[\n",
    "    (3,5),\n",
    "    (4,8), \n",
    "    (5,9,1,3),\n",
    "    (10,2,6)\n",
    "]"
   ]
  },
  {
   "cell_type": "code",
   "execution_count": 2,
   "id": "c21c8839",
   "metadata": {},
   "outputs": [
    {
     "data": {
      "text/plain": [
       "list"
      ]
     },
     "execution_count": 2,
     "metadata": {},
     "output_type": "execute_result"
    }
   ],
   "source": [
    "type(a)"
   ]
  },
  {
   "cell_type": "code",
   "execution_count": 5,
   "id": "42bd9fec",
   "metadata": {},
   "outputs": [
    {
     "data": {
      "text/plain": [
       "9"
      ]
     },
     "execution_count": 5,
     "metadata": {},
     "output_type": "execute_result"
    }
   ],
   "source": [
    "a[2][1]"
   ]
  },
  {
   "cell_type": "markdown",
   "id": "24c93791",
   "metadata": {},
   "source": [
    "## DICTIONARIES\n",
    "\n",
    "*Collection of key:value pairs that is unordered, indexed, and mutable\n",
    "\n",
    "*can be of any data types\n",
    "\n",
    "*Dictionaries are written with curly brackets"
   ]
  },
  {
   "cell_type": "code",
   "execution_count": 46,
   "id": "b0af6123",
   "metadata": {},
   "outputs": [],
   "source": [
    "details ={\n",
    "    \"Name\": \"Fadh\",\n",
    "    \"Gender\": \"Male\",\n",
    "    \"Age\": 19,\n",
    "    \"Height\": 170.5,\n",
    "    \"Weight\" : 82 \n",
    "}"
   ]
  },
  {
   "cell_type": "code",
   "execution_count": 8,
   "id": "952d958f",
   "metadata": {},
   "outputs": [
    {
     "data": {
      "text/plain": [
       "dict"
      ]
     },
     "execution_count": 8,
     "metadata": {},
     "output_type": "execute_result"
    }
   ],
   "source": [
    "type(details)"
   ]
  },
  {
   "cell_type": "markdown",
   "id": "106afaf8",
   "metadata": {},
   "source": [
    "## DICTIONARY ITEMS\n",
    "*Ordered,Changeable, do not allow duplicates\n",
    "\n",
    "*Can be refered to using their key names"
   ]
  },
  {
   "cell_type": "code",
   "execution_count": 9,
   "id": "f3dfd535",
   "metadata": {},
   "outputs": [
    {
     "data": {
      "text/plain": [
       "'Fadh'"
      ]
     },
     "execution_count": 9,
     "metadata": {},
     "output_type": "execute_result"
    }
   ],
   "source": [
    "details[\"Name\"]"
   ]
  },
  {
   "cell_type": "code",
   "execution_count": 10,
   "id": "3353683a",
   "metadata": {},
   "outputs": [
    {
     "data": {
      "text/plain": [
       "'Male'"
      ]
     },
     "execution_count": 10,
     "metadata": {},
     "output_type": "execute_result"
    }
   ],
   "source": [
    "details[\"Gender\"]"
   ]
  },
  {
   "cell_type": "code",
   "execution_count": 11,
   "id": "c7254631",
   "metadata": {},
   "outputs": [
    {
     "data": {
      "text/plain": [
       "5"
      ]
     },
     "execution_count": 11,
     "metadata": {},
     "output_type": "execute_result"
    }
   ],
   "source": [
    "len(details)"
   ]
  },
  {
   "cell_type": "code",
   "execution_count": 12,
   "id": "59c65c0b",
   "metadata": {},
   "outputs": [],
   "source": [
    "#add a new key and value\n",
    "details[\"Location\"] = \"Nigeria\""
   ]
  },
  {
   "cell_type": "code",
   "execution_count": 14,
   "id": "0a350fa2",
   "metadata": {},
   "outputs": [
    {
     "data": {
      "text/plain": [
       "{'Name': 'Fadh',\n",
       " 'Gender': 'Male',\n",
       " 'Age': 19,\n",
       " 'Height': 170.5,\n",
       " 'Weight': 82,\n",
       " 'Location': 'Nigeria'}"
      ]
     },
     "execution_count": 14,
     "metadata": {},
     "output_type": "execute_result"
    }
   ],
   "source": [
    "#printing new variable\n",
    "details"
   ]
  },
  {
   "cell_type": "code",
   "execution_count": 15,
   "id": "762b9d9f",
   "metadata": {},
   "outputs": [
    {
     "data": {
      "text/plain": [
       "dict_keys(['Name', 'Gender', 'Age', 'Height', 'Weight', 'Location'])"
      ]
     },
     "execution_count": 15,
     "metadata": {},
     "output_type": "execute_result"
    }
   ],
   "source": [
    "#the keys present in details\n",
    "details.keys()"
   ]
  },
  {
   "cell_type": "code",
   "execution_count": 16,
   "id": "a1c4969d",
   "metadata": {},
   "outputs": [
    {
     "data": {
      "text/plain": [
       "dict_values(['Fadh', 'Male', 19, 170.5, 82, 'Nigeria'])"
      ]
     },
     "execution_count": 16,
     "metadata": {},
     "output_type": "execute_result"
    }
   ],
   "source": [
    "#the values present in a dictionary\n",
    "details.values()"
   ]
  },
  {
   "cell_type": "code",
   "execution_count": 24,
   "id": "01a2e4ee",
   "metadata": {},
   "outputs": [
    {
     "data": {
      "text/plain": [
       "dict_items([('Name', 'Fadh'), ('Gender', 'Male'), ('Age', 19), ('Height', 170.5), ('Weight', 82), ('Location', 'Nigeria')])"
      ]
     },
     "execution_count": 24,
     "metadata": {},
     "output_type": "execute_result"
    }
   ],
   "source": [
    "#the items present in a dictionary\n",
    "details.items()"
   ]
  },
  {
   "cell_type": "markdown",
   "id": "10e2a1db",
   "metadata": {},
   "source": [
    "## ACCESSING ITEMS IN A DICTIONARY\n",
    "\n",
    "Although a dictionary is unordered, we can access any of its items because it is indexed"
   ]
  },
  {
   "cell_type": "code",
   "execution_count": 27,
   "id": "d779f8ed",
   "metadata": {},
   "outputs": [
    {
     "data": {
      "text/plain": [
       "'Nigeria'"
      ]
     },
     "execution_count": 27,
     "metadata": {},
     "output_type": "execute_result"
    }
   ],
   "source": [
    "#using the get method\n",
    "details.get('Location')"
   ]
  },
  {
   "cell_type": "code",
   "execution_count": 47,
   "id": "087ee665",
   "metadata": {},
   "outputs": [
    {
     "data": {
      "text/plain": [
       "{'Name': 'Fadh', 'Gender': 'Male', 'Age': 19, 'Height': 170.5, 'Weight': 82}"
      ]
     },
     "execution_count": 47,
     "metadata": {},
     "output_type": "execute_result"
    }
   ],
   "source": [
    "details"
   ]
  },
  {
   "cell_type": "code",
   "execution_count": 28,
   "id": "059b8b3f",
   "metadata": {},
   "outputs": [],
   "source": [
    "#if a key does not exist\n",
    "details.get('Surname') == \"\""
   ]
  },
  {
   "cell_type": "code",
   "execution_count": 29,
   "id": "416e1b62",
   "metadata": {},
   "outputs": [
    {
     "name": "stdout",
     "output_type": "stream",
     "text": [
      "Fadh is 19 years old\n"
     ]
    }
   ],
   "source": [
    "print(f\"{details['Name']} is {details['Age']} years old\")"
   ]
  },
  {
   "cell_type": "code",
   "execution_count": 30,
   "id": "2889dbbb",
   "metadata": {},
   "outputs": [],
   "source": [
    "#Changing the valuse of a key\n",
    "details['Age'] =15"
   ]
  },
  {
   "cell_type": "code",
   "execution_count": 31,
   "id": "3d842d02",
   "metadata": {},
   "outputs": [
    {
     "data": {
      "text/plain": [
       "{'Name': 'Fadh',\n",
       " 'Gender': 'Male',\n",
       " 'Age': 15,\n",
       " 'Height': 170.5,\n",
       " 'Weight': 82,\n",
       " 'Location': 'Nigeria'}"
      ]
     },
     "execution_count": 31,
     "metadata": {},
     "output_type": "execute_result"
    }
   ],
   "source": [
    "details"
   ]
  },
  {
   "cell_type": "code",
   "execution_count": 32,
   "id": "8f7bffe1",
   "metadata": {},
   "outputs": [],
   "source": [
    "details.update({'Weight' : 60})\n"
   ]
  },
  {
   "cell_type": "code",
   "execution_count": 33,
   "id": "9ae6906e",
   "metadata": {},
   "outputs": [
    {
     "data": {
      "text/plain": [
       "{'Name': 'Fadh',\n",
       " 'Gender': 'Male',\n",
       " 'Age': 15,\n",
       " 'Height': 170.5,\n",
       " 'Weight': 60,\n",
       " 'Location': 'Nigeria'}"
      ]
     },
     "execution_count": 33,
     "metadata": {},
     "output_type": "execute_result"
    }
   ],
   "source": [
    "details"
   ]
  },
  {
   "cell_type": "code",
   "execution_count": 39,
   "id": "0ddb2844",
   "metadata": {},
   "outputs": [],
   "source": [
    "details['Height'] = 170.8"
   ]
  },
  {
   "cell_type": "code",
   "execution_count": 41,
   "id": "649070d6",
   "metadata": {},
   "outputs": [
    {
     "data": {
      "text/plain": [
       "170.8"
      ]
     },
     "execution_count": 41,
     "metadata": {},
     "output_type": "execute_result"
    }
   ],
   "source": [
    "#deleting a value using the pop method\n",
    "details.pop('Height')"
   ]
  },
  {
   "cell_type": "code",
   "execution_count": 42,
   "id": "32043710",
   "metadata": {},
   "outputs": [
    {
     "data": {
      "text/plain": [
       "{'Name': 'Fadh',\n",
       " 'Gender': 'Male',\n",
       " 'Age': 15,\n",
       " 'Weight': 60,\n",
       " 'Location': 'Nigeria',\n",
       " 'Complexion': 'Black'}"
      ]
     },
     "execution_count": 42,
     "metadata": {},
     "output_type": "execute_result"
    }
   ],
   "source": [
    "details"
   ]
  },
  {
   "cell_type": "code",
   "execution_count": 37,
   "id": "f82e3232",
   "metadata": {},
   "outputs": [],
   "source": [
    "del details['Height']"
   ]
  },
  {
   "cell_type": "code",
   "execution_count": 38,
   "id": "291728c9",
   "metadata": {},
   "outputs": [
    {
     "data": {
      "text/plain": [
       "{'Name': 'Fadh',\n",
       " 'Gender': 'Male',\n",
       " 'Age': 15,\n",
       " 'Weight': 60,\n",
       " 'Location': 'Nigeria',\n",
       " 'Complexion': 'Black'}"
      ]
     },
     "execution_count": 38,
     "metadata": {},
     "output_type": "execute_result"
    }
   ],
   "source": [
    "details"
   ]
  },
  {
   "cell_type": "code",
   "execution_count": 43,
   "id": "59268005",
   "metadata": {},
   "outputs": [],
   "source": [
    "#using the clear method\n",
    "details.clear()"
   ]
  },
  {
   "cell_type": "code",
   "execution_count": 44,
   "id": "96ea006b",
   "metadata": {},
   "outputs": [
    {
     "data": {
      "text/plain": [
       "{}"
      ]
     },
     "execution_count": 44,
     "metadata": {},
     "output_type": "execute_result"
    }
   ],
   "source": [
    "details"
   ]
  },
  {
   "cell_type": "markdown",
   "id": "d45845c4",
   "metadata": {},
   "source": [
    "## LOOPING THROUGH A DICTIONARY"
   ]
  },
  {
   "cell_type": "code",
   "execution_count": 48,
   "id": "41bbdd94",
   "metadata": {},
   "outputs": [
    {
     "name": "stdout",
     "output_type": "stream",
     "text": [
      "Name\n",
      "Gender\n",
      "Age\n",
      "Height\n",
      "Weight\n"
     ]
    }
   ],
   "source": [
    "# to get key using for method\n",
    "for x in details:\n",
    "    print(x)"
   ]
  },
  {
   "cell_type": "code",
   "execution_count": 49,
   "id": "30eacbe8",
   "metadata": {},
   "outputs": [
    {
     "name": "stdout",
     "output_type": "stream",
     "text": [
      "Fadh\n",
      "Male\n",
      "19\n",
      "170.5\n",
      "82\n"
     ]
    }
   ],
   "source": [
    "# to get values using for method\n",
    "for x in details:\n",
    "    print (details[x])"
   ]
  },
  {
   "cell_type": "code",
   "execution_count": 50,
   "id": "e2b59c69",
   "metadata": {},
   "outputs": [
    {
     "name": "stdout",
     "output_type": "stream",
     "text": [
      "Fadh\n",
      "Male\n",
      "19\n",
      "170.5\n",
      "82\n"
     ]
    }
   ],
   "source": [
    "# using (.values) to access the values\n",
    "for x in details.values():\n",
    "    print (x)"
   ]
  },
  {
   "cell_type": "code",
   "execution_count": 51,
   "id": "7f64dd48",
   "metadata": {},
   "outputs": [
    {
     "name": "stdout",
     "output_type": "stream",
     "text": [
      "Name\n",
      "Gender\n",
      "Age\n",
      "Height\n",
      "Weight\n"
     ]
    }
   ],
   "source": [
    "# using (.keys) to access the keys\n",
    "for x in details.keys():\n",
    "    print (x)"
   ]
  },
  {
   "cell_type": "code",
   "execution_count": 52,
   "id": "226a3d5e",
   "metadata": {},
   "outputs": [
    {
     "name": "stdout",
     "output_type": "stream",
     "text": [
      "('Name', 'Fadh')\n",
      "('Gender', 'Male')\n",
      "('Age', 19)\n",
      "('Height', 170.5)\n",
      "('Weight', 82)\n"
     ]
    }
   ],
   "source": [
    "# using (.items) to access the items\n",
    "for x in details.items():\n",
    "    print (x)\n"
   ]
  },
  {
   "cell_type": "code",
   "execution_count": 53,
   "id": "3f7f5383",
   "metadata": {},
   "outputs": [
    {
     "name": "stdout",
     "output_type": "stream",
     "text": [
      "Name Fadh\n",
      "Gender Male\n",
      "Age 19\n",
      "Height 170.5\n",
      "Weight 82\n"
     ]
    }
   ],
   "source": [
    "# access the (key & value) in (.items)\n",
    "for key,value in details.items():\n",
    "    print (key,value)"
   ]
  },
  {
   "cell_type": "code",
   "execution_count": 54,
   "id": "e562cc9f",
   "metadata": {},
   "outputs": [],
   "source": [
    "#to copy \n",
    "mydetails = details.copy()"
   ]
  },
  {
   "cell_type": "code",
   "execution_count": 55,
   "id": "e6a64947",
   "metadata": {},
   "outputs": [
    {
     "data": {
      "text/plain": [
       "{'Name': 'Fadh', 'Gender': 'Male', 'Age': 19, 'Height': 170.5, 'Weight': 82}"
      ]
     },
     "execution_count": 55,
     "metadata": {},
     "output_type": "execute_result"
    }
   ],
   "source": [
    "mydetails"
   ]
  },
  {
   "cell_type": "code",
   "execution_count": 56,
   "id": "ecbd9e56",
   "metadata": {},
   "outputs": [
    {
     "data": {
      "text/plain": [
       "{'Name': 'Fadh', 'Gender': 'Male', 'Age': 19, 'Height': 170.5, 'Weight': 82}"
      ]
     },
     "execution_count": 56,
     "metadata": {},
     "output_type": "execute_result"
    }
   ],
   "source": [
    "mydetails =dict(details)\n",
    "mydetails"
   ]
  },
  {
   "cell_type": "markdown",
   "id": "d5b7e61d",
   "metadata": {},
   "source": [
    "## NESTED DICTIONARIES\n",
    "\n",
    "*A dictionary that contains another dictionary"
   ]
  },
  {
   "cell_type": "code",
   "execution_count": 60,
   "id": "63bac7ad",
   "metadata": {},
   "outputs": [],
   "source": [
    "Rain ={\n",
    " \"Student1\": {'Name': 'Fadh',\n",
    " 'Gender': 'Male',\n",
    " 'Age': 15,\n",
    " 'Height': 183,\n",
    " 'Weight': 60,\n",
    " 'Location': 'Nigeria',\n",
    " 'Complexion': 'Black'}, \n",
    "    \n",
    "\"Student2\": {'Name': 'Tolu',\n",
    " 'Gender': 'Female',\n",
    " 'Age': 24,\n",
    " 'Height': 166,\n",
    " 'Weight': 50,\n",
    " 'Location': 'Nigeria',\n",
    " 'Complexion': 'Fair',\n",
    "},\n",
    " \"Student3\": {'Name': 'Emeka',\n",
    " 'Gender': 'Male',\n",
    " 'Age': 20,\n",
    " 'Height': 156,\n",
    " 'Weight':74.0,\n",
    " 'Location': 'Nigeria',\n",
    " 'Complexion': 'Black',\n",
    "},\n",
    "   \"Student4\": {'Name': 'Audu',\n",
    " 'Gender': 'Male',\n",
    " 'Age': 17,\n",
    " 'Height': 178,\n",
    " 'Weight':67.4,\n",
    " 'Location': 'Cameroon',\n",
    " 'Complexion': 'Black',\n",
    "}\n",
    "    \n",
    "}"
   ]
  },
  {
   "cell_type": "code",
   "execution_count": 61,
   "id": "9ac094c6",
   "metadata": {},
   "outputs": [
    {
     "data": {
      "text/plain": [
       "{'Student1': {'Name': 'Fadh',\n",
       "  'Gender': 'Male',\n",
       "  'Age': 15,\n",
       "  'Height': 183,\n",
       "  'Weight': 60,\n",
       "  'Location': 'Nigeria',\n",
       "  'Complexion': 'Black'},\n",
       " 'Student2': {'Name': 'Tolu',\n",
       "  'Gender': 'Female',\n",
       "  'Age': 24,\n",
       "  'Height': 166,\n",
       "  'Weight': 50,\n",
       "  'Location': 'Nigeria',\n",
       "  'Complexion': 'Fair'},\n",
       " 'Student3': {'Name': 'Emeka',\n",
       "  'Gender': 'Male',\n",
       "  'Age': 20,\n",
       "  'Height': 156,\n",
       "  'Weight': 74.0,\n",
       "  'Location': 'Nigeria',\n",
       "  'Complexion': 'Black'},\n",
       " 'Student4': {'Name': 'Audu',\n",
       "  'Gender': 'Male',\n",
       "  'Age': 17,\n",
       "  'Height': 178,\n",
       "  'Weight': 67.4,\n",
       "  'Location': 'Cameroon',\n",
       "  'Complexion': 'Black'}}"
      ]
     },
     "execution_count": 61,
     "metadata": {},
     "output_type": "execute_result"
    }
   ],
   "source": [
    "Rain"
   ]
  },
  {
   "cell_type": "code",
   "execution_count": 62,
   "id": "0b85bc8c",
   "metadata": {},
   "outputs": [],
   "source": [
    "Student1 = {'Name': 'Fadh',\n",
    " 'Gender': 'Male',\n",
    " 'Age': 15,\n",
    " 'Height': 183,\n",
    " 'Weight': 60,\n",
    " 'Location': 'Nigeria',\n",
    " 'Complexion': 'Black'}"
   ]
  },
  {
   "cell_type": "code",
   "execution_count": 63,
   "id": "06606864",
   "metadata": {},
   "outputs": [],
   "source": [
    "Student2 = {'Name': 'Tolu',\n",
    " 'Gender': 'Female',\n",
    " 'Age': 24,\n",
    " 'Height': 166,\n",
    " 'Weight': 50,\n",
    " 'Location': 'Nigeria',\n",
    " 'Complexion': 'Fair',\n",
    "}"
   ]
  },
  {
   "cell_type": "code",
   "execution_count": 64,
   "id": "425aa105",
   "metadata": {},
   "outputs": [],
   "source": [
    "Student3 = {'Name': 'Emeka',\n",
    " 'Gender': 'Male',\n",
    " 'Age': 20,\n",
    " 'Height': 156,\n",
    " 'Weight':74.0,\n",
    " 'Location': 'Nigeria',\n",
    " 'Complexion': 'Black',\n",
    "}"
   ]
  },
  {
   "cell_type": "code",
   "execution_count": 65,
   "id": "a2524eb1",
   "metadata": {},
   "outputs": [],
   "source": [
    "Student4 =  {'Name': 'Audu',\n",
    " 'Gender': 'Male',\n",
    " 'Age': 17,\n",
    " 'Height': 178,\n",
    " 'Weight':67.4,\n",
    " 'Location': 'Cameroon',\n",
    " 'Complexion': 'Black',\n",
    "}"
   ]
  },
  {
   "cell_type": "code",
   "execution_count": 66,
   "id": "524d0d60",
   "metadata": {},
   "outputs": [],
   "source": [
    "Rain1 ={\"Student1\": Student1,\n",
    "       \"Student2\": Student2,\n",
    "       \"Student3\": Student3,\n",
    "       \"Student4\": Student4\n",
    "}"
   ]
  },
  {
   "cell_type": "code",
   "execution_count": 67,
   "id": "266444cb",
   "metadata": {},
   "outputs": [
    {
     "data": {
      "text/plain": [
       "{'Student1': {'Name': 'Fadh',\n",
       "  'Gender': 'Male',\n",
       "  'Age': 15,\n",
       "  'Height': 183,\n",
       "  'Weight': 60,\n",
       "  'Location': 'Nigeria',\n",
       "  'Complexion': 'Black'},\n",
       " 'Student2': {'Name': 'Tolu',\n",
       "  'Gender': 'Female',\n",
       "  'Age': 24,\n",
       "  'Height': 166,\n",
       "  'Weight': 50,\n",
       "  'Location': 'Nigeria',\n",
       "  'Complexion': 'Fair'},\n",
       " 'Student3': {'Name': 'Emeka',\n",
       "  'Gender': 'Male',\n",
       "  'Age': 20,\n",
       "  'Height': 156,\n",
       "  'Weight': 74.0,\n",
       "  'Location': 'Nigeria',\n",
       "  'Complexion': 'Black'},\n",
       " 'Student4': {'Name': 'Audu',\n",
       "  'Gender': 'Male',\n",
       "  'Age': 17,\n",
       "  'Height': 178,\n",
       "  'Weight': 67.4,\n",
       "  'Location': 'Cameroon',\n",
       "  'Complexion': 'Black'}}"
      ]
     },
     "execution_count": 67,
     "metadata": {},
     "output_type": "execute_result"
    }
   ],
   "source": [
    "Rain1"
   ]
  },
  {
   "cell_type": "code",
   "execution_count": 70,
   "id": "d91f0674",
   "metadata": {},
   "outputs": [
    {
     "name": "stdout",
     "output_type": "stream",
     "text": [
      "Cameroon\n"
     ]
    }
   ],
   "source": [
    "#access items in a nested dictionary\n",
    "print(Rain1[\"Student4\"][\"Location\"])"
   ]
  },
  {
   "cell_type": "code",
   "execution_count": 71,
   "id": "dc815b63",
   "metadata": {},
   "outputs": [
    {
     "name": "stdout",
     "output_type": "stream",
     "text": [
      "50\n"
     ]
    }
   ],
   "source": [
    "print(Rain1[\"Student2\"][\"Weight\"])"
   ]
  },
  {
   "cell_type": "code",
   "execution_count": 72,
   "id": "de000fa4",
   "metadata": {},
   "outputs": [
    {
     "name": "stdout",
     "output_type": "stream",
     "text": [
      "Black\n"
     ]
    }
   ],
   "source": [
    "print(Rain1[\"Student4\"][\"Complexion\"])"
   ]
  },
  {
   "cell_type": "code",
   "execution_count": 79,
   "id": "79bc9a2c",
   "metadata": {},
   "outputs": [
    {
     "name": "stdout",
     "output_type": "stream",
     "text": [
      "Student1\n",
      "Name: Fadh\n",
      "Gender: Male\n",
      "Age: 15\n",
      "Height: 183\n",
      "Weight: 60\n",
      "Location: Nigeria\n",
      "Complexion: Black\n",
      "Student2\n",
      "Name: Tolu\n",
      "Gender: Female\n",
      "Age: 24\n",
      "Height: 166\n",
      "Weight: 50\n",
      "Location: Nigeria\n",
      "Complexion: Fair\n",
      "Student3\n",
      "Name: Emeka\n",
      "Gender: Male\n",
      "Age: 20\n",
      "Height: 156\n",
      "Weight: 74.0\n",
      "Location: Nigeria\n",
      "Complexion: Black\n",
      "Student4\n",
      "Name: Audu\n",
      "Gender: Male\n",
      "Age: 17\n",
      "Height: 178\n",
      "Weight: 67.4\n",
      "Location: Cameroon\n",
      "Complexion: Black\n"
     ]
    }
   ],
   "source": [
    "#Looping through Nested dictionaries using the items() method\n",
    "for key,values in Rain.items():\n",
    "    print(key)\n",
    "    for x in values:\n",
    "        print(x + \":\", values[x])"
   ]
  },
  {
   "cell_type": "markdown",
   "id": "29d30bb6",
   "metadata": {},
   "source": [
    "## DICTIONARY OPERATORS\n",
    "\n",
    "It has two object operators: in and not in. These operators check if the key exists in the dictionary "
   ]
  },
  {
   "cell_type": "code",
   "execution_count": 80,
   "id": "7d85817b",
   "metadata": {},
   "outputs": [
    {
     "data": {
      "text/plain": [
       "{'Name': 'Fadh', 'Gender': 'Male', 'Age': 19, 'Height': 170.5, 'Weight': 82}"
      ]
     },
     "execution_count": 80,
     "metadata": {},
     "output_type": "execute_result"
    }
   ],
   "source": [
    "details"
   ]
  },
  {
   "cell_type": "code",
   "execution_count": 81,
   "id": "ebbe70c2",
   "metadata": {},
   "outputs": [
    {
     "data": {
      "text/plain": [
       "True"
      ]
     },
     "execution_count": 81,
     "metadata": {},
     "output_type": "execute_result"
    }
   ],
   "source": [
    "\"Name\" in details"
   ]
  },
  {
   "cell_type": "markdown",
   "id": "f7e47aca",
   "metadata": {},
   "source": [
    "## SWITCHING DATA STRUCTURES"
   ]
  },
  {
   "cell_type": "code",
   "execution_count": 82,
   "id": "b0224505",
   "metadata": {},
   "outputs": [
    {
     "data": {
      "text/plain": [
       "['Name', 'Tola', 20, 0.95, 28, 'Wunmi', 'Lagos']"
      ]
     },
     "execution_count": 82,
     "metadata": {},
     "output_type": "execute_result"
    }
   ],
   "source": [
    "#switching data structures\n",
    "mylist= [\"Name\", \"Tola\", 20, 0.95, 28, \"Wunmi\", \"Lagos\"]\n",
    "mylist"
   ]
  },
  {
   "cell_type": "code",
   "execution_count": 83,
   "id": "60ad140e",
   "metadata": {},
   "outputs": [],
   "source": [
    "mylisttup = tuple(mylist)"
   ]
  },
  {
   "cell_type": "code",
   "execution_count": 84,
   "id": "73d090dd",
   "metadata": {},
   "outputs": [
    {
     "data": {
      "text/plain": [
       "('Name', 'Tola', 20, 0.95, 28, 'Wunmi', 'Lagos')"
      ]
     },
     "execution_count": 84,
     "metadata": {},
     "output_type": "execute_result"
    }
   ],
   "source": [
    "mylisttup"
   ]
  },
  {
   "cell_type": "code",
   "execution_count": 85,
   "id": "01706b7d",
   "metadata": {},
   "outputs": [
    {
     "data": {
      "text/plain": [
       "tuple"
      ]
     },
     "execution_count": 85,
     "metadata": {},
     "output_type": "execute_result"
    }
   ],
   "source": [
    "type(mylisttup)"
   ]
  },
  {
   "cell_type": "code",
   "execution_count": 86,
   "id": "00b327b8",
   "metadata": {},
   "outputs": [],
   "source": [
    "myset = set(mylist)"
   ]
  },
  {
   "cell_type": "code",
   "execution_count": 87,
   "id": "b63d0b61",
   "metadata": {},
   "outputs": [
    {
     "data": {
      "text/plain": [
       "{0.95, 20, 28, 'Lagos', 'Name', 'Tola', 'Wunmi'}"
      ]
     },
     "execution_count": 87,
     "metadata": {},
     "output_type": "execute_result"
    }
   ],
   "source": [
    "myset"
   ]
  },
  {
   "cell_type": "code",
   "execution_count": 88,
   "id": "0560c6d6",
   "metadata": {},
   "outputs": [],
   "source": [
    "my_list = list(myset)"
   ]
  },
  {
   "cell_type": "code",
   "execution_count": 89,
   "id": "47ba362f",
   "metadata": {},
   "outputs": [
    {
     "data": {
      "text/plain": [
       "[0.95, 'Wunmi', 20, 'Name', 'Lagos', 28, 'Tola']"
      ]
     },
     "execution_count": 89,
     "metadata": {},
     "output_type": "execute_result"
    }
   ],
   "source": [
    "my_list"
   ]
  },
  {
   "cell_type": "code",
   "execution_count": 90,
   "id": "6fff0dcd",
   "metadata": {},
   "outputs": [],
   "source": [
    "set1 = {1,2}"
   ]
  },
  {
   "cell_type": "code",
   "execution_count": 91,
   "id": "678bcebf",
   "metadata": {},
   "outputs": [],
   "source": [
    "set2 = {3,4}"
   ]
  },
  {
   "cell_type": "code",
   "execution_count": 93,
   "id": "64a09462",
   "metadata": {},
   "outputs": [
    {
     "data": {
      "text/plain": [
       "set()"
      ]
     },
     "execution_count": 93,
     "metadata": {},
     "output_type": "execute_result"
    }
   ],
   "source": [
    "set1 & set2"
   ]
  },
  {
   "cell_type": "code",
   "execution_count": 94,
   "id": "71abc9b2",
   "metadata": {},
   "outputs": [
    {
     "data": {
      "text/plain": [
       "{1: 2, 3: 4}"
      ]
     },
     "execution_count": 94,
     "metadata": {},
     "output_type": "execute_result"
    }
   ],
   "source": [
    "dict(((1,2),(3,4)))"
   ]
  },
  {
   "cell_type": "code",
   "execution_count": 98,
   "id": "56d04301",
   "metadata": {},
   "outputs": [
    {
     "data": {
      "text/plain": [
       "{'Name': 'Emmanuel', 'Place': 'Lagos'}"
      ]
     },
     "execution_count": 98,
     "metadata": {},
     "output_type": "execute_result"
    }
   ],
   "source": [
    "dict([(\"Name\", \"Emmanuel\"), (\"Place\", \"Lagos\")])"
   ]
  },
  {
   "cell_type": "markdown",
   "id": "184a8fda",
   "metadata": {},
   "source": [
    "## SORTING DATA TYPES"
   ]
  },
  {
   "cell_type": "code",
   "execution_count": 102,
   "id": "e4bc8557",
   "metadata": {},
   "outputs": [
    {
     "data": {
      "text/plain": [
       "[0, 1, 2, 2, 4, 5, 6, 8]"
      ]
     },
     "execution_count": 102,
     "metadata": {},
     "output_type": "execute_result"
    }
   ],
   "source": [
    "a= [2, 5,1,8,4,0,2,6]\n",
    "a.sort()\n",
    "a"
   ]
  },
  {
   "cell_type": "code",
   "execution_count": 104,
   "id": "08064671",
   "metadata": {},
   "outputs": [
    {
     "data": {
      "text/plain": [
       "['Black', 'Yellow', 'blue', 'green', 'red', 'white']"
      ]
     },
     "execution_count": 104,
     "metadata": {},
     "output_type": "execute_result"
    }
   ],
   "source": [
    "colour= [\"red\", \"blue\", \"white\", \"Black\", \"Yellow\", \"green\"]\n",
    "colour.sort()\n",
    "colour"
   ]
  },
  {
   "cell_type": "code",
   "execution_count": 119,
   "id": "840679e2",
   "metadata": {},
   "outputs": [
    {
     "data": {
      "text/plain": [
       "['Fadh', '5.0', '4', 'Green', 'Goat']"
      ]
     },
     "execution_count": 119,
     "metadata": {},
     "output_type": "execute_result"
    }
   ],
   "source": [
    "b= ['Fadh', 5.0, 4,'Green','Goat']\n",
    "d=list(map(str, b))\n",
    "d"
   ]
  },
  {
   "cell_type": "code",
   "execution_count": 121,
   "id": "299dd732",
   "metadata": {},
   "outputs": [],
   "source": [
    "d.sort()"
   ]
  },
  {
   "cell_type": "code",
   "execution_count": 122,
   "id": "7fd27eb0",
   "metadata": {},
   "outputs": [
    {
     "data": {
      "text/plain": [
       "['4', '5.0', 'Fadh', 'Goat', 'Green']"
      ]
     },
     "execution_count": 122,
     "metadata": {},
     "output_type": "execute_result"
    }
   ],
   "source": [
    "d"
   ]
  },
  {
   "cell_type": "code",
   "execution_count": 126,
   "id": "46c79799",
   "metadata": {},
   "outputs": [],
   "source": [
    "d.sort(reverse =False)"
   ]
  },
  {
   "cell_type": "code",
   "execution_count": 127,
   "id": "7f20f20c",
   "metadata": {},
   "outputs": [
    {
     "data": {
      "text/plain": [
       "['4', '5.0', 'Fadh', 'Goat', 'Green']"
      ]
     },
     "execution_count": 127,
     "metadata": {},
     "output_type": "execute_result"
    }
   ],
   "source": [
    "d"
   ]
  },
  {
   "cell_type": "code",
   "execution_count": 128,
   "id": "cb311e7c",
   "metadata": {},
   "outputs": [
    {
     "data": {
      "text/plain": [
       "['4', '5.0', 'Fadh', 'Goat', 'Green']"
      ]
     },
     "execution_count": 128,
     "metadata": {},
     "output_type": "execute_result"
    }
   ],
   "source": [
    "sorted(d)"
   ]
  },
  {
   "cell_type": "code",
   "execution_count": 129,
   "id": "eea5d338",
   "metadata": {},
   "outputs": [
    {
     "data": {
      "text/plain": [
       "{0.95, 20, 28, 'Lagos', 'Name', 'Tola', 'Wunmi'}"
      ]
     },
     "execution_count": 129,
     "metadata": {},
     "output_type": "execute_result"
    }
   ],
   "source": [
    "myset"
   ]
  },
  {
   "cell_type": "code",
   "execution_count": 130,
   "id": "a7d6070b",
   "metadata": {},
   "outputs": [],
   "source": [
    "d=(map(str,myset))"
   ]
  },
  {
   "cell_type": "code",
   "execution_count": 131,
   "id": "f3e8af4e",
   "metadata": {},
   "outputs": [
    {
     "data": {
      "text/plain": [
       "<map at 0x2011696a560>"
      ]
     },
     "execution_count": 131,
     "metadata": {},
     "output_type": "execute_result"
    }
   ],
   "source": [
    "d"
   ]
  },
  {
   "cell_type": "code",
   "execution_count": 132,
   "id": "b1ec6388",
   "metadata": {},
   "outputs": [
    {
     "data": {
      "text/plain": [
       "['0.95', '20', '28', 'Lagos', 'Name', 'Tola', 'Wunmi']"
      ]
     },
     "execution_count": 132,
     "metadata": {},
     "output_type": "execute_result"
    }
   ],
   "source": [
    "sorted(d)"
   ]
  },
  {
   "cell_type": "code",
   "execution_count": 133,
   "id": "5d67d9bc",
   "metadata": {},
   "outputs": [
    {
     "data": {
      "text/plain": [
       "('Name', 'Tola', 20, 0.95, 28, 'Wunmi', 'Lagos')"
      ]
     },
     "execution_count": 133,
     "metadata": {},
     "output_type": "execute_result"
    }
   ],
   "source": [
    "mylisttup"
   ]
  },
  {
   "cell_type": "code",
   "execution_count": 134,
   "id": "7678a1e8",
   "metadata": {},
   "outputs": [],
   "source": [
    "tup =(map(str,mylisttup))"
   ]
  },
  {
   "cell_type": "code",
   "execution_count": 135,
   "id": "5a95d001",
   "metadata": {},
   "outputs": [
    {
     "data": {
      "text/plain": [
       "['0.95', '20', '28', 'Lagos', 'Name', 'Tola', 'Wunmi']"
      ]
     },
     "execution_count": 135,
     "metadata": {},
     "output_type": "execute_result"
    }
   ],
   "source": [
    "sorted(tup)"
   ]
  },
  {
   "cell_type": "markdown",
   "id": "5c699d85",
   "metadata": {},
   "source": [
    "## ZIP FUNCTIONS()\n",
    "The zip function combines 2 or more sequences or iterators together into a list of tuples. If the sequences are of different lengths, the smallest length determines the length of the zip objects. Zip function can be very useful for creating a dictionary."
   ]
  },
  {
   "cell_type": "code",
   "execution_count": 136,
   "id": "4ded872e",
   "metadata": {},
   "outputs": [
    {
     "ename": "AttributeError",
     "evalue": "'dict' object has no attribute 'key'",
     "output_type": "error",
     "traceback": [
      "\u001b[1;31m---------------------------------------------------------------------------\u001b[0m",
      "\u001b[1;31mAttributeError\u001b[0m                            Traceback (most recent call last)",
      "Cell \u001b[1;32mIn[136], line 1\u001b[0m\n\u001b[1;32m----> 1\u001b[0m Student1\u001b[38;5;241m.\u001b[39mkey\n",
      "\u001b[1;31mAttributeError\u001b[0m: 'dict' object has no attribute 'key'"
     ]
    }
   ],
   "source": [
    "Student1.key"
   ]
  },
  {
   "cell_type": "code",
   "execution_count": 137,
   "id": "5363565e",
   "metadata": {},
   "outputs": [
    {
     "ename": "AttributeError",
     "evalue": "'dict' object has no attribute 'key'",
     "output_type": "error",
     "traceback": [
      "\u001b[1;31m---------------------------------------------------------------------------\u001b[0m",
      "\u001b[1;31mAttributeError\u001b[0m                            Traceback (most recent call last)",
      "Cell \u001b[1;32mIn[137], line 1\u001b[0m\n\u001b[1;32m----> 1\u001b[0m Student1\u001b[38;5;241m.\u001b[39mkey()\n",
      "\u001b[1;31mAttributeError\u001b[0m: 'dict' object has no attribute 'key'"
     ]
    }
   ],
   "source": [
    "Student1.key()"
   ]
  },
  {
   "cell_type": "code",
   "execution_count": 138,
   "id": "d275ed6b",
   "metadata": {},
   "outputs": [
    {
     "data": {
      "text/plain": [
       "dict_keys(['Name', 'Gender', 'Age', 'Height', 'Weight', 'Location', 'Complexion'])"
      ]
     },
     "execution_count": 138,
     "metadata": {},
     "output_type": "execute_result"
    }
   ],
   "source": [
    "Student1.keys()"
   ]
  },
  {
   "cell_type": "code",
   "execution_count": 139,
   "id": "852d3736",
   "metadata": {},
   "outputs": [
    {
     "data": {
      "text/plain": [
       "dict_values(['Fadh', 'Male', 15, 183, 60, 'Nigeria', 'Black'])"
      ]
     },
     "execution_count": 139,
     "metadata": {},
     "output_type": "execute_result"
    }
   ],
   "source": [
    "Student1.values()"
   ]
  },
  {
   "cell_type": "code",
   "execution_count": 146,
   "id": "be686c39",
   "metadata": {},
   "outputs": [],
   "source": [
    "Student1keys= ['Name', 'Gender', 'Age', 'Height', 'Weight', 'Location', 'Complexion']"
   ]
  },
  {
   "cell_type": "code",
   "execution_count": 143,
   "id": "d49cdc35",
   "metadata": {},
   "outputs": [],
   "source": [
    "Student1values= ['Fadh', 'Male', 15, 183, 60, 'Nigeria', 'Black',45, 'Umar']"
   ]
  },
  {
   "cell_type": "code",
   "execution_count": 144,
   "id": "e34ebe84",
   "metadata": {},
   "outputs": [],
   "source": [
    "zip?"
   ]
  },
  {
   "cell_type": "code",
   "execution_count": 148,
   "id": "4812b79e",
   "metadata": {},
   "outputs": [
    {
     "data": {
      "text/plain": [
       "[('Name', 'Fadh'),\n",
       " ('Gender', 'Male'),\n",
       " ('Age', 15),\n",
       " ('Height', 183),\n",
       " ('Weight', 60),\n",
       " ('Location', 'Nigeria'),\n",
       " ('Complexion', 'Black')]"
      ]
     },
     "execution_count": 148,
     "metadata": {},
     "output_type": "execute_result"
    }
   ],
   "source": [
    "list(zip(Student1keys, Student1values))"
   ]
  },
  {
   "cell_type": "markdown",
   "id": "c8ea8f9e",
   "metadata": {},
   "source": [
    "## VARIABLES\n",
    "\n",
    "A variable is used to store a single value or results of an expression in the computer's memory for later use. Assignment operators are used to assign a value to a variable.\n",
    "\n",
    "Rules for choosing variable names are:\n",
    "\n",
    "Variable names can contain letters and number\n",
    "Can contain underscore (used preferably for multi word variable names eg my_name)\n",
    "Cannot start with a number\n",
    "Should not contain keywords (keywords are used to understand the structure of the program)\n",
    "Should be meaningful and describes what the value is used for\n",
    "Preferably, should start with lower case\n",
    "Preferably, should not start with an underscore"
   ]
  },
  {
   "cell_type": "markdown",
   "id": "7042afb1",
   "metadata": {},
   "source": [
    "## FUNCTION\n",
    "\n",
    "A function is a named block of code. Before now, we have been using some Python built-in functions like print(), len(), input() and type(). Python allows users to create user-defined functions. To define a function, we need to specify its name, parameters (which are optional) and block of code. A function can also return result using the return keyword. Let's write an example of a user-defined function that returns True if a number is even, otherwise it returns False.\n",
    "\n",
    "function eliminate code repetition"
   ]
  },
  {
   "cell_type": "code",
   "execution_count": 149,
   "id": "64f2be83",
   "metadata": {},
   "outputs": [],
   "source": [
    "def my_function():\n",
    "    print(\"Hello\")\n"
   ]
  },
  {
   "cell_type": "code",
   "execution_count": 150,
   "id": "d16c53ff",
   "metadata": {},
   "outputs": [
    {
     "name": "stdout",
     "output_type": "stream",
     "text": [
      "Hello\n"
     ]
    }
   ],
   "source": [
    "my_function()"
   ]
  },
  {
   "cell_type": "markdown",
   "id": "392e0abc",
   "metadata": {},
   "source": [
    "### ARGUMENTS\n",
    "\n",
    "Arguments are specified after the function name, in the parenthesis. Many arguments are wriiten in the parenthesis, but the must be seperated by a comma."
   ]
  },
  {
   "cell_type": "code",
   "execution_count": 1,
   "id": "a000ff96",
   "metadata": {},
   "outputs": [
    {
     "ename": "SyntaxError",
     "evalue": "incomplete input (2354584367.py, line 2)",
     "output_type": "error",
     "traceback": [
      "\u001b[1;36m  Cell \u001b[1;32mIn[1], line 2\u001b[1;36m\u001b[0m\n\u001b[1;33m    \u001b[0m\n\u001b[1;37m    ^\u001b[0m\n\u001b[1;31mSyntaxError\u001b[0m\u001b[1;31m:\u001b[0m incomplete input\n"
     ]
    }
   ],
   "source": [
    "def name(first_name):\n",
    "    "
   ]
  },
  {
   "cell_type": "code",
   "execution_count": 6,
   "id": "272270fe",
   "metadata": {},
   "outputs": [],
   "source": [
    "def My_kids(*kids):\n",
    "    print(\"The oldest child is\"  +  kids[0])\n",
    "    "
   ]
  },
  {
   "cell_type": "code",
   "execution_count": 7,
   "id": "3bfca06a",
   "metadata": {},
   "outputs": [
    {
     "name": "stdout",
     "output_type": "stream",
     "text": [
      "The oldest child isTola\n"
     ]
    }
   ],
   "source": [
    "My_kids(\"Tola\",\"Tolu\",\"Bolu\")"
   ]
  },
  {
   "cell_type": "code",
   "execution_count": 1,
   "id": "07c27b0c",
   "metadata": {},
   "outputs": [],
   "source": [
    "#default parameter value\n",
    "def my_country(country =\"Nigeria\"):\n",
    "    print(\"I am from \" + country)"
   ]
  },
  {
   "cell_type": "code",
   "execution_count": 2,
   "id": "88f8ccb4",
   "metadata": {},
   "outputs": [
    {
     "name": "stdout",
     "output_type": "stream",
     "text": [
      "I am from Nigeria\n"
     ]
    }
   ],
   "source": [
    "my_country()"
   ]
  },
  {
   "cell_type": "code",
   "execution_count": 10,
   "id": "8d4684f2",
   "metadata": {},
   "outputs": [],
   "source": [
    "#pass a list as can argument\n",
    "def cravings(food):\n",
    "    for x in food:\n",
    "        print(x)"
   ]
  },
  {
   "cell_type": "code",
   "execution_count": 11,
   "id": "f3f5cc6b",
   "metadata": {},
   "outputs": [],
   "source": [
    "food =[\"Pizza\",\"Burger\", \"Suya\", \"Barbeque\", \"Shawarma\", ]"
   ]
  },
  {
   "cell_type": "code",
   "execution_count": 12,
   "id": "7918136a",
   "metadata": {},
   "outputs": [
    {
     "name": "stdout",
     "output_type": "stream",
     "text": [
      "Pizza\n",
      "Burger\n",
      "Suya\n",
      "Barbeque\n",
      "Shawarma\n"
     ]
    }
   ],
   "source": [
    "cravings(food)"
   ]
  },
  {
   "cell_type": "code",
   "execution_count": 13,
   "id": "c21c1217",
   "metadata": {},
   "outputs": [
    {
     "data": {
      "text/plain": [
       "40"
      ]
     },
     "execution_count": 13,
     "metadata": {},
     "output_type": "execute_result"
    }
   ],
   "source": [
    "#return values\n",
    "\n",
    "def value(x):\n",
    "    return 5*x\n",
    "value(8)"
   ]
  },
  {
   "cell_type": "code",
   "execution_count": 18,
   "id": "0032204e",
   "metadata": {},
   "outputs": [],
   "source": []
  },
  {
   "cell_type": "code",
   "execution_count": 25,
   "id": "eaa3d0aa",
   "metadata": {},
   "outputs": [],
   "source": [
    "def is_even(numbers):\n",
    "    if numbers %2 ==0:\n",
    "        return True\n",
    "    else:\n",
    "        return False"
   ]
  },
  {
   "cell_type": "code",
   "execution_count": 26,
   "id": "8536157e",
   "metadata": {},
   "outputs": [
    {
     "name": "stdout",
     "output_type": "stream",
     "text": [
      "True\n"
     ]
    }
   ],
   "source": [
    "print(is_even(8))"
   ]
  },
  {
   "cell_type": "code",
   "execution_count": 27,
   "id": "6cdbc491",
   "metadata": {},
   "outputs": [],
   "source": [
    "def print_even_number(n):\n",
    "    if n <= 1:\n",
    "        print(\"The value of n must be greater than 1\")\n",
    "    else:\n",
    "        for num in range(1,n+1):\n",
    "            if(is_even(num)):\n",
    "                print(num)"
   ]
  },
  {
   "cell_type": "code",
   "execution_count": 28,
   "id": "010eec8e",
   "metadata": {},
   "outputs": [
    {
     "name": "stdout",
     "output_type": "stream",
     "text": [
      "2\n",
      "4\n",
      "6\n",
      "8\n"
     ]
    }
   ],
   "source": [
    "print_even_number(8)"
   ]
  },
  {
   "cell_type": "code",
   "execution_count": 29,
   "id": "57c87d67",
   "metadata": {},
   "outputs": [],
   "source": [
    "def addition(*numbers):\n",
    "    total = 0\n",
    "    for x in numbers:\n",
    "        total += x\n",
    "    print(total)"
   ]
  },
  {
   "cell_type": "code",
   "execution_count": 30,
   "id": "8211c8dd",
   "metadata": {},
   "outputs": [
    {
     "name": "stdout",
     "output_type": "stream",
     "text": [
      "45\n"
     ]
    }
   ],
   "source": [
    "addition(1,2,3,4,5,6,7,8,9)"
   ]
  },
  {
   "cell_type": "code",
   "execution_count": 33,
   "id": "77c1fe4c",
   "metadata": {},
   "outputs": [],
   "source": [
    "def multiplication(*numbers):\n",
    "    total =1\n",
    "    for x in numbers:\n",
    "        total *= x\n",
    "    print (total)\n",
    "    "
   ]
  },
  {
   "cell_type": "code",
   "execution_count": 35,
   "id": "ab75b83e",
   "metadata": {},
   "outputs": [
    {
     "name": "stdout",
     "output_type": "stream",
     "text": [
      "840\n"
     ]
    }
   ],
   "source": [
    "multiplication(3,5,7,8)"
   ]
  },
  {
   "cell_type": "code",
   "execution_count": 40,
   "id": "20ff25a6",
   "metadata": {},
   "outputs": [],
   "source": [
    "def recursive_factorial(n):\n",
    "    if n ==1:\n",
    "        return n\n",
    "    else:\n",
    "        return n * recursive_factorial(n-1)"
   ]
  },
  {
   "cell_type": "code",
   "execution_count": 41,
   "id": "4aea8494",
   "metadata": {},
   "outputs": [
    {
     "data": {
      "text/plain": [
       "120"
      ]
     },
     "execution_count": 41,
     "metadata": {},
     "output_type": "execute_result"
    }
   ],
   "source": [
    "recursive_factorial(5)"
   ]
  },
  {
   "cell_type": "code",
   "execution_count": null,
   "id": "935068e6",
   "metadata": {},
   "outputs": [],
   "source": []
  }
 ],
 "metadata": {
  "kernelspec": {
   "display_name": "Python 3 (ipykernel)",
   "language": "python",
   "name": "python3"
  },
  "language_info": {
   "codemirror_mode": {
    "name": "ipython",
    "version": 3
   },
   "file_extension": ".py",
   "mimetype": "text/x-python",
   "name": "python",
   "nbconvert_exporter": "python",
   "pygments_lexer": "ipython3",
   "version": "3.11.7"
  }
 },
 "nbformat": 4,
 "nbformat_minor": 5
}
