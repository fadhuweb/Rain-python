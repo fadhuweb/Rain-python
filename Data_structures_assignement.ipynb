{
 "cells": [
  {
   "cell_type": "markdown",
   "id": "e06a15fe",
   "metadata": {},
   "source": [
    "## QUESTION 1"
   ]
  },
  {
   "cell_type": "code",
   "execution_count": 29,
   "id": "dace2fe3",
   "metadata": {},
   "outputs": [],
   "source": [
    "def count_elements(lst):\n",
    "    freq = {}\n",
    "    for items in lst:\n",
    "        if items in freq:\n",
    "            freq[items] += 1\n",
    "        else:\n",
    "            freq[items] = 1\n",
    "    return freq"
   ]
  },
  {
   "cell_type": "code",
   "execution_count": 26,
   "id": "828e28e0",
   "metadata": {},
   "outputs": [],
   "source": [
    "lst= [1, 1, 1, 2, 2, 2, 2, 3, 3, 4, 4, 4, 5]"
   ]
  },
  {
   "cell_type": "code",
   "execution_count": 21,
   "id": "3cef7e7a",
   "metadata": {},
   "outputs": [
    {
     "data": {
      "text/plain": [
       "[1, 1, 1, 2, 2, 2, 2, 3, 3, 4, 4, 4, 5]"
      ]
     },
     "execution_count": 21,
     "metadata": {},
     "output_type": "execute_result"
    }
   ],
   "source": [
    "lst"
   ]
  },
  {
   "cell_type": "code",
   "execution_count": 23,
   "id": "acf37caf",
   "metadata": {},
   "outputs": [
    {
     "name": "stdout",
     "output_type": "stream",
     "text": [
      "{1: 3, 2: 4, 3: 2, 4: 3, 5: 1}\n"
     ]
    }
   ],
   "source": [
    "print(count_elements (lst))"
   ]
  },
  {
   "cell_type": "markdown",
   "id": "f4077d6f",
   "metadata": {},
   "source": [
    "## QUESTION 2"
   ]
  },
  {
   "cell_type": "code",
   "execution_count": 7,
   "id": "72e74457",
   "metadata": {},
   "outputs": [],
   "source": [
    "def remove_duplicates(lst):\n",
    "    return(list(set(lst)))\n"
   ]
  },
  {
   "cell_type": "code",
   "execution_count": 8,
   "id": "a42de6b0",
   "metadata": {},
   "outputs": [
    {
     "name": "stdout",
     "output_type": "stream",
     "text": [
      "[1, 2, 3, 4, 5]\n"
     ]
    }
   ],
   "source": [
    "print (remove_duplicates(lst))"
   ]
  },
  {
   "cell_type": "markdown",
   "id": "be2f3814",
   "metadata": {},
   "source": [
    "## QUESTION 3\n"
   ]
  },
  {
   "cell_type": "code",
   "execution_count": 15,
   "id": "f31e2c88",
   "metadata": {},
   "outputs": [
    {
     "name": "stdout",
     "output_type": "stream",
     "text": [
      "Enter the limit: 5\n",
      "{1: 1, 2: 4, 3: 9, 4: 16, 5: 25}\n"
     ]
    }
   ],
   "source": [
    "def create_square_dict(n):\n",
    "    square_dict = {i: i**2 for i in range(1, n+1)}\n",
    "    return square_dict\n",
    "\n",
    "n = int(input(\"Enter the limit: \"))\n",
    "result = create_square_dict(n)\n",
    "print(result) "
   ]
  },
  {
   "cell_type": "markdown",
   "id": "2c278c59",
   "metadata": {},
   "source": [
    "## QUESTION 4"
   ]
  },
  {
   "cell_type": "code",
   "execution_count": 16,
   "id": "9a05482e",
   "metadata": {},
   "outputs": [
    {
     "name": "stdout",
     "output_type": "stream",
     "text": [
      "{'jewellery': 550, 'pouch': ['flint', 'twine', 'gemstone'], 'backpack': ['bedroll', 'bread loaf', 'xylophone'], 'pocket': ['seashell', 'strange berry', 'lint']}\n"
     ]
    }
   ],
   "source": [
    "inventory = {\n",
    "    'jewellery': 500,\n",
    "    'pouch': ['flint', 'twine', 'gemstone'],\n",
    "    'backpack': ['xylophone', 'dagger', 'bedroll', 'bread loaf']\n",
    "}\n",
    "\n",
    "# Add a key to inventory called 'pocket'\n",
    "inventory['pocket'] = ['seashell', 'strange berry', 'lint']\n",
    "\n",
    "# Sort the items in the list stored under the 'backpack' key\n",
    "inventory['backpack'].sort()\n",
    "\n",
    "# Remove 'dagger' from the list of items stored under the 'backpack' key\n",
    "inventory['backpack'].remove('dagger')\n",
    "\n",
    "# Add 50 to the number stored under the 'jewellery' key\n",
    "inventory['jewellery'] += 50\n",
    "\n",
    "print(inventory)"
   ]
  },
  {
   "cell_type": "markdown",
   "id": "8b606510",
   "metadata": {},
   "source": [
    "## QUESTION 5"
   ]
  },
  {
   "cell_type": "code",
   "execution_count": 3,
   "id": "46b59419",
   "metadata": {},
   "outputs": [
    {
     "name": "stdout",
     "output_type": "stream",
     "text": [
      "Homework Average: 82.325\n",
      "Quizes Average: 30.0\n",
      "Tests Average: 89.75\n",
      "Final Score: 71.08250000000001\n",
      "Grade: C\n"
     ]
    }
   ],
   "source": [
    "# Define the score dictionary\n",
    "score = {\n",
    "    'Homework': [60.5, 90.8, 100, 78],\n",
    "    'Quizes': [30, 42, 18],\n",
    "    'Tests': [95, 84.5]\n",
    "}\n",
    "\n",
    "# Calculate the average for each assessment\n",
    "homework_avg = sum(score['Homework']) /len(score['Homework'])\n",
    "quizes_avg = sum(score['Quizes']) / len(score['Quizes'])\n",
    "tests_avg = sum(score['Tests']) / len(score['Tests'])\n",
    "\n",
    "# Calculate the final score using the weights\n",
    "final_score = (homework_avg * 0.1) + (quizes_avg * 0.3) + (tests_avg * 0.6)\n",
    "\n",
    "# Evaluate the grade based on the final score\n",
    "if final_score >= 90:\n",
    "    grade = \"A\"\n",
    "elif final_score >= 80:\n",
    "    grade = \"B\"\n",
    "elif final_score >= 70:\n",
    "    grade = \"C\"\n",
    "elif final_score >= 60:\n",
    "    grade = \"D\"\n",
    "elif final_score >= 50:\n",
    "    grade = \"E\"\n",
    "else:\n",
    "    grade = \"F\"\n",
    "\n",
    "# Print the results\n",
    "print(\"Homework Average:\", homework_avg)\n",
    "print(\"Quizes Average:\", quizes_avg)\n",
    "print(\"Tests Average:\", tests_avg)\n",
    "print(\"Final Score:\", final_score)\n",
    "print(\"Grade:\", grade)"
   ]
  },
  {
   "cell_type": "code",
   "execution_count": 4,
   "id": "0004f1c3",
   "metadata": {},
   "outputs": [
    {
     "data": {
      "text/plain": [
       "4"
      ]
     },
     "execution_count": 4,
     "metadata": {},
     "output_type": "execute_result"
    }
   ],
   "source": [
    "len(score['Homework'])"
   ]
  },
  {
   "cell_type": "code",
   "execution_count": null,
   "id": "8c07317e",
   "metadata": {},
   "outputs": [],
   "source": []
  },
  {
   "cell_type": "code",
   "execution_count": null,
   "id": "2c6f299e",
   "metadata": {},
   "outputs": [],
   "source": []
  }
 ],
 "metadata": {
  "kernelspec": {
   "display_name": "Python 3 (ipykernel)",
   "language": "python",
   "name": "python3"
  },
  "language_info": {
   "codemirror_mode": {
    "name": "ipython",
    "version": 3
   },
   "file_extension": ".py",
   "mimetype": "text/x-python",
   "name": "python",
   "nbconvert_exporter": "python",
   "pygments_lexer": "ipython3",
   "version": "3.11.7"
  }
 },
 "nbformat": 4,
 "nbformat_minor": 5
}
