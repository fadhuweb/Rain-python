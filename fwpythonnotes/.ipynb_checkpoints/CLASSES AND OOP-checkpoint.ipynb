{
 "cells": [
  {
   "cell_type": "markdown",
   "metadata": {},
   "source": [
    "## CLASSES AND OBJECTS\n",
    "A class is a user defined prototype that defines a set of attributes (data members or variables) and methods that characterises any class object. An object is a unique instance of a class. So far we have been working with objects and these objects belong to Python built-in classes. For better understanding, suppose we create a variable named 'fruit' and we assign to it a string value of \"Banana\". Then, \"Banana\" stored in the fruit variable is an object that belongs to the Python String class. With the object, we can access all attributes of the class."
   ]
  },
  {
   "cell_type": "code",
   "execution_count": null,
   "metadata": {},
   "outputs": [],
   "source": [
    "fruit = \"Banana\"\n",
    "print(f\"{fruit} is of {type(fruit)}\")"
   ]
  },
  {
   "cell_type": "markdown",
   "metadata": {},
   "source": [
    "We can define our own classes to create objects that carry out a variety of related tasks or represent information in a convenient way. We use the class keyword to create a class."
   ]
  },
  {
   "cell_type": "code",
   "execution_count": null,
   "metadata": {},
   "outputs": [],
   "source": [
    "class Person():\n",
    "    pass"
   ]
  },
  {
   "cell_type": "markdown",
   "metadata": {},
   "source": [
    "## THE `__`INIT`__`() FUNCTION"
   ]
  },
  {
   "cell_type": "markdown",
   "metadata": {},
   "source": [
    "All classes have the `__init__`() function which is also known as the class constructor. The function is always executed when a new instance of the class is created. It is used to assign values to object properties or other operations that are necessary to do when the object is being created.  \n",
    "\n",
    "The first parameter of the `__init__`() function is self (it can be any other name but it must be the first parameter). Self represents the current instance of the class which is used to access a class\n",
    "attributes."
   ]
  },
  {
   "cell_type": "code",
   "execution_count": null,
   "metadata": {},
   "outputs": [],
   "source": [
    "class Person():\n",
    "    #initialisation\n",
    "    def __init__(self,name, age, gender):\n",
    "        self.name = name\n",
    "        self.age = age\n",
    "        self.gender = gender\n",
    "\n",
    "        \n",
    "    def describe_person(self):\n",
    "        print (f\"My name is {self.name}. I am a {self.gender}. I am {self.age} years old.\")"
   ]
  },
  {
   "cell_type": "markdown",
   "metadata": {},
   "source": [
    "A class can contain methods. In the above code, we created a method called describe_person that prints the name, age and gender of a person. Let's see how to create a class object and access its data members. We use dot notation to access a class data members."
   ]
  },
  {
   "cell_type": "code",
   "execution_count": null,
   "metadata": {},
   "outputs": [],
   "source": [
    "m = Person('Matin', 17, 'Male')"
   ]
  },
  {
   "cell_type": "code",
   "execution_count": null,
   "metadata": {},
   "outputs": [],
   "source": [
    "p1 = Person('Mitchelle', 23,'female')"
   ]
  },
  {
   "cell_type": "code",
   "execution_count": null,
   "metadata": {},
   "outputs": [],
   "source": [
    "print(p1.name)"
   ]
  },
  {
   "cell_type": "code",
   "execution_count": null,
   "metadata": {},
   "outputs": [],
   "source": [
    "p1.name = 'Mitchelle Jones'"
   ]
  },
  {
   "cell_type": "code",
   "execution_count": null,
   "metadata": {},
   "outputs": [],
   "source": [
    "p1.describe_person()"
   ]
  },
  {
   "cell_type": "code",
   "execution_count": null,
   "metadata": {},
   "outputs": [],
   "source": [
    "p2 = Person(\"Michael\", 20,'male')\n",
    "print(p2.age)"
   ]
  },
  {
   "cell_type": "code",
   "execution_count": null,
   "metadata": {},
   "outputs": [],
   "source": [
    "p2.describe_person()"
   ]
  },
  {
   "cell_type": "markdown",
   "metadata": {},
   "source": [
    "p1 and p2 are objects of the class 'Person'. They are unique instances of the class person with which we can access the variables and methods of the class. Another way to use class objects is:"
   ]
  },
  {
   "cell_type": "code",
   "execution_count": null,
   "metadata": {},
   "outputs": [],
   "source": [
    "p3 = Person('Daniel', 18, 'male')\n",
    "print(Person.describe_person(p3))"
   ]
  },
  {
   "cell_type": "markdown",
   "metadata": {},
   "source": [
    "In the above code, we accessed the class method by using the class name and passed the object (unique instance) p3 as an argument to the describe_person method. Remember the self parameter represents the curent instance of a class and in this case, the instance is p3."
   ]
  },
  {
   "cell_type": "markdown",
   "metadata": {},
   "source": [
    "## INSTANCE AND CLASS ATTRIBUTES\n",
    "Instance variables are variables defined in a class for which each instantiated object has its own values (instance). For example, in the Person class, each person object has its own name, age and gender. The self paremeter helps us to keep track of individual instances of a class (i.e individual values of an object).  \n",
    "Unlike instance variables that are specific to each instance, class variables are the same for all instances. We access class variables with the class name. For example, in the code below,  Suppose we want to capture the names and nationality of residents in Nigeria, the variable 'residence' is a class attribute and it is same for all residents. The name and nationality variables are instance variables which varies for each resident instance/object.  \n",
    "Instance methods are defined inside a class and are used to get the contents of an instance. They can also be used to perform operations with the attributes of our objects. Just like the `__init__` function, the first parameter of an Instance method is the self parameter."
   ]
  },
  {
   "cell_type": "code",
   "execution_count": null,
   "metadata": {},
   "outputs": [],
   "source": [
    "class Residents:\n",
    "    #class variable\n",
    "    residence = 'Nigeria'\n",
    "    \n",
    "    def __init__(self, name, nationality):\n",
    "        #instance variable\n",
    "        self.name = name\n",
    "        self.nationality = nationality\n",
    "        \n",
    "           \n",
    "    #instance method\n",
    "    def describe_person(self):\n",
    "        print(f\"My name is {self.name}. I am a {self.nationality} and I live in {Residents.residence}.\")"
   ]
  },
  {
   "cell_type": "code",
   "execution_count": null,
   "metadata": {},
   "outputs": [],
   "source": [
    "\n",
    "r = Residents(\"Brian\", \"British\")\n",
    "r.describe_person()"
   ]
  },
  {
   "cell_type": "code",
   "execution_count": null,
   "metadata": {},
   "outputs": [],
   "source": [
    "r.residence"
   ]
  },
  {
   "cell_type": "markdown",
   "metadata": {},
   "source": [
    "## DUNDER METHODS"
   ]
  },
  {
   "cell_type": "markdown",
   "metadata": {},
   "source": [
    "Dunder methods are methods with double underscore before and after the method names. They have a special meaning and they are considered as private methods. There are a lot of them in Python. Let's see all the methods for the Int class, look out for its dunder methods."
   ]
  },
  {
   "cell_type": "code",
   "execution_count": null,
   "metadata": {},
   "outputs": [],
   "source": [
    "print(dir(int))"
   ]
  },
  {
   "cell_type": "markdown",
   "metadata": {},
   "source": [
    "The `__init__`, `__repr__`, `__add__`, `__sub__` etc are dunder methods. The `__add__` method allows a programmer to use the + operator with objects. The `__repr__` method allows the programmer to tell Python how to print out the object. Let's look at an example of a class with dunder methods."
   ]
  },
  {
   "cell_type": "markdown",
   "metadata": {},
   "source": [
    "The first step in creating a class is to define its `__init__` and `__repr__` methods. For our example, we are going to define a Point class that accepts two arguments, x and y. A Point object would be represented by a string 'Point(x, y)' with appropriate values for x and y. \n",
    "We also want our class to support simple vector operations for Points, so we are going to add the `__add__` and `__sub__` dunder methods. \n",
    "For two points, **(x1, y1) + (x2, y2) = (x1+x2, y1+y2)**. Similarly, **(x1, y1) - (x2, y2) = (x1-x2, y1-y2)**."
   ]
  },
  {
   "cell_type": "code",
   "execution_count": null,
   "metadata": {},
   "outputs": [],
   "source": [
    "class Point():\n",
    "    def __init__(self, x, y):\n",
    "        self.x = x\n",
    "        self.y = y"
   ]
  },
  {
   "cell_type": "code",
   "execution_count": null,
   "metadata": {},
   "outputs": [],
   "source": [
    "a = Point(5,6)\n",
    "print(a)"
   ]
  },
  {
   "cell_type": "markdown",
   "metadata": {},
   "source": [
    "In the code above, the print function displayed an object in memory when we passed a point object as a parameter. To make the print function display/represent the point object nicely, we will nee to implement the `__repr__` dunder method for the point class."
   ]
  },
  {
   "cell_type": "code",
   "execution_count": null,
   "metadata": {},
   "outputs": [],
   "source": [
    "b = Point(2,3)\n",
    "a + b"
   ]
  },
  {
   "cell_type": "markdown",
   "metadata": {},
   "source": [
    "In the above code cell, we got an exception. This is because the + operator has not been supported for the Point object. To make the point class have a + functionality, we must write the `__add__` dunder method for the point class. Now, look at the code below."
   ]
  },
  {
   "cell_type": "code",
   "execution_count": null,
   "metadata": {},
   "outputs": [],
   "source": [
    "class Point():\n",
    "    def __init__(self, x, y):\n",
    "        self.x = x\n",
    "        self.y = y\n",
    "        \n",
    "        \n",
    "    #prints out a point object in the form \"Point(x, y)\"\n",
    "    def __repr__(self):\n",
    "        return f\"Point({self.x}, {self.y})\"\n",
    "    \n",
    "    \n",
    "    #allows the use of + operator with two point objects\n",
    "    def __add__(self, other):\n",
    "        if isinstance (other, Point):\n",
    "            return Point (self.x + other.x, self.y + other.y)\n",
    "        else:\n",
    "            raise TypeError ('Expected value should be of Type Point')\n",
    "    #TO DO: write the __sub__ method"
   ]
  },
  {
   "cell_type": "code",
   "execution_count": null,
   "metadata": {},
   "outputs": [],
   "source": [
    "a = Point(5,6)\n",
    "print(a)"
   ]
  },
  {
   "cell_type": "markdown",
   "metadata": {},
   "source": [
    "We have defined a Point class with the `__add__` and `__repr__` methods. The `__add__` method checks if the argument passed to it is an instance of a Point (i.e if it is a point object) because we can only add point objects together. We cannot add an integer or floating point number to a Point. Now, let's interact with the class and its methods."
   ]
  },
  {
   "cell_type": "code",
   "execution_count": null,
   "metadata": {},
   "outputs": [],
   "source": [
    "p1 = Point(3,5)\n",
    "p2 = Point(5,7)\n",
    "p1 + p2"
   ]
  },
  {
   "cell_type": "code",
   "execution_count": null,
   "metadata": {},
   "outputs": [],
   "source": [
    "p1 + 3"
   ]
  },
  {
   "cell_type": "markdown",
   "metadata": {},
   "source": [
    " "
   ]
  },
  {
   "cell_type": "markdown",
   "metadata": {},
   "source": [
    "## EXERCISE:\n",
    "Extend the Point class to contain 2 other methods. The `__mul__` method to allow us use `*` operator with point objects and a distance method to calculate the distance between 2 points. \n",
    "The `__mul__` method should take care of scalar multiplication and inner product. We can define scalar multiplication given a point  P  and a scalar  a  as **aP = a(x, y)=(ax, ay)** \n",
    "and we can define the inner product for points P,Q  as\n",
    "**P⋅Q = (x1,y1)⋅(x2,y2) = x1x2 + y1y2**  \n",
    "Given 2 points  **P1=(x1,y1)**  and  **P2=(x2,y2)**, the distance, D, between them is denoted as\n",
    "**D=|P2−P1|=$\\sqrt{(x1−x2)^2+(y1−y2)^2}$**\n"
   ]
  },
  {
   "cell_type": "markdown",
   "metadata": {},
   "source": [
    "## OBJECT ORIENTED PROGRAMMING (OOP)\n",
    "Now that we understand the concepts of classes and objects, let's dive into the world of OOP. OOP is a programming paradigm that is based on the concept of creating objects. OOP supports code reusability and reduces code repetition. The four OOP concepts are: \n",
    "1. Encapsulation\n",
    "2. Inheritance\n",
    "3. Abstraction\n",
    "4. Polymorphism"
   ]
  },
  {
   "cell_type": "markdown",
   "metadata": {},
   "source": [
    "## ENCAPSULATION\n",
    "Encapsulation is a concept of OOP that is used to restrict access to variables and methods (private variables and methods). It is used to prevent data from direct modification. In Python, we denote private variables and methods by prefixing its name with a  double underscore (`__`). For greater program security and to prevent unintended data corruption, it is good to make use of private attributes in our program.\n",
    "For example, suppose the salary of every employee in ACME company is calculated as **base salary + ( base salary `*` level/10)**. We wouldnt want the base salary to be modified outside our code as this would affect the salary of all employees. For this reason, it is best to define the base salary as a private varibale.\n",
    "\n",
    "Private variables are only accessible within the class."
   ]
  },
  {
   "cell_type": "code",
   "execution_count": null,
   "metadata": {},
   "outputs": [],
   "source": [
    "class Employee():\n",
    "    #private variable\n",
    "    __base_salary = 50000\n",
    "    \n",
    "    def __init__(self,name, level, position):\n",
    "        self.name = name\n",
    "        self.level = level\n",
    "        self.position = position\n",
    "        \n",
    "    #private method\n",
    "    def __calculate_salary(self):\n",
    "        return (Employee.__base_salary + (Employee.__base_salary * (self.level/10)))\n",
    "    \n",
    "    def generate_payslip(self):\n",
    "        print(f\"Name: {self.name}\\nPosition: {self.position}\\nLevel: {self.level}\\nSalary: {self.__calculate_salary()}\")\n",
    "    \n",
    "    def setBaseSalary(self, new_base_salary):\n",
    "        Employee.__base_salary = new_base_salary"
   ]
  },
  {
   "cell_type": "code",
   "execution_count": null,
   "metadata": {},
   "outputs": [],
   "source": [
    "a = Employee('Angela',3,'Clerk')\n",
    "a.generate_payslip()"
   ]
  },
  {
   "cell_type": "code",
   "execution_count": null,
   "metadata": {},
   "outputs": [],
   "source": [
    "print(a.__base_salary)"
   ]
  },
  {
   "cell_type": "markdown",
   "metadata": {},
   "source": [
    "In the above code cell, we cannot retrieve or modify the value of the private variable because we are trying to access it outside the class."
   ]
  },
  {
   "cell_type": "markdown",
   "metadata": {},
   "source": [
    "## INHERITANCE\n",
    "Inheritance is a concept of OOP where a class inherits all attributes and methods from another class. The class that inherits is called a child/sub/derived class while the class that is being inherited is called a parent/super/base class. A child class can overide or extend the functionality of a parent class.\n",
    "In Python, the most basic type of class is the object class in which all other python classes inherit from.  \n",
    "In Python 3, when you define a new class, it implicitly uses object as the parent class. So the following two class definitions are equivalent:"
   ]
  },
  {
   "cell_type": "code",
   "execution_count": null,
   "metadata": {},
   "outputs": [],
   "source": [
    "class person(object):\n",
    "    pass"
   ]
  },
  {
   "cell_type": "code",
   "execution_count": null,
   "metadata": {},
   "outputs": [],
   "source": [
    "class person():\n",
    "    pass"
   ]
  },
  {
   "cell_type": "markdown",
   "metadata": {},
   "source": [
    "To explain the concept of inheritance, we are going to create 3 classes: Person, Employee and Student. Since employees and students are persons, we are going to make them inherit the person class. The common attributes and methods for both employee and students would be contained in the Person class while the different attributes and methods would be contained in their respective classes."
   ]
  },
  {
   "cell_type": "code",
   "execution_count": null,
   "metadata": {},
   "outputs": [],
   "source": [
    "class Person():\n",
    "    def __init__(self,name,age,gender, ID):\n",
    "        self.name = name\n",
    "        self.age = age\n",
    "        self.gender = gender\n",
    "        self.ID = ID\n",
    "        \n",
    "    def ID_card(self):\n",
    "        print(f\"Identity Number: {self.ID}\\nName: {self.name}\\nGender: {self.gender}\\nAge: {self.age}\")"
   ]
  },
  {
   "cell_type": "code",
   "execution_count": null,
   "metadata": {},
   "outputs": [],
   "source": [
    "class Employee(Person):\n",
    "    def __init__(self, name, age, gender, ID, company, portfolio, salary):\n",
    "        #calling the parent constructor with super() function\n",
    "        super().__init__(name, age, gender, ID)\n",
    "        #Person.__init__(self, name, age, gender, ID)\n",
    "        self.company = company\n",
    "        self.portfolio = portfolio\n",
    "        self.salary = salary\n",
    "        \n",
    "    def set_salary(self, new_salary):\n",
    "        self.salary = new_salary\n",
    "   "
   ]
  },
  {
   "cell_type": "code",
   "execution_count": null,
   "metadata": {},
   "outputs": [],
   "source": [
    "    \n",
    "class Student(Person):\n",
    "    def __init__(self, name, age, gender, ID, school, course, level):\n",
    "        #calling the parent constructor with the parent name\n",
    "        Person.__init__(self,name, age, gender, ID)\n",
    "        self.school = school\n",
    "        self.course = course\n",
    "        self.level = level\n",
    "    def update_level(self):\n",
    "        self.level +=100"
   ]
  },
  {
   "cell_type": "markdown",
   "metadata": {},
   "source": [
    "Child classes inherit all attributes and methods of its parent class including the `__init__`() method. When we define an `__init__` method within a child class, the child class `__init__` function overrides that of its parent class. To keep the inheritance of the parent `__init__` method, we call it within the child class `__init__` definition using the super function or the name of the parent class as seen above. Now, let's create Employee and Student objects. "
   ]
  },
  {
   "cell_type": "code",
   "execution_count": null,
   "metadata": {},
   "outputs": [],
   "source": [
    "emp = Employee('Charles', 20, 'male', 'EMP208765', 'ACME', 'Developer', 25000)\n",
    "emp.ID_card()"
   ]
  },
  {
   "cell_type": "code",
   "execution_count": null,
   "metadata": {},
   "outputs": [],
   "source": [
    "emp.set_salary(75000)\n",
    "print(emp.salary)"
   ]
  },
  {
   "cell_type": "code",
   "execution_count": null,
   "metadata": {},
   "outputs": [],
   "source": [
    "std = Student('Diana', 19, 'female', 'STD23451', 'UI', 'Computer Science', 200)\n",
    "std.ID_card()"
   ]
  },
  {
   "cell_type": "code",
   "execution_count": null,
   "metadata": {},
   "outputs": [],
   "source": [
    "std.update_level()\n",
    "print(std.level)"
   ]
  },
  {
   "cell_type": "markdown",
   "metadata": {},
   "source": [
    "Child objects are instance of its parent class. The isinstance() function is used to determine if an instance is also an instance of a certain parent class."
   ]
  },
  {
   "cell_type": "code",
   "execution_count": null,
   "metadata": {},
   "outputs": [],
   "source": [
    "print(isinstance(emp, Person))"
   ]
  },
  {
   "cell_type": "code",
   "execution_count": null,
   "metadata": {},
   "outputs": [],
   "source": [
    "print(isinstance(emp, Employee))"
   ]
  },
  {
   "cell_type": "code",
   "execution_count": null,
   "metadata": {},
   "outputs": [],
   "source": [
    "print(isinstance(emp, Student))"
   ]
  },
  {
   "cell_type": "markdown",
   "metadata": {},
   "source": [
    "## ABSTRACTION\n",
    "Abstraction is an OOP concept that allows a programmer to hide the real implementation and users only know how to use it. In Python, we use abstract classes and interface to achieve abstraction.  An abstract class is a class that provides incomplete functionality and contains at least one abstract method. An abstract method that generally has no implementation. Child classes which inherit the abstract class provides implementation for the abstract methods. Concrete methods are methods that have implementation. "
   ]
  },
  {
   "cell_type": "markdown",
   "metadata": {},
   "source": [
    "**Important points about abstract class in Python**\n",
    "1. Abstract class can have both concrete methods as well as abstract methods.\n",
    "2. Abstract class works as a template for other classes. Using an abstract class you can define a generalized structure without providing complete implementation of every method. Methods which provide common functionality to be used for all derived classes are defined as concrete methods in abstract class where as the methods where implementation may vary are defined as abstract methods.\n",
    "3. Abstract class can’t be instantiated so it is not possible to create objects of an abstract class.\n",
    "4. Generally abstract methods defined in abstract class don’t have any body but it is possible to have abstract methods with implementation in abstract class. Any sub class deriving from such abstract class still needs to provide implementation for such abstract methods.\n",
    "5. If any abstract method is not implemented by the derived class Python throws an error."
   ]
  },
  {
   "cell_type": "code",
   "execution_count": null,
   "metadata": {},
   "outputs": [],
   "source": [
    "from abc import ABC, abstractmethod\n",
    "class Staff(ABC):\n",
    "    __base_pay = 0\n",
    "    def __init__(self, name, job_title, staff_id):\n",
    "        self.name = name\n",
    "        self.job_title = job_title\n",
    "        self.staff_id = staff_id\n",
    "        \n",
    "    #concrete method\n",
    "    def ID_Card(self):\n",
    "        print(f\"Staff ID: {self.staff_id}\\nName: {self.name}\\nPosition: {self.job_title}\")\n",
    "        \n",
    "    @abstractmethod\n",
    "    def calculate_payment(self):\n",
    "        pass"
   ]
  },
  {
   "cell_type": "markdown",
   "metadata": {},
   "source": [
    "As seen above, we imported ABC and abstractmethod from the abc(Abstract Base Class) module. In Python, a class is considered an abstract class if and only if it inherits from the ABC class. Also, in abstract classes, abstract methods must be decorated using the @abstractmethod decorator. "
   ]
  },
  {
   "cell_type": "markdown",
   "metadata": {},
   "source": [
    "In real life examples, a staff could be part-time or full-time. Now, lets create concrete classes that would inherit our abstract staff class and provide implementation for the abstract method."
   ]
  },
  {
   "cell_type": "code",
   "execution_count": null,
   "metadata": {},
   "outputs": [],
   "source": [
    "class PT_Staff(Staff):    \n",
    "    def __init__(self,name,job_title, staff_id, hours_of_work):\n",
    "        super().__init__(name,job_title, staff_id)\n",
    "        self.hours_of_work = hours_of_work\n",
    "        \n",
    "    #implementation of calculate_salary for Part time staff    \n",
    "    def calculate_payment(self):\n",
    "        self.__base_pay = 500\n",
    "        amount = self.hours_of_work * self.__base_pay\n",
    "        return \"{:.2f}\".format(amount)\n",
    "    "
   ]
  },
  {
   "cell_type": "code",
   "execution_count": null,
   "metadata": {},
   "outputs": [],
   "source": [
    "class FT_Staff(Staff):\n",
    "    def __init__(self,name,job_title, staff_id, level):\n",
    "        super().__init__(name,job_title, staff_id)\n",
    "        self.level = level\n",
    "        \n",
    "    #implementation of calculate_salary for Full time staff    \n",
    "    def calculate_payment(self):\n",
    "        self.__base_pay = 50000\n",
    "        amount =((self.level/10)* self.__base_pay)+self.__base_pay\n",
    "        return \"{:.2f}\".format(amount)"
   ]
  },
  {
   "cell_type": "code",
   "execution_count": null,
   "metadata": {},
   "outputs": [],
   "source": [
    "stf = Staff('Amanda', 'Clerk', 'CL123')"
   ]
  },
  {
   "cell_type": "code",
   "execution_count": null,
   "metadata": {},
   "outputs": [],
   "source": [
    "pt = PT_Staff('Andy', 'Bricklayer', 'PT10087', 5)\n",
    "pt.ID_Card()"
   ]
  },
  {
   "cell_type": "code",
   "execution_count": null,
   "metadata": {},
   "outputs": [],
   "source": [
    "print(f\"Your payment for {pt.hours_of_work} hours of work is #{pt.calculate_payment()}\")"
   ]
  },
  {
   "cell_type": "code",
   "execution_count": null,
   "metadata": {},
   "outputs": [],
   "source": [
    "ft = FT_Staff('Amanda', 'Sales Manager', 'FT43216', 9)\n",
    "ft.ID_Card()"
   ]
  },
  {
   "cell_type": "code",
   "execution_count": null,
   "metadata": {},
   "outputs": [],
   "source": [
    "print(f\"Your salary as a level {ft.level} officer is #{ft.calculate_payment()}\")"
   ]
  },
  {
   "cell_type": "markdown",
   "metadata": {},
   "source": [
    "## POLYMORPHISM\n",
    "Polymorphism simply means having many forms. In programming, it refers to methods having same name but different signatures (i.e diferent set of parameters). At times, the implementation of a parent class method may not fit perfectly for a child class but with the concept of polymorphism, a child class can re-implement the method in its own class. This concept of modifying a parent method in a child classs is know as method overriding."
   ]
  },
  {
   "cell_type": "code",
   "execution_count": null,
   "metadata": {},
   "outputs": [],
   "source": [
    "class Bank(object):\n",
    "    def __init__(self, bank_name, establishment_year):\n",
    "        self.bank_name = bank_name\n",
    "        self.establishment_year = establishment_year\n",
    "        \n",
    "    def loan_repayment(self, amount, number_of_years, interest_rate):\n",
    "        repayment = amount + (amount *(interest_rate/100)*number_of_years)\n",
    "        return \"{:.2f}\".format(repayment)"
   ]
  },
  {
   "cell_type": "code",
   "execution_count": null,
   "metadata": {},
   "outputs": [],
   "source": [
    "    \n",
    "class NON_Interest_Bank(Bank):\n",
    "    \n",
    "    def loan_repayment(self,amount, number_of_years, service_charge):\n",
    "        repayment = amount + (service_charge * number_of_years)\n",
    "        return \"{:.2f}\".format(repayment)        "
   ]
  },
  {
   "cell_type": "markdown",
   "metadata": {},
   "source": [
    "In the above code, the non_interest class re-implemented the loan_repayment method of the Bank class because non_interest banks do not deal with interests. When we call the loan_repayment method with a non_interest_bank object, the loan_repayment method of the non_interest_bank class is executed. Similary, when we call the loan_repayment method of a Bank class, the loan_ repayment method of the Bank class is executed."
   ]
  },
  {
   "cell_type": "code",
   "execution_count": null,
   "metadata": {},
   "outputs": [],
   "source": [
    "UBA = Bank('UBA', 1906)\n",
    "Jaiz = NON_Interest_Bank('Jaiz', 2000)\n",
    "print(f\"#{UBA.loan_repayment(500000, 5, 4.2)}\")"
   ]
  },
  {
   "cell_type": "code",
   "execution_count": null,
   "metadata": {},
   "outputs": [],
   "source": [
    "print(f\"#{Jaiz.loan_repayment(500000, 5, 3000)}\")"
   ]
  },
  {
   "cell_type": "code",
   "execution_count": null,
   "metadata": {},
   "outputs": [],
   "source": []
  }
 ],
 "metadata": {
  "kernelspec": {
   "display_name": "Python 3 (ipykernel)",
   "language": "python",
   "name": "python3"
  },
  "language_info": {
   "codemirror_mode": {
    "name": "ipython",
    "version": 3
   },
   "file_extension": ".py",
   "mimetype": "text/x-python",
   "name": "python",
   "nbconvert_exporter": "python",
   "pygments_lexer": "ipython3",
   "version": "3.11.7"
  }
 },
 "nbformat": 4,
 "nbformat_minor": 4
}
