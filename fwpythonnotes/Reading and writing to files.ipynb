{
 "cells": [
  {
   "cell_type": "markdown",
   "metadata": {},
   "source": [
    "# Reading And Writing to files With Python"
   ]
  },
  {
   "cell_type": "markdown",
   "metadata": {},
   "source": [
    "\n",
    "When you’re working with Python, you don’t need to import a library in order to read and write files. It’s handled natively in the language,Python provides inbuilt functions for creating, writing and reading files. There are two types of files that can be handled in python, normal text files and binary files"
   ]
  },
  {
   "cell_type": "markdown",
   "metadata": {},
   "source": [
    "__Text files__: In this type of file, Each line of text is terminated with a special character called EOL (End of Line), which is the new line character (‘\\n’) in python by default."
   ]
  },
  {
   "cell_type": "markdown",
   "metadata": {},
   "source": [
    "__Binary files__: In this type of file, there is no terminator for a line and the data is stored after converting it into machine understandable binary language."
   ]
  },
  {
   "cell_type": "markdown",
   "metadata": {},
   "source": [
    "# File Accessing Methods"
   ]
  },
  {
   "cell_type": "markdown",
   "metadata": {},
   "source": [
    "The file accessing methods dictate modes in which files will be accessed in python, it refers to how the file will be used once its opened.These modes also define the location of the File Handle in the file. File handle is like a cursor, which defines from where the data has to be read or written in the file. There are 6 access modes in python."
   ]
  },
  {
   "cell_type": "markdown",
   "metadata": {},
   "source": [
    "__Read Only (‘r’)__ : Open text file for reading. The handle is positioned at the beginning of the file. If the file does not exists, raises I/O error. This is also the default mode in which file is opened."
   ]
  },
  {
   "cell_type": "markdown",
   "metadata": {},
   "source": [
    "__Read and Write (‘r+’)__ : Open the file for reading and writing. The handle is positioned at the beginning of the file. Raises I/O error if the file does not exists."
   ]
  },
  {
   "cell_type": "markdown",
   "metadata": {},
   "source": [
    "__Write Only (‘w’)__ : Open the file for writing. For existing file, the data is truncated and over-written. The handle is positioned at the beginning of the file. Creates the file if the file does not exists."
   ]
  },
  {
   "cell_type": "markdown",
   "metadata": {},
   "source": [
    "__Write and Read (‘w+’)__ : Open the file for reading and writing. For existing file, data is truncated and over-written. The handle is positioned at the beginning of the file."
   ]
  },
  {
   "cell_type": "markdown",
   "metadata": {},
   "source": [
    "__Append Only (‘a’)__ : Open the file for writing. The file is created if it does not exist. The handle is positioned at the end of the file. The data being written will be inserted at the end, after the existing data."
   ]
  },
  {
   "cell_type": "markdown",
   "metadata": {},
   "source": [
    "__Append and Read (‘a+’)__ : Open the file for reading and writing. The file is created if it does not exist. The handle is positioned at the end of the file. The data being written will be inserted at the end, after the existing data."
   ]
  },
  {
   "cell_type": "markdown",
   "metadata": {},
   "source": [
    "## Opening a File"
   ]
  },
  {
   "cell_type": "markdown",
   "metadata": {},
   "source": [
    "Reading a file is done by using the open() function, you do not need to import any module for this, the file you're trying to read must already exist in your directory"
   ]
  },
  {
   "cell_type": "code",
   "execution_count": 10,
   "metadata": {},
   "outputs": [],
   "source": [
    "file1 =  open(\"MyFi.txt\", \"a\")"
   ]
  },
  {
   "cell_type": "code",
   "execution_count": 11,
   "metadata": {},
   "outputs": [],
   "source": [
    "file1.close()"
   ]
  },
  {
   "cell_type": "markdown",
   "metadata": {},
   "source": [
    "## Closing a File"
   ]
  },
  {
   "cell_type": "markdown",
   "metadata": {},
   "source": [
    "close() function closes the file and frees the memory space acquired by that file. It is used at the time when the file is no longer needed or if it is to be opened in a different file mode."
   ]
  },
  {
   "cell_type": "code",
   "execution_count": 10,
   "metadata": {},
   "outputs": [],
   "source": [
    "file1 =  open(\"MyFile.txt\", \"a\")\n",
    "file1.close()"
   ]
  },
  {
   "cell_type": "markdown",
   "metadata": {},
   "source": [
    "## Reading From An Open File"
   ]
  },
  {
   "cell_type": "markdown",
   "metadata": {},
   "source": [
    "There are three ways to read from a file"
   ]
  },
  {
   "cell_type": "markdown",
   "metadata": {},
   "source": [
    "    __Read():__ Returns the read bytes in form of a string. Reads n bytes, if no n specified, reads the entire file."
   ]
  },
  {
   "cell_type": "markdown",
   "metadata": {},
   "source": [
    "    __Readlines():__ Reads a line of the file and returns in form of a string.For specified n, reads at most n bytes. However, does not reads more than one line, even if n exceeds the length of the line."
   ]
  },
  {
   "cell_type": "markdown",
   "metadata": {},
   "source": [
    "    __Readline():__ Reads all the lines and return them as each line a string element in a list."
   ]
  },
  {
   "cell_type": "code",
   "execution_count": 12,
   "metadata": {},
   "outputs": [
    {
     "name": "stdout",
     "output_type": "stream",
     "text": [
      "Lets Begin\n",
      "\n",
      "I'll be your tutor for today\n",
      "\n",
      "Output After using file seeking\n",
      "Lets Begin\n",
      "\n"
     ]
    }
   ],
   "source": [
    "#program to demonstrate readinglines\n",
    "file1 = open('MyFile.txt', 'w')\n",
    "L = [\"\\nI'll be your tutor for today\"]\n",
    "file1.write(\"Lets Begin\\n\")\n",
    "file1.writelines(L)\n",
    "file1.close()\n",
    "\n",
    "file1 = open(\"MyFile.txt\",\"r+\")  \n",
    "\n",
    "print(file1.read())\n",
    "\n",
    "\n",
    "#using file seeking\n",
    "#seek(n) takes the file to the nth value\n",
    "file1.seek(0)\n",
    "print(\"\\nOutput After using file seeking\")\n",
    "print(file1.readline())\n",
    "\n",
    "\n"
   ]
  },
  {
   "cell_type": "markdown",
   "metadata": {},
   "source": [
    "__Appending Files:__"
   ]
  },
  {
   "cell_type": "code",
   "execution_count": 13,
   "metadata": {},
   "outputs": [
    {
     "name": "stdout",
     "output_type": "stream",
     "text": [
      "Lets Begin\n",
      "\n",
      "I'll be your tutor for today\n",
      "Output After using the append function\n",
      "Lets Begin\n",
      "\n",
      "I'll be your tutor for today i'm steve \n",
      "\n",
      "Output After using Overwrite method\n",
      "i'm jeff \n",
      "\n"
     ]
    }
   ],
   "source": [
    "file1 = open('MyFile.txt', 'w')\n",
    "L = [\"\\nI'll be your tutor for today\"]\n",
    "file1.write(\"Lets Begin\\n\")\n",
    "file1.writelines(L)\n",
    "file1.close()\n",
    "\n",
    "file1 = open(\"MyFile.txt\", 'r')\n",
    "print(file1.read())\n",
    "\n",
    "#appending adds at last\n",
    "file1 = open('MyFile.txt', 'a')\n",
    "file1.write(\" i'm steve \\n\")\n",
    "file1.close()\n",
    "\n",
    "print(\"Output After using the append function\")\n",
    "file1 = open(\"MyFile.txt\", 'r')\n",
    "print(file1.read())\n",
    "\n",
    "\n",
    "#Write overwite\n",
    "file1 = open('Myfile.txt', 'w')\n",
    "file1.write(\"i'm jeff \\n\")\n",
    "file1.close()\n",
    "print(\"Output After using Overwrite method\")\n",
    "file1 = open(\"Myfile.txt\", 'r')\n",
    "print(file1.read())\n",
    "\n"
   ]
  },
  {
   "cell_type": "code",
   "execution_count": null,
   "metadata": {},
   "outputs": [],
   "source": []
  }
 ],
 "metadata": {
  "kernelspec": {
   "display_name": "Python 3",
   "language": "python",
   "name": "python3"
  },
  "language_info": {
   "codemirror_mode": {
    "name": "ipython",
    "version": 3
   },
   "file_extension": ".py",
   "mimetype": "text/x-python",
   "name": "python",
   "nbconvert_exporter": "python",
   "pygments_lexer": "ipython3",
   "version": "3.9.12"
  }
 },
 "nbformat": 4,
 "nbformat_minor": 4
}
