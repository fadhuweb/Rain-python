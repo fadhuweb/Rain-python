{
 "cells": [
  {
   "cell_type": "code",
   "execution_count": null,
   "metadata": {},
   "outputs": [],
   "source": [
    "# Define the score dictionary\n",
    "score = {\n",
    "    'Homework': [60.5, 90.8, 100, 78],\n",
    "    'Quizes': [30, 42, 18],\n",
    "    'Tests': [95, 84.5]\n",
    "}\n",
    "\n",
    "# Calculate the average for each assessment\n",
    "homework_avg = sum(score['Homework']) /len(score['Homework'])\n",
    "quizes_avg = sum(score['Quizes']) / len(score['Quizes'])\n",
    "tests_avg = sum(score['Tests']) / len(score['Tests'])\n",
    "\n",
    "# Calculate the final score using the weights\n",
    "final_score = (homework_avg * 0.1) + (quizes_avg * 0.3) + (tests_avg * 0.6)\n",
    "\n",
    "# Evaluate the grade based on the final score\n",
    "if final_score >= 90:\n",
    "    grade = \"A\"\n",
    "elif final_score >= 80:\n",
    "    grade = \"B\"\n",
    "elif final_score >= 70:\n",
    "    grade = \"C\"\n",
    "elif final_score >= 60:\n",
    "    grade = \"D\"\n",
    "elif final_score >= 50:\n",
    "    grade = \"E\"\n",
    "else:\n",
    "    grade = \"F\"\n",
    "\n",
    "# Print the results\n",
    "print(\"Homework Average:\", homework_avg)\n",
    "print(\"Quizes Average:\", quizes_avg)\n",
    "print(\"Tests Average:\", tests_avg)\n",
    "print(\"Final Score:\", final_score)\n",
    "print(\"Grade:\", grade)"
   ]
  }
 ],
 "metadata": {
  "language_info": {
   "name": "python"
  }
 },
 "nbformat": 4,
 "nbformat_minor": 2
}
