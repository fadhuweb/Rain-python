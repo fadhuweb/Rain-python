{
 "cells": [
  {
   "cell_type": "markdown",
   "metadata": {},
   "source": [
    "## KEEPING TIME, SCHEDULING TASKS AND LAUNCHING PROGRAMS\n",
    "At times, you want your programs to be executed automatically at a specific time and/or date or at regular intervals. This can be achieved using Python's time and datetime modules."
   ]
  },
  {
   "cell_type": "markdown",
   "metadata": {},
   "source": [
    "## THE TIME MODULE\n",
    "The time module allows python programs to read the computer's clock which is set to a specific date, time and time zone. The time reference commonly used in programming is `12AM January 1, 1970 UTC (Coordinated Universal Time)`. This is known as the Unix epoch. The time.time() function returns a float value called an epoch timestamp (the number of seconds that has passed since the unix epoch)."
   ]
  },
  {
   "cell_type": "code",
   "execution_count": 6,
   "metadata": {},
   "outputs": [
    {
     "data": {
      "text/plain": [
       "1604918487.9464731"
      ]
     },
     "execution_count": 6,
     "metadata": {},
     "output_type": "execute_result"
    }
   ],
   "source": [
    "import time\n",
    "time.time()"
   ]
  },
  {
   "cell_type": "markdown",
   "metadata": {},
   "source": [
    "The time.time() function can be used to calculate how long a block of code or program takes to execute. To calculate the program execution time, call the time.time() function both at the begininng of the block of code and also at the end of the block of code. Thereafter, subtract the first timestamp from the second timestamp to get the execution time."
   ]
  },
  {
   "cell_type": "code",
   "execution_count": 2,
   "metadata": {},
   "outputs": [
    {
     "name": "stdout",
     "output_type": "stream",
     "text": [
      "Reading from a file\n",
      "['Region', 'Country', 'Item Type', 'Sales Channel', 'Order Priority', 'Order Date', 'Order ID', 'Ship Date', 'Units Sold', 'Unit Price', 'Unit Cost', 'Total Revenue', 'Total Cost', 'Total Profit']\n",
      "['Australia and Oceania', 'Tuvalu', 'Baby Food', 'Offline', 'H', '5/28/2010', '669165933', '6/27/2010', '9925', '255.28', '159.42', '2533654.00', '1582243.50', '951410.50']\n",
      "['Central America and the Caribbean', 'Grenada', 'Cereal', 'Online', 'C', '8/22/2012', '963881480', '9/15/2012', '2804', '205.70', '117.11', '576782.80', '328376.44', '248406.36']\n",
      "['Europe', 'Russia', 'Office Supplies', 'Offline', 'L', '5/2/2014', '341417157', '5/8/2014', '1779', '651.21', '524.96', '1158502.59', '933903.84', '224598.75']\n",
      "['Sub-Saharan Africa', 'Sao Tome and Principe', 'Fruits', 'Online', 'C', '6/20/2014', '514321792', '7/5/2014', '8102', '9.33', '6.92', '75591.66', '56065.84', '19525.82']\n",
      "['Sub-Saharan Africa', 'Rwanda', 'Office Supplies', 'Offline', 'L', '2/1/2013', '115456712', '2/6/2013', '5062', '651.21', '524.96', '3296425.02', '2657347.52', '639077.50']\n",
      "['Australia and Oceania', 'Solomon Islands', 'Baby Food', 'Online', 'C', '2/4/2015', '547995746', '2/21/2015', '2974', '255.28', '159.42', '759202.72', '474115.08', '285087.64']\n",
      "['Sub-Saharan Africa', 'Angola', 'Household', 'Offline', 'M', '4/23/2011', '135425221', '4/27/2011', '4187', '668.27', '502.54', '2798046.49', '2104134.98', '693911.51']\n",
      "['Sub-Saharan Africa', 'Burkina Faso', 'Vegetables', 'Online', 'H', '7/17/2012', '871543967', '7/27/2012', '8082', '154.06', '90.93', '1245112.92', '734896.26', '510216.66']\n",
      "['Sub-Saharan Africa', 'Republic of the Congo', 'Personal Care', 'Offline', 'M', '7/14/2015', '770463311', '8/25/2015', '6070', '81.73', '56.67', '496101.10', '343986.90', '152114.20']\n",
      "['Sub-Saharan Africa', 'Senegal', 'Cereal', 'Online', 'H', '4/18/2014', '616607081', '5/30/2014', '6593', '205.70', '117.11', '1356180.10', '772106.23', '584073.87']\n",
      "['Asia', 'Kyrgyzstan', 'Vegetables', 'Online', 'H', '6/24/2011', '814711606', '7/12/2011', '124', '154.06', '90.93', '19103.44', '11275.32', '7828.12']\n",
      "['Sub-Saharan Africa', 'Cape Verde', 'Clothes', 'Offline', 'H', '8/2/2014', '939825713', '8/19/2014', '4168', '109.28', '35.84', '455479.04', '149381.12', '306097.92']\n",
      "['Asia', 'Bangladesh', 'Clothes', 'Online', 'L', '1/13/2017', '187310731', '3/1/2017', '8263', '109.28', '35.84', '902980.64', '296145.92', '606834.72']\n",
      "['Central America and the Caribbean', 'Honduras', 'Household', 'Offline', 'H', '2/8/2017', '522840487', '2/13/2017', '8974', '668.27', '502.54', '5997054.98', '4509793.96', '1487261.02']\n",
      "['Asia', 'Mongolia', 'Personal Care', 'Offline', 'C', '2/19/2014', '832401311', '2/23/2014', '4901', '81.73', '56.67', '400558.73', '277739.67', '122819.06']\n",
      "['Europe', 'Bulgaria', 'Clothes', 'Online', 'M', '4/23/2012', '972292029', '6/3/2012', '1673', '109.28', '35.84', '182825.44', '59960.32', '122865.12']\n",
      "['Asia', 'Sri Lanka', 'Cosmetics', 'Offline', 'M', '11/19/2016', '419123971', '12/18/2016', '6952', '437.20', '263.33', '3039414.40', '1830670.16', '1208744.24']\n",
      "['Sub-Saharan Africa', 'Cameroon', 'Beverages', 'Offline', 'C', '4/1/2015', '519820964', '4/18/2015', '5430', '47.45', '31.79', '257653.50', '172619.70', '85033.80']\n",
      "['Asia', 'Turkmenistan', 'Household', 'Offline', 'L', '12/30/2010', '441619336', '1/20/2011', '3830', '668.27', '502.54', '2559474.10', '1924728.20', '634745.90']\n",
      "['Australia and Oceania', 'East Timor', 'Meat', 'Online', 'L', '7/31/2012', '322067916', '9/11/2012', '5908', '421.89', '364.69', '2492526.12', '2154588.52', '337937.60']\n",
      "['Europe', 'Norway', 'Baby Food', 'Online', 'L', '5/14/2014', '819028031', '6/28/2014', '7450', '255.28', '159.42', '1901836.00', '1187679.00', '714157.00']\n",
      "['Europe', 'Portugal', 'Baby Food', 'Online', 'H', '7/31/2015', '860673511', '9/3/2015', '1273', '255.28', '159.42', '324971.44', '202941.66', '122029.78']\n",
      "['Central America and the Caribbean', 'Honduras', 'Snacks', 'Online', 'L', '6/30/2016', '795490682', '7/26/2016', '2225', '152.58', '97.44', '339490.50', '216804.00', '122686.50']\n",
      "['Australia and Oceania', 'New Zealand', 'Fruits', 'Online', 'H', '9/8/2014', '142278373', '10/4/2014', '2187', '9.33', '6.92', '20404.71', '15134.04', '5270.67']\n",
      "['Europe', 'Moldova ', 'Personal Care', 'Online', 'L', '5/7/2016', '740147912', '5/10/2016', '5070', '81.73', '56.67', '414371.10', '287316.90', '127054.20']\n",
      "['Europe', 'France', 'Cosmetics', 'Online', 'H', '5/22/2017', '898523128', '6/5/2017', '1815', '437.20', '263.33', '793518.00', '477943.95', '315574.05']\n",
      "['Australia and Oceania', 'Kiribati', 'Fruits', 'Online', 'M', '10/13/2014', '347140347', '11/10/2014', '5398', '9.33', '6.92', '50363.34', '37354.16', '13009.18']\n",
      "['Sub-Saharan Africa', 'Mali', 'Fruits', 'Online', 'L', '5/7/2010', '686048400', '5/10/2010', '5822', '9.33', '6.92', '54319.26', '40288.24', '14031.02']\n",
      "['Europe', 'Norway', 'Beverages', 'Offline', 'C', '7/18/2014', '435608613', '7/30/2014', '5124', '47.45', '31.79', '243133.80', '162891.96', '80241.84']\n",
      "['Sub-Saharan Africa', 'The Gambia', 'Household', 'Offline', 'L', '5/26/2012', '886494815', '6/9/2012', '2370', '668.27', '502.54', '1583799.90', '1191019.80', '392780.10']\n",
      "['Europe', 'Switzerland', 'Cosmetics', 'Offline', 'M', '9/17/2012', '249693334', '10/20/2012', '8661', '437.20', '263.33', '3786589.20', '2280701.13', '1505888.07']\n",
      "['Sub-Saharan Africa', 'South Sudan', 'Personal Care', 'Offline', 'C', '12/29/2013', '406502997', '1/28/2014', '2125', '81.73', '56.67', '173676.25', '120423.75', '53252.50']\n",
      "['Australia and Oceania', 'Australia', 'Office Supplies', 'Online', 'C', '10/27/2015', '158535134', '11/25/2015', '2924', '651.21', '524.96', '1904138.04', '1534983.04', '369155.00']\n",
      "['Asia', 'Myanmar', 'Household', 'Offline', 'H', '1/16/2015', '177713572', '3/1/2015', '8250', '668.27', '502.54', '5513227.50', '4145955.00', '1367272.50']\n",
      "['Sub-Saharan Africa', 'Djibouti', 'Snacks', 'Online', 'M', '2/25/2017', '756274640', '2/25/2017', '7327', '152.58', '97.44', '1117953.66', '713942.88', '404010.78']\n",
      "['Central America and the Caribbean', 'Costa Rica', 'Personal Care', 'Offline', 'L', '5/8/2017', '456767165', '5/21/2017', '6409', '81.73', '56.67', '523807.57', '363198.03', '160609.54']\n",
      "['Middle East and North Africa', 'Syria', 'Fruits', 'Online', 'L', '11/22/2011', '162052476', '12/3/2011', '3784', '9.33', '6.92', '35304.72', '26185.28', '9119.44']\n",
      "['Sub-Saharan Africa', 'The Gambia', 'Meat', 'Online', 'M', '1/14/2017', '825304400', '1/23/2017', '4767', '421.89', '364.69', '2011149.63', '1738477.23', '272672.40']\n",
      "['Asia', 'Brunei', 'Office Supplies', 'Online', 'L', '4/1/2012', '320009267', '5/8/2012', '6708', '651.21', '524.96', '4368316.68', '3521431.68', '846885.00']\n",
      "['Europe', 'Bulgaria', 'Office Supplies', 'Online', 'M', '2/16/2012', '189965903', '2/28/2012', '3987', '651.21', '524.96', '2596374.27', '2093015.52', '503358.75']\n",
      "['Sub-Saharan Africa', 'Niger', 'Personal Care', 'Online', 'H', '3/11/2017', '699285638', '3/28/2017', '3015', '81.73', '56.67', '246415.95', '170860.05', '75555.90']\n",
      "['Middle East and North Africa', 'Azerbaijan', 'Cosmetics', 'Online', 'M', '2/6/2010', '382392299', '2/25/2010', '7234', '437.20', '263.33', '3162704.80', '1904929.22', '1257775.58']\n",
      "['Sub-Saharan Africa', 'The Gambia', 'Cereal', 'Offline', 'H', '6/7/2012', '994022214', '6/8/2012', '2117', '205.70', '117.11', '435466.90', '247921.87', '187545.03']\n",
      "['Europe', 'Slovakia', 'Vegetables', 'Online', 'H', '10/6/2012', '759224212', '11/10/2012', '171', '154.06', '90.93', '26344.26', '15549.03', '10795.23']\n",
      "['Asia', 'Myanmar', 'Clothes', 'Online', 'H', '11/14/2015', '223359620', '11/18/2015', '5930', '109.28', '35.84', '648030.40', '212531.20', '435499.20']\n",
      "['Sub-Saharan Africa', 'Comoros', 'Cereal', 'Offline', 'H', '3/29/2016', '902102267', '4/29/2016', '962', '205.70', '117.11', '197883.40', '112659.82', '85223.58']\n",
      "['Europe', 'Iceland', 'Cosmetics', 'Online', 'C', '12/31/2016', '331438481', '12/31/2016', '8867', '437.20', '263.33', '3876652.40', '2334947.11', '1541705.29']\n",
      "['Europe', 'Switzerland', 'Personal Care', 'Online', 'M', '12/23/2010', '617667090', '1/31/2011', '273', '81.73', '56.67', '22312.29', '15470.91', '6841.38']\n",
      "['Europe', 'Macedonia', 'Clothes', 'Offline', 'C', '10/14/2014', '787399423', '11/14/2014', '7842', '109.28', '35.84', '856973.76', '281057.28', '575916.48']\n",
      "['Sub-Saharan Africa', 'Mauritania', 'Office Supplies', 'Offline', 'C', '1/11/2012', '837559306', '1/13/2012', '1266', '651.21', '524.96', '824431.86', '664599.36', '159832.50']\n",
      "['Europe', 'Albania', 'Clothes', 'Online', 'C', '2/2/2010', '385383069', '3/18/2010', '2269', '109.28', '35.84', '247956.32', '81320.96', '166635.36']\n",
      "['Sub-Saharan Africa', 'Lesotho', 'Fruits', 'Online', 'L', '8/18/2013', '918419539', '9/18/2013', '9606', '9.33', '6.92', '89623.98', '66473.52', '23150.46']\n",
      "['Middle East and North Africa', 'Saudi Arabia', 'Cereal', 'Online', 'M', '3/25/2013', '844530045', '3/28/2013', '4063', '205.70', '117.11', '835759.10', '475817.93', '359941.17']\n",
      "['Sub-Saharan Africa', 'Sierra Leone', 'Office Supplies', 'Offline', 'M', '11/26/2011', '441888415', '1/7/2012', '3457', '651.21', '524.96', '2251232.97', '1814786.72', '436446.25']\n",
      "['Sub-Saharan Africa', 'Sao Tome and Principe', 'Fruits', 'Offline', 'H', '9/17/2013', '508980977', '10/24/2013', '7637', '9.33', '6.92', '71253.21', '52848.04', '18405.17']\n",
      "['Sub-Saharan Africa', \"Cote d'Ivoire\", 'Clothes', 'Online', 'C', '6/8/2012', '114606559', '6/27/2012', '3482', '109.28', '35.84', '380512.96', '124794.88', '255718.08']\n",
      "['Australia and Oceania', 'Fiji', 'Clothes', 'Offline', 'C', '6/30/2010', '647876489', '8/1/2010', '9905', '109.28', '35.84', '1082418.40', '354995.20', '727423.20']\n",
      "['Europe', 'Austria', 'Cosmetics', 'Offline', 'H', '2/23/2015', '868214595', '3/2/2015', '2847', '437.20', '263.33', '1244708.40', '749700.51', '495007.89']\n",
      "['Europe', 'United Kingdom', 'Household', 'Online', 'L', '1/5/2012', '955357205', '2/14/2012', '282', '668.27', '502.54', '188452.14', '141716.28', '46735.86']\n",
      "['Sub-Saharan Africa', 'Djibouti', 'Cosmetics', 'Offline', 'H', '4/7/2014', '259353148', '4/19/2014', '7215', '437.20', '263.33', '3154398.00', '1899925.95', '1254472.05']\n",
      "['Australia and Oceania', 'Australia', 'Cereal', 'Offline', 'H', '6/9/2013', '450563752', '7/2/2013', '682', '205.70', '117.11', '140287.40', '79869.02', '60418.38']\n",
      "['Europe', 'San Marino', 'Baby Food', 'Online', 'L', '6/26/2013', '569662845', '7/1/2013', '4750', '255.28', '159.42', '1212580.00', '757245.00', '455335.00']\n",
      "['Sub-Saharan Africa', 'Cameroon', 'Office Supplies', 'Online', 'M', '11/7/2011', '177636754', '11/15/2011', '5518', '651.21', '524.96', '3593376.78', '2896729.28', '696647.50']\n",
      "['Middle East and North Africa', 'Libya', 'Clothes', 'Offline', 'H', '10/30/2010', '705784308', '11/17/2010', '6116', '109.28', '35.84', '668356.48', '219197.44', '449159.04']\n",
      "['Central America and the Caribbean', 'Haiti', 'Cosmetics', 'Offline', 'H', '10/13/2013', '505716836', '11/16/2013', '1705', '437.20', '263.33', '745426.00', '448977.65', '296448.35']\n",
      "['Sub-Saharan Africa', 'Rwanda', 'Cosmetics', 'Offline', 'H', '10/11/2013', '699358165', '11/25/2013', '4477', '437.20', '263.33', '1957344.40', '1178928.41', '778415.99']\n",
      "['Sub-Saharan Africa', 'Gabon', 'Personal Care', 'Offline', 'L', '7/8/2012', '228944623', '7/9/2012', '8656', '81.73', '56.67', '707454.88', '490535.52', '216919.36']\n",
      "['Central America and the Caribbean', 'Belize', 'Clothes', 'Offline', 'M', '7/25/2016', '807025039', '9/7/2016', '5498', '109.28', '35.84', '600821.44', '197048.32', '403773.12']\n",
      "['Europe', 'Lithuania', 'Office Supplies', 'Offline', 'H', '10/24/2010', '166460740', '11/17/2010', '8287', '651.21', '524.96', '5396577.27', '4350343.52', '1046233.75']\n",
      "['Sub-Saharan Africa', 'Madagascar', 'Clothes', 'Offline', 'L', '4/25/2015', '610425555', '5/28/2015', '7342', '109.28', '35.84', '802333.76', '263137.28', '539196.48']\n",
      "['Asia', 'Turkmenistan', 'Office Supplies', 'Online', 'M', '4/23/2013', '462405812', '5/20/2013', '5010', '651.21', '524.96', '3262562.10', '2630049.60', '632512.50']\n",
      "['Middle East and North Africa', 'Libya', 'Fruits', 'Online', 'L', '8/14/2015', '816200339', '9/30/2015', '673', '9.33', '6.92', '6279.09', '4657.16', '1621.93']\n",
      "['Sub-Saharan Africa', 'Democratic Republic of the Congo', 'Beverages', 'Online', 'C', '5/26/2011', '585920464', '7/15/2011', '5741', '47.45', '31.79', '272410.45', '182506.39', '89904.06']\n",
      "['Sub-Saharan Africa', 'Djibouti', 'Cereal', 'Online', 'H', '5/20/2017', '555990016', '6/17/2017', '8656', '205.70', '117.11', '1780539.20', '1013704.16', '766835.04']\n",
      "['Middle East and North Africa', 'Pakistan', 'Cosmetics', 'Offline', 'L', '7/5/2013', '231145322', '8/16/2013', '9892', '437.20', '263.33', '4324782.40', '2604860.36', '1719922.04']\n",
      "['North America', 'Mexico', 'Household', 'Offline', 'C', '11/6/2014', '986435210', '12/12/2014', '6954', '668.27', '502.54', '4647149.58', '3494663.16', '1152486.42']\n",
      "['Australia and Oceania', 'Federated States of Micronesia', 'Beverages', 'Online', 'C', '10/28/2014', '217221009', '11/15/2014', '9379', '47.45', '31.79', '445033.55', '298158.41', '146875.14']\n",
      "['Asia', 'Laos', 'Vegetables', 'Offline', 'C', '9/15/2011', '789176547', '10/23/2011', '3732', '154.06', '90.93', '574951.92', '339350.76', '235601.16']\n",
      "['Europe', 'Monaco', 'Baby Food', 'Offline', 'H', '5/29/2012', '688288152', '6/2/2012', '8614', '255.28', '159.42', '2198981.92', '1373243.88', '825738.04']\n",
      "['Australia and Oceania', 'Samoa ', 'Cosmetics', 'Online', 'H', '7/20/2013', '670854651', '8/7/2013', '9654', '437.20', '263.33', '4220728.80', '2542187.82', '1678540.98']\n",
      "['Europe', 'Spain', 'Household', 'Offline', 'L', '10/21/2012', '213487374', '11/30/2012', '4513', '668.27', '502.54', '3015902.51', '2267963.02', '747939.49']\n",
      "['Middle East and North Africa', 'Lebanon', 'Clothes', 'Online', 'L', '9/18/2012', '663110148', '10/8/2012', '7884', '109.28', '35.84', '861563.52', '282562.56', '579000.96']\n",
      "['Middle East and North Africa', 'Iran', 'Cosmetics', 'Online', 'H', '11/15/2016', '286959302', '12/8/2016', '6489', '437.20', '263.33', '2836990.80', '1708748.37', '1128242.43']\n",
      "['Sub-Saharan Africa', 'Zambia', 'Snacks', 'Online', 'L', '1/4/2011', '122583663', '1/5/2011', '4085', '152.58', '97.44', '623289.30', '398042.40', '225246.90']\n",
      "['Sub-Saharan Africa', 'Kenya', 'Vegetables', 'Online', 'L', '3/18/2012', '827844560', '4/7/2012', '6457', '154.06', '90.93', '994765.42', '587135.01', '407630.41']\n",
      "['North America', 'Mexico', 'Personal Care', 'Offline', 'L', '2/17/2012', '430915820', '3/20/2012', '6422', '81.73', '56.67', '524870.06', '363934.74', '160935.32']\n",
      "['Sub-Saharan Africa', 'Sao Tome and Principe', 'Beverages', 'Offline', 'C', '1/16/2011', '180283772', '1/21/2011', '8829', '47.45', '31.79', '418936.05', '280673.91', '138262.14']\n",
      "['Sub-Saharan Africa', 'The Gambia', 'Baby Food', 'Offline', 'M', '2/3/2014', '494747245', '3/20/2014', '5559', '255.28', '159.42', '1419101.52', '886215.78', '532885.74']\n",
      "['Middle East and North Africa', 'Kuwait', 'Fruits', 'Online', 'M', '4/30/2012', '513417565', '5/18/2012', '522', '9.33', '6.92', '4870.26', '3612.24', '1258.02']\n",
      "['Europe', 'Slovenia', 'Beverages', 'Offline', 'C', '10/23/2016', '345718562', '11/25/2016', '4660', '47.45', '31.79', '221117.00', '148141.40', '72975.60']\n",
      "['Sub-Saharan Africa', 'Sierra Leone', 'Office Supplies', 'Offline', 'H', '12/6/2016', '621386563', '12/14/2016', '948', '651.21', '524.96', '617347.08', '497662.08', '119685.00']\n",
      "['Australia and Oceania', 'Australia', 'Beverages', 'Offline', 'H', '7/7/2014', '240470397', '7/11/2014', '9389', '47.45', '31.79', '445508.05', '298476.31', '147031.74']\n",
      "['Middle East and North Africa', 'Azerbaijan', 'Office Supplies', 'Online', 'M', '6/13/2012', '423331391', '7/24/2012', '2021', '651.21', '524.96', '1316095.41', '1060944.16', '255151.25']\n",
      "['Europe', 'Romania', 'Cosmetics', 'Online', 'H', '11/26/2010', '660643374', '12/25/2010', '7910', '437.20', '263.33', '3458252.00', '2082940.30', '1375311.70']\n",
      "['Central America and the Caribbean', 'Nicaragua', 'Beverages', 'Offline', 'C', '2/8/2011', '963392674', '3/21/2011', '8156', '47.45', '31.79', '387002.20', '259279.24', '127722.96']\n",
      "['Sub-Saharan Africa', 'Mali', 'Clothes', 'Online', 'M', '7/26/2011', '512878119', '9/3/2011', '888', '109.28', '35.84', '97040.64', '31825.92', '65214.72']\n",
      "['Asia', 'Malaysia', 'Fruits', 'Offline', 'L', '11/11/2011', '810711038', '12/28/2011', '6267', '9.33', '6.92', '58471.11', '43367.64', '15103.47']\n",
      "['Sub-Saharan Africa', 'Sierra Leone', 'Vegetables', 'Offline', 'C', '6/1/2016', '728815257', '6/29/2016', '1485', '154.06', '90.93', '228779.10', '135031.05', '93748.05']\n",
      "['North America', 'Mexico', 'Personal Care', 'Offline', 'M', '7/30/2015', '559427106', '8/8/2015', '5767', '81.73', '56.67', '471336.91', '326815.89', '144521.02']\n",
      "['Sub-Saharan Africa', 'Mozambique', 'Household', 'Offline', 'L', '2/10/2012', '665095412', '2/15/2012', '5367', '668.27', '502.54', '3586605.09', '2697132.18', '889472.91']\n",
      "0.03\n"
     ]
    }
   ],
   "source": [
    "start = time.time()\n",
    "\n",
    "import csv\n",
    "file_obj = open('100 Sales Records.csv', 'rt')\n",
    "reader_obj = csv.reader(file_obj)\n",
    "print('Reading from a file')\n",
    "for line in reader_obj:\n",
    "    print(line)\n",
    "file_obj.close()\n",
    "\n",
    "end = time.time()\n",
    "execution_time = end - start\n",
    "print(round(execution_time,2))"
   ]
  },
  {
   "cell_type": "markdown",
   "metadata": {},
   "source": [
    "To get a string description of the current time, we use the time.ctime() function."
   ]
  },
  {
   "cell_type": "code",
   "execution_count": 3,
   "metadata": {},
   "outputs": [
    {
     "data": {
      "text/plain": [
       "'Mon Nov  9 11:05:12 2020'"
      ]
     },
     "execution_count": 3,
     "metadata": {},
     "output_type": "execute_result"
    }
   ],
   "source": [
    "time.ctime()"
   ]
  },
  {
   "cell_type": "markdown",
   "metadata": {},
   "source": [
    "The time.sleep() function is used to pause programs for a number of seconds."
   ]
  },
  {
   "cell_type": "code",
   "execution_count": 5,
   "metadata": {},
   "outputs": [
    {
     "name": "stdin",
     "output_type": "stream",
     "text": [
      "What is your name? Aminat\n"
     ]
    },
    {
     "name": "stdout",
     "output_type": "stream",
     "text": [
      "Hello, Aminat\n"
     ]
    }
   ],
   "source": [
    "name = input('What is your name?')\n",
    "time.sleep(5)\n",
    "print('Hello,', name)"
   ]
  },
  {
   "cell_type": "code",
   "execution_count": null,
   "metadata": {},
   "outputs": [
    {
     "name": "stdout",
     "output_type": "stream",
     "text": [
      "Day 1\n"
     ]
    }
   ],
   "source": [
    "for i in  range(5):\n",
    "    print (f'Day {i+1}')\n",
    "    time.sleep(72000)\n",
    "    "
   ]
  },
  {
   "cell_type": "markdown",
   "metadata": {},
   "source": [
    "## THE DATETIME MODULE\n",
    "The datetime module is used to work with dates and calculate dates in a more convenient format. To get the current date and time of your computer clock, use the datetime.datetime.now() function. This function returns a date object that includes the year, month, day, hour, minute, second, and microsecond of the current moment."
   ]
  },
  {
   "cell_type": "code",
   "execution_count": 1,
   "metadata": {},
   "outputs": [
    {
     "data": {
      "text/plain": [
       "datetime.datetime(2020, 11, 9, 11, 30, 49, 174427)"
      ]
     },
     "execution_count": 1,
     "metadata": {},
     "output_type": "execute_result"
    }
   ],
   "source": [
    "import datetime\n",
    "date = datetime.datetime.now()\n",
    "date"
   ]
  },
  {
   "cell_type": "markdown",
   "metadata": {},
   "source": [
    "You can retrieve values such as month, year, day, hours, minutes and seconds from a date object."
   ]
  },
  {
   "cell_type": "code",
   "execution_count": 2,
   "metadata": {},
   "outputs": [
    {
     "name": "stdout",
     "output_type": "stream",
     "text": [
      "Year: 2020\n",
      "Month: 11\n",
      "Day: 9\n"
     ]
    }
   ],
   "source": [
    "print(f'Year: {date.year}')\n",
    "print(f'Month: {date.month}')\n",
    "print(f'Day: {date.day}')"
   ]
  },
  {
   "cell_type": "code",
   "execution_count": 3,
   "metadata": {},
   "outputs": [
    {
     "name": "stdout",
     "output_type": "stream",
     "text": [
      "Hours: 21\n",
      "Minutes: 31\n",
      "Seconds: 34\n"
     ]
    }
   ],
   "source": [
    "print(f'Hours: {date.hour}')\n",
    "print(f'Minutes: {date.minute}')\n",
    "print(f'Seconds: {date.second}')"
   ]
  },
  {
   "cell_type": "markdown",
   "metadata": {},
   "source": [
    "To retrieve a date object for a specific date, we use the datetime.datetime() function. This function takes integer values representing year, month, day, hours, minute and seconds of the specific date you want."
   ]
  },
  {
   "cell_type": "code",
   "execution_count": 3,
   "metadata": {},
   "outputs": [
    {
     "name": "stdout",
     "output_type": "stream",
     "text": [
      "DOB: 1999-08-28 02:43:00\n"
     ]
    }
   ],
   "source": [
    "birthday = datetime.datetime(1999, 8, 28, 2, 43, 0, 0)\n",
    "print(f'DOB: {birthday}')"
   ]
  },
  {
   "cell_type": "markdown",
   "metadata": {},
   "source": [
    "A timestamp epoch can be converted into a datetime object using the fromtimestamp() function of the datetime.datetime module."
   ]
  },
  {
   "cell_type": "code",
   "execution_count": 7,
   "metadata": {},
   "outputs": [
    {
     "data": {
      "text/plain": [
       "datetime.datetime(2020, 11, 9, 11, 41, 37, 188466)"
      ]
     },
     "execution_count": 7,
     "metadata": {},
     "output_type": "execute_result"
    }
   ],
   "source": [
    "datetime.datetime.fromtimestamp(time.time())"
   ]
  },
  {
   "cell_type": "code",
   "execution_count": 8,
   "metadata": {},
   "outputs": [
    {
     "data": {
      "text/plain": [
       "datetime.datetime(1970, 3, 24, 15, 39, 3)"
      ]
     },
     "execution_count": 8,
     "metadata": {},
     "output_type": "execute_result"
    }
   ],
   "source": [
    "datetime.datetime.fromtimestamp(7137543)"
   ]
  },
  {
   "cell_type": "markdown",
   "metadata": {},
   "source": [
    "## THE TIMEDELTA DATATYPE\n",
    "The timedelta is a datatype of the datettime module that represents a duration in time. The datetime.timedelta() function is used to create a timedelta object and it takes weeks, days, hours, minutes, seconds, milliseconds, and microseconds as arguments."
   ]
  },
  {
   "cell_type": "code",
   "execution_count": 9,
   "metadata": {},
   "outputs": [
    {
     "data": {
      "text/plain": [
       "datetime.timedelta(days=268, seconds=43200)"
      ]
     },
     "execution_count": 9,
     "metadata": {},
     "output_type": "execute_result"
    }
   ],
   "source": [
    "td= datetime.timedelta(weeks = 36, days = 15, hours = 36)\n",
    "td"
   ]
  },
  {
   "cell_type": "markdown",
   "metadata": {},
   "source": [
    "A timedelta object returns a total of days, seconds and microseconds. You can access any of these values using the attributes: days, seconds or microseconds. The method total_seconds() returns the total amount of seconds."
   ]
  },
  {
   "cell_type": "code",
   "execution_count": 10,
   "metadata": {},
   "outputs": [
    {
     "data": {
      "text/plain": [
       "43200"
      ]
     },
     "execution_count": 10,
     "metadata": {},
     "output_type": "execute_result"
    }
   ],
   "source": [
    "td.seconds"
   ]
  },
  {
   "cell_type": "code",
   "execution_count": 11,
   "metadata": {},
   "outputs": [
    {
     "data": {
      "text/plain": [
       "23198400.0"
      ]
     },
     "execution_count": 11,
     "metadata": {},
     "output_type": "execute_result"
    }
   ],
   "source": [
    "td.total_seconds()"
   ]
  },
  {
   "cell_type": "markdown",
   "metadata": {},
   "source": [
    "## PERFORMING OPERATIONS ON DATETIME VALUES\n",
    "Arithmetic operators can be used to perform date arithmetic on datetime values. For example, you can a calculate person's age given his/her birthdate."
   ]
  },
  {
   "cell_type": "code",
   "execution_count": 12,
   "metadata": {},
   "outputs": [
    {
     "data": {
      "text/plain": [
       "datetime.timedelta(days=7744, seconds=33036, microseconds=79887)"
      ]
     },
     "execution_count": 12,
     "metadata": {},
     "output_type": "execute_result"
    }
   ],
   "source": [
    "age_td = datetime.datetime.now() - birthday\n",
    "age_td"
   ]
  },
  {
   "cell_type": "code",
   "execution_count": 13,
   "metadata": {},
   "outputs": [
    {
     "data": {
      "text/plain": [
       "21"
      ]
     },
     "execution_count": 13,
     "metadata": {},
     "output_type": "execute_result"
    }
   ],
   "source": [
    "age = age_td.days/365\n",
    "#print(age)\n",
    "round(age)"
   ]
  },
  {
   "cell_type": "code",
   "execution_count": 14,
   "metadata": {},
   "outputs": [
    {
     "name": "stdout",
     "output_type": "stream",
     "text": [
      "Today: 2020-11-09 12:02:12.049830\n",
      "70 days later: 2021-01-18 12:02:12.049830\n"
     ]
    }
   ],
   "source": [
    "today = datetime.datetime.now()\n",
    "print(f'Today: {today}')\n",
    "# in 70days time\n",
    "seventy_days = today + datetime.timedelta(days = 70)\n",
    "print(f'70 days later: {seventy_days}')"
   ]
  },
  {
   "cell_type": "markdown",
   "metadata": {},
   "source": [
    "We can also use boolean operators on datetime values."
   ]
  },
  {
   "cell_type": "code",
   "execution_count": 15,
   "metadata": {},
   "outputs": [
    {
     "data": {
      "text/plain": [
       "True"
      ]
     },
     "execution_count": 15,
     "metadata": {},
     "output_type": "execute_result"
    }
   ],
   "source": [
    "today > birthday"
   ]
  },
  {
   "cell_type": "markdown",
   "metadata": {},
   "source": [
    "One important use of the boolean operators with datetime values is that we can specify that our program runs or a block of code loops until a specific date or starts to run after a specific date."
   ]
  },
  {
   "cell_type": "code",
   "execution_count": null,
   "metadata": {},
   "outputs": [],
   "source": [
    "i = 1\n",
    "while datetime.datetime.now() < seventy_days: \n",
    "    time.sleep(86400) \n",
    "    print(f'{i} days passed')\n",
    "    i+=1"
   ]
  },
  {
   "cell_type": "markdown",
   "metadata": {},
   "source": [
    "In the above code, the program is paused for a day(86400 seconds) before it goes back to check the condition. When the condition is no longer True, the rest of the program is executed."
   ]
  },
  {
   "cell_type": "markdown",
   "metadata": {},
   "source": [
    "## THE STRFTIME() METHOD\n",
    "The strftime() method is used to represent datetime object in string format. Below is the strftime() directive for formatting date objects as strings."
   ]
  },
  {
   "attachments": {
    "image.png": {
     "image/png": "[encoded data removed]"
    }
   },
   "cell_type": "markdown",
   "metadata": {},
   "source": [
    "![image.png](attachment:image.png)"
   ]
  },
  {
   "cell_type": "code",
   "execution_count": null,
   "metadata": {},
   "outputs": [],
   "source": [
    "today.strftime('%d:%m:%Y')"
   ]
  },
  {
   "cell_type": "code",
   "execution_count": null,
   "metadata": {},
   "outputs": [],
   "source": [
    "today.strftime('%d/%m/%Y %H:%M:%S')"
   ]
  },
  {
   "cell_type": "code",
   "execution_count": null,
   "metadata": {},
   "outputs": [],
   "source": [
    " birthday.strftime(\"I was born on the %dth of %B, %Y.\")"
   ]
  },
  {
   "cell_type": "markdown",
   "metadata": {},
   "source": [
    "## THE STRPTIME() METHOD\n",
    "The strptime() method of the datetime.datetime() module is used to convert dates in string format to a date object. This method takes two parameters, the first parameter is the date in string form and the second parameter is the strftime directive used for the string of date. The esscense of the second parameter is so that the strptime method knows how to parse the string of date for valid conversion to a date object."
   ]
  },
  {
   "cell_type": "code",
   "execution_count": null,
   "metadata": {},
   "outputs": [],
   "source": [
    "str_format = '%d/%m/%Y %H:%M:%S'\n",
    "str_date = '10/08/2020 11:50:15'\n",
    "date = datetime.datetime.strptime(str_date, str_format)\n",
    "date"
   ]
  },
  {
   "cell_type": "code",
   "execution_count": null,
   "metadata": {},
   "outputs": [],
   "source": [
    "str_date = 'I was born on the 28th of August, 1999.'\n",
    "str_format = \"I was born on the %dth of %B, %Y.\"\n",
    "birthday = datetime.datetime.strptime(str_date, str_format)\n",
    "birthday"
   ]
  },
  {
   "cell_type": "markdown",
   "metadata": {},
   "source": [
    "## MULTITHREADING\n",
    "When we use time.sleep() in our programs, it pauses the program until the time has elapsed. When it is used in a loop, the program execution is not resumed until the loop has terminated. This is because by default, python uses a single thread of execution.  \n",
    "A thread is a lightweight process. Unlike processes, threads share same memory space. Threads are used to speed up execution of a program.  \n",
    "Rather than waiting for the sleep time to elapse before resuming our program execution, the delayed code can be executed in a separate thread.This separate thread will wait for the sleep time to elapse while the rest of the program can be executed with the main thread. This  is known as multithreading. Multithreading allows us to run different part our program concurrently, thereby speeding up the execution process."
   ]
  },
  {
   "cell_type": "markdown",
   "metadata": {},
   "source": [
    "## THE THREADING MODULE\n",
    "The python threading moule allows us to create thread(s) in our program. To create a thread, we use the threading.thread() function. This function takes a target as parameter. The target is the function that we want to assign to the thread to execute. \n",
    "NOTE: We pass in the name of the function without the parentheses, that is because we just want to set the function as a target and not a call to the function."
   ]
  },
  {
   "cell_type": "code",
   "execution_count": 1,
   "metadata": {},
   "outputs": [],
   "source": [
    "def sleep():\n",
    "    print('Time to sleep.')\n",
    "    time.sleep(20)\n",
    "    print('Sleep time has elapsed.')"
   ]
  },
  {
   "cell_type": "code",
   "execution_count": 2,
   "metadata": {},
   "outputs": [],
   "source": [
    "import threading\n",
    "thread = threading.Thread(target = sleep)"
   ]
  },
  {
   "cell_type": "markdown",
   "metadata": {},
   "source": [
    "To start the thread execution, we call the start() method on the thread object."
   ]
  },
  {
   "cell_type": "code",
   "execution_count": 3,
   "metadata": {},
   "outputs": [
    {
     "name": "stdout",
     "output_type": "stream",
     "text": [
      "Time to sleep.\n",
      "\n",
      "Program execution continues in the main thread\n"
     ]
    },
    {
     "name": "stderr",
     "output_type": "stream",
     "text": [
      "Exception in thread Thread-6:\n",
      "Traceback (most recent call last):\n",
      "  File \"C:\\Users\\Akinyemi\\anaconda3\\lib\\threading.py\", line 932, in _bootstrap_inner\n",
      "    self.run()\n",
      "  File \"C:\\Users\\Akinyemi\\anaconda3\\lib\\threading.py\", line 870, in run\n",
      "    self._target(*self._args, **self._kwargs)\n",
      "  File \"<ipython-input-1-58acf7458851>\", line 3, in sleep\n",
      "NameError: name 'time' is not defined\n"
     ]
    }
   ],
   "source": [
    "thread.start()\n",
    "#sleep()\n",
    "print('\\nProgram execution continues in the main thread')"
   ]
  },
  {
   "cell_type": "markdown",
   "metadata": {},
   "source": [
    "if the target function takes any parameter, we can pass the function's arguments to the thread() function using the args parameter keyword. "
   ]
  },
  {
   "cell_type": "code",
   "execution_count": null,
   "metadata": {},
   "outputs": [],
   "source": [
    "print('This program prints multiplication table of any number')\n",
    "def mul_table(n):\n",
    "    print('A separate thread has started execution')\n",
    "    print(f'Multiplication Table for number {n}')\n",
    "    for i in range(1,13):\n",
    "        print(f'{n} X {i} = {n * i}')\n",
    "    print('The separate thread has finished execution.')\n",
    "    \n",
    "t1 = threading.Thread(target=mul_table, args =[5])\n",
    "t1.start()\n",
    "print('\\nThis is the main thread executing. End of program.')"
   ]
  },
  {
   "cell_type": "markdown",
   "metadata": {},
   "source": [
    "## THE JOIN METHOD\n",
    "The join() method is used to stop the execution of the current program until a thread is complete."
   ]
  },
  {
   "cell_type": "code",
   "execution_count": null,
   "metadata": {},
   "outputs": [],
   "source": [
    "def area_traingle(base, height):\n",
    "    print('Calculating Area of a triangle')\n",
    "    time.sleep(2)\n",
    "    print(f'Area of triangle: {0.5 *base*height}')\n",
    "def area_rectangle(length , breadth):\n",
    "    print('Calculating Area of a rectangle')\n",
    "    time.sleep(2)\n",
    "    print(f'Area of rectangle: {length * breadth}')\n",
    "          \n",
    "t1 = threading.Thread(target=area_traingle, args =(8,6))\n",
    "t2 = threading.Thread(target = area_rectangle, args =(5,4))\n",
    "t1.start()\n",
    "t2.start()\n",
    "\n",
    "t1.join()\n",
    "t2.join()\n",
    "\n",
    "print('Done')"
   ]
  },
  {
   "cell_type": "markdown",
   "metadata": {},
   "source": [
    "Threads are good for I/O (Input/Output) bound tasks. Examples of such tasks are reading and writing to files, making web requests etc. "
   ]
  },
  {
   "cell_type": "markdown",
   "metadata": {},
   "source": [
    "## CONCURRENCY ISSUES\n",
    "Concurrency issues occur when multiple threads read and write to same variables causing variables to trip over one another. To avoid this issue, do not make multiple threads read and write to same variables; threads should only read and write to local variables."
   ]
  },
  {
   "cell_type": "markdown",
   "metadata": {},
   "source": [
    "## THE THREADPOOL EXECUTOR\n",
    "The ThreadPoolExecutor() module allows us to create a pool of threads which are used to perform multiple calls to a function expediently. This module belongs to the concurrent.futures library."
   ]
  },
  {
   "cell_type": "code",
   "execution_count": null,
   "metadata": {},
   "outputs": [],
   "source": [
    "import concurrent.futures\n",
    "import requests"
   ]
  },
  {
   "cell_type": "code",
   "execution_count": null,
   "metadata": {},
   "outputs": [],
   "source": [
    "def check_page_existence(page_url):\n",
    "    response = requests.get(page_url)\n",
    "    page_status_code = 'Unknown'\n",
    "    if(response.status_code == 200):\n",
    "        page_status_code = 'Exists'\n",
    "    elif(response.status_code == 404):\n",
    "        page_status_code = 'Not found'\n",
    "    return f'{page_url}: {page_status_code}'"
   ]
  },
  {
   "cell_type": "code",
   "execution_count": null,
   "metadata": {},
   "outputs": [],
   "source": [
    "urls = ['http://www.foxnews.com/',\n",
    "   'http://www.cnn.com/',\n",
    "   'http://europe.wsj.com/',\n",
    "   'http://www.bbc.co.uk/',\n",
    "   'http://some-made-up-domain.com/']"
   ]
  },
  {
   "cell_type": "markdown",
   "metadata": {},
   "source": [
    "The ThreadPoolExecutor() function takes an optional parameter called the max_workers specifying the maximum number of threads to create. The submit() method is used to submit a task to the thread pool and it returns a future object.  \n",
    "The as_completed() method of the concurrent.futures module returns a sequence of futures as they complete. The result method of a future returns the  value returned by the function call."
   ]
  },
  {
   "cell_type": "code",
   "execution_count": null,
   "metadata": {},
   "outputs": [],
   "source": [
    "with concurrent.futures.ThreadPoolExecutor() as executor:\n",
    "    #futures = [executor.submit(check_page_existence, page_url = url) for url in urls]\n",
    "    futures = []\n",
    "    for url in urls:\n",
    "        future= executor.submit(check_page_existence, page_url = url)\n",
    "        futures.append(future)                       \n",
    "    #checking for threads that have completed\n",
    "    for future in concurrent.futures.as_completed(futures):\n",
    "        try:\n",
    "            print(future.result())\n",
    "        except requests.ConnectionError:\n",
    "            print('There is no internet connection.')\n",
    "            "
   ]
  },
  {
   "cell_type": "markdown",
   "metadata": {},
   "source": [
    "## THE EXECUTOR MAP FUNCTION\n",
    "The executor map function is similar to the python standard map function. It maps the target function to every item in the sequence/iterable and submits it as an independent job to the ThreadPoolExecutor."
   ]
  },
  {
   "cell_type": "code",
   "execution_count": null,
   "metadata": {},
   "outputs": [],
   "source": [
    "with concurrent.futures.ThreadPoolExecutor() as executor:\n",
    "    results = executor.map(check_page_existence, urls)\n",
    "for result in results:\n",
    "    print(result)"
   ]
  },
  {
   "cell_type": "markdown",
   "metadata": {},
   "source": [
    "## EXERCISE\n",
    "Using threading, write a python program to download all images in the image_url variable and save these images to the picture folder of your computer.  \n",
    "image_url = ['https://images.unsplash.com/photo-1584627404349-0bb529b998b7?ixlib=rb-1.2.1&ixid=eyJhcHBfaWQiOjEyMDd9&auto=format&fit=crop&w=750&q=80', \n",
    "             'https://images.unsplash.com/photo-1578459791933-5b6f1c48f063?ixlib=rb-1.2.1&auto=format&fit=crop&w=500&q=60', \n",
    "             'https://images.unsplash.com/photo-1571578237363-d5df63ee95bb?ixlib=rb-1.2.1&auto=format&fit=crop&w=500&q=60', \n",
    "             'https://images.unsplash.com/photo-1579522342057-1c492ee477d5?ixlib=rb-1.2.1&auto=format&fit=crop&w=500&q=60', \n",
    "             'https://images.unsplash.com/photo-1590846011551-ccb5325eea7a?ixlib=rb-1.2.1&auto=format&fit=crop&w=500&q=60']\n"
   ]
  },
  {
   "cell_type": "code",
   "execution_count": null,
   "metadata": {},
   "outputs": [],
   "source": [
    "import requests\n",
    "image_url = ['https://images.unsplash.com/photo-1584627404349-0bb529b998b7?ixlib=rb-1.2.1&ixid=eyJhcHBfaWQiOjEyMDd9&auto=format&fit=crop&w=750&q=80', \n",
    "             'https://images.unsplash.com/photo-1578459791933-5b6f1c48f063?ixlib=rb-1.2.1&auto=format&fit=crop&w=500&q=60', \n",
    "             'https://images.unsplash.com/photo-1571578237363-d5df63ee95bb?ixlib=rb-1.2.1&auto=format&fit=crop&w=500&q=60', \n",
    "             'https://images.unsplash.com/photo-1579522342057-1c492ee477d5?ixlib=rb-1.2.1&auto=format&fit=crop&w=500&q=60', \n",
    "             'https://images.unsplash.com/photo-1590846011551-ccb5325eea7a?ixlib=rb-1.2.1&auto=format&fit=crop&w=500&q=60']\n"
   ]
  },
  {
   "cell_type": "markdown",
   "metadata": {},
   "source": [
    "## LAUNCHING OTHER PROGRAMS WITH PYTHON.\n",
    "A program in execution is called a process. When there aree many instances of an applictaion (e.g Chrome) opened, each instance is a separate process. In python, we can launch any program/application within our program using the subprocess module. This module has a Popen() function that takes he filename of the application/executable. Example: To launch the mspaint application from our program, we do;"
   ]
  },
  {
   "cell_type": "code",
   "execution_count": null,
   "metadata": {},
   "outputs": [],
   "source": [
    "import subprocess\n",
    "mspaint = subprocess.Popen('c:\\\\Windows\\\\System32\\\\mspaint.exe')"
   ]
  },
  {
   "cell_type": "markdown",
   "metadata": {},
   "source": [
    "## THE POLL() AND WAIT() FUNCTIONS"
   ]
  },
  {
   "cell_type": "markdown",
   "metadata": {},
   "source": [
    "The Popen() function returns a Popen object. It has many methods, commonly used methods are poll(), wait() and terminate(). The poll() method returns None when the launched program is still in execution and returns an integer exit code when the launched program has terminated. An integer exit code of 0 means that the program terminated successfully while a non zero integer value means the program terminated due to an error."
   ]
  },
  {
   "cell_type": "code",
   "execution_count": null,
   "metadata": {},
   "outputs": [],
   "source": [
    "print(mspaint.poll())"
   ]
  },
  {
   "cell_type": "markdown",
   "metadata": {},
   "source": [
    "The wait() method waits for the launched program to terminate and returns the launched program exit code. This is helpful if you want your program to pause until the user finishes with the launched program.  "
   ]
  },
  {
   "cell_type": "code",
   "execution_count": null,
   "metadata": {},
   "outputs": [],
   "source": [
    "mspaint = subprocess.Popen('c:\\\\Windows\\\\System32\\\\mspaint.exe')\n",
    "wait = mspaint.wait()\n",
    "print(f'mspaint has terminated with an exit code of {wait}.')\n",
    "print('How was your experience using mspaint?' )"
   ]
  },
  {
   "cell_type": "markdown",
   "metadata": {},
   "source": [
    "As the name implies, the terminate() method is used to terminate the launched program."
   ]
  },
  {
   "cell_type": "code",
   "execution_count": null,
   "metadata": {},
   "outputs": [],
   "source": [
    "mspaint = subprocess.Popen('c:\\\\Windows\\\\System32\\\\mspaint.exe')"
   ]
  },
  {
   "cell_type": "code",
   "execution_count": null,
   "metadata": {},
   "outputs": [],
   "source": [
    "mspaint.terminate()"
   ]
  },
  {
   "cell_type": "markdown",
   "metadata": {},
   "source": [
    "We can also pass arguments to the program we want to launch using the Popen() function. This function takes a string, a file path or list of args. To launch a program with an argument, we pass a list as argument containing the filepath of the application and the argument we want to pass to the application. In the code below,  we want to launch the notepad application from our program, and we want the notepad application to open a specific text file named 'phones.txt'."
   ]
  },
  {
   "cell_type": "code",
   "execution_count": null,
   "metadata": {},
   "outputs": [],
   "source": [
    "subprocess.Popen(['C:\\\\Windows\\\\notepad.exe', 'phones.txt'])"
   ]
  },
  {
   "cell_type": "markdown",
   "metadata": {},
   "source": [
    "Double clicking on a file on your computer will open the file using the defult application. Each operating system has a program that performs the equivalent of double-clicking a document file to open it. The start, open and see programs are for windows, macOs and Linux operating systems respectively.\n",
    "Below is the code to launch a file using default applications in python on a windows computer. To the shell parameter we pass a value of True. This is only needed on windows."
   ]
  },
  {
   "cell_type": "code",
   "execution_count": null,
   "metadata": {},
   "outputs": [],
   "source": [
    "py = subprocess.Popen(['start', 'quad.py'],  shell=True)"
   ]
  },
  {
   "cell_type": "markdown",
   "metadata": {},
   "source": [
    "## THE TASK SCHEDULER\n",
    "Schedule Library is used to schedule a task at a particular time every day or a particular day of a week. The python schedule module is an in-process scheduler that allows us to schedule tasks. To install the schedule library,  type `pip install schedule` on your anaconda prompt."
   ]
  },
  {
   "cell_type": "code",
   "execution_count": 1,
   "metadata": {},
   "outputs": [],
   "source": [
    "import schedule"
   ]
  },
  {
   "cell_type": "markdown",
   "metadata": {},
   "source": [
    "Two commonly used methods of the schedule class are schedule.every() and schedule.run_pending(). The schedule.every() is used to schedule a program to execute at a specified interval. The schedule.run_pending() is used to run all scheduled programs."
   ]
  },
  {
   "cell_type": "code",
   "execution_count": 2,
   "metadata": {},
   "outputs": [],
   "source": [
    "def print_receipts(num):\n",
    "    print(num, 'receipts are being printed')\n",
    "def generate_report():\n",
    "    print('Report in progress...')"
   ]
  },
  {
   "cell_type": "code",
   "execution_count": 3,
   "metadata": {},
   "outputs": [
    {
     "data": {
      "text/plain": [
       "Every 5 seconds do print_receipts(5) (last run: [never], next run: 2020-08-14 11:08:15)"
      ]
     },
     "execution_count": 3,
     "metadata": {},
     "output_type": "execute_result"
    }
   ],
   "source": [
    "schedule.every(5).seconds.do(print_receipts, 5)"
   ]
  },
  {
   "cell_type": "code",
   "execution_count": 4,
   "metadata": {},
   "outputs": [
    {
     "data": {
      "text/plain": [
       "Every 1 day at 11:56:00 do generate_report() (last run: [never], next run: 2020-08-14 11:56:00)"
      ]
     },
     "execution_count": 4,
     "metadata": {},
     "output_type": "execute_result"
    }
   ],
   "source": [
    "schedule.every().day.at('11:56').do(generate_report)"
   ]
  },
  {
   "cell_type": "code",
   "execution_count": 5,
   "metadata": {},
   "outputs": [
    {
     "data": {
      "text/plain": [
       "Every 1 week at 09:00:00 do generate_report() (last run: [never], next run: 2020-08-17 09:00:00)"
      ]
     },
     "execution_count": 5,
     "metadata": {},
     "output_type": "execute_result"
    }
   ],
   "source": [
    "schedule.every().monday.at(\"09:00\").do(generate_report)"
   ]
  },
  {
   "cell_type": "code",
   "execution_count": 6,
   "metadata": {},
   "outputs": [
    {
     "name": "stdout",
     "output_type": "stream",
     "text": [
      "5 receipts are being printed\n",
      "5 receipts are being printed\n"
     ]
    },
    {
     "ename": "KeyboardInterrupt",
     "evalue": "",
     "output_type": "error",
     "traceback": [
      "\u001b[1;31m---------------------------------------------------------------------------\u001b[0m",
      "\u001b[1;31mKeyboardInterrupt\u001b[0m                         Traceback (most recent call last)",
      "\u001b[1;32m<ipython-input-6-2f98cdc8597c>\u001b[0m in \u001b[0;36m<module>\u001b[1;34m\u001b[0m\n\u001b[0;32m      1\u001b[0m \u001b[1;32mwhile\u001b[0m \u001b[1;32mTrue\u001b[0m\u001b[1;33m:\u001b[0m\u001b[1;33m\u001b[0m\u001b[1;33m\u001b[0m\u001b[0m\n\u001b[1;32m----> 2\u001b[1;33m     \u001b[0mschedule\u001b[0m\u001b[1;33m.\u001b[0m\u001b[0mrun_pending\u001b[0m\u001b[1;33m(\u001b[0m\u001b[1;33m)\u001b[0m\u001b[1;33m\u001b[0m\u001b[1;33m\u001b[0m\u001b[0m\n\u001b[0m",
      "\u001b[1;32m~\\anaconda3\\lib\\site-packages\\schedule\\__init__.py\u001b[0m in \u001b[0;36mrun_pending\u001b[1;34m()\u001b[0m\n\u001b[0;32m    561\u001b[0m     \u001b[1;33m:\u001b[0m\u001b[0mdata\u001b[0m\u001b[1;33m:\u001b[0m\u001b[0;31m`\u001b[0m\u001b[0mdefault\u001b[0m \u001b[0mscheduler\u001b[0m \u001b[0minstance\u001b[0m \u001b[1;33m<\u001b[0m\u001b[0mdefault_scheduler\u001b[0m\u001b[1;33m>\u001b[0m\u001b[0;31m`\u001b[0m\u001b[1;33m.\u001b[0m\u001b[1;33m\u001b[0m\u001b[1;33m\u001b[0m\u001b[0m\n\u001b[0;32m    562\u001b[0m     \"\"\"\n\u001b[1;32m--> 563\u001b[1;33m     \u001b[0mdefault_scheduler\u001b[0m\u001b[1;33m.\u001b[0m\u001b[0mrun_pending\u001b[0m\u001b[1;33m(\u001b[0m\u001b[1;33m)\u001b[0m\u001b[1;33m\u001b[0m\u001b[1;33m\u001b[0m\u001b[0m\n\u001b[0m\u001b[0;32m    564\u001b[0m \u001b[1;33m\u001b[0m\u001b[0m\n\u001b[0;32m    565\u001b[0m \u001b[1;33m\u001b[0m\u001b[0m\n",
      "\u001b[1;32m~\\anaconda3\\lib\\site-packages\\schedule\\__init__.py\u001b[0m in \u001b[0;36mrun_pending\u001b[1;34m(self)\u001b[0m\n\u001b[0;32m     91\u001b[0m         \"\"\"\n\u001b[0;32m     92\u001b[0m         \u001b[0mrunnable_jobs\u001b[0m \u001b[1;33m=\u001b[0m \u001b[1;33m(\u001b[0m\u001b[0mjob\u001b[0m \u001b[1;32mfor\u001b[0m \u001b[0mjob\u001b[0m \u001b[1;32min\u001b[0m \u001b[0mself\u001b[0m\u001b[1;33m.\u001b[0m\u001b[0mjobs\u001b[0m \u001b[1;32mif\u001b[0m \u001b[0mjob\u001b[0m\u001b[1;33m.\u001b[0m\u001b[0mshould_run\u001b[0m\u001b[1;33m)\u001b[0m\u001b[1;33m\u001b[0m\u001b[1;33m\u001b[0m\u001b[0m\n\u001b[1;32m---> 93\u001b[1;33m         \u001b[1;32mfor\u001b[0m \u001b[0mjob\u001b[0m \u001b[1;32min\u001b[0m \u001b[0msorted\u001b[0m\u001b[1;33m(\u001b[0m\u001b[0mrunnable_jobs\u001b[0m\u001b[1;33m)\u001b[0m\u001b[1;33m:\u001b[0m\u001b[1;33m\u001b[0m\u001b[1;33m\u001b[0m\u001b[0m\n\u001b[0m\u001b[0;32m     94\u001b[0m             \u001b[0mself\u001b[0m\u001b[1;33m.\u001b[0m\u001b[0m_run_job\u001b[0m\u001b[1;33m(\u001b[0m\u001b[0mjob\u001b[0m\u001b[1;33m)\u001b[0m\u001b[1;33m\u001b[0m\u001b[1;33m\u001b[0m\u001b[0m\n\u001b[0;32m     95\u001b[0m \u001b[1;33m\u001b[0m\u001b[0m\n",
      "\u001b[1;32m~\\anaconda3\\lib\\site-packages\\schedule\\__init__.py\u001b[0m in \u001b[0;36m<genexpr>\u001b[1;34m(.0)\u001b[0m\n\u001b[0;32m     90\u001b[0m         \u001b[0mbetween\u001b[0m \u001b[0mbut\u001b[0m \u001b[0monly\u001b[0m \u001b[0monce\u001b[0m\u001b[1;33m.\u001b[0m\u001b[1;33m\u001b[0m\u001b[1;33m\u001b[0m\u001b[0m\n\u001b[0;32m     91\u001b[0m         \"\"\"\n\u001b[1;32m---> 92\u001b[1;33m         \u001b[0mrunnable_jobs\u001b[0m \u001b[1;33m=\u001b[0m \u001b[1;33m(\u001b[0m\u001b[0mjob\u001b[0m \u001b[1;32mfor\u001b[0m \u001b[0mjob\u001b[0m \u001b[1;32min\u001b[0m \u001b[0mself\u001b[0m\u001b[1;33m.\u001b[0m\u001b[0mjobs\u001b[0m \u001b[1;32mif\u001b[0m \u001b[0mjob\u001b[0m\u001b[1;33m.\u001b[0m\u001b[0mshould_run\u001b[0m\u001b[1;33m)\u001b[0m\u001b[1;33m\u001b[0m\u001b[1;33m\u001b[0m\u001b[0m\n\u001b[0m\u001b[0;32m     93\u001b[0m         \u001b[1;32mfor\u001b[0m \u001b[0mjob\u001b[0m \u001b[1;32min\u001b[0m \u001b[0msorted\u001b[0m\u001b[1;33m(\u001b[0m\u001b[0mrunnable_jobs\u001b[0m\u001b[1;33m)\u001b[0m\u001b[1;33m:\u001b[0m\u001b[1;33m\u001b[0m\u001b[1;33m\u001b[0m\u001b[0m\n\u001b[0;32m     94\u001b[0m             \u001b[0mself\u001b[0m\u001b[1;33m.\u001b[0m\u001b[0m_run_job\u001b[0m\u001b[1;33m(\u001b[0m\u001b[0mjob\u001b[0m\u001b[1;33m)\u001b[0m\u001b[1;33m\u001b[0m\u001b[1;33m\u001b[0m\u001b[0m\n",
      "\u001b[1;32m~\\anaconda3\\lib\\site-packages\\schedule\\__init__.py\u001b[0m in \u001b[0;36mshould_run\u001b[1;34m(self)\u001b[0m\n\u001b[0;32m    455\u001b[0m         \u001b[1;33m:\u001b[0m\u001b[1;32mreturn\u001b[0m\u001b[1;33m:\u001b[0m\u001b[0;31m \u001b[0m\u001b[0;31m`\u001b[0m\u001b[0;31m`\u001b[0m\u001b[1;32mTrue\u001b[0m\u001b[0;31m`\u001b[0m\u001b[0;31m`\u001b[0m \u001b[1;32mif\u001b[0m \u001b[0mthe\u001b[0m \u001b[0mjob\u001b[0m \u001b[0mshould\u001b[0m \u001b[0mbe\u001b[0m \u001b[0mrun\u001b[0m \u001b[0mnow\u001b[0m\u001b[1;33m.\u001b[0m\u001b[1;33m\u001b[0m\u001b[1;33m\u001b[0m\u001b[0m\n\u001b[0;32m    456\u001b[0m         \"\"\"\n\u001b[1;32m--> 457\u001b[1;33m         \u001b[1;32mreturn\u001b[0m \u001b[0mdatetime\u001b[0m\u001b[1;33m.\u001b[0m\u001b[0mdatetime\u001b[0m\u001b[1;33m.\u001b[0m\u001b[0mnow\u001b[0m\u001b[1;33m(\u001b[0m\u001b[1;33m)\u001b[0m \u001b[1;33m>=\u001b[0m \u001b[0mself\u001b[0m\u001b[1;33m.\u001b[0m\u001b[0mnext_run\u001b[0m\u001b[1;33m\u001b[0m\u001b[1;33m\u001b[0m\u001b[0m\n\u001b[0m\u001b[0;32m    458\u001b[0m \u001b[1;33m\u001b[0m\u001b[0m\n\u001b[0;32m    459\u001b[0m     \u001b[1;32mdef\u001b[0m \u001b[0mrun\u001b[0m\u001b[1;33m(\u001b[0m\u001b[0mself\u001b[0m\u001b[1;33m)\u001b[0m\u001b[1;33m:\u001b[0m\u001b[1;33m\u001b[0m\u001b[1;33m\u001b[0m\u001b[0m\n",
      "\u001b[1;31mKeyboardInterrupt\u001b[0m: "
     ]
    }
   ],
   "source": [
    "while True:\n",
    "    schedule.run_pending()"
   ]
  },
  {
   "cell_type": "code",
   "execution_count": null,
   "metadata": {},
   "outputs": [],
   "source": []
  }
 ],
 "metadata": {
  "kernelspec": {
   "display_name": "Python 3",
   "language": "python",
   "name": "python3"
  },
  "language_info": {
   "codemirror_mode": {
    "name": "ipython",
    "version": 3
   },
   "file_extension": ".py",
   "mimetype": "text/x-python",
   "name": "python",
   "nbconvert_exporter": "python",
   "pygments_lexer": "ipython3",
   "version": "3.8.5"
  }
 },
 "nbformat": 4,
 "nbformat_minor": 4
}
