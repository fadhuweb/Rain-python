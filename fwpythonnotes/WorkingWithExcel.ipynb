{
 "cells": [
  {
   "cell_type": "markdown",
   "metadata": {},
   "source": [
    "## WORKING WITH EXCEL SPREADSHEETS"
   ]
  },
  {
   "cell_type": "markdown",
   "metadata": {},
   "source": [
    "An excel file is any file with the extension .xlsx. An Excel file is also considered as a workbook and a workbook can contain several worksheets. A sheet consists of rows (indexed by numbers starting at 1) and columns (indexed as letters starting at A). An active sheet is the sheet the user is currently viewing or last viewed."
   ]
  },
  {
   "cell_type": "markdown",
   "metadata": {},
   "source": [
    "## THE OpenPyXL MODULE"
   ]
  },
  {
   "cell_type": "markdown",
   "metadata": {},
   "source": [
    "The OpenPyXL module allows us to read and modify excel documents using python. To open an excel document, we use the load_workbook() method. This method recieves the filepath of the excel document as argument and it returns a work book object representing the excel file."
   ]
  },
  {
   "cell_type": "code",
   "execution_count": 1,
   "metadata": {},
   "outputs": [
    {
     "data": {
      "text/plain": [
       "openpyxl.workbook.workbook.Workbook"
      ]
     },
     "execution_count": 1,
     "metadata": {},
     "output_type": "execute_result"
    }
   ],
   "source": [
    "import openpyxl\n",
    "wb = openpyxl.load_workbook('Data.xlsx')\n",
    "type(wb)"
   ]
  },
  {
   "cell_type": "markdown",
   "metadata": {},
   "source": [
    "## GETTING SHEETS FROM A WORKBOOK\n",
    "We can get the sheets from  an excel file using the `sheetnames` attribute. To access a worksheet, we use indexing with the sheet name enclosed within the square brackets `[]`. This returns a worksheet object."
   ]
  },
  {
   "cell_type": "code",
   "execution_count": 2,
   "metadata": {},
   "outputs": [
    {
     "name": "stdout",
     "output_type": "stream",
     "text": [
      "['Student', 'Products']\n"
     ]
    }
   ],
   "source": [
    "print(wb.sheetnames)"
   ]
  },
  {
   "cell_type": "code",
   "execution_count": 3,
   "metadata": {},
   "outputs": [
    {
     "data": {
      "text/plain": [
       "openpyxl.worksheet.worksheet.Worksheet"
      ]
     },
     "execution_count": 3,
     "metadata": {},
     "output_type": "execute_result"
    }
   ],
   "source": [
    "sheet_1 = wb['Student']\n",
    "type(sheet_1)"
   ]
  },
  {
   "cell_type": "code",
   "execution_count": 4,
   "metadata": {},
   "outputs": [
    {
     "data": {
      "text/plain": [
       "openpyxl.worksheet.worksheet.Worksheet"
      ]
     },
     "execution_count": 4,
     "metadata": {},
     "output_type": "execute_result"
    }
   ],
   "source": [
    "#get the active sheet\n",
    "active_sheet = wb.active\n",
    "type(active_sheet)"
   ]
  },
  {
   "cell_type": "markdown",
   "metadata": {},
   "source": [
    "## GETTING A CELL FROM A WORKSHEET\n",
    "To get a single cell from a sheet, we use indexing with the cell name (i.e Column_nameRow_number e.g A3) enclosed within the square brackets. This will return cell object. To get the value of the cell, we must use the value attribute on the cell object."
   ]
  },
  {
   "cell_type": "code",
   "execution_count": 5,
   "metadata": {},
   "outputs": [
    {
     "name": "stdout",
     "output_type": "stream",
     "text": [
      "<Cell 'Student'.A2>\n"
     ]
    }
   ],
   "source": [
    "print(sheet_1['A2']) "
   ]
  },
  {
   "cell_type": "code",
   "execution_count": 6,
   "metadata": {},
   "outputs": [
    {
     "name": "stdout",
     "output_type": "stream",
     "text": [
      "Adebisi Olashile\n"
     ]
    }
   ],
   "source": [
    "print(sheet_1['A2'].value)"
   ]
  },
  {
   "cell_type": "markdown",
   "metadata": {},
   "source": [
    "We can also get the row, column and coordinate attributes of a cell object."
   ]
  },
  {
   "cell_type": "code",
   "execution_count": 7,
   "metadata": {},
   "outputs": [
    {
     "name": "stdout",
     "output_type": "stream",
     "text": [
      "The value of the cell is 300\n",
      "The row of the cell is 3\n",
      "The column of the cell is 4\n",
      "The coordinate of the cell is D3\n"
     ]
    }
   ],
   "source": [
    "cell = sheet_1['D3']\n",
    "print(f'The value of the cell is {cell.value}')\n",
    "print(f'The row of the cell is {cell.row}')\n",
    "print(f'The column of the cell is {cell.column}')\n",
    "print(f'The coordinate of the cell is {cell.coordinate}')"
   ]
  },
  {
   "cell_type": "code",
   "execution_count": 8,
   "metadata": {},
   "outputs": [
    {
     "name": "stdout",
     "output_type": "stream",
     "text": [
      "The value of the cell D3 is 300. It is located on row 3 column 4.\n"
     ]
    }
   ],
   "source": [
    "print(f'The value of the cell {cell.coordinate} is {cell.value}. It is located on row {cell.row} column {cell.column}.')"
   ]
  },
  {
   "cell_type": "markdown",
   "metadata": {},
   "source": [
    "We can also get the cell of a sheet by passing the row number and column number as parameters to the cell() method of a work sheet objcet. This is particulary useful as an alternative, because in excel, once we reach column Z, columns are indexed using 2 letters (e.g AB, AD). "
   ]
  },
  {
   "cell_type": "code",
   "execution_count": 9,
   "metadata": {},
   "outputs": [
    {
     "data": {
      "text/plain": [
       "<Cell 'Student'.D3>"
      ]
     },
     "execution_count": 9,
     "metadata": {},
     "output_type": "execute_result"
    }
   ],
   "source": [
    "sheet_1.cell(row = 3, column = 4)"
   ]
  },
  {
   "cell_type": "markdown",
   "metadata": {},
   "source": [
    "This cell() method is particulary useful if we need to print out all the cell values across a specified row or down a specified column. We can use it together with the max_column and/or max_row attributes of a work sheet object"
   ]
  },
  {
   "cell_type": "code",
   "execution_count": 10,
   "metadata": {},
   "outputs": [
    {
     "data": {
      "text/plain": [
       "4"
      ]
     },
     "execution_count": 10,
     "metadata": {},
     "output_type": "execute_result"
    }
   ],
   "source": [
    "num_columns = wb['Student'].max_column\n",
    "num_columns"
   ]
  },
  {
   "cell_type": "code",
   "execution_count": 11,
   "metadata": {},
   "outputs": [
    {
     "data": {
      "text/plain": [
       "6"
      ]
     },
     "execution_count": 11,
     "metadata": {},
     "output_type": "execute_result"
    }
   ],
   "source": [
    "num_rows = wb['Student'].max_row\n",
    "num_rows"
   ]
  },
  {
   "cell_type": "markdown",
   "metadata": {},
   "source": [
    "Suppose we want t print all cell values for the second column. We can do;"
   ]
  },
  {
   "cell_type": "code",
   "execution_count": 12,
   "metadata": {},
   "outputs": [
    {
     "name": "stdout",
     "output_type": "stream",
     "text": [
      "Science\n",
      "Technology\n",
      "Social Sciences\n",
      "Science\n",
      "College of Medecine\n"
     ]
    }
   ],
   "source": [
    "for row_index in range (2, num_rows + 1):\n",
    "    print(sheet_1.cell(row = row_index, column = 2 ).value)"
   ]
  },
  {
   "cell_type": "markdown",
   "metadata": {},
   "source": [
    "## WORKSHEET SLICING \n",
    "To get multiple cells from a worksheet, we use indexing and we enclose the start cell and the end cell (included) within the square brackets `[]`. It returns a tuple of tuples. "
   ]
  },
  {
   "cell_type": "code",
   "execution_count": 13,
   "metadata": {},
   "outputs": [
    {
     "name": "stdout",
     "output_type": "stream",
     "text": [
      "((<Cell 'Student'.A1>, <Cell 'Student'.B1>, <Cell 'Student'.C1>, <Cell 'Student'.D1>), (<Cell 'Student'.A2>, <Cell 'Student'.B2>, <Cell 'Student'.C2>, <Cell 'Student'.D2>), (<Cell 'Student'.A3>, <Cell 'Student'.B3>, <Cell 'Student'.C3>, <Cell 'Student'.D3>), (<Cell 'Student'.A4>, <Cell 'Student'.B4>, <Cell 'Student'.C4>, <Cell 'Student'.D4>))\n"
     ]
    }
   ],
   "source": [
    "print(sheet_1['A1':'D4'])"
   ]
  },
  {
   "cell_type": "markdown",
   "metadata": {},
   "source": [
    "To get the value of each cell object in the tuple, we can do;"
   ]
  },
  {
   "cell_type": "code",
   "execution_count": 14,
   "metadata": {},
   "outputs": [
    {
     "name": "stdout",
     "output_type": "stream",
     "text": [
      "(<Cell 'Student'.A2>, <Cell 'Student'.B2>, <Cell 'Student'.C2>)\n",
      "A2: Adebisi Olashile\n",
      "B2: Science\n",
      "C2: Computer Science\n",
      "(<Cell 'Student'.A3>, <Cell 'Student'.B3>, <Cell 'Student'.C3>)\n",
      "A3: Bimbo Adetayo\n",
      "B3: Technology\n",
      "C3: Agricultural Engineering\n"
     ]
    }
   ],
   "source": [
    "tuple_row_cell_objects = sheet_1['A2':'C3']\n",
    "for row_cell_obj in tuple_row_cell_objects:\n",
    "    print(row_cell_obj)\n",
    "    for cell in row_cell_obj:\n",
    "        print(f'{cell.coordinate}: {cell.value}')"
   ]
  },
  {
   "cell_type": "markdown",
   "metadata": {},
   "source": [
    "We can also access more than one cell by using the rows or columns attribute of a worksheet object. Note, you must convert to a sequence (e.g lists, tuples) before use."
   ]
  },
  {
   "cell_type": "code",
   "execution_count": 15,
   "metadata": {},
   "outputs": [
    {
     "name": "stdout",
     "output_type": "stream",
     "text": [
      "[(<Cell 'Student'.A1>, <Cell 'Student'.B1>, <Cell 'Student'.C1>, <Cell 'Student'.D1>), (<Cell 'Student'.A2>, <Cell 'Student'.B2>, <Cell 'Student'.C2>, <Cell 'Student'.D2>), (<Cell 'Student'.A3>, <Cell 'Student'.B3>, <Cell 'Student'.C3>, <Cell 'Student'.D3>), (<Cell 'Student'.A4>, <Cell 'Student'.B4>, <Cell 'Student'.C4>, <Cell 'Student'.D4>), (<Cell 'Student'.A5>, <Cell 'Student'.B5>, <Cell 'Student'.C5>, <Cell 'Student'.D5>), (<Cell 'Student'.A6>, <Cell 'Student'.B6>, <Cell 'Student'.C6>, <Cell 'Student'.D6>)]\n"
     ]
    }
   ],
   "source": [
    "print(list(sheet_1.rows))"
   ]
  },
  {
   "cell_type": "code",
   "execution_count": 16,
   "metadata": {},
   "outputs": [
    {
     "name": "stdout",
     "output_type": "stream",
     "text": [
      "((<Cell 'Student'.A1>, <Cell 'Student'.A2>, <Cell 'Student'.A3>, <Cell 'Student'.A4>, <Cell 'Student'.A5>, <Cell 'Student'.A6>), (<Cell 'Student'.B1>, <Cell 'Student'.B2>, <Cell 'Student'.B3>, <Cell 'Student'.B4>, <Cell 'Student'.B5>, <Cell 'Student'.B6>), (<Cell 'Student'.C1>, <Cell 'Student'.C2>, <Cell 'Student'.C3>, <Cell 'Student'.C4>, <Cell 'Student'.C5>, <Cell 'Student'.C6>), (<Cell 'Student'.D1>, <Cell 'Student'.D2>, <Cell 'Student'.D3>, <Cell 'Student'.D4>, <Cell 'Student'.D5>, <Cell 'Student'.D6>))\n"
     ]
    }
   ],
   "source": [
    "print(tuple(sheet_1.columns))"
   ]
  },
  {
   "cell_type": "markdown",
   "metadata": {},
   "source": [
    "## WRITING TO EXCEL SPREADSHEETS\n",
    "The openpyxl module also allows us to write and edit excel documents. To create a new blank workbook, we us the Workbook() method. Once we create a new workbook or edit an existing workbook, then we must save the workbook by passing a filpath as an argument to the save method. "
   ]
  },
  {
   "cell_type": "code",
   "execution_count": 17,
   "metadata": {},
   "outputs": [
    {
     "name": "stdout",
     "output_type": "stream",
     "text": [
      "['Sheet']\n"
     ]
    }
   ],
   "source": [
    "new_wb = openpyxl.Workbook()\n",
    "print(new_wb.sheetnames)\n",
    "#change the sheet title\n",
    "#new_wb.active.title = 'new_example_sheet'"
   ]
  },
  {
   "cell_type": "code",
   "execution_count": 18,
   "metadata": {},
   "outputs": [],
   "source": [
    "new_wb['Sheet'].title = 'new_example_sheet'\n",
    "sheet = new_wb['new_example_sheet']\n",
    "sheet['A1'] = 'NAME'\n",
    "new_wb.save('new_excel.xlsx')"
   ]
  },
  {
   "cell_type": "code",
   "execution_count": 19,
   "metadata": {},
   "outputs": [
    {
     "name": "stdout",
     "output_type": "stream",
     "text": [
      "['new_example_sheet']\n"
     ]
    }
   ],
   "source": [
    "wb = openpyxl.load_workbook('new_excel.xlsx')\n",
    "print(wb.sheetnames )\n",
    "sheet = wb['new_example_sheet']\n",
    "sheet['B1'] = 'GENDER'\n",
    "sheet['C1'] = 'AGE'\n",
    "wb.save('new_excel_copy.xlsx')"
   ]
  },
  {
   "cell_type": "markdown",
   "metadata": {},
   "source": [
    "When you modify an existing excel sheet, its best to save the new version of the workbook as a new file and not overwrite the existing file. That way, you can have the original file and a modified copy of the file incase there is a bug in your program. "
   ]
  },
  {
   "cell_type": "markdown",
   "metadata": {},
   "source": [
    "## CREATING AND DELETING NEW SHEETS\n",
    "To create a new sheet in a workbook, we use the create_sheet() method. It takes two  optional parameters, title and index. The index specifies the postion of the sheet and the title is the name of the sheet. If no parameters are specified, then it creates a sheet with a default name and adds it to the last position."
   ]
  },
  {
   "cell_type": "code",
   "execution_count": 20,
   "metadata": {},
   "outputs": [
    {
     "name": "stdout",
     "output_type": "stream",
     "text": [
      "['new_example_sheet']\n",
      "['First_example_sheet', 'new_example_sheet']\n"
     ]
    }
   ],
   "source": [
    "print(wb.sheetnames)\n",
    "wb.create_sheet(index = 0, title = 'First_example_sheet')\n",
    "print(wb.sheetnames)\n",
    "wb.save('new_excel.xlsx')"
   ]
  },
  {
   "cell_type": "markdown",
   "metadata": {},
   "source": [
    "To delete a worksheet, we use the del keyword. NOTE: always remember to save the notbook so that changes made to the notebook will reflect."
   ]
  },
  {
   "cell_type": "code",
   "execution_count": 22,
   "metadata": {},
   "outputs": [
    {
     "data": {
      "text/plain": [
       "['new_example_sheet']"
      ]
     },
     "execution_count": 22,
     "metadata": {},
     "output_type": "execute_result"
    }
   ],
   "source": [
    "del wb['First_example_sheet']\n",
    "wb.sheetnames"
   ]
  },
  {
   "cell_type": "code",
   "execution_count": 23,
   "metadata": {},
   "outputs": [],
   "source": [
    "#setting a sheet as the active sheet.\n",
    "wb.active = wb['new_example_sheet']\n",
    "wb.save('new_excel.xlsx')"
   ]
  },
  {
   "cell_type": "markdown",
   "metadata": {},
   "source": [
    "## STYLING CELLS\n",
    "We can apply styles to cells, rows or columns using the Fonts module from the openpyxl.styles class. This module takes in a number of parameters; name, size, bold, italic."
   ]
  },
  {
   "cell_type": "code",
   "execution_count": null,
   "metadata": {},
   "outputs": [],
   "source": [
    "from openpyxl.styles import Font\n",
    "cell = sheet['A1']\n",
    "font_obj = Font(name='Georgia', size = 30, bold = True, italic = True, color ='008000')\n",
    "cell.font = font_obj\n",
    "wb.save('new_excel.xlsx')"
   ]
  },
  {
   "cell_type": "markdown",
   "metadata": {},
   "source": [
    "## FORMULAS\n",
    "Formulas in excel starts with the equality sign `=`. We write formulas by assigning the formula to a particular cell value."
   ]
  },
  {
   "cell_type": "code",
   "execution_count": 26,
   "metadata": {},
   "outputs": [],
   "source": [
    "std_wb = openpyxl.load_workbook('Data.xlsx')\n",
    "prd_sheet = std_wb['Products']\n",
    "for index in range(2, prd_sheet.max_row + 1):\n",
    "    prd_sheet.cell(row =index, column = 4).value = f'=PRODUCT(B{index},C{index})'\n",
    "prd_sheet['D5'] = '=SUM(D2:D4)'\n",
    "std_wb.save('Data_copy.xlsx')"
   ]
  },
  {
   "cell_type": "markdown",
   "metadata": {},
   "source": [
    "## ADJUSTING ROWS AND COLUMNS\n",
    "To adjust the size of a column or row we use the row_dimensions or column_dimensions attributes to control the height or width."
   ]
  },
  {
   "cell_type": "code",
   "execution_count": 29,
   "metadata": {},
   "outputs": [],
   "source": [
    "try: \n",
    "    prd_sheet.row_dimensions[6].height = 50\n",
    "    prd_sheet.column_dimensions['E'].width = 50\n",
    "    std_wb.save('Data_copy.xlsx')\n",
    "except PermissionError:\n",
    "    print('Cannot modify an opened file.')"
   ]
  },
  {
   "cell_type": "markdown",
   "metadata": {},
   "source": [
    "## MERGING AND UNMERGING CELLS\n",
    "To merge and unmerge cells, we use the merge_cells and unmerge_cells method respectively. "
   ]
  },
  {
   "cell_type": "code",
   "execution_count": null,
   "metadata": {},
   "outputs": [],
   "source": [
    "prd_sheet.merge_cells('B7:E10')\n",
    "std_wb.save('Data_copy.xlsx')"
   ]
  },
  {
   "cell_type": "code",
   "execution_count": null,
   "metadata": {},
   "outputs": [],
   "source": [
    "prd_sheet.unmerge_cells('B7:E10')\n",
    "std_wb.save('Data_copy.xlsx')"
   ]
  },
  {
   "cell_type": "markdown",
   "metadata": {},
   "source": [
    "## FREEZING PANES\n",
    "We can freeze some rows and columns of an excel especially for a very long spreedsheet. Freezed rows and columns would always be visible as you scroll up, down, left or right the spreadsheet. To free panes, we use the freeze_panes attribute. Only rows and columns before the specified columns and rows would be freezed."
   ]
  },
  {
   "cell_type": "code",
   "execution_count": 30,
   "metadata": {},
   "outputs": [],
   "source": [
    "prd_sheet.freeze_panes = 'C3' #freezes columns A and B and rows  1 and 2"
   ]
  },
  {
   "cell_type": "code",
   "execution_count": null,
   "metadata": {},
   "outputs": [],
   "source": []
  }
 ],
 "metadata": {
  "kernelspec": {
   "display_name": "Python 3",
   "language": "python",
   "name": "python3"
  },
  "language_info": {
   "codemirror_mode": {
    "name": "ipython",
    "version": 3
   },
   "file_extension": ".py",
   "mimetype": "text/x-python",
   "name": "python",
   "nbconvert_exporter": "python",
   "pygments_lexer": "ipython3",
   "version": "3.8.5"
  }
 },
 "nbformat": 4,
 "nbformat_minor": 4
}
