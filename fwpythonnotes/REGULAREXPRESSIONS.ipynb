{
 "cells": [
  {
   "cell_type": "code",
   "execution_count": 2,
   "metadata": {},
   "outputs": [],
   "source": [
    "import re\n",
    "phoneRegEx =re.compile(r\"\\d\\d\\d\\d\\d\\d\\d\\d\\d\\d\\d\")"
   ]
  },
  {
   "cell_type": "markdown",
   "metadata": {},
   "source": [
    "Passing a string value representing the regular expression to re.compile() returns a Regex pattern object. \n",
    "A `\\d` in a regex stands for a digit character. There are various characters like `\\d` in regEx, they have special meaning and to avoid any confusion while dealing with regular expressions, we would use Raw Strings as r'expression'. The RegEx `\\d\\d\\d\\d\\d\\d\\d\\d\\d\\d\\d` matches an 11 digit Nigerian phone number. What happens when we want to match a 100-digit number, do we write `\\d` 100 times? RegEx can be much more sophisticated, adding 11 in braces ({11}) after a pattern means “Match this pattern eleven times.” So the slightly shorter regex `\\d{11}` also matches an 11 digit Nigerian phone number.\n",
    "\n",
    "  "
   ]
  },
  {
   "cell_type": "code",
   "execution_count": null,
   "metadata": {},
   "outputs": [],
   "source": []
  },
  {
   "cell_type": "markdown",
   "metadata": {},
   "source": [
    "## MATCHING REGEX OBJECTS\n",
    "The search() method is used to search a string for the RegEx pattern. It returns None if the string does not contain the RegEx pattern, Otherwise it returns a match object. The match object has a group() method which is used to retrieve the string that matches the RegEx pattern.  The findall() method returns a list of all occurences in the string."
   ]
  },
  {
   "cell_type": "code",
   "execution_count": 7,
   "metadata": {},
   "outputs": [
    {
     "name": "stdout",
     "output_type": "stream",
     "text": [
      "The phone number found is 08057343365\n"
     ]
    }
   ],
   "source": [
    "matchObject = phoneRegEx.search('You can reach me on 08057343365 or 08069690994')\n",
    "print(f'The phone number found is {matchObject.group()}')"
   ]
  },
  {
   "cell_type": "code",
   "execution_count": 8,
   "metadata": {},
   "outputs": [
    {
     "data": {
      "text/plain": [
       "<re.Match object; span=(20, 31), match='08057343365'>"
      ]
     },
     "execution_count": 8,
     "metadata": {},
     "output_type": "execute_result"
    }
   ],
   "source": [
    "matchObject"
   ]
  },
  {
   "cell_type": "code",
   "execution_count": 5,
   "metadata": {},
   "outputs": [
    {
     "name": "stdout",
     "output_type": "stream",
     "text": [
      "The phone numbers found are 08057343365,07065432188\n"
     ]
    }
   ],
   "source": [
    "matchObject = phoneRegEx.findall('You can reach me on 08057343365 0r 07065432188')\n",
    "print(f'The phone numbers found are {\",\".join(matchObject)}')"
   ]
  },
  {
   "cell_type": "markdown",
   "metadata": {},
   "source": [
    "## GROUPING WITH PARENTHESES\n",
    "Adding Parentheses within a regex pattern creates a group within the regex. For example, we can use groups to separate the area code from the rest of the phone number. The first set of the parentheses in a regex is group 1 while the second set of parentheses is group 2. We can retrieve different parts of a matched text by passing the position to the match object group() method. "
   ]
  },
  {
   "cell_type": "code",
   "execution_count": 9,
   "metadata": {},
   "outputs": [
    {
     "name": "stdout",
     "output_type": "stream",
     "text": [
      "Area code: 234\n",
      "Phone Number: 8067564321\n",
      "234-8067564321\n"
     ]
    }
   ],
   "source": [
    "phoneNumRegEx = re.compile(r\"(\\d{3})-(\\d{10})\")\n",
    "phoneMatchObject = phoneNumRegEx.search(\"For more enquiries, Please contact 234-8067564321\")\n",
    "print(f\"Area code: {phoneMatchObject.group(1)}\")\n",
    "print(f\"Phone Number: {phoneMatchObject.group(2)}\")\n",
    "print(phoneMatchObject.group(0))"
   ]
  },
  {
   "cell_type": "code",
   "execution_count": 13,
   "metadata": {},
   "outputs": [
    {
     "data": {
      "text/plain": [
       "'234)'"
      ]
     },
     "execution_count": 13,
     "metadata": {},
     "output_type": "execute_result"
    }
   ],
   "source": [
    "phoneMatchObject.group(1)"
   ]
  },
  {
   "cell_type": "markdown",
   "metadata": {},
   "source": [
    "Since parentheses have a special meaning in regex, if we need to match parentheses in our regex, then we would have to escape it using \\ backslash. The groups() method is used to retrieve all groups at once."
   ]
  },
  {
   "cell_type": "code",
   "execution_count": 12,
   "metadata": {},
   "outputs": [
    {
     "name": "stdout",
     "output_type": "stream",
     "text": [
      "234)-8067564321\n"
     ]
    }
   ],
   "source": [
    "phoneNumRegEx = re.compile(r\"(\\(\\d{3}\\))-(\\d{10})\")\n",
    "phoneMatchObject = phoneNumRegEx.search(\"For more enquiries, Please contact (234)-8067564321\")\n",
    "print(phoneMatchObject.group())"
   ]
  },
  {
   "cell_type": "code",
   "execution_count": 14,
   "metadata": {},
   "outputs": [
    {
     "name": "stdout",
     "output_type": "stream",
     "text": [
      "234)\n",
      "8067564321\n"
     ]
    }
   ],
   "source": [
    "area_code, number = phoneMatchObject.groups()\n",
    "print(area_code)\n",
    "print(number)"
   ]
  },
  {
   "cell_type": "markdown",
   "metadata": {},
   "source": [
    "The following characters `.  ^  $  *  +  ?  {  }  [  ]  \\  |  (  )` have a special meaning in Regex. We must escape these characters with a backslash if we need to match it in our regex."
   ]
  },
  {
   "cell_type": "markdown",
   "metadata": {},
   "source": [
    "## THE PIPE CHARACTER\n",
    "The pipe character `|` is used to match one of many expressions. If both expressions are contained in the string, the first match is returned."
   ]
  },
  {
   "cell_type": "code",
   "execution_count": 26,
   "metadata": {},
   "outputs": [
    {
     "name": "stdout",
     "output_type": "stream",
     "text": [
      " Thompson\n"
     ]
    }
   ],
   "source": [
    "import re\n",
    "nameRegEx = re.compile(r\"Brian | Thompson\")\n",
    "mo = nameRegEx.search('Bria Thompson is an amateur')\n",
    "print(mo.group())"
   ]
  },
  {
   "cell_type": "code",
   "execution_count": 27,
   "metadata": {},
   "outputs": [
    {
     "data": {
      "text/plain": [
       "<re.Match object; span=(4, 13), match=' Thompson'>"
      ]
     },
     "execution_count": 27,
     "metadata": {},
     "output_type": "execute_result"
    }
   ],
   "source": [
    "mo"
   ]
  },
  {
   "cell_type": "code",
   "execution_count": 28,
   "metadata": {},
   "outputs": [
    {
     "name": "stdout",
     "output_type": "stream",
     "text": [
      "Brown\n"
     ]
    }
   ],
   "source": [
    "BrRegEx = re.compile(r\"Br(own|ian|ead|eathe)\")\n",
    "BrMo = BrRegEx.search(\"Brown bread is an healthy alternative to white bread\")\n",
    "print(BrMo.group())"
   ]
  },
  {
   "cell_type": "markdown",
   "metadata": {},
   "source": [
    "## THE ?, + and * OPERATORS\n",
    "The `?` operator is used to match a pattern optionally i.e a match should be returned whether or not the optional part is found in the string (zero or one instance of the pattern).  \n",
    "The `*` operator is used to match zero or more instances of the regex in the string.  \n",
    "The `+` operator is used to match at least one instance of the regex in the string."
   ]
  },
  {
   "cell_type": "code",
   "execution_count": 41,
   "metadata": {},
   "outputs": [
    {
     "name": "stdout",
     "output_type": "stream",
     "text": [
      "+234-8057574332\n",
      "08037584333\n"
     ]
    }
   ],
   "source": [
    "phoneRegEx = re.compile(r\"(\\+\\d{3}-)?(0)?\\d{10}\")\n",
    "match_obj = phoneRegEx.finditer(\"Please call me on +234-8057574332 or 08037584333\")\n",
    "for mo in match_obj:\n",
    "    print(mo.group())"
   ]
  },
  {
   "cell_type": "code",
   "execution_count": 34,
   "metadata": {},
   "outputs": [],
   "source": [
    "for i in (match_obj):\n",
    "    print(i.group())"
   ]
  },
  {
   "cell_type": "code",
   "execution_count": 43,
   "metadata": {},
   "outputs": [
    {
     "name": "stdout",
     "output_type": "stream",
     "text": [
      "female\n",
      "male\n"
     ]
    }
   ],
   "source": [
    "genderRegEx = re.compile(r\"(fe)*male\")\n",
    "genderMo = genderRegEx.search('Amaka is a female')\n",
    "print(genderMo.group())\n",
    "genderMo = genderRegEx.search('Ridwan is a male')\n",
    "print(genderMo.group())"
   ]
  },
  {
   "cell_type": "code",
   "execution_count": 45,
   "metadata": {},
   "outputs": [
    {
     "name": "stdout",
     "output_type": "stream",
     "text": [
      "hahahahahahaha\n"
     ]
    }
   ],
   "source": [
    "haRegEx = re.compile('(ha)+')\n",
    "haMO = haRegEx.search('He laughed hahahahahahaha')\n",
    "print(haMO.group())"
   ]
  },
  {
   "cell_type": "markdown",
   "metadata": {},
   "source": [
    "## GREEDY AND NON GREEDY MATCHING"
   ]
  },
  {
   "cell_type": "markdown",
   "metadata": {},
   "source": [
    "As seen before, we can match a regex pattern a number of times using the square brackets {} with the number of times enclosed within the brackets. Asides putting a single number within the brackets, we can also specify a range. For example, `(ha){3,5}` would match hahaha, hahahaha and hahahahaha. We can also leave the minimum or maximum unbounded by omitting the first or second number. `(ha){,3}` will match zero up to 3 instances of ha and `(ha){5,}` will match at least five instances of ha."
   ]
  },
  {
   "cell_type": "code",
   "execution_count": 50,
   "metadata": {},
   "outputs": [
    {
     "name": "stdout",
     "output_type": "stream",
     "text": [
      "hahahaha\n"
     ]
    }
   ],
   "source": [
    "haRegEx = re.compile(r\"(ha){2,4}\")\n",
    "haMo = haRegEx.search(\"hahahaha\")\n",
    "print(haMo.group())"
   ]
  },
  {
   "cell_type": "markdown",
   "metadata": {},
   "source": [
    "As seen in the above code, the group() method returned the longer possibilty (4 instances of ha) instead of the shorter possibility (2 instances of ha). This is because regex are greedy in nature and would always return the longest match. To return the shortest match, we use the `?` operator after the square brackets."
   ]
  },
  {
   "cell_type": "code",
   "execution_count": 51,
   "metadata": {},
   "outputs": [
    {
     "name": "stdout",
     "output_type": "stream",
     "text": [
      "haha\n"
     ]
    }
   ],
   "source": [
    "haRegEx = re.compile(r\"(ha){2,4}?\")\n",
    "haMo = haRegEx.search(\"hahahaha\")\n",
    "print(haMo.group())"
   ]
  },
  {
   "cell_type": "markdown",
   "metadata": {},
   "source": [
    "## THE CARET `(^)` AND DOLLAR `($)` CHARACTERS"
   ]
  },
  {
   "cell_type": "markdown",
   "metadata": {},
   "source": [
    "The caret (^) symbol is used at the start of a regex to indicate that the searched string must start with the string while the dollar ($) character is used to indicate that a match must occur at the end of the searched string. We can use both together to indicate that the search string must start and end with the specific string.\n"
   ]
  },
  {
   "cell_type": "code",
   "execution_count": 54,
   "metadata": {},
   "outputs": [
    {
     "name": "stdout",
     "output_type": "stream",
     "text": [
      "Dear\n"
     ]
    }
   ],
   "source": [
    "caretRegEx = re.compile(r\"^Dear\")\n",
    "caretMo = caretRegEx.search('Dear Brian,')\n",
    "if(caretMo):\n",
    "    print(caretMo.group())"
   ]
  },
  {
   "cell_type": "code",
   "execution_count": 58,
   "metadata": {},
   "outputs": [
    {
     "name": "stdout",
     "output_type": "stream",
     "text": [
      "Best wishes\n"
     ]
    }
   ],
   "source": [
    "dollarRegEx = re.compile(r\"Best wishes$\")\n",
    "dollarMo = dollarRegEx.search(\"......Best wishes\")\n",
    "print(dollarMo.group())"
   ]
  },
  {
   "cell_type": "code",
   "execution_count": 59,
   "metadata": {},
   "outputs": [
    {
     "name": "stdout",
     "output_type": "stream",
     "text": [
      "123456789\n"
     ]
    }
   ],
   "source": [
    "numberRegEx = re.compile(r\"^(\\d)+$\")\n",
    "numberMo = numberRegEx.search(\"123456789\")\n",
    "print(numberMo.group())"
   ]
  },
  {
   "cell_type": "markdown",
   "metadata": {},
   "source": [
    "## THE WILDCARD CHARACTER"
   ]
  },
  {
   "cell_type": "markdown",
   "metadata": {},
   "source": [
    "The dot (`.`) character is known as the wild character in RegEx and it is used to match any character in the searched string. It matches only one character. To match more than one character, we have to use the dot star (`.*`) character."
   ]
  },
  {
   "cell_type": "code",
   "execution_count": 60,
   "metadata": {},
   "outputs": [
    {
     "name": "stdout",
     "output_type": "stream",
     "text": [
      "['fat', 'cat', 'sat', 'lat', 'mat']\n"
     ]
    }
   ],
   "source": [
    "dotRegEx = re.compile(r\".at\")\n",
    "dotMo = dotRegEx.findall('The fat cat sat on the flat mat')\n",
    "print(dotMo)"
   ]
  },
  {
   "cell_type": "code",
   "execution_count": 61,
   "metadata": {},
   "outputs": [
    {
     "name": "stdout",
     "output_type": "stream",
     "text": [
      "Name: Brian Thomas Email: brianthomas@yahoo.com Phone: 08067543211\n"
     ]
    }
   ],
   "source": [
    "personRegEx = re.compile(r\"Name: (.*) Email: (.*) Phone: (.*)\")\n",
    "personMo = personRegEx.finditer(\"Name: Brian Thomas Email: brianthomas@yahoo.com Phone: 08067543211\")\n",
    "for person in personMo:    \n",
    "    print(person.group())"
   ]
  },
  {
   "cell_type": "markdown",
   "metadata": {},
   "source": [
    "`.*` matches everything except a newline. To make it match the newline character, we need to pass re.DOTALL as  a second parameter to compile() method"
   ]
  },
  {
   "cell_type": "code",
   "execution_count": 62,
   "metadata": {},
   "outputs": [
    {
     "name": "stdout",
     "output_type": "stream",
     "text": [
      "The name of my dog is Bingo.\n",
      "It loves eating bones.\n"
     ]
    }
   ],
   "source": [
    "dotStarRegEx = re.compile(r\".*\", re.DOTALL)\n",
    "mo = dotStarRegEx.search(\"The name of my dog is Bingo.\\nIt loves eating bones.\")\n",
    "print(mo.group())"
   ]
  },
  {
   "cell_type": "markdown",
   "metadata": {},
   "source": [
    "## CASE INSENSITIVE MATCHING"
   ]
  },
  {
   "cell_type": "markdown",
   "metadata": {},
   "source": [
    "RegEx by default is case sensitive, for case insensitive matching, we pass the re.IGNORECASE or re.I as a second parameter to the compile() method"
   ]
  },
  {
   "cell_type": "code",
   "execution_count": 63,
   "metadata": {},
   "outputs": [
    {
     "name": "stdout",
     "output_type": "stream",
     "text": [
      "artificial IntelligEnce\n"
     ]
    }
   ],
   "source": [
    "import re\n",
    "caseRegEx = re.compile(r\"Artificial Intelligence\", re.I)\n",
    "mo = caseRegEx.search('artificial IntelligEnce is a branch of computer science')\n",
    "print(mo.group())"
   ]
  },
  {
   "cell_type": "markdown",
   "metadata": {},
   "source": [
    "## CHARACTER CLASS"
   ]
  },
  {
   "cell_type": "markdown",
   "metadata": {},
   "source": [
    " Before now we have seen the `\\d` character. Other class characters and their meaning are:  \n",
    " \n",
    " |**CHARACTER CLASS**|**MEANING**|\n",
    " |-------------------|-----------|\n",
    " |`\\d`|Any numeric digit between 0 and 9|\n",
    " |`\\D`|Any character that is not a numeric digit|\n",
    " |`\\w`|Any letter, numeric digit, or the underscore character. (Think of this as matching “word” characters.)|\n",
    " |`\\W`|Any character that is not a letter, numeric digit, or the underscore character.|\n",
    " |`\\s`|Any space, tab, or newline character. (Think of this as matching “space” characters.)|\n",
    " |`\\S`|Any character that is not a space, tab, or newline.|\n",
    "\n"
   ]
  },
  {
   "cell_type": "code",
   "execution_count": 22,
   "metadata": {},
   "outputs": [
    {
     "name": "stdout",
     "output_type": "stream",
     "text": [
      "8 March, 2020\n"
     ]
    }
   ],
   "source": [
    "dateRegex= re.compile(r\"(\\d){1,2}\\s(\\w)+(\\.)?,\\s(\\d){2,4}\")\n",
    "dateMo = dateRegex.search('I have a meeting on 8 March, 2020')\n",
    "#print(dateMo.group())\n",
    "print(dateMo.group())"
   ]
  },
  {
   "cell_type": "markdown",
   "metadata": {},
   "source": [
    "## USER DEFINED CHARACTER CLASS"
   ]
  },
  {
   "cell_type": "markdown",
   "metadata": {},
   "source": [
    "Regex character classes are broad we can narrow the characters we want to match by defining our own character classes using square brackets `[]`."
   ]
  },
  {
   "cell_type": "code",
   "execution_count": 23,
   "metadata": {},
   "outputs": [
    {
     "name": "stdout",
     "output_type": "stream",
     "text": [
      "['i', 'e', 'e', 'o', 'e', 'a', 'e', 'o', 'u', 'O', 'a', 'e', 'A', 'e', 'a', 'E']\n"
     ]
    }
   ],
   "source": [
    "#matches vowels both lowercase and uppercase in the searched string\n",
    "vowelsRegEx = re.compile(r\"[aeiouAEIOU]\")\n",
    "vowelsMo = vowelsRegEx.findall(\"My friend went to the market to buy Oranges, Apples and Eggs.\")\n",
    "print(vowelsMo)"
   ]
  },
  {
   "cell_type": "code",
   "execution_count": 66,
   "metadata": {},
   "outputs": [
    {
     "name": "stdout",
     "output_type": "stream",
     "text": [
      "['Password', 'User123']\n"
     ]
    }
   ],
   "source": [
    "userCharRegEx = re.compile(r\"[a-zA-Z0-9]+\")\n",
    "mo = userCharRegEx.findall(\"Password: User123\")\n",
    "print(mo)"
   ]
  },
  {
   "cell_type": "markdown",
   "metadata": {},
   "source": [
    "The caret(`^`) symbol when used within a character class is used to create a negative character class. A negative character class matches characters outside the character class."
   ]
  },
  {
   "cell_type": "code",
   "execution_count": 25,
   "metadata": {},
   "outputs": [
    {
     "name": "stdout",
     "output_type": "stream",
     "text": [
      "['M', 'y', ' ', 'f', 'r', 'n', 'd', ' ', 'w', 'n', 't', ' ', 't', ' ', 't', 'h', ' ', 'm', 'r', 'k', 't', ' ', 't', ' ', 'b', 'y', ' ', 'r', 'n', 'g', 's', ',', ' ', 'p', 'p', 'l', 's', ' ', 'n', 'd', ' ', 'g', 'g', 's', '.']\n"
     ]
    }
   ],
   "source": [
    "consonantsRegEx = re.compile(r\"[^aeiouAEIOU]\")\n",
    "consonantsMo = consonantsRegEx.findall(\"My friend went to the market to buy Oranges, Apples and Eggs.\")\n",
    "print(consonantsMo)"
   ]
  },
  {
   "cell_type": "markdown",
   "metadata": {},
   "source": [
    "## THE SUB() METHOD"
   ]
  },
  {
   "cell_type": "markdown",
   "metadata": {},
   "source": [
    "The sub() method is used to substitute regex with new strings. It takes 2 parameters, the first is the new string you want to use to replace the regex and the second is the string for the regular expression."
   ]
  },
  {
   "cell_type": "code",
   "execution_count": 76,
   "metadata": {},
   "outputs": [
    {
     "data": {
      "text/plain": [
       "'Alicele gave me a new shirt.'"
      ]
     },
     "execution_count": 76,
     "metadata": {},
     "output_type": "execute_result"
    }
   ],
   "source": [
    "subRegex = re.compile(r\"Inspector \\wa+\")\n",
    "subRegex.sub(\"Alice\", \"Inspector wale gave me a new shirt.\")"
   ]
  },
  {
   "cell_type": "markdown",
   "metadata": {},
   "source": [
    "## COMPLEX REGEX"
   ]
  },
  {
   "cell_type": "markdown",
   "metadata": {},
   "source": [
    "Regex can be long and complicated. To make such regex readable, it is best to have it spread across multiple lines with comments. The verbose mode re.VERBOSE can be passed to re.compile() method to make it ignore whitespaces and comments. "
   ]
  },
  {
   "cell_type": "code",
   "execution_count": 68,
   "metadata": {},
   "outputs": [
    {
     "name": "stdout",
     "output_type": "stream",
     "text": [
      "+234-8034342311\n"
     ]
    }
   ],
   "source": [
    "phoneRegex = re.compile(r\"\"\"(\\+\\d{3}|\\(\\+\\d{3}\\))? #area code\n",
    "                        (\\s|-|\\.)? #seperator\n",
    "                        (\\d)? #0\n",
    "                        (\\d{10})\n",
    "                        \"\"\", re.VERBOSE)\n",
    "mo = phoneRegex.search(\"Phone numbers: +234-8034342311\")\n",
    "#mo =  phoneRegex.search(\"Phone numbers:  (+234)8098765432\")                       \n",
    "#mo = phoneRegex.search(\"Phone numbers: 09087659987\")  \n",
    "print(mo.group())"
   ]
  },
  {
   "cell_type": "code",
   "execution_count": 69,
   "metadata": {},
   "outputs": [
    {
     "name": "stdout",
     "output_type": "stream",
     "text": [
      "+2348034342311\n",
      "(+234)8098765432\n",
      "09087659987\n"
     ]
    }
   ],
   "source": [
    "\n",
    "mo = phoneRegex.findall(\"Phone numbers: +234 8034342311, (+234)8098765432, 09087659987\")\n",
    "\n",
    "for group in mo:\n",
    "    phoneNumber = \"\".join([group[0], group[2], group[3]])\n",
    "    print(phoneNumber)"
   ]
  },
  {
   "cell_type": "code",
   "execution_count": 32,
   "metadata": {},
   "outputs": [
    {
     "name": "stdout",
     "output_type": "stream",
     "text": [
      "+234 8034342311\n",
      "(+234)8098765432\n",
      " 09087659987\n"
     ]
    }
   ],
   "source": [
    "match_object = phoneRegex.finditer(\"Phone numbers: +234 8034342311, (+234)8098765432, 09087659987\")\n",
    "for match in match_object:\n",
    "    print(match.group())"
   ]
  },
  {
   "cell_type": "markdown",
   "metadata": {},
   "source": [
    "## COMBINING RE.IGNORECASE, RE.VERBOSE AND RE.DOTALL"
   ]
  },
  {
   "cell_type": "markdown",
   "metadata": {},
   "source": [
    "The re.compile method accepts only one value for its second argument. Sometimes we may want to match every character including a newline while also ignoring case. To use the re.IGNORECASE together with re.DOTALL, we have to use the bitwise operator '|'."
   ]
  },
  {
   "cell_type": "code",
   "execution_count": 70,
   "metadata": {},
   "outputs": [
    {
     "name": "stdout",
     "output_type": "stream",
     "text": [
      "Foo bar\n",
      "fOO BaR\n"
     ]
    }
   ],
   "source": [
    "regex = re.compile(r\"foo.*\",re.I|re.DOTALL)\n",
    "mo = regex.search(\"Foo bar\\nfOO BaR\")\n",
    "print(mo.group())"
   ]
  },
  {
   "cell_type": "markdown",
   "metadata": {},
   "source": [
    "## EXERCISE"
   ]
  },
  {
   "cell_type": "markdown",
   "metadata": {},
   "source": [
    "Write a program that retrieves all email addresses in the text variable below."
   ]
  },
  {
   "cell_type": "code",
   "execution_count": 79,
   "metadata": {},
   "outputs": [
    {
     "name": "stdout",
     "output_type": "stream",
     "text": [
      "['Aderinoye@gmail.com', 'Aminat123@yahoo.co.uk']\n"
     ]
    }
   ],
   "source": [
    "text = \"\"\" At RAIN, we have friendly course facilitators. Feel free to reach any of us on \n",
    "Ade: Aderinoye@gmail.com Aminat: Aminat123@yahoo.co.uk\"\"\"\n",
    "\n",
    "emailRegex = re.compile(r\"\"\"( [a-zA-Z._0-9]+ #username\n",
    "@ #at symbol\n",
    "[a-zA-Z]+ #domain\n",
    "[.a-zA-Z]{2,4} #dot something\n",
    "[.a-zA-z]{2,4}?)\n",
    "\"\"\", re.VERBOSE)\n",
    "mo = emailRegex.findall(text)\n",
    "print(mo)"
   ]
  },
  {
   "cell_type": "markdown",
   "metadata": {},
   "source": [
    "Find website URLs that begin with http:// or https://\n"
   ]
  },
  {
   "cell_type": "code",
   "execution_count": 80,
   "metadata": {},
   "outputs": [
    {
     "name": "stdout",
     "output_type": "stream",
     "text": [
      "https://www.tutorialspoint.com/python/python_reg_expressions.htm\n",
      "http://utest.com\n"
     ]
    }
   ],
   "source": [
    "websiteRegex = re.compile(r\"\"\"(http://|https://)\n",
    "[a-zA-Z0-9./_]+\"\"\",re.VERBOSE)\n",
    "websites = \"https://www.tutorialspoint.com/python/python_reg_expressions.htm  www.google.com http://utest.com\"\n",
    "website_list = websiteRegex.finditer(websites)\n",
    "#print(website_list)\n",
    "for website in website_list:\n",
    "    print(website.group())"
   ]
  },
  {
   "cell_type": "code",
   "execution_count": null,
   "metadata": {},
   "outputs": [],
   "source": []
  },
  {
   "cell_type": "code",
   "execution_count": null,
   "metadata": {},
   "outputs": [],
   "source": []
  }
 ],
 "metadata": {
  "kernelspec": {
   "display_name": "Python 3 (ipykernel)",
   "language": "python",
   "name": "python3"
  },
  "language_info": {
   "codemirror_mode": {
    "name": "ipython",
    "version": 3
   },
   "file_extension": ".py",
   "mimetype": "text/x-python",
   "name": "python",
   "nbconvert_exporter": "python",
   "pygments_lexer": "ipython3",
   "version": "3.9.12"
  }
 },
 "nbformat": 4,
 "nbformat_minor": 4
}
