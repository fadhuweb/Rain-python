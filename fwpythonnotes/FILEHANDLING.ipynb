{
 "cells": [
  {
   "cell_type": "markdown",
   "metadata": {},
   "source": [
    "## FILE HANDLING"
   ]
  },
  {
   "cell_type": "markdown",
   "metadata": {},
   "source": [
    "## FILE AND FILE PATHS"
   ]
  },
  {
   "cell_type": "markdown",
   "metadata": {},
   "source": [
    "A file is used to persist data after a program has finished executing. A file has two key properties:\n",
    "1. Filename\n",
    "2. path (file location)\n"
   ]
  },
  {
   "cell_type": "markdown",
   "metadata": {},
   "source": [
    "For example, suppose on my windows computer,  I have a file named 'project.docx' and it is stored in the location 'C:\\Users\\Al\\Documents'. Then, 'project.docx' is the filename and 'C:\\Users\\Al\\Documents' is the path.  \n",
    "A filename consists of 2 parts: the name of the file and its extension, seperated by a dot(.). The extension tell us the type of file it is. In the example above, the name of the file is project and its extension is docx which tells us its a word document. \n",
    "Users, AI and Documents are callled folders/directories. A folder can contain file(s)/folder(s). The C:\\ in path is called the root folder (i.e it contains all other folders).  \n",
    "On Windows, the root folder is named C:\\ and is also called the C: drive. On macOS and Linux, the root folder is /. "
   ]
  },
  {
   "cell_type": "markdown",
   "metadata": {},
   "source": [
    "## FILE PATH SEPARATORS ON DIFFERENT OPERATING SYSTEM"
   ]
  },
  {
   "cell_type": "markdown",
   "metadata": {},
   "source": [
    "On Windows, paths are written using backslashes (*\\*) as the separator between folder names while the macOS and Linux operating systems uses the forward slash (*/*) as their path separator. For our codes to be Operating System independent (i.e. to run across different OS), we would have to write codes that handles both cases. This can be achieved using the path module. The path module returns a path with the correct OS path separators."
   ]
  },
  {
   "cell_type": "code",
   "execution_count": 5,
   "metadata": {},
   "outputs": [
    {
     "name": "stdout",
     "output_type": "stream",
     "text": [
      "User\\TripleA\n"
     ]
    }
   ],
   "source": [
    "from pathlib import Path\n",
    "filePath = Path('User', 'TripleA')\n",
    "print(filePath)"
   ]
  },
  {
   "cell_type": "code",
   "execution_count": 6,
   "metadata": {},
   "outputs": [
    {
     "data": {
      "text/plain": [
       "WindowsPath('c:/Users/fadhl/Desktop/RAIN/python/fwpythonnotes')"
      ]
     },
     "execution_count": 6,
     "metadata": {},
     "output_type": "execute_result"
    }
   ],
   "source": [
    "Path.cwd()"
   ]
  },
  {
   "cell_type": "code",
   "execution_count": 7,
   "metadata": {},
   "outputs": [
    {
     "name": "stdout",
     "output_type": "stream",
     "text": [
      "c:\\Users\\fadhl\\Desktop\\RAIN\\python\\fwpythonnotes\n",
      "c:\\Users\\fadhl\\Desktop\\RAIN\\python\\fwpythonnotes\\Assignment.txt\n",
      "c:\\Users\\fadhl\\Desktop\\RAIN\\python\\fwpythonnotes\\Image.jpeg\n",
      "c:\\Users\\fadhl\\Desktop\\RAIN\\python\\fwpythonnotes\\Review.docx\n"
     ]
    }
   ],
   "source": [
    "file_path = Path.cwd()\n",
    "print(file_path)\n",
    "filenames = ['Assignment.txt', 'Image.jpeg','Review.docx']\n",
    "for filename in filenames:\n",
    "    print(Path(file_path, filename))"
   ]
  },
  {
   "cell_type": "markdown",
   "metadata": {},
   "source": [
    "## CURRENT WORKING DIRECTORY"
   ]
  },
  {
   "cell_type": "markdown",
   "metadata": {},
   "source": [
    "The Current Working Directory (CWD) is the current folder or directory a user is working on. To get the CWD, we use the cwd() method of the Path module."
   ]
  },
  {
   "cell_type": "code",
   "execution_count": 8,
   "metadata": {},
   "outputs": [
    {
     "name": "stdout",
     "output_type": "stream",
     "text": [
      "c:\\Users\\fadhl\\Desktop\\RAIN\\python\\fwpythonnotes\n"
     ]
    }
   ],
   "source": [
    "print(Path.cwd())"
   ]
  },
  {
   "cell_type": "markdown",
   "metadata": {},
   "source": [
    "## HOME DIRECTORY\n",
    "All users have a folder for their own files on the computer called the home directory or home folder. Path has a home() method that returns \n",
    "\n"
   ]
  },
  {
   "cell_type": "code",
   "execution_count": 9,
   "metadata": {},
   "outputs": [
    {
     "name": "stdout",
     "output_type": "stream",
     "text": [
      "C:\\Users\\fadhl\n"
     ]
    }
   ],
   "source": [
    "print(Path.home())"
   ]
  },
  {
   "cell_type": "markdown",
   "metadata": {},
   "source": [
    "## CREATING FOLDERS"
   ]
  },
  {
   "cell_type": "markdown",
   "metadata": {},
   "source": []
  },
  {
   "cell_type": "markdown",
   "metadata": {},
   "source": [
    "To create a folder or a folder with sub folders, we use the `makedirs()` method from the `os` module. "
   ]
  },
  {
   "cell_type": "code",
   "execution_count": 10,
   "metadata": {},
   "outputs": [
    {
     "ename": "FileExistsError",
     "evalue": "[WinError 183] Cannot create a file when that file already exists: 'C:\\\\Users\\\\fadhl\\\\Wednesday\\\\File handling'",
     "output_type": "error",
     "traceback": [
      "\u001b[1;31m---------------------------------------------------------------------------\u001b[0m",
      "\u001b[1;31mFileExistsError\u001b[0m                           Traceback (most recent call last)",
      "Cell \u001b[1;32mIn[10], line 2\u001b[0m\n\u001b[0;32m      1\u001b[0m \u001b[38;5;28;01mimport\u001b[39;00m \u001b[38;5;21;01mos\u001b[39;00m\n\u001b[1;32m----> 2\u001b[0m os\u001b[38;5;241m.\u001b[39mmakedirs(Path(Path\u001b[38;5;241m.\u001b[39mhome(), \u001b[38;5;124m'\u001b[39m\u001b[38;5;124mWednesday\u001b[39m\u001b[38;5;124m'\u001b[39m, \u001b[38;5;124m'\u001b[39m\u001b[38;5;124mFile handling\u001b[39m\u001b[38;5;124m'\u001b[39m))\n",
      "File \u001b[1;32m<frozen os>:225\u001b[0m, in \u001b[0;36mmakedirs\u001b[1;34m(name, mode, exist_ok)\u001b[0m\n",
      "\u001b[1;31mFileExistsError\u001b[0m: [WinError 183] Cannot create a file when that file already exists: 'C:\\\\Users\\\\fadhl\\\\Wednesday\\\\File handling'"
     ]
    }
   ],
   "source": [
    "import os\n",
    "os.makedirs(Path(Path.home(), 'Wednesday', 'File handling'))"
   ]
  },
  {
   "cell_type": "markdown",
   "metadata": {},
   "source": [
    "We can also use the `mkdir()` method of the Path module to create a folder. Unlike the `makedirs()` method which can create a folder with sub folders, the `mkdir()` can only create a folder. "
   ]
  },
  {
   "cell_type": "code",
   "execution_count": 11,
   "metadata": {},
   "outputs": [],
   "source": [
    "from pathlib import Path\n",
    "Path(Path.home(), 'Myfolder').mkdir()"
   ]
  },
  {
   "cell_type": "code",
   "execution_count": 12,
   "metadata": {},
   "outputs": [
    {
     "name": "stdout",
     "output_type": "stream",
     "text": [
      "Python\\Assessments\\Functions\n"
     ]
    }
   ],
   "source": [
    "file_path = Path('Python', 'Assessments','Functions')\n",
    "print(file_path)"
   ]
  },
  {
   "cell_type": "code",
   "execution_count": 13,
   "metadata": {},
   "outputs": [
    {
     "name": "stdout",
     "output_type": "stream",
     "text": [
      "C:\\Users\\fadhl\\Python\\Assessments\\Functions\n"
     ]
    }
   ],
   "source": [
    "new_file_path = Path(Path.home(), file_path)\n",
    "print(new_file_path)"
   ]
  },
  {
   "cell_type": "code",
   "execution_count": 14,
   "metadata": {},
   "outputs": [
    {
     "ename": "FileExistsError",
     "evalue": "[WinError 183] Cannot create a file when that file already exists: 'C:\\\\Users\\\\fadhl\\\\Python\\\\Assessments\\\\Functions'",
     "output_type": "error",
     "traceback": [
      "\u001b[1;31m---------------------------------------------------------------------------\u001b[0m",
      "\u001b[1;31mFileExistsError\u001b[0m                           Traceback (most recent call last)",
      "Cell \u001b[1;32mIn[14], line 1\u001b[0m\n\u001b[1;32m----> 1\u001b[0m os\u001b[38;5;241m.\u001b[39mmakedirs(new_file_path)\n",
      "File \u001b[1;32m<frozen os>:225\u001b[0m, in \u001b[0;36mmakedirs\u001b[1;34m(name, mode, exist_ok)\u001b[0m\n",
      "\u001b[1;31mFileExistsError\u001b[0m: [WinError 183] Cannot create a file when that file already exists: 'C:\\\\Users\\\\fadhl\\\\Python\\\\Assessments\\\\Functions'"
     ]
    }
   ],
   "source": [
    "os.makedirs(new_file_path)"
   ]
  },
  {
   "cell_type": "markdown",
   "metadata": {},
   "source": [
    "## ABSOLUTE VS RELATIVE PATH"
   ]
  },
  {
   "cell_type": "markdown",
   "metadata": {},
   "source": [
    "We can specify a file using its absolute path or its relative path. An absolute path begins with the root folder while a relative path is relative to the program's current working directory. Dot (`.`) is used to refer to **this folder or directory** while dot dot (`..`) is used to refer to the **parent folder**.\n",
    "We can check if a path is an absolute path or a relative path using the pathlib module."
   ]
  },
  {
   "cell_type": "code",
   "execution_count": 15,
   "metadata": {},
   "outputs": [
    {
     "name": "stdout",
     "output_type": "stream",
     "text": [
      "c:\\Users\\fadhl\\Desktop\\RAIN\\python\\fwpythonnotes\n"
     ]
    },
    {
     "data": {
      "text/plain": [
       "True"
      ]
     },
     "execution_count": 15,
     "metadata": {},
     "output_type": "execute_result"
    }
   ],
   "source": [
    "from pathlib import Path\n",
    "print(Path.cwd())\n",
    "Path.cwd().is_absolute()"
   ]
  },
  {
   "cell_type": "code",
   "execution_count": 16,
   "metadata": {},
   "outputs": [
    {
     "data": {
      "text/plain": [
       "False"
      ]
     },
     "execution_count": 16,
     "metadata": {},
     "output_type": "execute_result"
    }
   ],
   "source": [
    "Path('home', 'folder').is_absolute()"
   ]
  },
  {
   "cell_type": "markdown",
   "metadata": {},
   "source": [
    "We can join paths using the forward slash symbol. With this, we can join the current working directory with a relative path to get an absolute path."
   ]
  },
  {
   "cell_type": "code",
   "execution_count": null,
   "metadata": {},
   "outputs": [],
   "source": [
    "print(Path.cwd()/Path(r'home\\folder'))\n",
    "print(Path(Path.cwd(), 'home', 'folder'))"
   ]
  },
  {
   "cell_type": "markdown",
   "metadata": {},
   "source": [
    "The `os` module has methods to retrieve the absolute path or relative path of a file."
   ]
  },
  {
   "cell_type": "code",
   "execution_count": 17,
   "metadata": {},
   "outputs": [
    {
     "data": {
      "text/plain": [
       "'c:\\\\Users\\\\fadhl\\\\Desktop\\\\RAIN\\\\python\\\\fwpythonnotes'"
      ]
     },
     "execution_count": 17,
     "metadata": {},
     "output_type": "execute_result"
    }
   ],
   "source": [
    "import os\n",
    "#returns the absolute path of a file\n",
    "os.path.abspath('.')"
   ]
  },
  {
   "cell_type": "code",
   "execution_count": 18,
   "metadata": {},
   "outputs": [
    {
     "data": {
      "text/plain": [
       "'.'"
      ]
     },
     "execution_count": 18,
     "metadata": {},
     "output_type": "execute_result"
    }
   ],
   "source": [
    "os.path.relpath('.')"
   ]
  },
  {
   "cell_type": "code",
   "execution_count": 19,
   "metadata": {},
   "outputs": [
    {
     "data": {
      "text/plain": [
       "'new_folder2\\\\new_sub_folder'"
      ]
     },
     "execution_count": 19,
     "metadata": {},
     "output_type": "execute_result"
    }
   ],
   "source": [
    "#returns the relative path of a file\n",
    "file_path = Path(Path.cwd(),'new_folder2','new_sub_folder')\n",
    "os.makedirs(file_path)\n",
    "os.path.relpath(file_path)"
   ]
  },
  {
   "cell_type": "markdown",
   "metadata": {},
   "source": [
    "We can also use the os module to find our if a path is an absolute path or a relative path."
   ]
  },
  {
   "cell_type": "code",
   "execution_count": 13,
   "metadata": {},
   "outputs": [
    {
     "data": {
      "text/plain": [
       "False"
      ]
     },
     "execution_count": 13,
     "metadata": {},
     "output_type": "execute_result"
    }
   ],
   "source": [
    "os.path.isabs('.')"
   ]
  },
  {
   "cell_type": "code",
   "execution_count": 14,
   "metadata": {},
   "outputs": [
    {
     "data": {
      "text/plain": [
       "True"
      ]
     },
     "execution_count": 14,
     "metadata": {},
     "output_type": "execute_result"
    }
   ],
   "source": [
    "os.path.isabs(Path.cwd())"
   ]
  },
  {
   "cell_type": "markdown",
   "metadata": {},
   "source": [
    "## GETTING PARTS OF A FILE"
   ]
  },
  {
   "cell_type": "code",
   "execution_count": 20,
   "metadata": {},
   "outputs": [
    {
     "name": "stdout",
     "output_type": "stream",
     "text": [
      "File Path: c:\\Users\\fadhl\\Desktop\\RAIN\\python\\fwpythonnotes\\Functions2.ipynb\n"
     ]
    }
   ],
   "source": [
    "file_path = Path.cwd()/Path('Functions2.ipynb')\n",
    "print(f\"File Path: {file_path}\")"
   ]
  },
  {
   "cell_type": "code",
   "execution_count": 21,
   "metadata": {},
   "outputs": [
    {
     "name": "stdout",
     "output_type": "stream",
     "text": [
      "Directory name: c:\\Users\\fadhl\\Desktop\\RAIN\\python\\fwpythonnotes\n"
     ]
    }
   ],
   "source": [
    "directory_name = os.path.dirname(file_path)\n",
    "print(f\"Directory name: {directory_name}\")"
   ]
  },
  {
   "cell_type": "code",
   "execution_count": 22,
   "metadata": {},
   "outputs": [
    {
     "name": "stdout",
     "output_type": "stream",
     "text": [
      "Base Name: Functions2.ipynb\n"
     ]
    }
   ],
   "source": [
    "base_name = os.path.basename(file_path)\n",
    "print(f\"Base Name: {base_name}\")"
   ]
  },
  {
   "cell_type": "markdown",
   "metadata": {},
   "source": [
    "We can use the os.path.split() to get a tuple of the directory name and the base name of a file."
   ]
  },
  {
   "cell_type": "code",
   "execution_count": null,
   "metadata": {},
   "outputs": [],
   "source": [
    "dir_name, base_name = os.path.split(file_path)\n",
    "print(dir_name)\n",
    "print(base_name)"
   ]
  },
  {
   "cell_type": "code",
   "execution_count": null,
   "metadata": {},
   "outputs": [],
   "source": [
    "filename , ext = os.path.splitext(base_name)\n",
    "print(ext)"
   ]
  },
  {
   "cell_type": "markdown",
   "metadata": {},
   "source": [
    "## EXPLORING FOLDERS\n",
    "To retrieve the list of folders or files in a directory, we use the `listdir()` in the `os` module."
   ]
  },
  {
   "cell_type": "code",
   "execution_count": 26,
   "metadata": {},
   "outputs": [
    {
     "data": {
      "text/plain": [
       "['.ipynb_checkpoints',\n",
       " 'CLASSES AND OOP.ipynb',\n",
       " 'DataStructures.ipynb',\n",
       " 'FILEHANDLING.ipynb',\n",
       " 'FUNCTIONS.ipynb',\n",
       " 'new_folder2',\n",
       " 'ProgramFlow.ipynb',\n",
       " 'PythonBasics.ipynb',\n",
       " 'PYTHONIC STYLE.ipynb',\n",
       " 'Reading and writing to files.ipynb',\n",
       " 'REGULAREXPRESSIONS.ipynb',\n",
       " 'TimeSchedulingTasks_LaunchingPrograms.ipynb',\n",
       " 'WebScraping.ipynb',\n",
       " 'WorkingWithCSV_JSONFiles.ipynb',\n",
       " 'WorkingWithDocuments.ipynb',\n",
       " 'WorkingWithExcel.ipynb']"
      ]
     },
     "execution_count": 26,
     "metadata": {},
     "output_type": "execute_result"
    }
   ],
   "source": [
    "os.listdir(Path.cwd())"
   ]
  },
  {
   "cell_type": "markdown",
   "metadata": {},
   "source": [
    "We can get the file size (in bytes) of any file using the getsize() method"
   ]
  },
  {
   "cell_type": "code",
   "execution_count": 27,
   "metadata": {},
   "outputs": [
    {
     "name": "stdout",
     "output_type": "stream",
     "text": [
      "The size of file '.ipynb_checkpoints' is 4096 bytes\n",
      "The size of file 'CLASSES AND OOP.ipynb' is 30539 bytes\n",
      "The size of file 'DataStructures.ipynb' is 99965 bytes\n",
      "The size of file 'FILEHANDLING.ipynb' is 32268 bytes\n",
      "The size of file 'FUNCTIONS.ipynb' is 26247 bytes\n",
      "The size of file 'new_folder2' is 0 bytes\n",
      "The size of file 'ProgramFlow.ipynb' is 24565 bytes\n",
      "The size of file 'PythonBasics.ipynb' is 58687 bytes\n",
      "The size of file 'PYTHONIC STYLE.ipynb' is 26327 bytes\n",
      "The size of file 'Reading and writing to files.ipynb' is 8341 bytes\n",
      "The size of file 'REGULAREXPRESSIONS.ipynb' is 25043 bytes\n",
      "The size of file 'TimeSchedulingTasks_LaunchingPrograms.ipynb' is 109316 bytes\n",
      "The size of file 'WebScraping.ipynb' is 1561984 bytes\n",
      "The size of file 'WorkingWithCSV_JSONFiles.ipynb' is 67362 bytes\n",
      "The size of file 'WorkingWithDocuments.ipynb' is 201530 bytes\n",
      "The size of file 'WorkingWithExcel.ipynb' is 18022 bytes\n"
     ]
    }
   ],
   "source": [
    "for file in os.listdir(Path.cwd()):\n",
    "    print(f\"The size of file '{file}' is {os.path.getsize(file)} bytes\")"
   ]
  },
  {
   "cell_type": "markdown",
   "metadata": {},
   "source": [
    "## GLOB PATTERNS"
   ]
  },
  {
   "cell_type": "code",
   "execution_count": null,
   "metadata": {},
   "outputs": [],
   "source": []
  },
  {
   "cell_type": "markdown",
   "metadata": {},
   "source": [
    "Glob patterns are like a simplified form of regular expressions often used in command line commands. It is used to get the contents of a folder according to a glob pattern. The example below returns all files with the extension `ipynb` in the current working directory.  "
   ]
  },
  {
   "cell_type": "code",
   "execution_count": 28,
   "metadata": {},
   "outputs": [
    {
     "data": {
      "text/plain": [
       "[WindowsPath('c:/Users/fadhl/Desktop/RAIN/python/fwpythonnotes/CLASSES AND OOP.ipynb'),\n",
       " WindowsPath('c:/Users/fadhl/Desktop/RAIN/python/fwpythonnotes/DataStructures.ipynb'),\n",
       " WindowsPath('c:/Users/fadhl/Desktop/RAIN/python/fwpythonnotes/FILEHANDLING.ipynb'),\n",
       " WindowsPath('c:/Users/fadhl/Desktop/RAIN/python/fwpythonnotes/FUNCTIONS.ipynb'),\n",
       " WindowsPath('c:/Users/fadhl/Desktop/RAIN/python/fwpythonnotes/ProgramFlow.ipynb'),\n",
       " WindowsPath('c:/Users/fadhl/Desktop/RAIN/python/fwpythonnotes/PythonBasics.ipynb'),\n",
       " WindowsPath('c:/Users/fadhl/Desktop/RAIN/python/fwpythonnotes/PYTHONIC STYLE.ipynb'),\n",
       " WindowsPath('c:/Users/fadhl/Desktop/RAIN/python/fwpythonnotes/Reading and writing to files.ipynb'),\n",
       " WindowsPath('c:/Users/fadhl/Desktop/RAIN/python/fwpythonnotes/REGULAREXPRESSIONS.ipynb'),\n",
       " WindowsPath('c:/Users/fadhl/Desktop/RAIN/python/fwpythonnotes/TimeSchedulingTasks_LaunchingPrograms.ipynb'),\n",
       " WindowsPath('c:/Users/fadhl/Desktop/RAIN/python/fwpythonnotes/WebScraping.ipynb'),\n",
       " WindowsPath('c:/Users/fadhl/Desktop/RAIN/python/fwpythonnotes/WorkingWithCSV_JSONFiles.ipynb'),\n",
       " WindowsPath('c:/Users/fadhl/Desktop/RAIN/python/fwpythonnotes/WorkingWithDocuments.ipynb'),\n",
       " WindowsPath('c:/Users/fadhl/Desktop/RAIN/python/fwpythonnotes/WorkingWithExcel.ipynb')]"
      ]
     },
     "execution_count": 28,
     "metadata": {},
     "output_type": "execute_result"
    }
   ],
   "source": [
    "list(Path.cwd().glob('*.ipynb'))"
   ]
  },
  {
   "cell_type": "code",
   "execution_count": 29,
   "metadata": {},
   "outputs": [
    {
     "data": {
      "text/plain": [
       "[]"
      ]
     },
     "execution_count": 29,
     "metadata": {},
     "output_type": "execute_result"
    }
   ],
   "source": [
    "#lists all files in the downloads folder with an extension that starts with p\n",
    "p = Path.cwd()\n",
    "list(p.glob('*.p*'))"
   ]
  },
  {
   "cell_type": "markdown",
   "metadata": {},
   "source": [
    "## PATH VALIDITY"
   ]
  },
  {
   "cell_type": "markdown",
   "metadata": {},
   "source": [
    "To prevent our program from crashing due to a path that does not exist, it is best to always check if the path is valid before attempting to use it. The `Path` module has the methods `exists()`, `is_file()` and `is_dir()` to check whether a given path exists and whether it is a file or folder.\n",
    "\n",
    "1. `exists()` returns True if the path exists or returns False if it doesn’t exist.\n",
    "2. `is_file()` returns True if the path exists and is a file, or returns False otherwise.\n",
    "3. `is_dir()` returns True if the path exists and is a directory, or returns False otherwise."
   ]
  },
  {
   "cell_type": "code",
   "execution_count": 30,
   "metadata": {},
   "outputs": [
    {
     "data": {
      "text/plain": [
       "True"
      ]
     },
     "execution_count": 30,
     "metadata": {},
     "output_type": "execute_result"
    }
   ],
   "source": [
    "Path.exists(Path(Path.home(),'Downloads'))"
   ]
  },
  {
   "cell_type": "code",
   "execution_count": 31,
   "metadata": {},
   "outputs": [
    {
     "data": {
      "text/plain": [
       "False"
      ]
     },
     "execution_count": 31,
     "metadata": {},
     "output_type": "execute_result"
    }
   ],
   "source": [
    "Path.exists(Path(Path.home(),r'Downloads\\NonExistentFolder'))"
   ]
  },
  {
   "cell_type": "code",
   "execution_count": 32,
   "metadata": {},
   "outputs": [
    {
     "data": {
      "text/plain": [
       "False"
      ]
     },
     "execution_count": 32,
     "metadata": {},
     "output_type": "execute_result"
    }
   ],
   "source": [
    "Path.exists(Path(Path.home(),r'Python\\Assignment\\Functions'))"
   ]
  },
  {
   "cell_type": "code",
   "execution_count": 33,
   "metadata": {},
   "outputs": [
    {
     "data": {
      "text/plain": [
       "False"
      ]
     },
     "execution_count": 33,
     "metadata": {},
     "output_type": "execute_result"
    }
   ],
   "source": [
    "Path.is_file(Path(Path.cwd(),'anitaBorg.jpg'))"
   ]
  },
  {
   "cell_type": "code",
   "execution_count": 34,
   "metadata": {},
   "outputs": [],
   "source": [
    "dir_name = Path(Path.home(),r'Programs\\Python2')\n",
    "if not Path.exists(dir_name):\n",
    "    os.makedirs(dir_name)"
   ]
  },
  {
   "cell_type": "code",
   "execution_count": 38,
   "metadata": {},
   "outputs": [],
   "source": [
    "web_design = Path(Path.home(),'HTML_CSS')\n",
    "if not Path.exists(web_design):\n",
    "    os.makedirs(web_design)"
   ]
  },
  {
   "cell_type": "code",
   "execution_count": 40,
   "metadata": {},
   "outputs": [
    {
     "data": {
      "text/plain": [
       "True"
      ]
     },
     "execution_count": 40,
     "metadata": {},
     "output_type": "execute_result"
    }
   ],
   "source": [
    "Path.exists(Path(Path.home(),r'Desktop\\RAIN\\HTML_CSS'))"
   ]
  },
  {
   "cell_type": "markdown",
   "metadata": {},
   "source": [
    "Plain text files are files that contain basic text characters only. They do not include other information like font, color etc. An example is `.txt` files which can be opened with windows notepad or MacOs text edit application.  \n",
    "Binary files are all other files e.g word documents (.doc or .docx), PDFs, Images (.png, .jpeg) etc. If you open a binary file in Notepad or TextEdit, it would appear as a scrambled gibberish."
   ]
  },
  {
   "cell_type": "markdown",
   "metadata": {},
   "source": [
    "The `open()` function is used to open a file. It returns a file object and takes the file path and file mode as arguments.  \n",
    "The steps involved in reading or writing files in Python are:\n",
    "1. Call the open() function to return a File object.\n",
    "2. Call the read() or write() method on the File object.\n",
    "3. Close the file by calling the close() method on the File object."
   ]
  },
  {
   "cell_type": "markdown",
   "metadata": {},
   "source": [
    "**There are four different methods (modes) for opening a file:**\n",
    "\n",
    "\"r\" - Read - Default value. Opens a file for reading. It throws an error if the file does not exist\n",
    "\n",
    "\"a\" - Append - Opens a file for appending, creates the file if it does not exist. \n",
    "\n",
    "\"w\" - Write - Opens a file for writing, creates the file if it does not exist\n",
    "\n",
    "\"x\" - Create - Creates the specified file, returns an error if the file exists"
   ]
  },
  {
   "cell_type": "markdown",
   "metadata": {},
   "source": [
    "**In addition to the mode, you can specify if the file should be handled as binary or text mode**\n",
    "\n",
    "\"t\" - Text - Default value. Text mode\n",
    "\n",
    "\"b\" - Binary - Binary mode (e.g. images)"
   ]
  },
  {
   "cell_type": "code",
   "execution_count": 41,
   "metadata": {},
   "outputs": [],
   "source": [
    "#writing to a file\n",
    "from pathlib import Path\n",
    "f = open(Path.cwd()/'newfile.txt', 'w')\n",
    "f.write('Welcome to PY 101 class \\n')\n",
    "f.write('I am happy to have you all in my class')\n",
    "f.close()"
   ]
  },
  {
   "cell_type": "code",
   "execution_count": 42,
   "metadata": {},
   "outputs": [
    {
     "name": "stdout",
     "output_type": "stream",
     "text": [
      "Welcome to PY 101 class \n",
      "I am happy to have you all in my class\n"
     ]
    }
   ],
   "source": [
    "#reading from a file\n",
    "if (Path.exists(Path.cwd()/'newfile.txt')):\n",
    "    f = open(Path.cwd()/'newfile.txt', 'rt')\n",
    "    text = f.read()\n",
    "    print(text)\n",
    "    f.close()"
   ]
  },
  {
   "cell_type": "markdown",
   "metadata": {},
   "source": [
    "The file object also has `readlines()` and `readline()` methods. The `readline()` method reads a single line from the file while the `readlines()` method returns a list of string values of the file. Each string represents a line in the file. "
   ]
  },
  {
   "cell_type": "code",
   "execution_count": 43,
   "metadata": {},
   "outputs": [],
   "source": [
    "#appending to a file\n",
    "with open(Path.cwd()/'newfile.txt', 'a') as f:\n",
    "    f.write('\\nHow are you doing today?')"
   ]
  },
  {
   "cell_type": "code",
   "execution_count": 46,
   "metadata": {},
   "outputs": [
    {
     "name": "stdout",
     "output_type": "stream",
     "text": [
      "Welcome to PY 101 class \n",
      "\n",
      "I am happy to have you all in my class\n",
      "\n",
      "How are you doing today?\n"
     ]
    }
   ],
   "source": [
    "#checking the new contents in the file\n",
    "with open(Path.cwd()/'newfile.txt') as f:\n",
    "    text = f.readlines()\n",
    "    for line in text:\n",
    "        print(line)"
   ]
  },
  {
   "cell_type": "markdown",
   "metadata": {},
   "source": [
    "\n",
    "It is a good practice to always close our file when we are done with it. In some cases, due to buffering, changes made to a file may not show until you close the file.  In the above code example we opened a file without calling the close() function. This is because the `with` statement which we used in our program automatically closes the file. The `with` statement simplifies exception handling by encapsulating common preparation and cleanup tasks."
   ]
  },
  {
   "cell_type": "markdown",
   "metadata": {},
   "source": [
    "## EXERCISE\n",
    "Write a program that searches for all .txt files in any given directory, reads and prints contents of each file."
   ]
  },
  {
   "cell_type": "code",
   "execution_count": 41,
   "metadata": {},
   "outputs": [
    {
     "data": {
      "text/plain": [
       "[WindowsPath('c:/Users/fadhl/Desktop/RAIN/python/fwpythonnotes/newfile.txt')]"
      ]
     },
     "execution_count": 41,
     "metadata": {},
     "output_type": "execute_result"
    }
   ],
   "source": [
    " file_path =list(Path.cwd().glob('*txt'))\n",
    "\n",
    "\n",
    "\n",
    "file_path"
   ]
  },
  {
   "cell_type": "code",
   "execution_count": 47,
   "metadata": {},
   "outputs": [
    {
     "name": "stdout",
     "output_type": "stream",
     "text": [
      "Welcome to PY 101 class \n",
      "I am happy to have you all in my class\n",
      "How are you doing today?\n"
     ]
    }
   ],
   "source": [
    "for file in file_path:\n",
    "    with open (file, 'r') as f:\n",
    "        text=f.read()\n",
    "        print(text)"
   ]
  },
  {
   "cell_type": "markdown",
   "metadata": {},
   "source": [
    "## ORGANISING FILES"
   ]
  },
  {
   "cell_type": "markdown",
   "metadata": {},
   "source": [
    "We have seen how to write and read from files. Now we would see how we can copy and modify files and folders using Python programming. "
   ]
  },
  {
   "cell_type": "markdown",
   "metadata": {},
   "source": [
    "## COPYING FILES AND FOLDERS\n",
    "The `shutil` module allows us to copy, rename, move and delete files and folders in Python."
   ]
  },
  {
   "cell_type": "code",
   "execution_count": 48,
   "metadata": {},
   "outputs": [
    {
     "data": {
      "text/plain": [
       "WindowsPath('C:/Users/fadhl/textfile_copy.txt')"
      ]
     },
     "execution_count": 48,
     "metadata": {},
     "output_type": "execute_result"
    }
   ],
   "source": [
    "import os\n",
    "import shutil\n",
    "from pathlib import Path\n",
    "source = Path.cwd()\n",
    "destination = Path.home()\n",
    "shutil.copy(source/'newfile.txt',destination/'textfile_copy.txt' )"
   ]
  },
  {
   "cell_type": "markdown",
   "metadata": {},
   "source": [
    "In the above code we copied the `textfile.txt` in the current working directory is copied to the home folder and renamed with the specified file name `textfile_copy.txt`. If we did not specify a filename in our destination path, the file name would be the same as the filename we copied.  "
   ]
  },
  {
   "cell_type": "markdown",
   "metadata": {},
   "source": [
    "Unlike the `shutil.copy()` which copies a single file, the `shutil.copytree()` will copy an entire folder and every folder and file contained in it. In the code below, we are going to copy the current working directory (folder) to a new folder called `RAIN-CLASSES` in the home folder."
   ]
  },
  {
   "cell_type": "code",
   "execution_count": 49,
   "metadata": {},
   "outputs": [
    {
     "name": "stdout",
     "output_type": "stream",
     "text": [
      "Current Working Directory: c:\\Users\\fadhl\\Desktop\\RAIN\\python\\fwpythonnotes\n"
     ]
    },
    {
     "data": {
      "text/plain": [
       "WindowsPath('C:/Users/fadhl/RAIN-ClASSES')"
      ]
     },
     "execution_count": 49,
     "metadata": {},
     "output_type": "execute_result"
    }
   ],
   "source": [
    "print(f\"Current Working Directory: {Path.cwd()}\")\n",
    "shutil.copytree(Path.cwd(), Path.home()/'RAIN-ClASSES')"
   ]
  },
  {
   "cell_type": "markdown",
   "metadata": {},
   "source": [
    "## RENAMING AND MOVING FILES AND FOLDERS\n",
    "The shutil.move() will move a folder from the source path to the destination path. If a filename is not included in the destination path, the filename of the source would be used as the name of the file. Otherwise, the filename in the destination path is used as the new filename."
   ]
  },
  {
   "cell_type": "code",
   "execution_count": null,
   "metadata": {},
   "outputs": [],
   "source": [
    "if (Path.is_file(source/'textfile.txt')):\n",
    "    shutil.move(source/'textfile.txt',destination/'textfile2.txt')\n",
    "else:\n",
    "    print('File does not exist.')"
   ]
  },
  {
   "cell_type": "markdown",
   "metadata": {},
   "source": [
    "The above code moved the `textfile.txt` in the current working directory  into the  home folder and while  at it, renames that `textfile.txt` file to `textfile2.txt`."
   ]
  },
  {
   "cell_type": "code",
   "execution_count": null,
   "metadata": {},
   "outputs": [],
   "source": [
    "if(Path.is_dir(Path('./new_folder'))):\n",
    "    shutil.move('./new_folder',  Path.home()/'Andela2' )\n",
    "else:\n",
    "    print('Folder does not exist.')\n",
    "\n",
    "    # Create a new folder called Andela 2 in Cwd and move it to home folder\n",
    "    "
   ]
  },
  {
   "cell_type": "markdown",
   "metadata": {},
   "source": [
    "## PERMANENTLY DELETING FILES AND FOLDERS"
   ]
  },
  {
   "cell_type": "markdown",
   "metadata": {},
   "source": [
    "The `os` module allows us to delete a single file and an empty folder. To delete a folder with contents, we use the `shutil` module. These functions are dangerous to use because they irreversibly delete files and folders."
   ]
  },
  {
   "cell_type": "code",
   "execution_count": 3,
   "metadata": {},
   "outputs": [
    {
     "ename": "NameError",
     "evalue": "name 'Path' is not defined",
     "output_type": "error",
     "traceback": [
      "\u001b[1;31m---------------------------------------------------------------------------\u001b[0m",
      "\u001b[1;31mNameError\u001b[0m                                 Traceback (most recent call last)",
      "Cell \u001b[1;32mIn[3], line 1\u001b[0m\n\u001b[1;32m----> 1\u001b[0m Path\u001b[38;5;241m.\u001b[39mcwd()\n",
      "\u001b[1;31mNameError\u001b[0m: name 'Path' is not defined"
     ]
    }
   ],
   "source": [
    "Path.cwd()"
   ]
  },
  {
   "cell_type": "code",
   "execution_count": 4,
   "metadata": {},
   "outputs": [
    {
     "ename": "NameError",
     "evalue": "name 'Path' is not defined",
     "output_type": "error",
     "traceback": [
      "\u001b[1;31m---------------------------------------------------------------------------\u001b[0m",
      "\u001b[1;31mNameError\u001b[0m                                 Traceback (most recent call last)",
      "Cell \u001b[1;32mIn[4], line 2\u001b[0m\n\u001b[0;32m      1\u001b[0m \u001b[38;5;66;03m#deletes the file\u001b[39;00m\n\u001b[1;32m----> 2\u001b[0m \u001b[38;5;28;01mif\u001b[39;00m(Path\u001b[38;5;241m.\u001b[39mexists(Path(Path\u001b[38;5;241m.\u001b[39mcwd(),\u001b[38;5;124m'\u001b[39m\u001b[38;5;124mUntitled.ipynb\u001b[39m\u001b[38;5;124m'\u001b[39m))):\n\u001b[0;32m      3\u001b[0m     os\u001b[38;5;241m.\u001b[39munlink(Path(Path\u001b[38;5;241m.\u001b[39mcwd(),\u001b[38;5;124m'\u001b[39m\u001b[38;5;124mUntitled.ipynb\u001b[39m\u001b[38;5;124m'\u001b[39m))\n",
      "\u001b[1;31mNameError\u001b[0m: name 'Path' is not defined"
     ]
    }
   ],
   "source": [
    "#deletes the file\n",
    "if(Path.exists(Path(Path.cwd(),'Untitled.ipynb'))):\n",
    "    os.unlink(Path(Path.cwd(),'Untitled.ipynb'))"
   ]
  },
  {
   "cell_type": "code",
   "execution_count": null,
   "metadata": {},
   "outputs": [],
   "source": [
    "#deletes an empty folder\n",
    "if(Path.is_dir(Path(Path.cwd(),'Untitled Folder'))):\n",
    "    os.rmdir(Path(Path.cwd(),'Untitled Folder'))"
   ]
  },
  {
   "cell_type": "code",
   "execution_count": null,
   "metadata": {},
   "outputs": [],
   "source": [
    "if(Path.is_dir(Path(Path.home(),'new_folder2'))):\n",
    "    shutil.rmtree(Path(Path.home(),'new_folder2'))"
   ]
  },
  {
   "cell_type": "markdown",
   "metadata": {},
   "source": [
    "## SEND2TRASH MODULE"
   ]
  },
  {
   "cell_type": "markdown",
   "metadata": {},
   "source": [
    "The send2trash module provides a safe way to delete files and folders because it will send folders and files to your computer’s trash or recycle bin instead of permanently deleting them."
   ]
  },
  {
   "cell_type": "code",
   "execution_count": null,
   "metadata": {},
   "outputs": [],
   "source": [
    "from send2trash import send2trash\n",
    "if(Path.exists(Path('./untitled.txt'))):\n",
    "    send2trash('./untitled.txt')"
   ]
  },
  {
   "cell_type": "markdown",
   "metadata": {},
   "source": [
    "## WALKING A DIRECTORY TREE"
   ]
  },
  {
   "cell_type": "markdown",
   "metadata": {},
   "source": [
    "The os.walk() module lets us walk through a directory tree visiting every file in a folder and also every file in every subfolder of that folder. The os.walk() function returns three values on each iteration through the loop:\n",
    "\n",
    "1. A string of the current folder’s name i.e \n",
    "2. A list of strings of the folders in the current folder\n",
    "3. A list of strings of the files in the current folder"
   ]
  },
  {
   "cell_type": "code",
   "execution_count": 51,
   "metadata": {},
   "outputs": [
    {
     "name": "stdout",
     "output_type": "stream",
     "text": [
      "Curent Folder: c:\\Users\\fadhl\\Desktop\\RAIN\\python\\fwpythonnotes\n",
      "\n",
      ".ipynb_checkpoints is a sub folder of c:\\Users\\fadhl\\Desktop\\RAIN\\python\\fwpythonnotes\n",
      "\n",
      "new_folder2 is a sub folder of c:\\Users\\fadhl\\Desktop\\RAIN\\python\\fwpythonnotes\n",
      "\n",
      "CLASSES AND OOP.ipynb is a file in c:\\Users\\fadhl\\Desktop\\RAIN\\python\\fwpythonnotes\n",
      "\n",
      "DataStructures.ipynb is a file in c:\\Users\\fadhl\\Desktop\\RAIN\\python\\fwpythonnotes\n",
      "\n",
      "FILEHANDLING.ipynb is a file in c:\\Users\\fadhl\\Desktop\\RAIN\\python\\fwpythonnotes\n",
      "\n",
      "FUNCTIONS.ipynb is a file in c:\\Users\\fadhl\\Desktop\\RAIN\\python\\fwpythonnotes\n",
      "\n",
      "newfile.txt is a file in c:\\Users\\fadhl\\Desktop\\RAIN\\python\\fwpythonnotes\n",
      "\n",
      "ProgramFlow.ipynb is a file in c:\\Users\\fadhl\\Desktop\\RAIN\\python\\fwpythonnotes\n",
      "\n",
      "PythonBasics.ipynb is a file in c:\\Users\\fadhl\\Desktop\\RAIN\\python\\fwpythonnotes\n",
      "\n",
      "PYTHONIC STYLE.ipynb is a file in c:\\Users\\fadhl\\Desktop\\RAIN\\python\\fwpythonnotes\n",
      "\n",
      "Reading and writing to files.ipynb is a file in c:\\Users\\fadhl\\Desktop\\RAIN\\python\\fwpythonnotes\n",
      "\n",
      "REGULAREXPRESSIONS.ipynb is a file in c:\\Users\\fadhl\\Desktop\\RAIN\\python\\fwpythonnotes\n",
      "\n",
      "TimeSchedulingTasks_LaunchingPrograms.ipynb is a file in c:\\Users\\fadhl\\Desktop\\RAIN\\python\\fwpythonnotes\n",
      "\n",
      "WebScraping.ipynb is a file in c:\\Users\\fadhl\\Desktop\\RAIN\\python\\fwpythonnotes\n",
      "\n",
      "WorkingWithCSV_JSONFiles.ipynb is a file in c:\\Users\\fadhl\\Desktop\\RAIN\\python\\fwpythonnotes\n",
      "\n",
      "WorkingWithDocuments.ipynb is a file in c:\\Users\\fadhl\\Desktop\\RAIN\\python\\fwpythonnotes\n",
      "\n",
      "WorkingWithExcel.ipynb is a file in c:\\Users\\fadhl\\Desktop\\RAIN\\python\\fwpythonnotes\n",
      "\n",
      "Curent Folder: c:\\Users\\fadhl\\Desktop\\RAIN\\python\\fwpythonnotes\\.ipynb_checkpoints\n",
      "\n",
      "CLASSES AND OOP-checkpoint.ipynb is a file in c:\\Users\\fadhl\\Desktop\\RAIN\\python\\fwpythonnotes\\.ipynb_checkpoints\n",
      "\n",
      "FUNCTIONS-checkpoint.ipynb is a file in c:\\Users\\fadhl\\Desktop\\RAIN\\python\\fwpythonnotes\\.ipynb_checkpoints\n",
      "\n",
      "ProgramFlow-checkpoint.ipynb is a file in c:\\Users\\fadhl\\Desktop\\RAIN\\python\\fwpythonnotes\\.ipynb_checkpoints\n",
      "\n",
      "WorkingWithCSV_JSONFiles-checkpoint.ipynb is a file in c:\\Users\\fadhl\\Desktop\\RAIN\\python\\fwpythonnotes\\.ipynb_checkpoints\n",
      "\n",
      "WorkingWithDocuments-checkpoint.ipynb is a file in c:\\Users\\fadhl\\Desktop\\RAIN\\python\\fwpythonnotes\\.ipynb_checkpoints\n",
      "\n",
      "Curent Folder: c:\\Users\\fadhl\\Desktop\\RAIN\\python\\fwpythonnotes\\new_folder2\n",
      "\n",
      "new_sub_folder is a sub folder of c:\\Users\\fadhl\\Desktop\\RAIN\\python\\fwpythonnotes\\new_folder2\n",
      "\n",
      "Curent Folder: c:\\Users\\fadhl\\Desktop\\RAIN\\python\\fwpythonnotes\\new_folder2\\new_sub_folder\n",
      "\n"
     ]
    }
   ],
   "source": [
    "import os\n",
    "from pathlib import Path\n",
    "for folder_name, sub_folders, filenames in os.walk(Path.cwd()):\n",
    "    print(f\"Curent Folder: {folder_name}\\n\")\n",
    "    for sub_folder in sub_folders:\n",
    "        print(f\"{sub_folder} is a sub folder of {folder_name}\\n\")\n",
    "    for filename in filenames:\n",
    "        print(f\"{filename} is a file in {folder_name}\\n\")"
   ]
  },
  {
   "cell_type": "markdown",
   "metadata": {},
   "source": [
    "## ZIP FILES\n",
    "The zipfile module allows us to work with zip files. To create a zipfile object, we import the `ZipFile` module from the zipfile library."
   ]
  },
  {
   "cell_type": "code",
   "execution_count": null,
   "metadata": {},
   "outputs": [],
   "source": [
    "from pathlib import Path\n",
    "from zipfile import ZipFile\n",
    "p = Path.cwd()\n",
    "exampleZip = ZipFile(p/'RAIN_PYTHON_PROGRAMMING.zip')\n",
    "print(exampleZip)"
   ]
  },
  {
   "cell_type": "markdown",
   "metadata": {},
   "source": [
    "The zipfile object has a method called `namelist()` that allows us to see all the files and folders in the zipped folder. "
   ]
  },
  {
   "cell_type": "code",
   "execution_count": null,
   "metadata": {},
   "outputs": [],
   "source": [
    "exampleZip.namelist()"
   ]
  },
  {
   "cell_type": "markdown",
   "metadata": {},
   "source": [
    "The ZipFile has a getinfo()  method that returns a ZipInfo object about any particular file contained in the zip."
   ]
  },
  {
   "cell_type": "code",
   "execution_count": null,
   "metadata": {},
   "outputs": [],
   "source": [
    "info = exampleZip.getinfo('RAIN-PYTHON PROGRAMMING/RAIN-PYTHON PROGRAMMING/Data_copy.xlsx')\n",
    "print(info)\n",
    "print(f\"Actual file size: {info.file_size}\")\n",
    "print(f\"Compressed file size: {info.compress_size}\")"
   ]
  },
  {
   "cell_type": "markdown",
   "metadata": {},
   "source": [
    "## EXTRACTING FROM ZIP FILES\n",
    "To extract contents from a zip file, we use the extractall() method. This method extracts all the files and folders from a ZIP file into the specified directory or into the current working directory if no directory is specified."
   ]
  },
  {
   "cell_type": "code",
   "execution_count": null,
   "metadata": {},
   "outputs": [],
   "source": [
    "exampleZip.extractall()"
   ]
  },
  {
   "cell_type": "code",
   "execution_count": null,
   "metadata": {},
   "outputs": [],
   "source": [
    "exampleZip.extractall(Path.home())"
   ]
  },
  {
   "cell_type": "markdown",
   "metadata": {},
   "source": [
    "The extract() method for ZipFile objects will extract a single file from the ZIP file."
   ]
  },
  {
   "cell_type": "code",
   "execution_count": null,
   "metadata": {},
   "outputs": [],
   "source": [
    "exampleZip.extract('RAIN-PYTHON PROGRAMMING/RAIN-PYTHON PROGRAMMING/Data_copy.xlsx')\n",
    "exampleZip.extract('RAIN-PYTHON PROGRAMMING/RAIN-PYTHON PROGRAMMING/Data_copy.xlsx', Path.home())\n",
    "exampleZip.close()"
   ]
  },
  {
   "cell_type": "markdown",
   "metadata": {},
   "source": [
    "## CREATING AND ADDING TO ZIP FILES\n",
    "To create a zip file, we open a zip file object in write mode by pass a second parameter 'w' to the ZipFile object. "
   ]
  },
  {
   "cell_type": "code",
   "execution_count": null,
   "metadata": {},
   "outputs": [],
   "source": [
    "with ZipFile('new.zip', 'w') as new_zip:\n",
    "    pass"
   ]
  },
  {
   "cell_type": "markdown",
   "metadata": {},
   "source": [
    "The write() method of the ZipFile object takes two paramaeters. The first parameter is the file and the second parameter is the compression_type. The compression_type parameter tells the computer the compression algorithm to use on the files. You can just set the compression_parameter to 'zipfile.ZIP_DEFLATED' which is the deflate compression algorithm and it works well on all data types."
   ]
  },
  {
   "cell_type": "code",
   "execution_count": null,
   "metadata": {},
   "outputs": [],
   "source": [
    "import zipfile\n",
    "with ZipFile('new.zip', 'w') as new_zip:\n",
    "    new_zip.write('newfile.txt', compress_type = zipfile.ZIP_DEFLATED)\n",
    "    new_zip.extractall(Path(Path.cwd() , 'new_folder'))"
   ]
  },
  {
   "cell_type": "markdown",
   "metadata": {},
   "source": [
    "NOTE: Just like the open function, opening a zip file in write mode would overwrite its existing contents. To add to the contents, pass 'a' as the mode to open the zip file in an append mode."
   ]
  },
  {
   "cell_type": "markdown",
   "metadata": {},
   "source": [
    "## EXERCISES"
   ]
  },
  {
   "cell_type": "markdown",
   "metadata": {},
   "source": [
    "1. Write a program that walks through a folder tree, searches for files with a certain file extension (such as .pdf or .jpg) or that begins with a certain prefix (e.g PY101-PythonBasics, PY101-ProgramFlow) and copies these files from their current location to a new folder.\n",
    "2. Write a program that walks through a folder tree and searches for  files or folders with file size of more than 100MB. Print these files with their absolute path to the screen.\n",
    "\n",
    "\n"
   ]
  },
  {
   "cell_type": "markdown",
   "metadata": {},
   "source": [
    "## EXERCISE 1\n"
   ]
  },
  {
   "cell_type": "code",
   "execution_count": 15,
   "metadata": {},
   "outputs": [
    {
     "name": "stdout",
     "output_type": "stream",
     "text": [
      "Source folder not found.\n"
     ]
    }
   ],
   "source": [
    "import os\n",
    "import shutil\n",
    "\n",
    "def copy_files(source_folder, destination_folder, extensions=None, prefixes=None):\n",
    "    if not os.path.exists(destination_folder):\n",
    "        os.makedirs(destination_folder)\n",
    "\n",
    "    for root, dirs, files in os.walk(source_folder):\n",
    "        for file in files:\n",
    "            file_path = os.path.join(root, file)\n",
    "            if extensions and os.path.splitext(file)[1].lower() in extensions:\n",
    "                shutil.copy2(file_path, destination_folder)\n",
    "            elif prefixes and any(file.startswith(prefix) for prefix in prefixes):\n",
    "                shutil.copy2(file_path, destination_folder)\n",
    "\n",
    "if __name__ == \"__main__\":\n",
    "    source_folder = input(Path.cwd())\n",
    "    destination_folder = input(Path.home)\n",
    "\n",
    "    extensions = ['.pdf', '.jpg']  \n",
    "    prefixes = ['PY101-', 'CS200-'] \n",
    "\n",
    "    if os.path.exists(source_folder):\n",
    "        copy_files(source_folder, destination_folder, extensions, prefixes)\n",
    "        print(\"Files copied successfully.\")\n",
    "    else:\n",
    "        print(\"Source folder not found.\")\n"
   ]
  },
  {
   "cell_type": "code",
   "execution_count": 7,
   "metadata": {},
   "outputs": [
    {
     "name": "stdout",
     "output_type": "stream",
     "text": [
      "Folder not found.\n"
     ]
    }
   ],
   "source": [
    "import os\n",
    "\n",
    "def find_large_files(start_folder, min_size=100 * 1024 * 1024):  # 100MB in bytes\n",
    "    for root, dirs, files in os.walk(start_folder):\n",
    "        for file in files:\n",
    "            file_path = os.path.join(root, file)\n",
    "            if os.path.getsize(file_path) > min_size:\n",
    "                print(\"Large file found:\", file_path)\n",
    "\n",
    "if __name__ == \"__main__\":\n",
    "    folder_to_search = input(\"Enter the folder path to search: \")\n",
    "    if os.path.exists(folder_to_search):\n",
    "        find_large_files(folder_to_search)\n",
    "    else:\n",
    "        print(\"Folder not found.\")\n"
   ]
  },
  {
   "cell_type": "code",
   "execution_count": null,
   "metadata": {},
   "outputs": [],
   "source": []
  },
  {
   "cell_type": "code",
   "execution_count": null,
   "metadata": {},
   "outputs": [],
   "source": []
  }
 ],
 "metadata": {
  "kernelspec": {
   "display_name": "Python 3",
   "language": "python",
   "name": "python3"
  },
  "language_info": {
   "codemirror_mode": {
    "name": "ipython",
    "version": 3
   },
   "file_extension": ".py",
   "mimetype": "text/x-python",
   "name": "python",
   "nbconvert_exporter": "python",
   "pygments_lexer": "ipython3",
   "version": "3.11.7"
  }
 },
 "nbformat": 4,
 "nbformat_minor": 4
}
