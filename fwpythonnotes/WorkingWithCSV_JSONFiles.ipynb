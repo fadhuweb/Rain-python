{
 "cells": [
  {
   "cell_type": "markdown",
   "metadata": {},
   "source": [
    "## WORKING WITH CSV AND JSON FILES\n",
    "CSV (Comma Seperated Values) and JSON (JavaScript Object Notation) files are text files, they can be viewed using text editors. CSV files are simplied spreadsheets and JSON format is used in many web applications."
   ]
  },
  {
   "cell_type": "code",
   "execution_count": null,
   "metadata": {},
   "outputs": [],
   "source": [
    "import csv"
   ]
  },
  {
   "cell_type": "markdown",
   "metadata": {},
   "source": [
    "## THE CSV MODULE\n",
    "The CSV module is used for reading and writing CSV files. Each line in a CSV file represents a row in an excel spreadsheet and each cell value is seperated by a comma in a row."
   ]
  },
  {
   "cell_type": "markdown",
   "metadata": {},
   "source": [
    "## READING FROM CSV FILES\n",
    "To read from a csv file, we use the reader() method, this method takes a file object as parameter. It also takes an optional parameter called delimeter. A delimiter is a character used to separate the values. By default, the delimiter is a comma. If the CSV file is seperated with a delimeter different from a comma, then you will have to pass the delimiter as an argument to the reader() method. "
   ]
  },
  {
   "cell_type": "code",
   "execution_count": null,
   "metadata": {},
   "outputs": [],
   "source": [
    "file_obj = open('100 Sales Records.csv', 'rt')\n",
    "reader_obj = csv.reader(file_obj)\n",
    "print(reader_obj)"
   ]
  },
  {
   "cell_type": "markdown",
   "metadata": {},
   "source": [
    "You can iterate through the reader object to access contents of the csv file"
   ]
  },
  {
   "cell_type": "code",
   "execution_count": null,
   "metadata": {},
   "outputs": [],
   "source": [
    "for line in reader_obj:\n",
    "    print(line)\n",
    "file_obj.close()"
   ]
  },
  {
   "cell_type": "markdown",
   "metadata": {},
   "source": [
    "From the above code, you can see that the header was also printed out. If you do not want it printed out, you can skip it by using the next() iterator function. You can also choose which of the values you want to print."
   ]
  },
  {
   "cell_type": "code",
   "execution_count": null,
   "metadata": {},
   "outputs": [],
   "source": [
    "with open ('100 Sales Records.csv', 'r') as csv_file:\n",
    "    csv_reader = csv.reader(csv_file)\n",
    "    #next(csv_reader) #skipping the header rows\n",
    "    for line in csv_reader:\n",
    "        if(csv_reader.line_num == 1):\n",
    "            continue\n",
    "        print(f'Item:{line[2]} Units sold:{line[9]} Unit Price:{line[10]}')"
   ]
  },
  {
   "cell_type": "markdown",
   "metadata": {},
   "source": [
    "## THE DICTREADER() METHOD\n",
    "The CSV module has a DictReader() method which reads a csv file and returns an OrderedDict of values. An OrderedDict is a sub class of a dictionary that preserves the order in which the keys were inserted.\n",
    "The DictReader() method is useful for csv files that have header rows. Unlike the reader() method which returns the header rows of a csv file as part of the contents of the file, the DictReader() uses the header rows as keys for each dictionary object."
   ]
  },
  {
   "cell_type": "code",
   "execution_count": null,
   "metadata": {},
   "outputs": [],
   "source": [
    "#f = open('100 Sales Records.csv', 'r')\n",
    "\n",
    "with open('100 Sales Records.csv', 'r') as f:\n",
    "    csv_reader = csv.DictReader(f)\n",
    "    for line in csv_reader:\n",
    "        print(line)"
   ]
  },
  {
   "cell_type": "markdown",
   "metadata": {},
   "source": [
    "If there is no header rows in the csv file, the DictReader() would use the first row as dictionary keys. To avoid this, we can pass a list of headers to the DictReader() method."
   ]
  },
  {
   "cell_type": "markdown",
   "metadata": {},
   "source": [
    "## WRITING TO CSV FILES\n",
    "To write data to a csv file, we use the writer() method of the csv module. This method also takes a file object as a parameter. The delimiter parameter is optional.\n"
   ]
  },
  {
   "cell_type": "code",
   "execution_count": null,
   "metadata": {},
   "outputs": [],
   "source": [
    "f = open('100SalesRecords_copy.csv', 'w')\n",
    "writer_obj = csv.writer(f)"
   ]
  },
  {
   "cell_type": "markdown",
   "metadata": {},
   "source": [
    "The writer() method returns a writer object. This object has a writerow() method that takes a list of values as parameter. In the code below, we try to write some values in an existing csv file to a new csv file. "
   ]
  },
  {
   "cell_type": "code",
   "execution_count": null,
   "metadata": {},
   "outputs": [],
   "source": [
    "with open('100 Sales Records.csv', 'r') as file_reader:\n",
    "    csv_reader = csv.DictReader(file_reader)\n",
    "    with open('new_sales_records.csv', 'w') as file_writer:\n",
    "        csv_writer = csv.writer(file_writer, delimiter = ',')\n",
    "        csv_writer.writerow(['Item Type', 'Units Sold', 'Unit Price'])\n",
    "        for line in csv_reader:\n",
    "            item_type = line['Item Type']\n",
    "            units_sold = line['Units Sold']\n",
    "            units_price = line['Unit Price']\n",
    "            csv_writer.writerow([item_type, units_sold, units_price])\n",
    "            "
   ]
  },
  {
   "cell_type": "markdown",
   "metadata": {},
   "source": [
    "## THE DICTWRITER() METHOD\n",
    "The DictWriter() method is used to write dictionary objects to a csv file. Asides taking a file object as argument, this method also takes a delimiter and a list of headers (fieldnames) as parameters."
   ]
  },
  {
   "cell_type": "markdown",
   "metadata": {},
   "source": [
    "To write the headers to the csv file, we use the writeheader() method of the writer object.  The writerow() method of the dict writer object takes a dictionary object as parameter. The keys of the dictionary are headers of the csv."
   ]
  },
  {
   "cell_type": "code",
   "execution_count": null,
   "metadata": {},
   "outputs": [],
   "source": [
    "fields = ['Name', 'Gender', 'Age']\n",
    "dict_list = [{'Name':'Angela', 'Gender':'Female', 'Age':20}, \n",
    "             {'Name':'Betty', 'Gender':'Female', 'Age':18},\n",
    "            {'Name':'Charles', 'Gender':'Male', 'Age':19},\n",
    "            {'Name':'Desmond', 'Gender':'Male', 'Age':22},\n",
    "            {'Name':'Esther', 'Gender':'Female', 'Age':20}]"
   ]
  },
  {
   "cell_type": "code",
   "execution_count": null,
   "metadata": {},
   "outputs": [],
   "source": [
    "with open('Students_list.csv', 'w') as f:\n",
    "    csv_writer = csv.DictWriter(f,fieldnames =fields, delimiter = '\\t')\n",
    "    csv_writer.writeheader()\n",
    "    for dict_item in dict_list:\n",
    "        csv_writer.writerow(dict_item)"
   ]
  },
  {
   "attachments": {
    "image.png": {
     "image/png": "[encoded data removed]"
    }
   },
   "cell_type": "markdown",
   "metadata": {},
   "source": [
    "## JSON AND API\n",
    "JSON stands for JavaScript Object Notation. It is a popular way to format data as a single human readable string. Many websites provide their content as json data for programs to interact with. This is known as API (Application Programming Interface). Accessing an API is similar to accesing a web page via a URL. To make an API call, you need to check the API documentation to know the URLs your program needs to request in order to get the data you want, as well as the general format of the JSON data structures that are returned.\n",
    "![image.png](attachment:image.png)"
   ]
  },
  {
   "cell_type": "markdown",
   "metadata": {},
   "source": [
    "The above picture is an example of a json data. Json data supports primitive types; strings, numbers, nested data structures."
   ]
  },
  {
   "cell_type": "markdown",
   "metadata": {},
   "source": [
    "## THE JSON MODULE\n",
    "The json module allows us to translate json data to python objects and vice versa. You can convert any python object to json. Below is the conversion chart for encoding/serialising python objects."
   ]
  },
  {
   "attachments": {
    "image.png": {
     "image/png": "[encoded data removed]"
    }
   },
   "cell_type": "markdown",
   "metadata": {},
   "source": [
    "![image.png](attachment:image.png)"
   ]
  },
  {
   "cell_type": "markdown",
   "metadata": {},
   "source": [
    "Below is the conversion chart for decoding/deserialising json data."
   ]
  },
  {
   "attachments": {
    "image.png": {
     "image/png": "[encoded data removed]"
    }
   },
   "cell_type": "markdown",
   "metadata": {},
   "source": [
    " ![image.png](attachment:image.png)"
   ]
  },
  {
   "cell_type": "markdown",
   "metadata": {},
   "source": [
    "The json module has various methods to parse json data. The loads() and dumps() methods allow us to parse a string of json data. The loads() function which stands for `load string` allows us to translate/decode/deserialize a string of json data to a python object."
   ]
  },
  {
   "cell_type": "code",
   "execution_count": null,
   "metadata": {},
   "outputs": [],
   "source": [
    "import json\n",
    "json_str = '{\"name\": \"Amanda\", \"age\": 20, \"can_drive\": true, \"IQ\": null}'\n",
    "data = json.loads(json_str)\n",
    "data\n",
    "#type(json_str)"
   ]
  },
  {
   "cell_type": "markdown",
   "metadata": {},
   "source": [
    "The dumps() function which stands for `dump string` is used to translate/encode/serialise python objects to a string of json data."
   ]
  },
  {
   "cell_type": "code",
   "execution_count": null,
   "metadata": {},
   "outputs": [],
   "source": [
    "data = {'name': 'Amanda', 'age': 20, 'can_drive': True, 'IQ': None}\n",
    "json_str = json.dumps(data)\n",
    "json_str"
   ]
  },
  {
   "cell_type": "markdown",
   "metadata": {},
   "source": [
    "The load() and dump() methods allow us to parse a file containing json data. Below is an example of how we can use the load() method to deserialise a json data from a URL."
   ]
  },
  {
   "cell_type": "code",
   "execution_count": null,
   "metadata": {},
   "outputs": [],
   "source": [
    "with open('example_2.json', 'r') as f:\n",
    "    data = json.load(f)"
   ]
  },
  {
   "cell_type": "code",
   "execution_count": null,
   "metadata": {},
   "outputs": [],
   "source": [
    "print(data)"
   ]
  },
  {
   "cell_type": "code",
   "execution_count": null,
   "metadata": {},
   "outputs": [],
   "source": [
    "data['quiz']['sport']['q1']['options']"
   ]
  },
  {
   "cell_type": "markdown",
   "metadata": {},
   "source": [
    "Below is an example of how to serialise a python object to json using the dump method. The dump method takes two required parameters, the python object to be serialised and the file object to which the json data would be written."
   ]
  },
  {
   "cell_type": "code",
   "execution_count": null,
   "metadata": {},
   "outputs": [],
   "source": [
    "data = {\n",
    "  \"colors\": [\n",
    "    {\n",
    "      \"color\": \"black\",\n",
    "      \"category\": \"hue\",\n",
    "      \"type\": \"primary\",\n",
    "      \"code\": {\n",
    "        \"rgba\": [255,255,255,1],\n",
    "        \"hex\": \"#000\"\n",
    "      }\n",
    "    },\n",
    "    {\n",
    "      \"color\": \"white\",\n",
    "      \"category\": \"value\",\n",
    "      \"code\": {\n",
    "        \"rgba\": [0,0,0,1],\n",
    "        \"hex\": \"#FFF\"\n",
    "      }\n",
    "    },\n",
    "    {\n",
    "      \"color\": \"red\",\n",
    "      \"category\": \"hue\",\n",
    "      \"type\": \"primary\",\n",
    "      \"code\": {\n",
    "        \"rgba\": [255,0,0,1],\n",
    "        \"hex\": \"#FF0\"\n",
    "      }\n",
    "    },\n",
    "    {\n",
    "      \"color\": \"blue\",\n",
    "      \"category\": \"hue\",\n",
    "      \"type\": \"primary\",\n",
    "      \"code\": {\n",
    "        \"rgba\": [0,0,255,1],\n",
    "        \"hex\": \"#00F\"\n",
    "      }\n",
    "    }\n",
    "  ]\n",
    "}"
   ]
  },
  {
   "cell_type": "code",
   "execution_count": null,
   "metadata": {},
   "outputs": [],
   "source": [
    "with open('colors.json', 'w') as f:\n",
    "    json.dump(data, f, indent = 6)"
   ]
  },
  {
   "cell_type": "markdown",
   "metadata": {},
   "source": [
    "## EXERCISE\n",
    "Load the todo json data from the url https://jsonplaceholder.typicode.com/todos and write to a new csv file all todos that have been completed."
   ]
  },
  {
   "cell_type": "code",
   "execution_count": 5,
   "metadata": {},
   "outputs": [],
   "source": [
    "import requests\n",
    "import csv\n",
    "\n",
    "response = requests.get('https://jsonplaceholder.typicode.com/todos')\n",
    "\n",
    "# Parse the JSON response\n",
    "todos = response.json()\n",
    "\n",
    "# Create a CSV writer\n",
    "with open('completed_todos.csv', 'w', newline='') as csvfile:\n",
    "    writer = csv.writer(csvfile)\n",
    "\n",
    "    writer.writerow(['userId', 'id', 'title', 'completed'])\n",
    "\n",
    "    # Iterate over the todos and write the completed ones to the CSV file\n",
    "    for todo in todos:\n",
    "        if todo['completed']:\n",
    "            writer.writerow([todo['userId'], todo['id'], todo['title'], todo['completed']])"
   ]
  },
  {
   "cell_type": "code",
   "execution_count": 9,
   "metadata": {},
   "outputs": [
    {
     "name": "stdout",
     "output_type": "stream",
     "text": [
      "['userId', 'id', 'title', 'completed']\n",
      "['1', '4', 'et porro tempora', 'True']\n",
      "['1', '8', 'quo adipisci enim quam ut ab', 'True']\n",
      "['1', '10', 'illo est ratione doloremque quia maiores aut', 'True']\n",
      "['1', '11', 'vero rerum temporibus dolor', 'True']\n",
      "['1', '12', 'ipsa repellendus fugit nisi', 'True']\n",
      "['1', '14', 'repellendus sunt dolores architecto voluptatum', 'True']\n",
      "['1', '15', 'ab voluptatum amet voluptas', 'True']\n",
      "['1', '16', 'accusamus eos facilis sint et aut voluptatem', 'True']\n",
      "['1', '17', 'quo laboriosam deleniti aut qui', 'True']\n",
      "['1', '19', 'molestiae ipsa aut voluptatibus pariatur dolor nihil', 'True']\n",
      "['1', '20', 'ullam nobis libero sapiente ad optio sint', 'True']\n",
      "['2', '22', 'distinctio vitae autem nihil ut molestias quo', 'True']\n",
      "['2', '25', 'voluptas quo tenetur perspiciatis explicabo natus', 'True']\n",
      "['2', '26', 'aliquam aut quasi', 'True']\n",
      "['2', '27', 'veritatis pariatur delectus', 'True']\n",
      "['2', '30', 'nemo perspiciatis repellat ut dolor libero commodi blanditiis omnis', 'True']\n",
      "['2', '35', 'repellendus veritatis molestias dicta incidunt', 'True']\n",
      "['2', '36', 'excepturi deleniti adipisci voluptatem et neque optio illum ad', 'True']\n",
      "['2', '40', 'totam atque quo nesciunt', 'True']\n",
      "['3', '43', 'tempore ut sint quis recusandae', 'True']\n",
      "['3', '44', 'cum debitis quis accusamus doloremque ipsa natus sapiente omnis', 'True']\n",
      "['3', '50', 'cupiditate necessitatibus ullam aut quis dolor voluptate', 'True']\n",
      "['3', '54', 'quis et est ut voluptate quam dolor', 'True']\n",
      "['3', '55', 'voluptatum omnis minima qui occaecati provident nulla voluptatem ratione', 'True']\n",
      "['3', '56', 'deleniti ea temporibus enim', 'True']\n",
      "['3', '60', 'et sequi qui architecto ut adipisci', 'True']\n",
      "['4', '61', 'odit optio omnis qui sunt', 'True']\n",
      "['4', '63', 'doloremque aut dolores quidem fuga qui nulla', 'True']\n",
      "['4', '73', 'sint amet quia totam corporis qui exercitationem commodi', 'True']\n",
      "['4', '76', 'sequi dolorem sed', 'True']\n",
      "['4', '79', 'eum ipsa maxime ut', 'True']\n",
      "['4', '80', 'tempore molestias dolores rerum sequi voluptates ipsum consequatur', 'True']\n",
      "['5', '81', 'suscipit qui totam', 'True']\n",
      "['5', '83', 'quidem at rerum quis ex aut sit quam', 'True']\n",
      "['5', '85', 'et quia ad iste a', 'True']\n",
      "['5', '86', 'incidunt ut saepe autem', 'True']\n",
      "['5', '87', 'laudantium quae eligendi consequatur quia et vero autem', 'True']\n",
      "['5', '89', 'sequi ut omnis et', 'True']\n",
      "['5', '90', 'molestiae nisi accusantium tenetur dolorem et', 'True']\n",
      "['5', '91', 'nulla quis consequatur saepe qui id expedita', 'True']\n",
      "['5', '92', 'in omnis laboriosam', 'True']\n",
      "['5', '93', 'odio iure consequatur molestiae quibusdam necessitatibus quia sint', 'True']\n",
      "['5', '95', 'vel nihil et molestiae iusto assumenda nemo quo ut', 'True']\n",
      "['5', '98', 'debitis accusantium ut quo facilis nihil quis sapiente necessitatibus', 'True']\n",
      "['6', '105', 'totam quia dolorem et illum repellat voluptas optio', 'True']\n",
      "['6', '106', 'ad illo quis voluptatem temporibus', 'True']\n",
      "['6', '108', 'a eos eaque nihil et exercitationem incidunt delectus', 'True']\n",
      "['6', '109', 'autem temporibus harum quisquam in culpa', 'True']\n",
      "['6', '110', 'aut aut ea corporis', 'True']\n",
      "['6', '116', 'ipsa dolores vel facilis ut', 'True']\n",
      "['7', '121', 'inventore aut nihil minima laudantium hic qui omnis', 'True']\n",
      "['7', '122', 'provident aut nobis culpa', 'True']\n",
      "['7', '126', 'ut asperiores perspiciatis veniam ipsum rerum saepe', 'True']\n",
      "['7', '127', 'voluptatem libero consectetur rerum ut', 'True']\n",
      "['7', '130', 'nulla aliquid eveniet harum laborum libero alias ut unde', 'True']\n",
      "['7', '132', 'qui molestiae voluptatibus velit iure harum quisquam', 'True']\n",
      "['7', '133', 'et labore eos enim rerum consequatur sunt', 'True']\n",
      "['7', '138', 'placeat minima consequatur rem qui ut', 'True']\n",
      "['7', '140', 'aut consectetur in blanditiis deserunt quia sed laboriosam', 'True']\n",
      "['8', '141', 'explicabo consectetur debitis voluptates quas quae culpa rerum non', 'True']\n",
      "['8', '142', 'maiores accusantium architecto necessitatibus reiciendis ea aut', 'True']\n",
      "['8', '146', 'molestiae suscipit ratione nihil odio libero impedit vero totam', 'True']\n",
      "['8', '147', 'eum itaque quod reprehenderit et facilis dolor autem ut', 'True']\n",
      "['8', '151', 'accusamus adipisci dicta qui quo ea explicabo sed vero', 'True']\n",
      "['8', '154', 'rerum non ex sapiente', 'True']\n",
      "['8', '155', 'voluptatem nobis consequatur et assumenda magnam', 'True']\n",
      "['8', '156', 'nam quia quia nulla repellat assumenda quibusdam sit nobis', 'True']\n",
      "['8', '157', 'dolorem veniam quisquam deserunt repellendus', 'True']\n",
      "['8', '158', 'debitis vitae delectus et harum accusamus aut deleniti a', 'True']\n",
      "['8', '159', 'debitis adipisci quibusdam aliquam sed dolore ea praesentium nobis', 'True']\n",
      "['9', '161', 'ex hic consequuntur earum omnis alias ut occaecati culpa', 'True']\n",
      "['9', '162', 'omnis laboriosam molestias animi sunt dolore', 'True']\n",
      "['9', '169', 'ea odio perferendis officiis', 'True']\n",
      "['9', '171', 'fugiat aut voluptatibus corrupti deleniti velit iste odio', 'True']\n",
      "['9', '175', 'laudantium eius officia perferendis provident perspiciatis asperiores', 'True']\n",
      "['9', '178', 'nesciunt itaque commodi tempore', 'True']\n",
      "['9', '179', 'omnis consequuntur cupiditate impedit itaque ipsam quo', 'True']\n",
      "['9', '180', 'debitis nisi et dolorem repellat et', 'True']\n",
      "['10', '182', 'inventore saepe cumque et aut illum enim', 'True']\n",
      "['10', '183', 'omnis nulla eum aliquam distinctio', 'True']\n",
      "['10', '188', 'vel non beatae est', 'True']\n",
      "['10', '189', 'culpa eius et voluptatem et', 'True']\n",
      "['10', '190', 'accusamus sint iusto et voluptatem exercitationem', 'True']\n",
      "['10', '191', 'temporibus atque distinctio omnis eius impedit tempore molestias pariatur', 'True']\n",
      "['10', '193', 'rerum debitis voluptatem qui eveniet tempora distinctio a', 'True']\n",
      "['10', '195', 'rerum ex veniam mollitia voluptatibus pariatur', 'True']\n",
      "['10', '196', 'consequuntur aut ut fugit similique', 'True']\n",
      "['10', '197', 'dignissimos quo nobis earum saepe', 'True']\n",
      "['10', '198', 'quis eius est sint explicabo', 'True']\n",
      "['10', '199', 'numquam repellendus a magnam', 'True']\n"
     ]
    }
   ],
   "source": [
    "import csv\n",
    "\n",
    "with open('completed_todos.csv', 'r') as file:\n",
    "    reader = csv.reader(file)\n",
    "    for row in reader:\n",
    "        print(row)"
   ]
  },
  {
   "cell_type": "code",
   "execution_count": null,
   "metadata": {},
   "outputs": [],
   "source": []
  }
 ],
 "metadata": {
  "kernelspec": {
   "display_name": "Python 3 (ipykernel)",
   "language": "python",
   "name": "python3"
  },
  "language_info": {
   "codemirror_mode": {
    "name": "ipython",
    "version": 3
   },
   "file_extension": ".py",
   "mimetype": "text/x-python",
   "name": "python",
   "nbconvert_exporter": "python",
   "pygments_lexer": "ipython3",
   "version": "3.11.7"
  }
 },
 "nbformat": 4,
 "nbformat_minor": 4
}
