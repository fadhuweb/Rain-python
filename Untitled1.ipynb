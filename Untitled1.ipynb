{
 "cells": [
  {
   "cell_type": "markdown",
   "id": "a33ca83d",
   "metadata": {},
   "source": [
    "## EXCERCISE 1"
   ]
  },
  {
   "cell_type": "code",
   "execution_count": 2,
   "id": "e77c087f",
   "metadata": {},
   "outputs": [
    {
     "data": {
      "text/plain": [
       "9.320565"
      ]
     },
     "execution_count": 2,
     "metadata": {},
     "output_type": "execute_result"
    }
   ],
   "source": [
    "def km_to_miles(kilometers):\n",
    "    miles = kilometers * 0.621371\n",
    "    return miles\n",
    "km_to_miles(15)"
   ]
  },
  {
   "cell_type": "markdown",
   "id": "e3da8111",
   "metadata": {},
   "source": [
    "## EXERCISE 2"
   ]
  },
  {
   "cell_type": "code",
   "execution_count": 3,
   "id": "180392d3",
   "metadata": {},
   "outputs": [
    {
     "data": {
      "text/plain": [
       "False"
      ]
     },
     "execution_count": 3,
     "metadata": {},
     "output_type": "execute_result"
    }
   ],
   "source": [
    "def is_divisible_by_11(n):\n",
    "    if n % 11 == 0:\n",
    "        return True\n",
    "    else:\n",
    "        return False\n",
    "is_divisible_by_11(20)"
   ]
  },
  {
   "cell_type": "markdown",
   "id": "ed1aa9e0",
   "metadata": {},
   "source": [
    "## EXERCISE 3"
   ]
  },
  {
   "cell_type": "code",
   "execution_count": 4,
   "id": "9e05f9ce",
   "metadata": {},
   "outputs": [
    {
     "data": {
      "text/plain": [
       "5"
      ]
     },
     "execution_count": 4,
     "metadata": {},
     "output_type": "execute_result"
    }
   ],
   "source": [
    "def get_highest(num1, num2):\n",
    "    return max(num1, num2)\n",
    "get_highest(3,5)"
   ]
  },
  {
   "cell_type": "markdown",
   "id": "c3ddc6a1",
   "metadata": {},
   "source": [
    "## EXERCISE 4"
   ]
  },
  {
   "cell_type": "code",
   "execution_count": 5,
   "id": "c09f64e7",
   "metadata": {},
   "outputs": [
    {
     "data": {
      "text/plain": [
       "64.9519052838329"
      ]
     },
     "execution_count": 5,
     "metadata": {},
     "output_type": "execute_result"
    }
   ],
   "source": [
    "import math\n",
    "\n",
    "def hexagon_area(side_length):\n",
    "    area = (3 * math.sqrt(3) / 2) * (side_length ** 2)\n",
    "    return area\n",
    "hexagon_area(5)"
   ]
  },
  {
   "cell_type": "markdown",
   "id": "702c3a39",
   "metadata": {},
   "source": [
    "## EXERCISE 7"
   ]
  },
  {
   "cell_type": "code",
   "execution_count": 7,
   "id": "bed28f9d",
   "metadata": {},
   "outputs": [
    {
     "data": {
      "text/plain": [
       "0.2"
      ]
     },
     "execution_count": 7,
     "metadata": {},
     "output_type": "execute_result"
    }
   ],
   "source": [
    "def fuel_cost(distance, mpg=50, fuel_cost=1):\n",
    "    fuel_needed = distance / mpg\n",
    "    cost = fuel_needed * fuel_cost\n",
    "    return cost\n",
    "fuel_cost(10)"
   ]
  },
  {
   "cell_type": "markdown",
   "id": "6c55f583",
   "metadata": {},
   "source": [
    "## EXCERCISE 9"
   ]
  },
  {
   "cell_type": "code",
   "execution_count": 9,
   "id": "ac3cb1c6",
   "metadata": {},
   "outputs": [
    {
     "data": {
      "text/plain": [
       "False"
      ]
     },
     "execution_count": 9,
     "metadata": {},
     "output_type": "execute_result"
    }
   ],
   "source": [
    "def is_prime(n):\n",
    "    if n < 2:\n",
    "        return False\n",
    "    for i in range(2, int(n**0.5) + 1):\n",
    "        if n % i == 0:\n",
    "            return False\n",
    "    return True\n",
    "is_prime(9)"
   ]
  },
  {
   "cell_type": "markdown",
   "id": "e12759d0",
   "metadata": {},
   "source": [
    "## EXCERCISE 10"
   ]
  },
  {
   "cell_type": "code",
   "execution_count": null,
   "id": "bb55c27e",
   "metadata": {},
   "outputs": [],
   "source": [
    "def primes(n):\n",
    "    if n < 2:\n",
    "        return []\n",
    "    primes = [2]\n",
    "    for i in range(3, n + 1, 2):\n",
    "        if is_prime(i):\n",
    "            primes.append(i)\n",
    "    return primes\n",
    "primes(10)"
   ]
  },
  {
   "cell_type": "markdown",
   "id": "93480651",
   "metadata": {},
   "source": [
    "## EXERCISE 11"
   ]
  },
  {
   "cell_type": "code",
   "execution_count": 13,
   "id": "61afed8f",
   "metadata": {},
   "outputs": [
    {
     "data": {
      "text/plain": [
       "5"
      ]
     },
     "execution_count": 13,
     "metadata": {},
     "output_type": "execute_result"
    }
   ],
   "source": [
    "def hcf(a, b):\n",
    "    if b == 0:\n",
    "        return abs(a)\n",
    "    else:\n",
    "        return hcf(b, a % b)\n",
    "hcf(-5,0)"
   ]
  },
  {
   "cell_type": "markdown",
   "id": "ac8002cc",
   "metadata": {},
   "source": []
  },
  {
   "cell_type": "code",
   "execution_count": null,
   "id": "e7ba289f",
   "metadata": {},
   "outputs": [],
   "source": [
    "score = float(input( \"Score: \"))\n",
    "if ((score >= 0) and (score < 50)):\n",
    "    grade = 'F'\n",
    "elif (score >= 50 and score < 60):\n",
    "    grade = 'E'\n",
    "elif (score >= 60 and score < 70):\n",
    "    grade = 'D'\n",
    "elif (score >= 70 and score < 74):\n",
    "    grade = 'C-'\n",
    "elif (score == 74 or score == 75):\n",
    "    grade= 'C'\n",
    "elif (score >= 75 and score < 80):\n",
    "    grade= 'C+'\n",
    "elif (score >= 80 and score <85):\n",
    "    grade = 'B-'\n",
    "elif (score == 84 or score == 85):\n",
    "    grade = 'B'\n",
    "elif (score >= 85 and score <90):\n",
    "    grade = 'B+'\n",
    "elif (score >= 90):\n",
    "    grade = 'A+'\n",
    "else:\n",
    "    grade ='INVALID'\n",
    "    \n",
    "print('GRADE:', grade)\n",
    "    "
   ]
  },
  {
   "cell_type": "code",
   "execution_count": 1,
   "id": "6d9e9a94",
   "metadata": {},
   "outputs": [
    {
     "name": "stdout",
     "output_type": "stream",
     "text": [
      "Guess: 5\n",
      "Yay!! Your guess was right.\n"
     ]
    }
   ],
   "source": [
    "my_number = 5\n",
    "while True:\n",
    "    number = int(input('Guess: '))\n",
    "    if (number == my_number):\n",
    "        print('Yay!! Your guess was right.')\n",
    "        break\n",
    "    elif (number > my_number):\n",
    "        print (\"Your number was too high\")\n",
    "    else:\n",
    "        print(\"Your number was too low\")"
   ]
  },
  {
   "cell_type": "code",
   "execution_count": 7,
   "id": "542a0218",
   "metadata": {},
   "outputs": [
    {
     "name": "stdout",
     "output_type": "stream",
     "text": [
      "Enter speed: 150\n",
      "Points: 16\n",
      "License suspended\n"
     ]
    }
   ],
   "source": [
    "def calculate_demerit_points(speed):\n",
    "    # Initialize the number of demerit points to 0\n",
    "    points = 0\n",
    "\n",
    "    # If the speed is less than 70, print \"Ok\" and return 0 points\n",
    "    if speed < 70:\n",
    "        print(\"Ok\")\n",
    "        return points\n",
    "\n",
    "    # Calculate the number of demerit points based on the speed\n",
    "    points = int((speed - 70) / 5)\n",
    "\n",
    "    # Print the number of demerit points\n",
    "    print(f\"Points: {points}\")\n",
    "\n",
    "    # If the driver gets more than 12 points, print \"License suspended\"\n",
    "    if points > 12:\n",
    "        print(\"License suspended\")\n",
    "\n",
    "# Get the speed of the driver as input\n",
    "speed = float(input(\"Enter speed: \"))\n",
    "\n",
    "# Calculate and display the demerit points\n",
    "calculate_demerit_points(speed)"
   ]
  },
  {
   "cell_type": "code",
   "execution_count": null,
   "id": "f0e990e6",
   "metadata": {},
   "outputs": [],
   "source": [
    "100"
   ]
  },
  {
   "cell_type": "code",
   "execution_count": null,
   "id": "4210ec7a",
   "metadata": {},
   "outputs": [],
   "source": []
  }
 ],
 "metadata": {
  "kernelspec": {
   "display_name": "Python 3 (ipykernel)",
   "language": "python",
   "name": "python3"
  },
  "language_info": {
   "codemirror_mode": {
    "name": "ipython",
    "version": 3
   },
   "file_extension": ".py",
   "mimetype": "text/x-python",
   "name": "python",
   "nbconvert_exporter": "python",
   "pygments_lexer": "ipython3",
   "version": "3.11.7"
  }
 },
 "nbformat": 4,
 "nbformat_minor": 5
}
