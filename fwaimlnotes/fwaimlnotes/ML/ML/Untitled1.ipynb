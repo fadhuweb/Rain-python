{
 "cells": [
  {
   "cell_type": "code",
   "execution_count": 1,
   "id": "c0019d9b-b364-479c-a1aa-fbe7cb47cabc",
   "metadata": {},
   "outputs": [],
   "source": [
    "import pandas as pd\n",
    "import numpy as np\n",
    "import matplotlib.pyplot as plt\n",
    "import seaborn as sns"
   ]
  },
  {
   "cell_type": "code",
   "execution_count": 2,
   "id": "9dd74407-3572-4a49-a9a8-e42304e21b5f",
   "metadata": {},
   "outputs": [],
   "source": [
    "df = pd.read_csv('cardio_train.csv', delimiter = ';')"
   ]
  },
  {
   "cell_type": "code",
   "execution_count": 3,
   "id": "1a65edd0-2a2a-496a-b2e9-1274296ee0e6",
   "metadata": {},
   "outputs": [
    {
     "data": {
      "text/html": [
       "<div>\n",
       "<style scoped>\n",
       "    .dataframe tbody tr th:only-of-type {\n",
       "        vertical-align: middle;\n",
       "    }\n",
       "\n",
       "    .dataframe tbody tr th {\n",
       "        vertical-align: top;\n",
       "    }\n",
       "\n",
       "    .dataframe thead th {\n",
       "        text-align: right;\n",
       "    }\n",
       "</style>\n",
       "<table border=\"1\" class=\"dataframe\">\n",
       "  <thead>\n",
       "    <tr style=\"text-align: right;\">\n",
       "      <th></th>\n",
       "      <th>id</th>\n",
       "      <th>age</th>\n",
       "      <th>gender</th>\n",
       "      <th>height</th>\n",
       "      <th>weight</th>\n",
       "      <th>ap_hi</th>\n",
       "      <th>ap_lo</th>\n",
       "      <th>cholesterol</th>\n",
       "      <th>gluc</th>\n",
       "      <th>smoke</th>\n",
       "      <th>alco</th>\n",
       "      <th>active</th>\n",
       "      <th>cardio</th>\n",
       "    </tr>\n",
       "  </thead>\n",
       "  <tbody>\n",
       "    <tr>\n",
       "      <th>0</th>\n",
       "      <td>0</td>\n",
       "      <td>18393</td>\n",
       "      <td>2</td>\n",
       "      <td>168</td>\n",
       "      <td>62.0</td>\n",
       "      <td>110</td>\n",
       "      <td>80</td>\n",
       "      <td>1</td>\n",
       "      <td>1</td>\n",
       "      <td>0</td>\n",
       "      <td>0</td>\n",
       "      <td>1</td>\n",
       "      <td>0</td>\n",
       "    </tr>\n",
       "    <tr>\n",
       "      <th>1</th>\n",
       "      <td>1</td>\n",
       "      <td>20228</td>\n",
       "      <td>1</td>\n",
       "      <td>156</td>\n",
       "      <td>85.0</td>\n",
       "      <td>140</td>\n",
       "      <td>90</td>\n",
       "      <td>3</td>\n",
       "      <td>1</td>\n",
       "      <td>0</td>\n",
       "      <td>0</td>\n",
       "      <td>1</td>\n",
       "      <td>1</td>\n",
       "    </tr>\n",
       "    <tr>\n",
       "      <th>2</th>\n",
       "      <td>2</td>\n",
       "      <td>18857</td>\n",
       "      <td>1</td>\n",
       "      <td>165</td>\n",
       "      <td>64.0</td>\n",
       "      <td>130</td>\n",
       "      <td>70</td>\n",
       "      <td>3</td>\n",
       "      <td>1</td>\n",
       "      <td>0</td>\n",
       "      <td>0</td>\n",
       "      <td>0</td>\n",
       "      <td>1</td>\n",
       "    </tr>\n",
       "    <tr>\n",
       "      <th>3</th>\n",
       "      <td>3</td>\n",
       "      <td>17623</td>\n",
       "      <td>2</td>\n",
       "      <td>169</td>\n",
       "      <td>82.0</td>\n",
       "      <td>150</td>\n",
       "      <td>100</td>\n",
       "      <td>1</td>\n",
       "      <td>1</td>\n",
       "      <td>0</td>\n",
       "      <td>0</td>\n",
       "      <td>1</td>\n",
       "      <td>1</td>\n",
       "    </tr>\n",
       "    <tr>\n",
       "      <th>4</th>\n",
       "      <td>4</td>\n",
       "      <td>17474</td>\n",
       "      <td>1</td>\n",
       "      <td>156</td>\n",
       "      <td>56.0</td>\n",
       "      <td>100</td>\n",
       "      <td>60</td>\n",
       "      <td>1</td>\n",
       "      <td>1</td>\n",
       "      <td>0</td>\n",
       "      <td>0</td>\n",
       "      <td>0</td>\n",
       "      <td>0</td>\n",
       "    </tr>\n",
       "  </tbody>\n",
       "</table>\n",
       "</div>"
      ],
      "text/plain": [
       "   id    age  gender  height  weight  ap_hi  ap_lo  cholesterol  gluc  smoke  \\\n",
       "0   0  18393       2     168    62.0    110     80            1     1      0   \n",
       "1   1  20228       1     156    85.0    140     90            3     1      0   \n",
       "2   2  18857       1     165    64.0    130     70            3     1      0   \n",
       "3   3  17623       2     169    82.0    150    100            1     1      0   \n",
       "4   4  17474       1     156    56.0    100     60            1     1      0   \n",
       "\n",
       "   alco  active  cardio  \n",
       "0     0       1       0  \n",
       "1     0       1       1  \n",
       "2     0       0       1  \n",
       "3     0       1       1  \n",
       "4     0       0       0  "
      ]
     },
     "execution_count": 3,
     "metadata": {},
     "output_type": "execute_result"
    }
   ],
   "source": [
    "df.head()"
   ]
  },
  {
   "cell_type": "markdown",
   "id": "b4815f16-911a-43f6-8e9d-1f39954d64fd",
   "metadata": {},
   "source": [
    "## EXPLORATORY DATA ANALYSIS"
   ]
  },
  {
   "cell_type": "code",
   "execution_count": 4,
   "id": "7888435c-1974-40d9-a7f7-8c61187cb72d",
   "metadata": {},
   "outputs": [
    {
     "data": {
      "text/plain": [
       "(70000, 13)"
      ]
     },
     "execution_count": 4,
     "metadata": {},
     "output_type": "execute_result"
    }
   ],
   "source": [
    "df.shape"
   ]
  },
  {
   "cell_type": "code",
   "execution_count": 5,
   "id": "d797df41-95af-40db-bf32-3b25f8069433",
   "metadata": {},
   "outputs": [
    {
     "data": {
      "text/plain": [
       "id             0\n",
       "age            0\n",
       "gender         0\n",
       "height         0\n",
       "weight         0\n",
       "ap_hi          0\n",
       "ap_lo          0\n",
       "cholesterol    0\n",
       "gluc           0\n",
       "smoke          0\n",
       "alco           0\n",
       "active         0\n",
       "cardio         0\n",
       "dtype: int64"
      ]
     },
     "execution_count": 5,
     "metadata": {},
     "output_type": "execute_result"
    }
   ],
   "source": [
    "df.isnull().sum()"
   ]
  },
  {
   "cell_type": "code",
   "execution_count": 6,
   "id": "cacd78ce-a03f-48d6-b70a-b3760b8717fd",
   "metadata": {},
   "outputs": [
    {
     "data": {
      "text/plain": [
       "<AxesSubplot:xlabel='weight', ylabel='Density'>"
      ]
     },
     "execution_count": 6,
     "metadata": {},
     "output_type": "execute_result"
    },
    {
     "data": {
      "image/png": "[encoded data removed]",
      "text/plain": [
       "<Figure size 640x480 with 1 Axes>"
      ]
     },
     "metadata": {},
     "output_type": "display_data"
    }
   ],
   "source": [
    "sns.kdeplot(df['weight'], hue = df['cardio'])"
   ]
  },
  {
   "cell_type": "code",
   "execution_count": 7,
   "id": "e8d2de24-a82e-4471-a3f7-03d4ee6f0684",
   "metadata": {},
   "outputs": [
    {
     "data": {
      "text/plain": [
       "<AxesSubplot:xlabel='ap_hi', ylabel='Density'>"
      ]
     },
     "execution_count": 7,
     "metadata": {},
     "output_type": "execute_result"
    },
    {
     "data": {
      "image/png": "[encoded data removed]",
      "text/plain": [
       "<Figure size 640x480 with 1 Axes>"
      ]
     },
     "metadata": {},
     "output_type": "display_data"
    }
   ],
   "source": [
    "sns.kdeplot(df['ap_hi'], hue = df['cardio'])"
   ]
  },
  {
   "cell_type": "code",
   "execution_count": 8,
   "id": "99d296ba-bdbc-4b70-a1ba-e327e3f7d6f3",
   "metadata": {},
   "outputs": [
    {
     "data": {
      "text/plain": [
       "<AxesSubplot:xlabel='ap_lo', ylabel='Density'>"
      ]
     },
     "execution_count": 8,
     "metadata": {},
     "output_type": "execute_result"
    },
    {
     "data": {
      "image/png": "[encoded data removed]",
      "text/plain": [
       "<Figure size 640x480 with 1 Axes>"
      ]
     },
     "metadata": {},
     "output_type": "display_data"
    }
   ],
   "source": [
    "sns.kdeplot(df['ap_lo'], hue = df['cardio'])"
   ]
  },
  {
   "cell_type": "code",
   "execution_count": 9,
   "id": "7861c579-5458-44be-aa09-739fdecdb55e",
   "metadata": {},
   "outputs": [
    {
     "name": "stderr",
     "output_type": "stream",
     "text": [
      "C:\\Users\\USER\\anaconda3\\lib\\site-packages\\seaborn\\_decorators.py:36: FutureWarning: Pass the following variable as a keyword arg: x. From version 0.12, the only valid positional argument will be `data`, and passing other arguments without an explicit keyword will result in an error or misinterpretation.\n",
      "  warnings.warn(\n"
     ]
    },
    {
     "data": {
      "text/plain": [
       "<AxesSubplot:xlabel='cholesterol', ylabel='count'>"
      ]
     },
     "execution_count": 9,
     "metadata": {},
     "output_type": "execute_result"
    },
    {
     "data": {
      "image/png": "[encoded data removed]",
      "text/plain": [
       "<Figure size 640x480 with 1 Axes>"
      ]
     },
     "metadata": {},
     "output_type": "display_data"
    }
   ],
   "source": [
    "sns.countplot(df['cholesterol'], hue= df['cardio'])"
   ]
  },
  {
   "cell_type": "code",
   "execution_count": 10,
   "id": "7ed521ac-6043-4069-af2b-c66d905c0b62",
   "metadata": {},
   "outputs": [
    {
     "name": "stderr",
     "output_type": "stream",
     "text": [
      "C:\\Users\\USER\\anaconda3\\lib\\site-packages\\seaborn\\_decorators.py:36: FutureWarning: Pass the following variable as a keyword arg: x. From version 0.12, the only valid positional argument will be `data`, and passing other arguments without an explicit keyword will result in an error or misinterpretation.\n",
      "  warnings.warn(\n"
     ]
    },
    {
     "data": {
      "text/plain": [
       "<AxesSubplot:xlabel='gluc', ylabel='count'>"
      ]
     },
     "execution_count": 10,
     "metadata": {},
     "output_type": "execute_result"
    },
    {
     "data": {
      "image/png": "[encoded data removed]",
      "text/plain": [
       "<Figure size 640x480 with 1 Axes>"
      ]
     },
     "metadata": {},
     "output_type": "display_data"
    }
   ],
   "source": [
    "sns.countplot(df['gluc'], hue= df['cardio'])"
   ]
  },
  {
   "cell_type": "code",
   "execution_count": 11,
   "id": "113fb27d-03df-4a9d-b022-97b577bd65b5",
   "metadata": {},
   "outputs": [
    {
     "name": "stderr",
     "output_type": "stream",
     "text": [
      "C:\\Users\\USER\\anaconda3\\lib\\site-packages\\seaborn\\_decorators.py:36: FutureWarning: Pass the following variable as a keyword arg: x. From version 0.12, the only valid positional argument will be `data`, and passing other arguments without an explicit keyword will result in an error or misinterpretation.\n",
      "  warnings.warn(\n"
     ]
    },
    {
     "data": {
      "text/plain": [
       "<AxesSubplot:xlabel='smoke', ylabel='count'>"
      ]
     },
     "execution_count": 11,
     "metadata": {},
     "output_type": "execute_result"
    },
    {
     "data": {
      "image/png": "[encoded data removed]",
      "text/plain": [
       "<Figure size 640x480 with 1 Axes>"
      ]
     },
     "metadata": {},
     "output_type": "display_data"
    }
   ],
   "source": [
    "sns.countplot(df['smoke'], hue= df['cardio'])"
   ]
  },
  {
   "cell_type": "code",
   "execution_count": 12,
   "id": "1b453115-1263-4e3b-9d79-8e647985eaaf",
   "metadata": {},
   "outputs": [
    {
     "name": "stderr",
     "output_type": "stream",
     "text": [
      "C:\\Users\\USER\\anaconda3\\lib\\site-packages\\seaborn\\_decorators.py:36: FutureWarning: Pass the following variable as a keyword arg: x. From version 0.12, the only valid positional argument will be `data`, and passing other arguments without an explicit keyword will result in an error or misinterpretation.\n",
      "  warnings.warn(\n"
     ]
    },
    {
     "data": {
      "text/plain": [
       "<AxesSubplot:xlabel='gender', ylabel='count'>"
      ]
     },
     "execution_count": 12,
     "metadata": {},
     "output_type": "execute_result"
    },
    {
     "data": {
      "image/png": "[encoded data removed]",
      "text/plain": [
       "<Figure size 640x480 with 1 Axes>"
      ]
     },
     "metadata": {},
     "output_type": "display_data"
    }
   ],
   "source": [
    "sns.countplot(df['gender'], hue= df['cardio'])"
   ]
  },
  {
   "cell_type": "code",
   "execution_count": 13,
   "id": "fe2b530f-28b1-4599-8f5d-a034555d7bca",
   "metadata": {},
   "outputs": [
    {
     "name": "stderr",
     "output_type": "stream",
     "text": [
      "C:\\Users\\USER\\anaconda3\\lib\\site-packages\\seaborn\\_decorators.py:36: FutureWarning: Pass the following variable as a keyword arg: x. From version 0.12, the only valid positional argument will be `data`, and passing other arguments without an explicit keyword will result in an error or misinterpretation.\n",
      "  warnings.warn(\n"
     ]
    },
    {
     "data": {
      "text/plain": [
       "<AxesSubplot:xlabel='active', ylabel='count'>"
      ]
     },
     "execution_count": 13,
     "metadata": {},
     "output_type": "execute_result"
    },
    {
     "data": {
      "image/png": "[encoded data removed]",
      "text/plain": [
       "<Figure size 640x480 with 1 Axes>"
      ]
     },
     "metadata": {},
     "output_type": "display_data"
    }
   ],
   "source": [
    "sns.countplot(df['active'], hue= df['cardio'])"
   ]
  },
  {
   "cell_type": "code",
   "execution_count": 14,
   "id": "535e94ac-a60e-4ca2-9373-31520283ac9e",
   "metadata": {},
   "outputs": [
    {
     "name": "stderr",
     "output_type": "stream",
     "text": [
      "C:\\Users\\USER\\anaconda3\\lib\\site-packages\\seaborn\\_decorators.py:36: FutureWarning: Pass the following variable as a keyword arg: x. From version 0.12, the only valid positional argument will be `data`, and passing other arguments without an explicit keyword will result in an error or misinterpretation.\n",
      "  warnings.warn(\n"
     ]
    },
    {
     "data": {
      "text/plain": [
       "<AxesSubplot:xlabel='alco', ylabel='count'>"
      ]
     },
     "execution_count": 14,
     "metadata": {},
     "output_type": "execute_result"
    },
    {
     "data": {
      "image/png": "[encoded data removed]",
      "text/plain": [
       "<Figure size 640x480 with 1 Axes>"
      ]
     },
     "metadata": {},
     "output_type": "display_data"
    }
   ],
   "source": [
    "sns.countplot(df['alco'], hue= df['cardio'])"
   ]
  },
  {
   "cell_type": "code",
   "execution_count": 15,
   "id": "48b4ec3f-dbec-44a3-8f10-731947d930b4",
   "metadata": {},
   "outputs": [],
   "source": [
    "df2 = df.drop(['id', 'smoke', 'alco', 'gender'], axis = 1)"
   ]
  },
  {
   "cell_type": "code",
   "execution_count": 16,
   "id": "14f8be6b-2f0e-408a-a99f-07a1aebce48c",
   "metadata": {},
   "outputs": [
    {
     "data": {
      "text/html": [
       "<div>\n",
       "<style scoped>\n",
       "    .dataframe tbody tr th:only-of-type {\n",
       "        vertical-align: middle;\n",
       "    }\n",
       "\n",
       "    .dataframe tbody tr th {\n",
       "        vertical-align: top;\n",
       "    }\n",
       "\n",
       "    .dataframe thead th {\n",
       "        text-align: right;\n",
       "    }\n",
       "</style>\n",
       "<table border=\"1\" class=\"dataframe\">\n",
       "  <thead>\n",
       "    <tr style=\"text-align: right;\">\n",
       "      <th></th>\n",
       "      <th>age</th>\n",
       "      <th>height</th>\n",
       "      <th>weight</th>\n",
       "      <th>ap_hi</th>\n",
       "      <th>ap_lo</th>\n",
       "      <th>cholesterol</th>\n",
       "      <th>gluc</th>\n",
       "      <th>active</th>\n",
       "      <th>cardio</th>\n",
       "    </tr>\n",
       "  </thead>\n",
       "  <tbody>\n",
       "    <tr>\n",
       "      <th>0</th>\n",
       "      <td>18393</td>\n",
       "      <td>168</td>\n",
       "      <td>62.0</td>\n",
       "      <td>110</td>\n",
       "      <td>80</td>\n",
       "      <td>1</td>\n",
       "      <td>1</td>\n",
       "      <td>1</td>\n",
       "      <td>0</td>\n",
       "    </tr>\n",
       "    <tr>\n",
       "      <th>1</th>\n",
       "      <td>20228</td>\n",
       "      <td>156</td>\n",
       "      <td>85.0</td>\n",
       "      <td>140</td>\n",
       "      <td>90</td>\n",
       "      <td>3</td>\n",
       "      <td>1</td>\n",
       "      <td>1</td>\n",
       "      <td>1</td>\n",
       "    </tr>\n",
       "    <tr>\n",
       "      <th>2</th>\n",
       "      <td>18857</td>\n",
       "      <td>165</td>\n",
       "      <td>64.0</td>\n",
       "      <td>130</td>\n",
       "      <td>70</td>\n",
       "      <td>3</td>\n",
       "      <td>1</td>\n",
       "      <td>0</td>\n",
       "      <td>1</td>\n",
       "    </tr>\n",
       "    <tr>\n",
       "      <th>3</th>\n",
       "      <td>17623</td>\n",
       "      <td>169</td>\n",
       "      <td>82.0</td>\n",
       "      <td>150</td>\n",
       "      <td>100</td>\n",
       "      <td>1</td>\n",
       "      <td>1</td>\n",
       "      <td>1</td>\n",
       "      <td>1</td>\n",
       "    </tr>\n",
       "    <tr>\n",
       "      <th>4</th>\n",
       "      <td>17474</td>\n",
       "      <td>156</td>\n",
       "      <td>56.0</td>\n",
       "      <td>100</td>\n",
       "      <td>60</td>\n",
       "      <td>1</td>\n",
       "      <td>1</td>\n",
       "      <td>0</td>\n",
       "      <td>0</td>\n",
       "    </tr>\n",
       "  </tbody>\n",
       "</table>\n",
       "</div>"
      ],
      "text/plain": [
       "     age  height  weight  ap_hi  ap_lo  cholesterol  gluc  active  cardio\n",
       "0  18393     168    62.0    110     80            1     1       1       0\n",
       "1  20228     156    85.0    140     90            3     1       1       1\n",
       "2  18857     165    64.0    130     70            3     1       0       1\n",
       "3  17623     169    82.0    150    100            1     1       1       1\n",
       "4  17474     156    56.0    100     60            1     1       0       0"
      ]
     },
     "execution_count": 16,
     "metadata": {},
     "output_type": "execute_result"
    }
   ],
   "source": [
    "df2.head()"
   ]
  },
  {
   "cell_type": "code",
   "execution_count": 17,
   "id": "ac518a5b-6e45-486a-867d-a250ace2ce06",
   "metadata": {},
   "outputs": [],
   "source": [
    "df2['BMI'] = df2['weight'] / ((df2['height']/100) ** 2)\n",
    "df2['BP_ratio'] = df2['ap_hi'] / df2['ap_lo']"
   ]
  },
  {
   "cell_type": "code",
   "execution_count": 18,
   "id": "b3fb0212-111d-4bf5-acc5-cbc6aabcdb12",
   "metadata": {},
   "outputs": [
    {
     "data": {
      "text/html": [
       "<div>\n",
       "<style scoped>\n",
       "    .dataframe tbody tr th:only-of-type {\n",
       "        vertical-align: middle;\n",
       "    }\n",
       "\n",
       "    .dataframe tbody tr th {\n",
       "        vertical-align: top;\n",
       "    }\n",
       "\n",
       "    .dataframe thead th {\n",
       "        text-align: right;\n",
       "    }\n",
       "</style>\n",
       "<table border=\"1\" class=\"dataframe\">\n",
       "  <thead>\n",
       "    <tr style=\"text-align: right;\">\n",
       "      <th></th>\n",
       "      <th>age</th>\n",
       "      <th>cholesterol</th>\n",
       "      <th>gluc</th>\n",
       "      <th>active</th>\n",
       "      <th>cardio</th>\n",
       "      <th>BMI</th>\n",
       "      <th>BP_ratio</th>\n",
       "    </tr>\n",
       "  </thead>\n",
       "  <tbody>\n",
       "    <tr>\n",
       "      <th>0</th>\n",
       "      <td>18393</td>\n",
       "      <td>1</td>\n",
       "      <td>1</td>\n",
       "      <td>1</td>\n",
       "      <td>0</td>\n",
       "      <td>21.967120</td>\n",
       "      <td>1.375000</td>\n",
       "    </tr>\n",
       "    <tr>\n",
       "      <th>1</th>\n",
       "      <td>20228</td>\n",
       "      <td>3</td>\n",
       "      <td>1</td>\n",
       "      <td>1</td>\n",
       "      <td>1</td>\n",
       "      <td>34.927679</td>\n",
       "      <td>1.555556</td>\n",
       "    </tr>\n",
       "    <tr>\n",
       "      <th>2</th>\n",
       "      <td>18857</td>\n",
       "      <td>3</td>\n",
       "      <td>1</td>\n",
       "      <td>0</td>\n",
       "      <td>1</td>\n",
       "      <td>23.507805</td>\n",
       "      <td>1.857143</td>\n",
       "    </tr>\n",
       "    <tr>\n",
       "      <th>3</th>\n",
       "      <td>17623</td>\n",
       "      <td>1</td>\n",
       "      <td>1</td>\n",
       "      <td>1</td>\n",
       "      <td>1</td>\n",
       "      <td>28.710479</td>\n",
       "      <td>1.500000</td>\n",
       "    </tr>\n",
       "    <tr>\n",
       "      <th>4</th>\n",
       "      <td>17474</td>\n",
       "      <td>1</td>\n",
       "      <td>1</td>\n",
       "      <td>0</td>\n",
       "      <td>0</td>\n",
       "      <td>23.011177</td>\n",
       "      <td>1.666667</td>\n",
       "    </tr>\n",
       "    <tr>\n",
       "      <th>...</th>\n",
       "      <td>...</td>\n",
       "      <td>...</td>\n",
       "      <td>...</td>\n",
       "      <td>...</td>\n",
       "      <td>...</td>\n",
       "      <td>...</td>\n",
       "      <td>...</td>\n",
       "    </tr>\n",
       "    <tr>\n",
       "      <th>69995</th>\n",
       "      <td>19240</td>\n",
       "      <td>1</td>\n",
       "      <td>1</td>\n",
       "      <td>1</td>\n",
       "      <td>0</td>\n",
       "      <td>26.927438</td>\n",
       "      <td>1.500000</td>\n",
       "    </tr>\n",
       "    <tr>\n",
       "      <th>69996</th>\n",
       "      <td>22601</td>\n",
       "      <td>2</td>\n",
       "      <td>2</td>\n",
       "      <td>1</td>\n",
       "      <td>1</td>\n",
       "      <td>50.472681</td>\n",
       "      <td>1.555556</td>\n",
       "    </tr>\n",
       "    <tr>\n",
       "      <th>69997</th>\n",
       "      <td>19066</td>\n",
       "      <td>3</td>\n",
       "      <td>1</td>\n",
       "      <td>0</td>\n",
       "      <td>1</td>\n",
       "      <td>31.353579</td>\n",
       "      <td>2.000000</td>\n",
       "    </tr>\n",
       "    <tr>\n",
       "      <th>69998</th>\n",
       "      <td>22431</td>\n",
       "      <td>1</td>\n",
       "      <td>2</td>\n",
       "      <td>0</td>\n",
       "      <td>1</td>\n",
       "      <td>27.099251</td>\n",
       "      <td>1.687500</td>\n",
       "    </tr>\n",
       "    <tr>\n",
       "      <th>69999</th>\n",
       "      <td>20540</td>\n",
       "      <td>2</td>\n",
       "      <td>1</td>\n",
       "      <td>1</td>\n",
       "      <td>0</td>\n",
       "      <td>24.913495</td>\n",
       "      <td>1.500000</td>\n",
       "    </tr>\n",
       "  </tbody>\n",
       "</table>\n",
       "<p>70000 rows × 7 columns</p>\n",
       "</div>"
      ],
      "text/plain": [
       "         age  cholesterol  gluc  active  cardio        BMI  BP_ratio\n",
       "0      18393            1     1       1       0  21.967120  1.375000\n",
       "1      20228            3     1       1       1  34.927679  1.555556\n",
       "2      18857            3     1       0       1  23.507805  1.857143\n",
       "3      17623            1     1       1       1  28.710479  1.500000\n",
       "4      17474            1     1       0       0  23.011177  1.666667\n",
       "...      ...          ...   ...     ...     ...        ...       ...\n",
       "69995  19240            1     1       1       0  26.927438  1.500000\n",
       "69996  22601            2     2       1       1  50.472681  1.555556\n",
       "69997  19066            3     1       0       1  31.353579  2.000000\n",
       "69998  22431            1     2       0       1  27.099251  1.687500\n",
       "69999  20540            2     1       1       0  24.913495  1.500000\n",
       "\n",
       "[70000 rows x 7 columns]"
      ]
     },
     "execution_count": 18,
     "metadata": {},
     "output_type": "execute_result"
    }
   ],
   "source": [
    "df2_selected = df2.drop(['height','weight','ap_hi','ap_lo'], axis = 1)\n",
    "df2_selected"
   ]
  },
  {
   "cell_type": "code",
   "execution_count": 19,
   "id": "9284560e-2869-4769-887e-f3c95c592f88",
   "metadata": {},
   "outputs": [
    {
     "data": {
      "text/plain": [
       "age            0\n",
       "cholesterol    0\n",
       "gluc           0\n",
       "active         0\n",
       "cardio         0\n",
       "BMI            0\n",
       "BP_ratio       0\n",
       "dtype: int64"
      ]
     },
     "execution_count": 19,
     "metadata": {},
     "output_type": "execute_result"
    }
   ],
   "source": [
    "df2_selected.isnull().sum()"
   ]
  },
  {
   "cell_type": "code",
   "execution_count": 20,
   "id": "e87f74e5-d693-49e1-b3ff-e5f7459629ed",
   "metadata": {},
   "outputs": [],
   "source": [
    "df2_selected.replace([np.inf, -np.inf], np.nan, inplace=True)"
   ]
  },
  {
   "cell_type": "code",
   "execution_count": 21,
   "id": "4bc1282a-83ab-4a8e-a668-1081c5d7ddc1",
   "metadata": {},
   "outputs": [
    {
     "data": {
      "text/plain": [
       "age             0\n",
       "cholesterol     0\n",
       "gluc            0\n",
       "active          0\n",
       "cardio          0\n",
       "BMI             0\n",
       "BP_ratio       21\n",
       "dtype: int64"
      ]
     },
     "execution_count": 21,
     "metadata": {},
     "output_type": "execute_result"
    }
   ],
   "source": [
    "df2_selected.isnull().sum()"
   ]
  },
  {
   "cell_type": "code",
   "execution_count": 22,
   "id": "6659815f-edbf-4f4d-a129-48aeab0ca523",
   "metadata": {},
   "outputs": [],
   "source": [
    "df2_selected.dropna(axis = 0, inplace = True)"
   ]
  },
  {
   "cell_type": "code",
   "execution_count": 23,
   "id": "cab05fd4-5bba-487d-bd9f-1a556da1f1bd",
   "metadata": {},
   "outputs": [],
   "source": [
    "X = df2_selected.drop(['cardio'], axis = 1)\n",
    "y = df2_selected['cardio']"
   ]
  },
  {
   "cell_type": "code",
   "execution_count": 24,
   "id": "2a11b251-0e43-4f1f-87d2-f308099a6775",
   "metadata": {},
   "outputs": [],
   "source": [
    "from sklearn.model_selection import train_test_split"
   ]
  },
  {
   "cell_type": "code",
   "execution_count": 25,
   "id": "24b4382a-ee1f-4a35-9cc7-94b7aabee3b1",
   "metadata": {},
   "outputs": [],
   "source": [
    "X_train, X_test, y_train, y_test = train_test_split(X, y, test_size = 0.3, \n",
    "                                                    random_state = 11)"
   ]
  },
  {
   "cell_type": "code",
   "execution_count": 26,
   "id": "b84bed3f-f9c9-40de-be42-d4c661c571ee",
   "metadata": {},
   "outputs": [],
   "source": [
    "from sklearn.linear_model import LogisticRegression"
   ]
  },
  {
   "cell_type": "code",
   "execution_count": 27,
   "id": "5300fa91-12a7-418f-837c-2153481438fa",
   "metadata": {},
   "outputs": [
    {
     "data": {
      "text/plain": [
       "LogisticRegression()"
      ]
     },
     "execution_count": 27,
     "metadata": {},
     "output_type": "execute_result"
    }
   ],
   "source": [
    "lr = LogisticRegression()\n",
    "lr.fit(X_train, y_train)"
   ]
  },
  {
   "cell_type": "code",
   "execution_count": 30,
   "id": "9bd1193c-1f81-40ac-a2a5-b308049a1de3",
   "metadata": {},
   "outputs": [
    {
     "data": {
      "text/plain": [
       "0.5724492712203487"
      ]
     },
     "execution_count": 30,
     "metadata": {},
     "output_type": "execute_result"
    }
   ],
   "source": [
    "lr.score(X_test, y_test)"
   ]
  },
  {
   "cell_type": "code",
   "execution_count": 31,
   "id": "b1556058-2ad1-4d67-8d8d-8a534e8a544b",
   "metadata": {},
   "outputs": [
    {
     "data": {
      "text/plain": [
       "0.5756456057976932"
      ]
     },
     "execution_count": 31,
     "metadata": {},
     "output_type": "execute_result"
    }
   ],
   "source": [
    "lr.score(X_train, y_train)"
   ]
  },
  {
   "cell_type": "code",
   "execution_count": 32,
   "id": "9a9c25da-d0d4-488d-a4ba-96f8ad5dbae4",
   "metadata": {},
   "outputs": [],
   "source": [
    "from sklearn.tree import DecisionTreeClassifier"
   ]
  },
  {
   "cell_type": "code",
   "execution_count": 51,
   "id": "a5bb72e6-5883-4151-a0fe-cde4be97f6be",
   "metadata": {},
   "outputs": [
    {
     "data": {
      "text/plain": [
       "DecisionTreeClassifier(max_depth=13, random_state=2)"
      ]
     },
     "execution_count": 51,
     "metadata": {},
     "output_type": "execute_result"
    }
   ],
   "source": [
    "dtc = DecisionTreeClassifier(random_state = 2, max_depth =13)\n",
    "dtc.fit(X_train, y_train)"
   ]
  },
  {
   "cell_type": "code",
   "execution_count": 52,
   "id": "46104d2c-7822-4cae-92ff-1dc8fdff96a5",
   "metadata": {},
   "outputs": [
    {
     "data": {
      "text/plain": [
       "0.6885776888634848"
      ]
     },
     "execution_count": 52,
     "metadata": {},
     "output_type": "execute_result"
    }
   ],
   "source": [
    "dtc.score(X_test, y_test)"
   ]
  },
  {
   "cell_type": "code",
   "execution_count": 53,
   "id": "d2abdc44-e7c2-409f-ad50-f01829dfea24",
   "metadata": {},
   "outputs": [
    {
     "data": {
      "text/plain": [
       "0.7647238950699193"
      ]
     },
     "execution_count": 53,
     "metadata": {},
     "output_type": "execute_result"
    }
   ],
   "source": [
    "dtc.score(X_train, y_train)"
   ]
  },
  {
   "cell_type": "markdown",
   "id": "d79e9508",
   "metadata": {},
   "source": [
    "## REVISION"
   ]
  },
  {
   "cell_type": "code",
   "execution_count": 1,
   "id": "f588e2cd",
   "metadata": {},
   "outputs": [],
   "source": [
    "import numpy as np"
   ]
  },
  {
   "cell_type": "code",
   "execution_count": 2,
   "id": "631866db",
   "metadata": {},
   "outputs": [
    {
     "data": {
      "text/plain": [
       "list"
      ]
     },
     "execution_count": 2,
     "metadata": {},
     "output_type": "execute_result"
    }
   ],
   "source": [
    "a = [3, 6, 8, 2]\n",
    "type(a)"
   ]
  },
  {
   "cell_type": "code",
   "execution_count": 3,
   "id": "e10e1382",
   "metadata": {},
   "outputs": [],
   "source": [
    "arr = np.array(a)"
   ]
  },
  {
   "cell_type": "code",
   "execution_count": 4,
   "id": "d5960165",
   "metadata": {},
   "outputs": [
    {
     "data": {
      "text/plain": [
       "array([3, 6, 8, 2])"
      ]
     },
     "execution_count": 4,
     "metadata": {},
     "output_type": "execute_result"
    }
   ],
   "source": [
    "arr"
   ]
  },
  {
   "cell_type": "code",
   "execution_count": 5,
   "id": "c13f95cc",
   "metadata": {},
   "outputs": [
    {
     "data": {
      "text/plain": [
       "numpy.ndarray"
      ]
     },
     "execution_count": 5,
     "metadata": {},
     "output_type": "execute_result"
    }
   ],
   "source": [
    "type(arr)"
   ]
  },
  {
   "cell_type": "code",
   "execution_count": 6,
   "id": "bdc9aac9",
   "metadata": {},
   "outputs": [
    {
     "data": {
      "text/plain": [
       "array({1, 2, 4, 5, 6}, dtype=object)"
      ]
     },
     "execution_count": 6,
     "metadata": {},
     "output_type": "execute_result"
    }
   ],
   "source": [
    "b = np.array({4,5,6,2,2,1})\n",
    "b"
   ]
  },
  {
   "cell_type": "code",
   "execution_count": 7,
   "id": "d78bb345",
   "metadata": {},
   "outputs": [
    {
     "data": {
      "text/plain": [
       "['BitGenerator',\n",
       " 'Generator',\n",
       " 'MT19937',\n",
       " 'PCG64',\n",
       " 'PCG64DXSM',\n",
       " 'Philox',\n",
       " 'RandomState',\n",
       " 'SFC64',\n",
       " 'SeedSequence',\n",
       " '__RandomState_ctor',\n",
       " '__all__',\n",
       " '__builtins__',\n",
       " '__cached__',\n",
       " '__doc__',\n",
       " '__file__',\n",
       " '__loader__',\n",
       " '__name__',\n",
       " '__package__',\n",
       " '__path__',\n",
       " '__spec__',\n",
       " '_bounded_integers',\n",
       " '_common',\n",
       " '_generator',\n",
       " '_mt19937',\n",
       " '_pcg64',\n",
       " '_philox',\n",
       " '_pickle',\n",
       " '_sfc64',\n",
       " 'beta',\n",
       " 'binomial',\n",
       " 'bit_generator',\n",
       " 'bytes',\n",
       " 'chisquare',\n",
       " 'choice',\n",
       " 'default_rng',\n",
       " 'dirichlet',\n",
       " 'exponential',\n",
       " 'f',\n",
       " 'gamma',\n",
       " 'geometric',\n",
       " 'get_state',\n",
       " 'gumbel',\n",
       " 'hypergeometric',\n",
       " 'laplace',\n",
       " 'logistic',\n",
       " 'lognormal',\n",
       " 'logseries',\n",
       " 'mtrand',\n",
       " 'multinomial',\n",
       " 'multivariate_normal',\n",
       " 'negative_binomial',\n",
       " 'noncentral_chisquare',\n",
       " 'noncentral_f',\n",
       " 'normal',\n",
       " 'pareto',\n",
       " 'permutation',\n",
       " 'poisson',\n",
       " 'power',\n",
       " 'rand',\n",
       " 'randint',\n",
       " 'randn',\n",
       " 'random',\n",
       " 'random_integers',\n",
       " 'random_sample',\n",
       " 'ranf',\n",
       " 'rayleigh',\n",
       " 'sample',\n",
       " 'seed',\n",
       " 'set_state',\n",
       " 'shuffle',\n",
       " 'standard_cauchy',\n",
       " 'standard_exponential',\n",
       " 'standard_gamma',\n",
       " 'standard_normal',\n",
       " 'standard_t',\n",
       " 'test',\n",
       " 'triangular',\n",
       " 'uniform',\n",
       " 'vonmises',\n",
       " 'wald',\n",
       " 'weibull',\n",
       " 'zipf']"
      ]
     },
     "execution_count": 7,
     "metadata": {},
     "output_type": "execute_result"
    }
   ],
   "source": [
    "dir(np.random)"
   ]
  },
  {
   "cell_type": "code",
   "execution_count": 33,
   "id": "c4201944",
   "metadata": {},
   "outputs": [],
   "source": [
    "np.random.seed?"
   ]
  },
  {
   "cell_type": "code",
   "execution_count": 32,
   "id": "764336a8",
   "metadata": {},
   "outputs": [
    {
     "data": {
      "text/plain": [
       "2"
      ]
     },
     "execution_count": 32,
     "metadata": {},
     "output_type": "execute_result"
    }
   ],
   "source": [
    "np.random.seed(4)\n",
    "np.random.randint(low  = 5)"
   ]
  },
  {
   "cell_type": "code",
   "execution_count": 38,
   "id": "d58b46eb",
   "metadata": {},
   "outputs": [
    {
     "data": {
      "text/plain": [
       "7"
      ]
     },
     "execution_count": 38,
     "metadata": {},
     "output_type": "execute_result"
    }
   ],
   "source": [
    "np.random.seed(4)\n",
    "np.random.randint(low  = 5, high = 10)"
   ]
  },
  {
   "cell_type": "code",
   "execution_count": 40,
   "id": "a6028f1d",
   "metadata": {},
   "outputs": [
    {
     "data": {
      "text/plain": [
       "array([[7, 6, 7, 9, 6],\n",
       "       [5, 9, 7, 9, 7],\n",
       "       [9, 8, 5, 6, 5]])"
      ]
     },
     "execution_count": 40,
     "metadata": {},
     "output_type": "execute_result"
    }
   ],
   "source": [
    "np.random.randint(low  = 5, high = 10, size = (3,5))"
   ]
  },
  {
   "cell_type": "code",
   "execution_count": 43,
   "id": "f94fed81",
   "metadata": {},
   "outputs": [
    {
     "data": {
      "text/plain": [
       "array([[0.8662893 , 0.17316542, 0.07494859, 0.60074272, 0.16797218],\n",
       "       [0.73338017, 0.40844386, 0.52790882, 0.93757158, 0.52169612]])"
      ]
     },
     "execution_count": 43,
     "metadata": {},
     "output_type": "execute_result"
    }
   ],
   "source": [
    "np.random.rand(2,5)"
   ]
  },
  {
   "cell_type": "code",
   "execution_count": 59,
   "id": "4d75524d",
   "metadata": {},
   "outputs": [
    {
     "data": {
      "text/plain": [
       "array([-0.99400708])"
      ]
     },
     "execution_count": 59,
     "metadata": {},
     "output_type": "execute_result"
    }
   ],
   "source": [
    "np.random.randn(1)"
   ]
  },
  {
   "cell_type": "code",
   "execution_count": 65,
   "id": "8758be37",
   "metadata": {},
   "outputs": [
    {
     "data": {
      "text/plain": [
       "array([[0., 0., 0., 0., 0.],\n",
       "       [0., 0., 0., 0., 0.],\n",
       "       [0., 0., 0., 0., 0.],\n",
       "       [0., 0., 0., 0., 0.],\n",
       "       [0., 0., 0., 0., 0.]])"
      ]
     },
     "execution_count": 65,
     "metadata": {},
     "output_type": "execute_result"
    }
   ],
   "source": [
    "np.zeros(shape =(5, 5))"
   ]
  },
  {
   "cell_type": "code",
   "execution_count": 67,
   "id": "81e77c28",
   "metadata": {},
   "outputs": [
    {
     "data": {
      "text/plain": [
       "array([1., 1., 1., 1.])"
      ]
     },
     "execution_count": 67,
     "metadata": {},
     "output_type": "execute_result"
    }
   ],
   "source": [
    "np.ones(shape = (4,))"
   ]
  },
  {
   "cell_type": "code",
   "execution_count": 69,
   "id": "ab9d3c93",
   "metadata": {},
   "outputs": [
    {
     "data": {
      "text/plain": [
       "array([[1., 0.],\n",
       "       [0., 1.]])"
      ]
     },
     "execution_count": 69,
     "metadata": {},
     "output_type": "execute_result"
    }
   ],
   "source": [
    "np.eye(2,2)"
   ]
  },
  {
   "cell_type": "code",
   "execution_count": 70,
   "id": "ae251025",
   "metadata": {},
   "outputs": [
    {
     "data": {
      "text/plain": [
       "array([[0, 3],\n",
       "       [2, 1],\n",
       "       [1, 3]])"
      ]
     },
     "execution_count": 70,
     "metadata": {},
     "output_type": "execute_result"
    }
   ],
   "source": [
    "a = np.random.randint(5, size = (3,2))\n",
    "a"
   ]
  },
  {
   "cell_type": "code",
   "execution_count": 71,
   "id": "5b07c80e",
   "metadata": {},
   "outputs": [
    {
     "data": {
      "text/plain": [
       "array([[0, 0],\n",
       "       [0, 0],\n",
       "       [0, 0]])"
      ]
     },
     "execution_count": 71,
     "metadata": {},
     "output_type": "execute_result"
    }
   ],
   "source": [
    "np.zeros_like(a)"
   ]
  },
  {
   "cell_type": "markdown",
   "id": "1e69a7ea",
   "metadata": {},
   "source": [
    "## ACCESSING ITEMS IN AN ARRAY"
   ]
  },
  {
   "cell_type": "code",
   "execution_count": 72,
   "id": "8be29f8e",
   "metadata": {},
   "outputs": [],
   "source": [
    "oneD = np.array([3,6,7,8,2])\n",
    "twoD = np.array([[4,7,8], [2,4,7]])\n",
    "threeD = np.array([[[3,5,2,1], [3,6,7,8], [1,4,3,2]], [[1,6,7,2], [2,0,9,7], [2,6,4,2]]])"
   ]
  },
  {
   "cell_type": "code",
   "execution_count": 73,
   "id": "6af93e3b",
   "metadata": {},
   "outputs": [
    {
     "data": {
      "text/plain": [
       "array([3, 6, 7, 8, 2])"
      ]
     },
     "execution_count": 73,
     "metadata": {},
     "output_type": "execute_result"
    }
   ],
   "source": [
    "oneD"
   ]
  },
  {
   "cell_type": "code",
   "execution_count": 74,
   "id": "aa5c796e",
   "metadata": {},
   "outputs": [
    {
     "data": {
      "text/plain": [
       "7"
      ]
     },
     "execution_count": 74,
     "metadata": {},
     "output_type": "execute_result"
    }
   ],
   "source": [
    "oneD[2]"
   ]
  },
  {
   "cell_type": "code",
   "execution_count": 75,
   "id": "5a42af13",
   "metadata": {},
   "outputs": [
    {
     "data": {
      "text/plain": [
       "array([[4, 7, 8],\n",
       "       [2, 4, 7]])"
      ]
     },
     "execution_count": 75,
     "metadata": {},
     "output_type": "execute_result"
    }
   ],
   "source": [
    "twoD"
   ]
  },
  {
   "cell_type": "code",
   "execution_count": 79,
   "id": "21e2b73f",
   "metadata": {},
   "outputs": [
    {
     "data": {
      "text/plain": [
       "4"
      ]
     },
     "execution_count": 79,
     "metadata": {},
     "output_type": "execute_result"
    }
   ],
   "source": [
    "twoD[1][1]"
   ]
  },
  {
   "cell_type": "code",
   "execution_count": 80,
   "id": "706fd332",
   "metadata": {},
   "outputs": [
    {
     "data": {
      "text/plain": [
       "array([[[3, 5, 2, 1],\n",
       "        [3, 6, 7, 8],\n",
       "        [1, 4, 3, 2]],\n",
       "\n",
       "       [[1, 6, 7, 2],\n",
       "        [2, 0, 9, 7],\n",
       "        [2, 6, 4, 2]]])"
      ]
     },
     "execution_count": 80,
     "metadata": {},
     "output_type": "execute_result"
    }
   ],
   "source": [
    "threeD"
   ]
  },
  {
   "cell_type": "code",
   "execution_count": 83,
   "id": "9ba4e12c",
   "metadata": {},
   "outputs": [
    {
     "data": {
      "text/plain": [
       "2"
      ]
     },
     "execution_count": 83,
     "metadata": {},
     "output_type": "execute_result"
    }
   ],
   "source": [
    "threeD[0][2][-1]"
   ]
  },
  {
   "cell_type": "code",
   "execution_count": 84,
   "id": "bc3b2422",
   "metadata": {},
   "outputs": [
    {
     "data": {
      "text/plain": [
       "array([3, 6, 7, 8, 2])"
      ]
     },
     "execution_count": 84,
     "metadata": {},
     "output_type": "execute_result"
    }
   ],
   "source": [
    "oneD"
   ]
  },
  {
   "cell_type": "code",
   "execution_count": 87,
   "id": "2f7fd80b",
   "metadata": {},
   "outputs": [
    {
     "data": {
      "text/plain": [
       "array([6, 7, 8])"
      ]
     },
     "execution_count": 87,
     "metadata": {},
     "output_type": "execute_result"
    }
   ],
   "source": [
    "oneD[1:4]"
   ]
  },
  {
   "cell_type": "code",
   "execution_count": 88,
   "id": "dffc7373",
   "metadata": {},
   "outputs": [
    {
     "data": {
      "text/plain": [
       "array([[4, 7, 8],\n",
       "       [2, 4, 7]])"
      ]
     },
     "execution_count": 88,
     "metadata": {},
     "output_type": "execute_result"
    }
   ],
   "source": [
    "twoD"
   ]
  },
  {
   "cell_type": "code",
   "execution_count": 90,
   "id": "bdb92b91",
   "metadata": {},
   "outputs": [
    {
     "data": {
      "text/plain": [
       "array([[4, 7],\n",
       "       [2, 4]])"
      ]
     },
     "execution_count": 90,
     "metadata": {},
     "output_type": "execute_result"
    }
   ],
   "source": [
    "twoD[0:2,0:2]"
   ]
  },
  {
   "cell_type": "code",
   "execution_count": 92,
   "id": "c4a33fbb",
   "metadata": {},
   "outputs": [
    {
     "data": {
      "text/plain": [
       "array([[4, 7],\n",
       "       [2, 4]])"
      ]
     },
     "execution_count": 92,
     "metadata": {},
     "output_type": "execute_result"
    }
   ],
   "source": [
    "twoD[:, :2]"
   ]
  },
  {
   "cell_type": "code",
   "execution_count": 94,
   "id": "70c9fa59",
   "metadata": {},
   "outputs": [
    {
     "data": {
      "text/plain": [
       "array([[[3, 6, 7],\n",
       "        [1, 4, 3]]])"
      ]
     },
     "execution_count": 94,
     "metadata": {},
     "output_type": "execute_result"
    }
   ],
   "source": [
    "threeD[0:1, 1:, :3]"
   ]
  },
  {
   "cell_type": "markdown",
   "id": "7a56aa90",
   "metadata": {},
   "source": [
    "## ATTRIBUTES AND METHODS"
   ]
  },
  {
   "cell_type": "code",
   "execution_count": 96,
   "id": "37ecd701",
   "metadata": {},
   "outputs": [
    {
     "data": {
      "text/plain": [
       "1"
      ]
     },
     "execution_count": 96,
     "metadata": {},
     "output_type": "execute_result"
    }
   ],
   "source": [
    "oneD.ndim"
   ]
  },
  {
   "cell_type": "code",
   "execution_count": 97,
   "id": "89ea2661",
   "metadata": {},
   "outputs": [
    {
     "data": {
      "text/plain": [
       "2"
      ]
     },
     "execution_count": 97,
     "metadata": {},
     "output_type": "execute_result"
    }
   ],
   "source": [
    "twoD.ndim"
   ]
  },
  {
   "cell_type": "code",
   "execution_count": 98,
   "id": "6829f766",
   "metadata": {},
   "outputs": [
    {
     "data": {
      "text/plain": [
       "3"
      ]
     },
     "execution_count": 98,
     "metadata": {},
     "output_type": "execute_result"
    }
   ],
   "source": [
    "threeD.ndim"
   ]
  },
  {
   "cell_type": "code",
   "execution_count": 99,
   "id": "995af82e",
   "metadata": {},
   "outputs": [
    {
     "data": {
      "text/plain": [
       "(5,)"
      ]
     },
     "execution_count": 99,
     "metadata": {},
     "output_type": "execute_result"
    }
   ],
   "source": [
    "oneD.shape"
   ]
  },
  {
   "cell_type": "code",
   "execution_count": 100,
   "id": "a345276d",
   "metadata": {},
   "outputs": [
    {
     "data": {
      "text/plain": [
       "(2, 3)"
      ]
     },
     "execution_count": 100,
     "metadata": {},
     "output_type": "execute_result"
    }
   ],
   "source": [
    "twoD.shape"
   ]
  },
  {
   "cell_type": "code",
   "execution_count": 101,
   "id": "91ec81df",
   "metadata": {},
   "outputs": [
    {
     "data": {
      "text/plain": [
       "(2, 3, 4)"
      ]
     },
     "execution_count": 101,
     "metadata": {},
     "output_type": "execute_result"
    }
   ],
   "source": [
    "threeD.shape"
   ]
  },
  {
   "cell_type": "code",
   "execution_count": 102,
   "id": "7030ec61",
   "metadata": {},
   "outputs": [
    {
     "data": {
      "text/plain": [
       "5"
      ]
     },
     "execution_count": 102,
     "metadata": {},
     "output_type": "execute_result"
    }
   ],
   "source": [
    "oneD.size"
   ]
  },
  {
   "cell_type": "code",
   "execution_count": 103,
   "id": "7686a805",
   "metadata": {},
   "outputs": [
    {
     "data": {
      "text/plain": [
       "6"
      ]
     },
     "execution_count": 103,
     "metadata": {},
     "output_type": "execute_result"
    }
   ],
   "source": [
    "twoD.size"
   ]
  },
  {
   "cell_type": "code",
   "execution_count": 104,
   "id": "f8cf95a1",
   "metadata": {},
   "outputs": [
    {
     "data": {
      "text/plain": [
       "24"
      ]
     },
     "execution_count": 104,
     "metadata": {},
     "output_type": "execute_result"
    }
   ],
   "source": [
    "threeD.size"
   ]
  },
  {
   "cell_type": "code",
   "execution_count": 105,
   "id": "caee5c52",
   "metadata": {},
   "outputs": [
    {
     "data": {
      "text/plain": [
       "dtype('int32')"
      ]
     },
     "execution_count": 105,
     "metadata": {},
     "output_type": "execute_result"
    }
   ],
   "source": [
    "threeD.dtype"
   ]
  },
  {
   "cell_type": "code",
   "execution_count": 107,
   "id": "aba882b8",
   "metadata": {},
   "outputs": [
    {
     "data": {
      "text/plain": [
       "(2, 3)"
      ]
     },
     "execution_count": 107,
     "metadata": {},
     "output_type": "execute_result"
    }
   ],
   "source": [
    "twoD.shape"
   ]
  },
  {
   "cell_type": "code",
   "execution_count": 111,
   "id": "bfff26a6",
   "metadata": {},
   "outputs": [
    {
     "data": {
      "text/plain": [
       "array([[4, 7],\n",
       "       [8, 2],\n",
       "       [4, 7]])"
      ]
     },
     "execution_count": 111,
     "metadata": {},
     "output_type": "execute_result"
    }
   ],
   "source": [
    "twoD.reshape((3,2))"
   ]
  },
  {
   "cell_type": "code",
   "execution_count": 109,
   "id": "037eb7b0",
   "metadata": {},
   "outputs": [
    {
     "data": {
      "text/plain": [
       "array([[4, 7, 8],\n",
       "       [2, 4, 7]])"
      ]
     },
     "execution_count": 109,
     "metadata": {},
     "output_type": "execute_result"
    }
   ],
   "source": [
    "twoD"
   ]
  },
  {
   "cell_type": "code",
   "execution_count": 113,
   "id": "36688e7c",
   "metadata": {},
   "outputs": [
    {
     "data": {
      "text/plain": [
       "array([[4, 7],\n",
       "       [8, 2],\n",
       "       [4, 7]])"
      ]
     },
     "execution_count": 113,
     "metadata": {},
     "output_type": "execute_result"
    }
   ],
   "source": [
    "twoD.reshape((-1, 2))"
   ]
  },
  {
   "cell_type": "code",
   "execution_count": 114,
   "id": "9a1c834b",
   "metadata": {},
   "outputs": [
    {
     "data": {
      "text/plain": [
       "array([[4, 7, 8],\n",
       "       [2, 4, 7]])"
      ]
     },
     "execution_count": 114,
     "metadata": {},
     "output_type": "execute_result"
    }
   ],
   "source": [
    "twoD"
   ]
  },
  {
   "cell_type": "code",
   "execution_count": 118,
   "id": "a0bed7d9",
   "metadata": {},
   "outputs": [
    {
     "data": {
      "text/plain": [
       "array([[4, 2],\n",
       "       [7, 4],\n",
       "       [8, 7]])"
      ]
     },
     "execution_count": 118,
     "metadata": {},
     "output_type": "execute_result"
    }
   ],
   "source": [
    "twoD.transpose()"
   ]
  },
  {
   "cell_type": "code",
   "execution_count": 119,
   "id": "94953c01",
   "metadata": {},
   "outputs": [
    {
     "data": {
      "text/plain": [
       "26"
      ]
     },
     "execution_count": 119,
     "metadata": {},
     "output_type": "execute_result"
    }
   ],
   "source": [
    "oneD.sum()"
   ]
  },
  {
   "cell_type": "code",
   "execution_count": 120,
   "id": "12434c1b",
   "metadata": {},
   "outputs": [
    {
     "data": {
      "text/plain": [
       "5.2"
      ]
     },
     "execution_count": 120,
     "metadata": {},
     "output_type": "execute_result"
    }
   ],
   "source": [
    "oneD.mean()"
   ]
  },
  {
   "cell_type": "code",
   "execution_count": 121,
   "id": "54e6e01e",
   "metadata": {},
   "outputs": [
    {
     "data": {
      "text/plain": [
       "array([ 3,  9, 16, 24, 26])"
      ]
     },
     "execution_count": 121,
     "metadata": {},
     "output_type": "execute_result"
    }
   ],
   "source": [
    "oneD.cumsum()"
   ]
  },
  {
   "cell_type": "code",
   "execution_count": 122,
   "id": "151ac0d2",
   "metadata": {},
   "outputs": [
    {
     "data": {
      "text/plain": [
       "array([3, 6, 7, 8, 2])"
      ]
     },
     "execution_count": 122,
     "metadata": {},
     "output_type": "execute_result"
    }
   ],
   "source": [
    "oneD"
   ]
  },
  {
   "cell_type": "code",
   "execution_count": 123,
   "id": "b2810c76",
   "metadata": {},
   "outputs": [
    {
     "data": {
      "text/plain": [
       "array([[4, 7, 8],\n",
       "       [2, 4, 7]])"
      ]
     },
     "execution_count": 123,
     "metadata": {},
     "output_type": "execute_result"
    }
   ],
   "source": [
    "twoD"
   ]
  },
  {
   "cell_type": "code",
   "execution_count": 124,
   "id": "94848f0a",
   "metadata": {},
   "outputs": [
    {
     "data": {
      "text/plain": [
       "32"
      ]
     },
     "execution_count": 124,
     "metadata": {},
     "output_type": "execute_result"
    }
   ],
   "source": [
    "twoD.sum()"
   ]
  },
  {
   "cell_type": "code",
   "execution_count": 125,
   "id": "3b60892b",
   "metadata": {
    "collapsed": true,
    "jupyter": {
     "outputs_hidden": true
    }
   },
   "outputs": [
    {
     "data": {
      "text/plain": [
       "array([ 6, 11, 15])"
      ]
     },
     "execution_count": 125,
     "metadata": {},
     "output_type": "execute_result"
    }
   ],
   "source": [
    "twoD.sum(axis =0 )"
   ]
  },
  {
   "cell_type": "code",
   "execution_count": 126,
   "id": "5e6326af",
   "metadata": {},
   "outputs": [
    {
     "data": {
      "text/plain": [
       "array([19, 13])"
      ]
     },
     "execution_count": 126,
     "metadata": {},
     "output_type": "execute_result"
    }
   ],
   "source": [
    "twoD.sum(axis = 1)"
   ]
  },
  {
   "cell_type": "code",
   "execution_count": 127,
   "id": "aa7b3602",
   "metadata": {},
   "outputs": [
    {
     "ename": "TypeError",
     "evalue": "can only concatenate list (not \"int\") to list",
     "output_type": "error",
     "traceback": [
      "\u001b[1;31m---------------------------------------------------------------------------\u001b[0m",
      "\u001b[1;31mTypeError\u001b[0m                                 Traceback (most recent call last)",
      "\u001b[1;32m~\\AppData\\Local\\Temp\\ipykernel_13968\\923666557.py\u001b[0m in \u001b[0;36m<module>\u001b[1;34m\u001b[0m\n\u001b[0;32m      1\u001b[0m \u001b[0ma\u001b[0m \u001b[1;33m=\u001b[0m \u001b[1;33m[\u001b[0m\u001b[1;36m6\u001b[0m\u001b[1;33m,\u001b[0m \u001b[1;36m8\u001b[0m\u001b[1;33m,\u001b[0m \u001b[1;36m9\u001b[0m\u001b[1;33m]\u001b[0m\u001b[1;33m\u001b[0m\u001b[1;33m\u001b[0m\u001b[0m\n\u001b[1;32m----> 2\u001b[1;33m \u001b[0ma\u001b[0m \u001b[1;33m+\u001b[0m \u001b[1;36m5\u001b[0m\u001b[1;33m\u001b[0m\u001b[1;33m\u001b[0m\u001b[0m\n\u001b[0m",
      "\u001b[1;31mTypeError\u001b[0m: can only concatenate list (not \"int\") to list"
     ]
    }
   ],
   "source": [
    "a = [6, 8, 9]\n",
    "a + 5"
   ]
  },
  {
   "cell_type": "code",
   "execution_count": 129,
   "id": "0cd9615f",
   "metadata": {},
   "outputs": [
    {
     "data": {
      "text/plain": [
       "array([ 8, 11, 12, 13,  7])"
      ]
     },
     "execution_count": 129,
     "metadata": {},
     "output_type": "execute_result"
    }
   ],
   "source": [
    "oneD + 5"
   ]
  },
  {
   "cell_type": "code",
   "execution_count": 133,
   "id": "46c162bf",
   "metadata": {},
   "outputs": [
    {
     "ename": "ValueError",
     "evalue": "operands could not be broadcast together with shapes (2,3) (2,) ",
     "output_type": "error",
     "traceback": [
      "\u001b[1;31m---------------------------------------------------------------------------\u001b[0m",
      "\u001b[1;31mValueError\u001b[0m                                Traceback (most recent call last)",
      "\u001b[1;32m~\\AppData\\Local\\Temp\\ipykernel_13968\\4160335484.py\u001b[0m in \u001b[0;36m<module>\u001b[1;34m\u001b[0m\n\u001b[1;32m----> 1\u001b[1;33m \u001b[0mtwoD\u001b[0m \u001b[1;33m+\u001b[0m \u001b[1;33m[\u001b[0m \u001b[1;36m1\u001b[0m\u001b[1;33m,\u001b[0m \u001b[1;36m3\u001b[0m\u001b[1;33m]\u001b[0m\u001b[1;33m\u001b[0m\u001b[1;33m\u001b[0m\u001b[0m\n\u001b[0m",
      "\u001b[1;31mValueError\u001b[0m: operands could not be broadcast together with shapes (2,3) (2,) "
     ]
    }
   ],
   "source": [
    "twoD + [ 1, 3]"
   ]
  },
  {
   "cell_type": "code",
   "execution_count": 135,
   "id": "83a26bb6",
   "metadata": {},
   "outputs": [
    {
     "data": {
      "text/plain": [
       "array([[False,  True,  True],\n",
       "       [False, False,  True]])"
      ]
     },
     "execution_count": 135,
     "metadata": {},
     "output_type": "execute_result"
    }
   ],
   "source": [
    "twoD>5"
   ]
  },
  {
   "cell_type": "code",
   "execution_count": 136,
   "id": "601db3d6",
   "metadata": {},
   "outputs": [
    {
     "data": {
      "text/plain": [
       "array([7, 8, 7])"
      ]
     },
     "execution_count": 136,
     "metadata": {},
     "output_type": "execute_result"
    }
   ],
   "source": [
    "twoD[twoD>5]"
   ]
  },
  {
   "cell_type": "markdown",
   "id": "62aad6a8",
   "metadata": {},
   "source": [
    "## PANDAS"
   ]
  },
  {
   "cell_type": "markdown",
   "id": "f0b3fc5d",
   "metadata": {},
   "source": [
    "Series - 1D, single column\n",
    "Dataframe - 2D, rows and column(s)"
   ]
  },
  {
   "cell_type": "code",
   "execution_count": 137,
   "id": "15366609",
   "metadata": {},
   "outputs": [],
   "source": [
    "import pandas as pd"
   ]
  },
  {
   "cell_type": "code",
   "execution_count": 139,
   "id": "6a18432a",
   "metadata": {},
   "outputs": [
    {
     "data": {
      "text/plain": [
       "0    3\n",
       "1    6\n",
       "2    8\n",
       "3    7\n",
       "dtype: int64"
      ]
     },
     "execution_count": 139,
     "metadata": {},
     "output_type": "execute_result"
    }
   ],
   "source": [
    "pd.Series(data = [3,6,8,7])"
   ]
  },
  {
   "cell_type": "code",
   "execution_count": 141,
   "id": "609cd64e",
   "metadata": {},
   "outputs": [
    {
     "data": {
      "text/plain": [
       "a    5\n",
       "b    4\n",
       "c    3\n",
       "d    1\n",
       "Name: numbers, dtype: int64"
      ]
     },
     "execution_count": 141,
     "metadata": {},
     "output_type": "execute_result"
    }
   ],
   "source": [
    "pd.Series(data = [5,4,3,1], index = ['a', 'b', 'c', 'd'], name = 'numbers')"
   ]
  },
  {
   "cell_type": "markdown",
   "id": "54be37d6",
   "metadata": {},
   "source": [
    "## INDEXING AND SLICING WITH SERIES"
   ]
  },
  {
   "cell_type": "code",
   "execution_count": 142,
   "id": "81ea2741",
   "metadata": {},
   "outputs": [],
   "source": [
    "s1 = pd.Series(data = [5,4,3,1], index = ['a', 'b', 'c', 'd'], name = 'numbers')"
   ]
  },
  {
   "cell_type": "code",
   "execution_count": 143,
   "id": "3c3c7a06",
   "metadata": {},
   "outputs": [
    {
     "data": {
      "text/plain": [
       "a    5\n",
       "b    4\n",
       "c    3\n",
       "d    1\n",
       "Name: numbers, dtype: int64"
      ]
     },
     "execution_count": 143,
     "metadata": {},
     "output_type": "execute_result"
    }
   ],
   "source": [
    "s1"
   ]
  },
  {
   "cell_type": "code",
   "execution_count": 144,
   "id": "497e2906",
   "metadata": {},
   "outputs": [
    {
     "data": {
      "text/plain": [
       "3"
      ]
     },
     "execution_count": 144,
     "metadata": {},
     "output_type": "execute_result"
    }
   ],
   "source": [
    "s1[2]"
   ]
  },
  {
   "cell_type": "code",
   "execution_count": 145,
   "id": "627140b9",
   "metadata": {},
   "outputs": [
    {
     "data": {
      "text/plain": [
       "3"
      ]
     },
     "execution_count": 145,
     "metadata": {},
     "output_type": "execute_result"
    }
   ],
   "source": [
    "s1['c']"
   ]
  },
  {
   "cell_type": "code",
   "execution_count": 146,
   "id": "4babc8f8",
   "metadata": {},
   "outputs": [
    {
     "data": {
      "text/plain": [
       "a    5\n",
       "b    4\n",
       "Name: numbers, dtype: int64"
      ]
     },
     "execution_count": 146,
     "metadata": {},
     "output_type": "execute_result"
    }
   ],
   "source": [
    "s1[0:2]"
   ]
  },
  {
   "cell_type": "code",
   "execution_count": 147,
   "id": "49da04ab",
   "metadata": {},
   "outputs": [
    {
     "data": {
      "text/plain": [
       "a    5\n",
       "b    4\n",
       "c    3\n",
       "Name: numbers, dtype: int64"
      ]
     },
     "execution_count": 147,
     "metadata": {},
     "output_type": "execute_result"
    }
   ],
   "source": [
    "s1['a':'c']"
   ]
  },
  {
   "cell_type": "code",
   "execution_count": 149,
   "id": "534328f0",
   "metadata": {},
   "outputs": [
    {
     "data": {
      "text/plain": [
       "a    5\n",
       "b    4\n",
       "Name: numbers, dtype: int64"
      ]
     },
     "execution_count": 149,
     "metadata": {},
     "output_type": "execute_result"
    }
   ],
   "source": [
    "s1[0:2]"
   ]
  },
  {
   "cell_type": "code",
   "execution_count": 150,
   "id": "45ca7fa5",
   "metadata": {},
   "outputs": [
    {
     "data": {
      "text/plain": [
       "a    5\n",
       "b    4\n",
       "c    3\n",
       "d    1\n",
       "Name: numbers, dtype: int64"
      ]
     },
     "execution_count": 150,
     "metadata": {},
     "output_type": "execute_result"
    }
   ],
   "source": [
    "s1"
   ]
  },
  {
   "cell_type": "code",
   "execution_count": 151,
   "id": "01fc10b4",
   "metadata": {},
   "outputs": [
    {
     "data": {
      "text/plain": [
       "array([5, 4, 3, 1], dtype=int64)"
      ]
     },
     "execution_count": 151,
     "metadata": {},
     "output_type": "execute_result"
    }
   ],
   "source": [
    "s1.values"
   ]
  },
  {
   "cell_type": "code",
   "execution_count": 152,
   "id": "53657e4c",
   "metadata": {},
   "outputs": [
    {
     "data": {
      "text/plain": [
       "Index(['a', 'b', 'c', 'd'], dtype='object')"
      ]
     },
     "execution_count": 152,
     "metadata": {},
     "output_type": "execute_result"
    }
   ],
   "source": [
    "s1.index"
   ]
  },
  {
   "cell_type": "markdown",
   "id": "f21cf300",
   "metadata": {},
   "source": [
    "## DATAFRAMES"
   ]
  },
  {
   "cell_type": "code",
   "execution_count": 155,
   "id": "794eddda",
   "metadata": {},
   "outputs": [
    {
     "data": {
      "text/html": [
       "<div>\n",
       "<style scoped>\n",
       "    .dataframe tbody tr th:only-of-type {\n",
       "        vertical-align: middle;\n",
       "    }\n",
       "\n",
       "    .dataframe tbody tr th {\n",
       "        vertical-align: top;\n",
       "    }\n",
       "\n",
       "    .dataframe thead th {\n",
       "        text-align: right;\n",
       "    }\n",
       "</style>\n",
       "<table border=\"1\" class=\"dataframe\">\n",
       "  <thead>\n",
       "    <tr style=\"text-align: right;\">\n",
       "      <th></th>\n",
       "      <th>0</th>\n",
       "      <th>1</th>\n",
       "      <th>2</th>\n",
       "    </tr>\n",
       "  </thead>\n",
       "  <tbody>\n",
       "    <tr>\n",
       "      <th>0</th>\n",
       "      <td>3</td>\n",
       "      <td>5</td>\n",
       "      <td>6</td>\n",
       "    </tr>\n",
       "    <tr>\n",
       "      <th>1</th>\n",
       "      <td>2</td>\n",
       "      <td>1</td>\n",
       "      <td>2</td>\n",
       "    </tr>\n",
       "    <tr>\n",
       "      <th>2</th>\n",
       "      <td>3</td>\n",
       "      <td>2</td>\n",
       "      <td>1</td>\n",
       "    </tr>\n",
       "    <tr>\n",
       "      <th>3</th>\n",
       "      <td>4</td>\n",
       "      <td>7</td>\n",
       "      <td>8</td>\n",
       "    </tr>\n",
       "  </tbody>\n",
       "</table>\n",
       "</div>"
      ],
      "text/plain": [
       "   0  1  2\n",
       "0  3  5  6\n",
       "1  2  1  2\n",
       "2  3  2  1\n",
       "3  4  7  8"
      ]
     },
     "execution_count": 155,
     "metadata": {},
     "output_type": "execute_result"
    }
   ],
   "source": [
    "pd.DataFrame(data = [[3,5,6], [2,1,2], [3,2,1], [4,7,8]])"
   ]
  },
  {
   "cell_type": "code",
   "execution_count": 156,
   "id": "b9b73cb7",
   "metadata": {},
   "outputs": [
    {
     "data": {
      "text/html": [
       "<div>\n",
       "<style scoped>\n",
       "    .dataframe tbody tr th:only-of-type {\n",
       "        vertical-align: middle;\n",
       "    }\n",
       "\n",
       "    .dataframe tbody tr th {\n",
       "        vertical-align: top;\n",
       "    }\n",
       "\n",
       "    .dataframe thead th {\n",
       "        text-align: right;\n",
       "    }\n",
       "</style>\n",
       "<table border=\"1\" class=\"dataframe\">\n",
       "  <thead>\n",
       "    <tr style=\"text-align: right;\">\n",
       "      <th></th>\n",
       "      <th>A</th>\n",
       "      <th>B</th>\n",
       "      <th>C</th>\n",
       "    </tr>\n",
       "  </thead>\n",
       "  <tbody>\n",
       "    <tr>\n",
       "      <th>0</th>\n",
       "      <td>3</td>\n",
       "      <td>5</td>\n",
       "      <td>6</td>\n",
       "    </tr>\n",
       "    <tr>\n",
       "      <th>1</th>\n",
       "      <td>2</td>\n",
       "      <td>1</td>\n",
       "      <td>2</td>\n",
       "    </tr>\n",
       "    <tr>\n",
       "      <th>2</th>\n",
       "      <td>3</td>\n",
       "      <td>2</td>\n",
       "      <td>1</td>\n",
       "    </tr>\n",
       "    <tr>\n",
       "      <th>3</th>\n",
       "      <td>4</td>\n",
       "      <td>7</td>\n",
       "      <td>8</td>\n",
       "    </tr>\n",
       "  </tbody>\n",
       "</table>\n",
       "</div>"
      ],
      "text/plain": [
       "   A  B  C\n",
       "0  3  5  6\n",
       "1  2  1  2\n",
       "2  3  2  1\n",
       "3  4  7  8"
      ]
     },
     "execution_count": 156,
     "metadata": {},
     "output_type": "execute_result"
    }
   ],
   "source": [
    "pd.DataFrame(data = [[3,5,6], [2,1,2], [3,2,1], [4,7,8]],\n",
    "             columns =['A', 'B', 'C'])"
   ]
  },
  {
   "cell_type": "code",
   "execution_count": 157,
   "id": "2dcac384",
   "metadata": {},
   "outputs": [
    {
     "data": {
      "text/html": [
       "<div>\n",
       "<style scoped>\n",
       "    .dataframe tbody tr th:only-of-type {\n",
       "        vertical-align: middle;\n",
       "    }\n",
       "\n",
       "    .dataframe tbody tr th {\n",
       "        vertical-align: top;\n",
       "    }\n",
       "\n",
       "    .dataframe thead th {\n",
       "        text-align: right;\n",
       "    }\n",
       "</style>\n",
       "<table border=\"1\" class=\"dataframe\">\n",
       "  <thead>\n",
       "    <tr style=\"text-align: right;\">\n",
       "      <th></th>\n",
       "      <th>A</th>\n",
       "      <th>B</th>\n",
       "      <th>C</th>\n",
       "    </tr>\n",
       "  </thead>\n",
       "  <tbody>\n",
       "    <tr>\n",
       "      <th>a</th>\n",
       "      <td>3</td>\n",
       "      <td>5</td>\n",
       "      <td>6</td>\n",
       "    </tr>\n",
       "    <tr>\n",
       "      <th>b</th>\n",
       "      <td>2</td>\n",
       "      <td>1</td>\n",
       "      <td>2</td>\n",
       "    </tr>\n",
       "    <tr>\n",
       "      <th>c</th>\n",
       "      <td>3</td>\n",
       "      <td>2</td>\n",
       "      <td>1</td>\n",
       "    </tr>\n",
       "    <tr>\n",
       "      <th>d</th>\n",
       "      <td>4</td>\n",
       "      <td>7</td>\n",
       "      <td>8</td>\n",
       "    </tr>\n",
       "  </tbody>\n",
       "</table>\n",
       "</div>"
      ],
      "text/plain": [
       "   A  B  C\n",
       "a  3  5  6\n",
       "b  2  1  2\n",
       "c  3  2  1\n",
       "d  4  7  8"
      ]
     },
     "execution_count": 157,
     "metadata": {},
     "output_type": "execute_result"
    }
   ],
   "source": [
    "pd.DataFrame(data = [[3,5,6], [2,1,2], [3,2,1], [4,7,8]],\n",
    "             columns =['A', 'B', 'C'], index = ['a', 'b', 'c', 'd'])"
   ]
  },
  {
   "cell_type": "markdown",
   "id": "acc867df",
   "metadata": {},
   "source": [
    "## ACCESSING ITEMS IN A DATAFRAME"
   ]
  },
  {
   "cell_type": "code",
   "execution_count": 192,
   "id": "7d5ee8c9",
   "metadata": {},
   "outputs": [],
   "source": [
    "df = pd.DataFrame(data = [[3,'5.6',6], [2,1.2,2], [3,2.1,1], [4,7,8]],\n",
    "             columns =['A', 'B', 'C'], index = ['a', 'b', 'c', 'd'])"
   ]
  },
  {
   "cell_type": "code",
   "execution_count": 193,
   "id": "cc350038",
   "metadata": {},
   "outputs": [
    {
     "data": {
      "text/html": [
       "<div>\n",
       "<style scoped>\n",
       "    .dataframe tbody tr th:only-of-type {\n",
       "        vertical-align: middle;\n",
       "    }\n",
       "\n",
       "    .dataframe tbody tr th {\n",
       "        vertical-align: top;\n",
       "    }\n",
       "\n",
       "    .dataframe thead th {\n",
       "        text-align: right;\n",
       "    }\n",
       "</style>\n",
       "<table border=\"1\" class=\"dataframe\">\n",
       "  <thead>\n",
       "    <tr style=\"text-align: right;\">\n",
       "      <th></th>\n",
       "      <th>A</th>\n",
       "      <th>B</th>\n",
       "      <th>C</th>\n",
       "    </tr>\n",
       "  </thead>\n",
       "  <tbody>\n",
       "    <tr>\n",
       "      <th>a</th>\n",
       "      <td>3</td>\n",
       "      <td>5.6</td>\n",
       "      <td>6</td>\n",
       "    </tr>\n",
       "    <tr>\n",
       "      <th>b</th>\n",
       "      <td>2</td>\n",
       "      <td>1.2</td>\n",
       "      <td>2</td>\n",
       "    </tr>\n",
       "    <tr>\n",
       "      <th>c</th>\n",
       "      <td>3</td>\n",
       "      <td>2.1</td>\n",
       "      <td>1</td>\n",
       "    </tr>\n",
       "    <tr>\n",
       "      <th>d</th>\n",
       "      <td>4</td>\n",
       "      <td>7</td>\n",
       "      <td>8</td>\n",
       "    </tr>\n",
       "  </tbody>\n",
       "</table>\n",
       "</div>"
      ],
      "text/plain": [
       "   A    B  C\n",
       "a  3  5.6  6\n",
       "b  2  1.2  2\n",
       "c  3  2.1  1\n",
       "d  4    7  8"
      ]
     },
     "execution_count": 193,
     "metadata": {},
     "output_type": "execute_result"
    }
   ],
   "source": [
    "df"
   ]
  },
  {
   "cell_type": "code",
   "execution_count": 161,
   "id": "f7fa8feb",
   "metadata": {},
   "outputs": [
    {
     "data": {
      "text/plain": [
       "a    5\n",
       "b    1\n",
       "c    2\n",
       "d    7\n",
       "Name: B, dtype: int64"
      ]
     },
     "execution_count": 161,
     "metadata": {},
     "output_type": "execute_result"
    }
   ],
   "source": [
    "df.B"
   ]
  },
  {
   "cell_type": "code",
   "execution_count": 162,
   "id": "ad8e859c",
   "metadata": {},
   "outputs": [
    {
     "data": {
      "text/plain": [
       "a    5\n",
       "b    1\n",
       "c    2\n",
       "d    7\n",
       "Name: B, dtype: int64"
      ]
     },
     "execution_count": 162,
     "metadata": {},
     "output_type": "execute_result"
    }
   ],
   "source": [
    "df['B']"
   ]
  },
  {
   "cell_type": "code",
   "execution_count": 165,
   "id": "b8a71d4e",
   "metadata": {},
   "outputs": [
    {
     "data": {
      "text/html": [
       "<div>\n",
       "<style scoped>\n",
       "    .dataframe tbody tr th:only-of-type {\n",
       "        vertical-align: middle;\n",
       "    }\n",
       "\n",
       "    .dataframe tbody tr th {\n",
       "        vertical-align: top;\n",
       "    }\n",
       "\n",
       "    .dataframe thead th {\n",
       "        text-align: right;\n",
       "    }\n",
       "</style>\n",
       "<table border=\"1\" class=\"dataframe\">\n",
       "  <thead>\n",
       "    <tr style=\"text-align: right;\">\n",
       "      <th></th>\n",
       "      <th>A</th>\n",
       "      <th>B</th>\n",
       "    </tr>\n",
       "  </thead>\n",
       "  <tbody>\n",
       "    <tr>\n",
       "      <th>a</th>\n",
       "      <td>3</td>\n",
       "      <td>5</td>\n",
       "    </tr>\n",
       "    <tr>\n",
       "      <th>b</th>\n",
       "      <td>2</td>\n",
       "      <td>1</td>\n",
       "    </tr>\n",
       "    <tr>\n",
       "      <th>c</th>\n",
       "      <td>3</td>\n",
       "      <td>2</td>\n",
       "    </tr>\n",
       "    <tr>\n",
       "      <th>d</th>\n",
       "      <td>4</td>\n",
       "      <td>7</td>\n",
       "    </tr>\n",
       "  </tbody>\n",
       "</table>\n",
       "</div>"
      ],
      "text/plain": [
       "   A  B\n",
       "a  3  5\n",
       "b  2  1\n",
       "c  3  2\n",
       "d  4  7"
      ]
     },
     "execution_count": 165,
     "metadata": {},
     "output_type": "execute_result"
    }
   ],
   "source": [
    "df[['A', 'B']]"
   ]
  },
  {
   "cell_type": "code",
   "execution_count": 166,
   "id": "1ff6bc53",
   "metadata": {},
   "outputs": [
    {
     "data": {
      "text/html": [
       "<div>\n",
       "<style scoped>\n",
       "    .dataframe tbody tr th:only-of-type {\n",
       "        vertical-align: middle;\n",
       "    }\n",
       "\n",
       "    .dataframe tbody tr th {\n",
       "        vertical-align: top;\n",
       "    }\n",
       "\n",
       "    .dataframe thead th {\n",
       "        text-align: right;\n",
       "    }\n",
       "</style>\n",
       "<table border=\"1\" class=\"dataframe\">\n",
       "  <thead>\n",
       "    <tr style=\"text-align: right;\">\n",
       "      <th></th>\n",
       "      <th>B</th>\n",
       "    </tr>\n",
       "  </thead>\n",
       "  <tbody>\n",
       "    <tr>\n",
       "      <th>a</th>\n",
       "      <td>5</td>\n",
       "    </tr>\n",
       "    <tr>\n",
       "      <th>b</th>\n",
       "      <td>1</td>\n",
       "    </tr>\n",
       "    <tr>\n",
       "      <th>c</th>\n",
       "      <td>2</td>\n",
       "    </tr>\n",
       "    <tr>\n",
       "      <th>d</th>\n",
       "      <td>7</td>\n",
       "    </tr>\n",
       "  </tbody>\n",
       "</table>\n",
       "</div>"
      ],
      "text/plain": [
       "   B\n",
       "a  5\n",
       "b  1\n",
       "c  2\n",
       "d  7"
      ]
     },
     "execution_count": 166,
     "metadata": {},
     "output_type": "execute_result"
    }
   ],
   "source": [
    "df[['B']]"
   ]
  },
  {
   "cell_type": "code",
   "execution_count": 167,
   "id": "9bd94627",
   "metadata": {},
   "outputs": [
    {
     "data": {
      "text/html": [
       "<div>\n",
       "<style scoped>\n",
       "    .dataframe tbody tr th:only-of-type {\n",
       "        vertical-align: middle;\n",
       "    }\n",
       "\n",
       "    .dataframe tbody tr th {\n",
       "        vertical-align: top;\n",
       "    }\n",
       "\n",
       "    .dataframe thead th {\n",
       "        text-align: right;\n",
       "    }\n",
       "</style>\n",
       "<table border=\"1\" class=\"dataframe\">\n",
       "  <thead>\n",
       "    <tr style=\"text-align: right;\">\n",
       "      <th></th>\n",
       "      <th>A</th>\n",
       "      <th>B</th>\n",
       "      <th>C</th>\n",
       "    </tr>\n",
       "  </thead>\n",
       "  <tbody>\n",
       "    <tr>\n",
       "      <th>a</th>\n",
       "      <td>3</td>\n",
       "      <td>5</td>\n",
       "      <td>6</td>\n",
       "    </tr>\n",
       "    <tr>\n",
       "      <th>b</th>\n",
       "      <td>2</td>\n",
       "      <td>1</td>\n",
       "      <td>2</td>\n",
       "    </tr>\n",
       "    <tr>\n",
       "      <th>c</th>\n",
       "      <td>3</td>\n",
       "      <td>2</td>\n",
       "      <td>1</td>\n",
       "    </tr>\n",
       "    <tr>\n",
       "      <th>d</th>\n",
       "      <td>4</td>\n",
       "      <td>7</td>\n",
       "      <td>8</td>\n",
       "    </tr>\n",
       "  </tbody>\n",
       "</table>\n",
       "</div>"
      ],
      "text/plain": [
       "   A  B  C\n",
       "a  3  5  6\n",
       "b  2  1  2\n",
       "c  3  2  1\n",
       "d  4  7  8"
      ]
     },
     "execution_count": 167,
     "metadata": {},
     "output_type": "execute_result"
    }
   ],
   "source": [
    "df"
   ]
  },
  {
   "cell_type": "code",
   "execution_count": 168,
   "id": "ebc68b16",
   "metadata": {},
   "outputs": [
    {
     "data": {
      "text/plain": [
       "A    2\n",
       "B    1\n",
       "C    2\n",
       "Name: b, dtype: int64"
      ]
     },
     "execution_count": 168,
     "metadata": {},
     "output_type": "execute_result"
    }
   ],
   "source": [
    "df.iloc[1]"
   ]
  },
  {
   "cell_type": "code",
   "execution_count": 169,
   "id": "7f2e60f3",
   "metadata": {},
   "outputs": [
    {
     "data": {
      "text/plain": [
       "A    2\n",
       "B    1\n",
       "C    2\n",
       "Name: b, dtype: int64"
      ]
     },
     "execution_count": 169,
     "metadata": {},
     "output_type": "execute_result"
    }
   ],
   "source": [
    "df.loc['b']"
   ]
  },
  {
   "cell_type": "code",
   "execution_count": 170,
   "id": "ec7adbac",
   "metadata": {},
   "outputs": [
    {
     "data": {
      "text/plain": [
       "2"
      ]
     },
     "execution_count": 170,
     "metadata": {},
     "output_type": "execute_result"
    }
   ],
   "source": [
    "df.loc['b', 'C']"
   ]
  },
  {
   "cell_type": "code",
   "execution_count": 171,
   "id": "83e5edbc",
   "metadata": {},
   "outputs": [
    {
     "data": {
      "text/plain": [
       "7"
      ]
     },
     "execution_count": 171,
     "metadata": {},
     "output_type": "execute_result"
    }
   ],
   "source": [
    "df.iloc[-1, 1]"
   ]
  },
  {
   "cell_type": "code",
   "execution_count": 173,
   "id": "b3dbf369",
   "metadata": {},
   "outputs": [
    {
     "data": {
      "text/html": [
       "<div>\n",
       "<style scoped>\n",
       "    .dataframe tbody tr th:only-of-type {\n",
       "        vertical-align: middle;\n",
       "    }\n",
       "\n",
       "    .dataframe tbody tr th {\n",
       "        vertical-align: top;\n",
       "    }\n",
       "\n",
       "    .dataframe thead th {\n",
       "        text-align: right;\n",
       "    }\n",
       "</style>\n",
       "<table border=\"1\" class=\"dataframe\">\n",
       "  <thead>\n",
       "    <tr style=\"text-align: right;\">\n",
       "      <th></th>\n",
       "      <th>A</th>\n",
       "      <th>B</th>\n",
       "    </tr>\n",
       "  </thead>\n",
       "  <tbody>\n",
       "    <tr>\n",
       "      <th>a</th>\n",
       "      <td>3</td>\n",
       "      <td>5</td>\n",
       "    </tr>\n",
       "    <tr>\n",
       "      <th>b</th>\n",
       "      <td>2</td>\n",
       "      <td>1</td>\n",
       "    </tr>\n",
       "    <tr>\n",
       "      <th>c</th>\n",
       "      <td>3</td>\n",
       "      <td>2</td>\n",
       "    </tr>\n",
       "    <tr>\n",
       "      <th>d</th>\n",
       "      <td>4</td>\n",
       "      <td>7</td>\n",
       "    </tr>\n",
       "  </tbody>\n",
       "</table>\n",
       "</div>"
      ],
      "text/plain": [
       "   A  B\n",
       "a  3  5\n",
       "b  2  1\n",
       "c  3  2\n",
       "d  4  7"
      ]
     },
     "execution_count": 173,
     "metadata": {},
     "output_type": "execute_result"
    }
   ],
   "source": [
    "df[['A', 'B']]"
   ]
  },
  {
   "cell_type": "code",
   "execution_count": 178,
   "id": "734074f6",
   "metadata": {},
   "outputs": [
    {
     "data": {
      "text/html": [
       "<div>\n",
       "<style scoped>\n",
       "    .dataframe tbody tr th:only-of-type {\n",
       "        vertical-align: middle;\n",
       "    }\n",
       "\n",
       "    .dataframe tbody tr th {\n",
       "        vertical-align: top;\n",
       "    }\n",
       "\n",
       "    .dataframe thead th {\n",
       "        text-align: right;\n",
       "    }\n",
       "</style>\n",
       "<table border=\"1\" class=\"dataframe\">\n",
       "  <thead>\n",
       "    <tr style=\"text-align: right;\">\n",
       "      <th></th>\n",
       "      <th>A</th>\n",
       "      <th>B</th>\n",
       "      <th>C</th>\n",
       "    </tr>\n",
       "  </thead>\n",
       "  <tbody>\n",
       "    <tr>\n",
       "      <th>a</th>\n",
       "      <td>3</td>\n",
       "      <td>5</td>\n",
       "      <td>6</td>\n",
       "    </tr>\n",
       "    <tr>\n",
       "      <th>b</th>\n",
       "      <td>2</td>\n",
       "      <td>1</td>\n",
       "      <td>2</td>\n",
       "    </tr>\n",
       "  </tbody>\n",
       "</table>\n",
       "</div>"
      ],
      "text/plain": [
       "   A  B  C\n",
       "a  3  5  6\n",
       "b  2  1  2"
      ]
     },
     "execution_count": 178,
     "metadata": {},
     "output_type": "execute_result"
    }
   ],
   "source": [
    "df.iloc[0:2 ]"
   ]
  },
  {
   "cell_type": "code",
   "execution_count": 176,
   "id": "71667758",
   "metadata": {},
   "outputs": [
    {
     "data": {
      "text/html": [
       "<div>\n",
       "<style scoped>\n",
       "    .dataframe tbody tr th:only-of-type {\n",
       "        vertical-align: middle;\n",
       "    }\n",
       "\n",
       "    .dataframe tbody tr th {\n",
       "        vertical-align: top;\n",
       "    }\n",
       "\n",
       "    .dataframe thead th {\n",
       "        text-align: right;\n",
       "    }\n",
       "</style>\n",
       "<table border=\"1\" class=\"dataframe\">\n",
       "  <thead>\n",
       "    <tr style=\"text-align: right;\">\n",
       "      <th></th>\n",
       "      <th>A</th>\n",
       "      <th>B</th>\n",
       "      <th>C</th>\n",
       "    </tr>\n",
       "  </thead>\n",
       "  <tbody>\n",
       "    <tr>\n",
       "      <th>a</th>\n",
       "      <td>3</td>\n",
       "      <td>5</td>\n",
       "      <td>6</td>\n",
       "    </tr>\n",
       "    <tr>\n",
       "      <th>b</th>\n",
       "      <td>2</td>\n",
       "      <td>1</td>\n",
       "      <td>2</td>\n",
       "    </tr>\n",
       "    <tr>\n",
       "      <th>c</th>\n",
       "      <td>3</td>\n",
       "      <td>2</td>\n",
       "      <td>1</td>\n",
       "    </tr>\n",
       "  </tbody>\n",
       "</table>\n",
       "</div>"
      ],
      "text/plain": [
       "   A  B  C\n",
       "a  3  5  6\n",
       "b  2  1  2\n",
       "c  3  2  1"
      ]
     },
     "execution_count": 176,
     "metadata": {},
     "output_type": "execute_result"
    }
   ],
   "source": [
    "df.loc['a':'c']"
   ]
  },
  {
   "cell_type": "code",
   "execution_count": 180,
   "id": "d5d6a16c",
   "metadata": {},
   "outputs": [
    {
     "data": {
      "text/html": [
       "<div>\n",
       "<style scoped>\n",
       "    .dataframe tbody tr th:only-of-type {\n",
       "        vertical-align: middle;\n",
       "    }\n",
       "\n",
       "    .dataframe tbody tr th {\n",
       "        vertical-align: top;\n",
       "    }\n",
       "\n",
       "    .dataframe thead th {\n",
       "        text-align: right;\n",
       "    }\n",
       "</style>\n",
       "<table border=\"1\" class=\"dataframe\">\n",
       "  <thead>\n",
       "    <tr style=\"text-align: right;\">\n",
       "      <th></th>\n",
       "      <th>A</th>\n",
       "      <th>C</th>\n",
       "    </tr>\n",
       "  </thead>\n",
       "  <tbody>\n",
       "    <tr>\n",
       "      <th>a</th>\n",
       "      <td>3</td>\n",
       "      <td>6</td>\n",
       "    </tr>\n",
       "    <tr>\n",
       "      <th>b</th>\n",
       "      <td>2</td>\n",
       "      <td>2</td>\n",
       "    </tr>\n",
       "    <tr>\n",
       "      <th>c</th>\n",
       "      <td>3</td>\n",
       "      <td>1</td>\n",
       "    </tr>\n",
       "  </tbody>\n",
       "</table>\n",
       "</div>"
      ],
      "text/plain": [
       "   A  C\n",
       "a  3  6\n",
       "b  2  2\n",
       "c  3  1"
      ]
     },
     "execution_count": 180,
     "metadata": {},
     "output_type": "execute_result"
    }
   ],
   "source": [
    "df.loc['a':'c', ['A', 'C']]"
   ]
  },
  {
   "cell_type": "code",
   "execution_count": 182,
   "id": "17480fd7",
   "metadata": {},
   "outputs": [
    {
     "data": {
      "text/html": [
       "<div>\n",
       "<style scoped>\n",
       "    .dataframe tbody tr th:only-of-type {\n",
       "        vertical-align: middle;\n",
       "    }\n",
       "\n",
       "    .dataframe tbody tr th {\n",
       "        vertical-align: top;\n",
       "    }\n",
       "\n",
       "    .dataframe thead th {\n",
       "        text-align: right;\n",
       "    }\n",
       "</style>\n",
       "<table border=\"1\" class=\"dataframe\">\n",
       "  <thead>\n",
       "    <tr style=\"text-align: right;\">\n",
       "      <th></th>\n",
       "      <th>B</th>\n",
       "    </tr>\n",
       "  </thead>\n",
       "  <tbody>\n",
       "    <tr>\n",
       "      <th>a</th>\n",
       "      <td>5</td>\n",
       "    </tr>\n",
       "    <tr>\n",
       "      <th>b</th>\n",
       "      <td>1</td>\n",
       "    </tr>\n",
       "  </tbody>\n",
       "</table>\n",
       "</div>"
      ],
      "text/plain": [
       "   B\n",
       "a  5\n",
       "b  1"
      ]
     },
     "execution_count": 182,
     "metadata": {},
     "output_type": "execute_result"
    }
   ],
   "source": [
    "df.loc['a':'b', ['B']]"
   ]
  },
  {
   "cell_type": "code",
   "execution_count": 183,
   "id": "592d9978",
   "metadata": {},
   "outputs": [
    {
     "data": {
      "text/html": [
       "<div>\n",
       "<style scoped>\n",
       "    .dataframe tbody tr th:only-of-type {\n",
       "        vertical-align: middle;\n",
       "    }\n",
       "\n",
       "    .dataframe tbody tr th {\n",
       "        vertical-align: top;\n",
       "    }\n",
       "\n",
       "    .dataframe thead th {\n",
       "        text-align: right;\n",
       "    }\n",
       "</style>\n",
       "<table border=\"1\" class=\"dataframe\">\n",
       "  <thead>\n",
       "    <tr style=\"text-align: right;\">\n",
       "      <th></th>\n",
       "      <th>A</th>\n",
       "      <th>B</th>\n",
       "    </tr>\n",
       "  </thead>\n",
       "  <tbody>\n",
       "    <tr>\n",
       "      <th>b</th>\n",
       "      <td>2</td>\n",
       "      <td>1</td>\n",
       "    </tr>\n",
       "    <tr>\n",
       "      <th>c</th>\n",
       "      <td>3</td>\n",
       "      <td>2</td>\n",
       "    </tr>\n",
       "  </tbody>\n",
       "</table>\n",
       "</div>"
      ],
      "text/plain": [
       "   A  B\n",
       "b  2  1\n",
       "c  3  2"
      ]
     },
     "execution_count": 183,
     "metadata": {},
     "output_type": "execute_result"
    }
   ],
   "source": [
    "df.iloc[1:3, 0:2]"
   ]
  },
  {
   "cell_type": "code",
   "execution_count": 184,
   "id": "1245d9ec",
   "metadata": {},
   "outputs": [
    {
     "data": {
      "text/html": [
       "<div>\n",
       "<style scoped>\n",
       "    .dataframe tbody tr th:only-of-type {\n",
       "        vertical-align: middle;\n",
       "    }\n",
       "\n",
       "    .dataframe tbody tr th {\n",
       "        vertical-align: top;\n",
       "    }\n",
       "\n",
       "    .dataframe thead th {\n",
       "        text-align: right;\n",
       "    }\n",
       "</style>\n",
       "<table border=\"1\" class=\"dataframe\">\n",
       "  <thead>\n",
       "    <tr style=\"text-align: right;\">\n",
       "      <th></th>\n",
       "      <th>B</th>\n",
       "      <th>C</th>\n",
       "    </tr>\n",
       "  </thead>\n",
       "  <tbody>\n",
       "    <tr>\n",
       "      <th>a</th>\n",
       "      <td>5</td>\n",
       "      <td>6</td>\n",
       "    </tr>\n",
       "    <tr>\n",
       "      <th>b</th>\n",
       "      <td>1</td>\n",
       "      <td>2</td>\n",
       "    </tr>\n",
       "    <tr>\n",
       "      <th>c</th>\n",
       "      <td>2</td>\n",
       "      <td>1</td>\n",
       "    </tr>\n",
       "  </tbody>\n",
       "</table>\n",
       "</div>"
      ],
      "text/plain": [
       "   B  C\n",
       "a  5  6\n",
       "b  1  2\n",
       "c  2  1"
      ]
     },
     "execution_count": 184,
     "metadata": {},
     "output_type": "execute_result"
    }
   ],
   "source": [
    "df.iloc[:3, 1:]"
   ]
  },
  {
   "cell_type": "code",
   "execution_count": 186,
   "id": "859f28f4",
   "metadata": {},
   "outputs": [
    {
     "data": {
      "text/html": [
       "<div>\n",
       "<style scoped>\n",
       "    .dataframe tbody tr th:only-of-type {\n",
       "        vertical-align: middle;\n",
       "    }\n",
       "\n",
       "    .dataframe tbody tr th {\n",
       "        vertical-align: top;\n",
       "    }\n",
       "\n",
       "    .dataframe thead th {\n",
       "        text-align: right;\n",
       "    }\n",
       "</style>\n",
       "<table border=\"1\" class=\"dataframe\">\n",
       "  <thead>\n",
       "    <tr style=\"text-align: right;\">\n",
       "      <th></th>\n",
       "      <th>B</th>\n",
       "      <th>C</th>\n",
       "    </tr>\n",
       "  </thead>\n",
       "  <tbody>\n",
       "    <tr>\n",
       "      <th>a</th>\n",
       "      <td>5</td>\n",
       "      <td>6</td>\n",
       "    </tr>\n",
       "    <tr>\n",
       "      <th>b</th>\n",
       "      <td>1</td>\n",
       "      <td>2</td>\n",
       "    </tr>\n",
       "    <tr>\n",
       "      <th>c</th>\n",
       "      <td>2</td>\n",
       "      <td>1</td>\n",
       "    </tr>\n",
       "    <tr>\n",
       "      <th>d</th>\n",
       "      <td>7</td>\n",
       "      <td>8</td>\n",
       "    </tr>\n",
       "  </tbody>\n",
       "</table>\n",
       "</div>"
      ],
      "text/plain": [
       "   B  C\n",
       "a  5  6\n",
       "b  1  2\n",
       "c  2  1\n",
       "d  7  8"
      ]
     },
     "execution_count": 186,
     "metadata": {},
     "output_type": "execute_result"
    }
   ],
   "source": [
    "df.loc[:, ['B', 'C']]"
   ]
  },
  {
   "cell_type": "code",
   "execution_count": 188,
   "id": "8abbc672",
   "metadata": {},
   "outputs": [
    {
     "data": {
      "text/html": [
       "<div>\n",
       "<style scoped>\n",
       "    .dataframe tbody tr th:only-of-type {\n",
       "        vertical-align: middle;\n",
       "    }\n",
       "\n",
       "    .dataframe tbody tr th {\n",
       "        vertical-align: top;\n",
       "    }\n",
       "\n",
       "    .dataframe thead th {\n",
       "        text-align: right;\n",
       "    }\n",
       "</style>\n",
       "<table border=\"1\" class=\"dataframe\">\n",
       "  <thead>\n",
       "    <tr style=\"text-align: right;\">\n",
       "      <th></th>\n",
       "      <th>A</th>\n",
       "      <th>B</th>\n",
       "      <th>C</th>\n",
       "    </tr>\n",
       "  </thead>\n",
       "  <tbody>\n",
       "    <tr>\n",
       "      <th>a</th>\n",
       "      <td>3</td>\n",
       "      <td>5</td>\n",
       "      <td>6</td>\n",
       "    </tr>\n",
       "    <tr>\n",
       "      <th>b</th>\n",
       "      <td>2</td>\n",
       "      <td>1</td>\n",
       "      <td>2</td>\n",
       "    </tr>\n",
       "  </tbody>\n",
       "</table>\n",
       "</div>"
      ],
      "text/plain": [
       "   A  B  C\n",
       "a  3  5  6\n",
       "b  2  1  2"
      ]
     },
     "execution_count": 188,
     "metadata": {},
     "output_type": "execute_result"
    }
   ],
   "source": [
    "df.head(2)"
   ]
  },
  {
   "cell_type": "code",
   "execution_count": 189,
   "id": "abad7b37",
   "metadata": {},
   "outputs": [
    {
     "data": {
      "text/html": [
       "<div>\n",
       "<style scoped>\n",
       "    .dataframe tbody tr th:only-of-type {\n",
       "        vertical-align: middle;\n",
       "    }\n",
       "\n",
       "    .dataframe tbody tr th {\n",
       "        vertical-align: top;\n",
       "    }\n",
       "\n",
       "    .dataframe thead th {\n",
       "        text-align: right;\n",
       "    }\n",
       "</style>\n",
       "<table border=\"1\" class=\"dataframe\">\n",
       "  <thead>\n",
       "    <tr style=\"text-align: right;\">\n",
       "      <th></th>\n",
       "      <th>A</th>\n",
       "      <th>B</th>\n",
       "      <th>C</th>\n",
       "    </tr>\n",
       "  </thead>\n",
       "  <tbody>\n",
       "    <tr>\n",
       "      <th>b</th>\n",
       "      <td>2</td>\n",
       "      <td>1</td>\n",
       "      <td>2</td>\n",
       "    </tr>\n",
       "    <tr>\n",
       "      <th>c</th>\n",
       "      <td>3</td>\n",
       "      <td>2</td>\n",
       "      <td>1</td>\n",
       "    </tr>\n",
       "    <tr>\n",
       "      <th>d</th>\n",
       "      <td>4</td>\n",
       "      <td>7</td>\n",
       "      <td>8</td>\n",
       "    </tr>\n",
       "  </tbody>\n",
       "</table>\n",
       "</div>"
      ],
      "text/plain": [
       "   A  B  C\n",
       "b  2  1  2\n",
       "c  3  2  1\n",
       "d  4  7  8"
      ]
     },
     "execution_count": 189,
     "metadata": {},
     "output_type": "execute_result"
    }
   ],
   "source": [
    "df.tail(3)"
   ]
  },
  {
   "cell_type": "code",
   "execution_count": 190,
   "id": "98fce593",
   "metadata": {},
   "outputs": [
    {
     "data": {
      "text/plain": [
       "(4, 3)"
      ]
     },
     "execution_count": 190,
     "metadata": {},
     "output_type": "execute_result"
    }
   ],
   "source": [
    "df.shape"
   ]
  },
  {
   "cell_type": "code",
   "execution_count": 194,
   "id": "00731c82",
   "metadata": {},
   "outputs": [
    {
     "data": {
      "text/plain": [
       "A     int64\n",
       "B    object\n",
       "C     int64\n",
       "dtype: object"
      ]
     },
     "execution_count": 194,
     "metadata": {},
     "output_type": "execute_result"
    }
   ],
   "source": [
    "df.dtypes"
   ]
  },
  {
   "cell_type": "code",
   "execution_count": 195,
   "id": "dd33d1ef",
   "metadata": {},
   "outputs": [
    {
     "data": {
      "text/plain": [
       "Index(['A', 'B', 'C'], dtype='object')"
      ]
     },
     "execution_count": 195,
     "metadata": {},
     "output_type": "execute_result"
    }
   ],
   "source": [
    "df.columns"
   ]
  },
  {
   "cell_type": "code",
   "execution_count": 196,
   "id": "827cd6ff",
   "metadata": {},
   "outputs": [
    {
     "data": {
      "text/plain": [
       "Index(['a', 'b', 'c', 'd'], dtype='object')"
      ]
     },
     "execution_count": 196,
     "metadata": {},
     "output_type": "execute_result"
    }
   ],
   "source": [
    "df.index"
   ]
  },
  {
   "cell_type": "code",
   "execution_count": 197,
   "id": "2054175b",
   "metadata": {},
   "outputs": [
    {
     "data": {
      "text/plain": [
       "array([[3, '5.6', 6],\n",
       "       [2, 1.2, 2],\n",
       "       [3, 2.1, 1],\n",
       "       [4, 7, 8]], dtype=object)"
      ]
     },
     "execution_count": 197,
     "metadata": {},
     "output_type": "execute_result"
    }
   ],
   "source": [
    "df.values"
   ]
  },
  {
   "cell_type": "code",
   "execution_count": 203,
   "id": "7c879ae4",
   "metadata": {},
   "outputs": [],
   "source": [
    "df['B'] = df['B'].astype('float64')"
   ]
  },
  {
   "cell_type": "code",
   "execution_count": 205,
   "id": "8942217d",
   "metadata": {},
   "outputs": [
    {
     "data": {
      "text/plain": [
       "A      int64\n",
       "B    float64\n",
       "C      int64\n",
       "dtype: object"
      ]
     },
     "execution_count": 205,
     "metadata": {},
     "output_type": "execute_result"
    }
   ],
   "source": [
    "df.dtypes"
   ]
  },
  {
   "cell_type": "code",
   "execution_count": 206,
   "id": "2f2e8648",
   "metadata": {},
   "outputs": [
    {
     "data": {
      "text/html": [
       "<div>\n",
       "<style scoped>\n",
       "    .dataframe tbody tr th:only-of-type {\n",
       "        vertical-align: middle;\n",
       "    }\n",
       "\n",
       "    .dataframe tbody tr th {\n",
       "        vertical-align: top;\n",
       "    }\n",
       "\n",
       "    .dataframe thead th {\n",
       "        text-align: right;\n",
       "    }\n",
       "</style>\n",
       "<table border=\"1\" class=\"dataframe\">\n",
       "  <thead>\n",
       "    <tr style=\"text-align: right;\">\n",
       "      <th></th>\n",
       "      <th>A</th>\n",
       "      <th>B</th>\n",
       "      <th>C</th>\n",
       "    </tr>\n",
       "  </thead>\n",
       "  <tbody>\n",
       "    <tr>\n",
       "      <th>a</th>\n",
       "      <td>False</td>\n",
       "      <td>True</td>\n",
       "      <td>True</td>\n",
       "    </tr>\n",
       "    <tr>\n",
       "      <th>b</th>\n",
       "      <td>False</td>\n",
       "      <td>False</td>\n",
       "      <td>False</td>\n",
       "    </tr>\n",
       "    <tr>\n",
       "      <th>c</th>\n",
       "      <td>False</td>\n",
       "      <td>False</td>\n",
       "      <td>False</td>\n",
       "    </tr>\n",
       "    <tr>\n",
       "      <th>d</th>\n",
       "      <td>True</td>\n",
       "      <td>True</td>\n",
       "      <td>True</td>\n",
       "    </tr>\n",
       "  </tbody>\n",
       "</table>\n",
       "</div>"
      ],
      "text/plain": [
       "       A      B      C\n",
       "a  False   True   True\n",
       "b  False  False  False\n",
       "c  False  False  False\n",
       "d   True   True   True"
      ]
     },
     "execution_count": 206,
     "metadata": {},
     "output_type": "execute_result"
    }
   ],
   "source": [
    "df > 3"
   ]
  },
  {
   "cell_type": "code",
   "execution_count": 207,
   "id": "5ce3e694",
   "metadata": {},
   "outputs": [
    {
     "data": {
      "text/html": [
       "<div>\n",
       "<style scoped>\n",
       "    .dataframe tbody tr th:only-of-type {\n",
       "        vertical-align: middle;\n",
       "    }\n",
       "\n",
       "    .dataframe tbody tr th {\n",
       "        vertical-align: top;\n",
       "    }\n",
       "\n",
       "    .dataframe thead th {\n",
       "        text-align: right;\n",
       "    }\n",
       "</style>\n",
       "<table border=\"1\" class=\"dataframe\">\n",
       "  <thead>\n",
       "    <tr style=\"text-align: right;\">\n",
       "      <th></th>\n",
       "      <th>A</th>\n",
       "      <th>B</th>\n",
       "      <th>C</th>\n",
       "    </tr>\n",
       "  </thead>\n",
       "  <tbody>\n",
       "    <tr>\n",
       "      <th>a</th>\n",
       "      <td>NaN</td>\n",
       "      <td>5.6</td>\n",
       "      <td>6.0</td>\n",
       "    </tr>\n",
       "    <tr>\n",
       "      <th>b</th>\n",
       "      <td>NaN</td>\n",
       "      <td>NaN</td>\n",
       "      <td>NaN</td>\n",
       "    </tr>\n",
       "    <tr>\n",
       "      <th>c</th>\n",
       "      <td>NaN</td>\n",
       "      <td>NaN</td>\n",
       "      <td>NaN</td>\n",
       "    </tr>\n",
       "    <tr>\n",
       "      <th>d</th>\n",
       "      <td>4.0</td>\n",
       "      <td>7.0</td>\n",
       "      <td>8.0</td>\n",
       "    </tr>\n",
       "  </tbody>\n",
       "</table>\n",
       "</div>"
      ],
      "text/plain": [
       "     A    B    C\n",
       "a  NaN  5.6  6.0\n",
       "b  NaN  NaN  NaN\n",
       "c  NaN  NaN  NaN\n",
       "d  4.0  7.0  8.0"
      ]
     },
     "execution_count": 207,
     "metadata": {},
     "output_type": "execute_result"
    }
   ],
   "source": [
    "df[df>3]"
   ]
  },
  {
   "cell_type": "code",
   "execution_count": 211,
   "id": "a2893fc9",
   "metadata": {},
   "outputs": [
    {
     "data": {
      "text/html": [
       "<div>\n",
       "<style scoped>\n",
       "    .dataframe tbody tr th:only-of-type {\n",
       "        vertical-align: middle;\n",
       "    }\n",
       "\n",
       "    .dataframe tbody tr th {\n",
       "        vertical-align: top;\n",
       "    }\n",
       "\n",
       "    .dataframe thead th {\n",
       "        text-align: right;\n",
       "    }\n",
       "</style>\n",
       "<table border=\"1\" class=\"dataframe\">\n",
       "  <thead>\n",
       "    <tr style=\"text-align: right;\">\n",
       "      <th></th>\n",
       "      <th>A</th>\n",
       "      <th>B</th>\n",
       "      <th>C</th>\n",
       "    </tr>\n",
       "  </thead>\n",
       "  <tbody>\n",
       "    <tr>\n",
       "      <th>d</th>\n",
       "      <td>4</td>\n",
       "      <td>7.0</td>\n",
       "      <td>8</td>\n",
       "    </tr>\n",
       "  </tbody>\n",
       "</table>\n",
       "</div>"
      ],
      "text/plain": [
       "   A    B  C\n",
       "d  4  7.0  8"
      ]
     },
     "execution_count": 211,
     "metadata": {},
     "output_type": "execute_result"
    }
   ],
   "source": [
    "df[(df['B']>3) & (df['A'] > 3)]"
   ]
  },
  {
   "cell_type": "code",
   "execution_count": 212,
   "id": "288e062d",
   "metadata": {},
   "outputs": [
    {
     "data": {
      "text/html": [
       "<div>\n",
       "<style scoped>\n",
       "    .dataframe tbody tr th:only-of-type {\n",
       "        vertical-align: middle;\n",
       "    }\n",
       "\n",
       "    .dataframe tbody tr th {\n",
       "        vertical-align: top;\n",
       "    }\n",
       "\n",
       "    .dataframe thead th {\n",
       "        text-align: right;\n",
       "    }\n",
       "</style>\n",
       "<table border=\"1\" class=\"dataframe\">\n",
       "  <thead>\n",
       "    <tr style=\"text-align: right;\">\n",
       "      <th></th>\n",
       "      <th>A</th>\n",
       "      <th>B</th>\n",
       "      <th>C</th>\n",
       "    </tr>\n",
       "  </thead>\n",
       "  <tbody>\n",
       "    <tr>\n",
       "      <th>a</th>\n",
       "      <td>3</td>\n",
       "      <td>5.6</td>\n",
       "      <td>6</td>\n",
       "    </tr>\n",
       "    <tr>\n",
       "      <th>b</th>\n",
       "      <td>2</td>\n",
       "      <td>1.2</td>\n",
       "      <td>2</td>\n",
       "    </tr>\n",
       "    <tr>\n",
       "      <th>c</th>\n",
       "      <td>3</td>\n",
       "      <td>2.1</td>\n",
       "      <td>1</td>\n",
       "    </tr>\n",
       "    <tr>\n",
       "      <th>d</th>\n",
       "      <td>4</td>\n",
       "      <td>7.0</td>\n",
       "      <td>8</td>\n",
       "    </tr>\n",
       "  </tbody>\n",
       "</table>\n",
       "</div>"
      ],
      "text/plain": [
       "   A    B  C\n",
       "a  3  5.6  6\n",
       "b  2  1.2  2\n",
       "c  3  2.1  1\n",
       "d  4  7.0  8"
      ]
     },
     "execution_count": 212,
     "metadata": {},
     "output_type": "execute_result"
    }
   ],
   "source": [
    "df"
   ]
  },
  {
   "cell_type": "code",
   "execution_count": 213,
   "id": "d98f1b93",
   "metadata": {},
   "outputs": [],
   "source": [
    "df['D'] = [5,9,1, 2]"
   ]
  },
  {
   "cell_type": "code",
   "execution_count": 214,
   "id": "19ebbca5",
   "metadata": {},
   "outputs": [
    {
     "data": {
      "text/html": [
       "<div>\n",
       "<style scoped>\n",
       "    .dataframe tbody tr th:only-of-type {\n",
       "        vertical-align: middle;\n",
       "    }\n",
       "\n",
       "    .dataframe tbody tr th {\n",
       "        vertical-align: top;\n",
       "    }\n",
       "\n",
       "    .dataframe thead th {\n",
       "        text-align: right;\n",
       "    }\n",
       "</style>\n",
       "<table border=\"1\" class=\"dataframe\">\n",
       "  <thead>\n",
       "    <tr style=\"text-align: right;\">\n",
       "      <th></th>\n",
       "      <th>A</th>\n",
       "      <th>B</th>\n",
       "      <th>C</th>\n",
       "      <th>D</th>\n",
       "    </tr>\n",
       "  </thead>\n",
       "  <tbody>\n",
       "    <tr>\n",
       "      <th>a</th>\n",
       "      <td>3</td>\n",
       "      <td>5.6</td>\n",
       "      <td>6</td>\n",
       "      <td>5</td>\n",
       "    </tr>\n",
       "    <tr>\n",
       "      <th>b</th>\n",
       "      <td>2</td>\n",
       "      <td>1.2</td>\n",
       "      <td>2</td>\n",
       "      <td>9</td>\n",
       "    </tr>\n",
       "    <tr>\n",
       "      <th>c</th>\n",
       "      <td>3</td>\n",
       "      <td>2.1</td>\n",
       "      <td>1</td>\n",
       "      <td>1</td>\n",
       "    </tr>\n",
       "    <tr>\n",
       "      <th>d</th>\n",
       "      <td>4</td>\n",
       "      <td>7.0</td>\n",
       "      <td>8</td>\n",
       "      <td>2</td>\n",
       "    </tr>\n",
       "  </tbody>\n",
       "</table>\n",
       "</div>"
      ],
      "text/plain": [
       "   A    B  C  D\n",
       "a  3  5.6  6  5\n",
       "b  2  1.2  2  9\n",
       "c  3  2.1  1  1\n",
       "d  4  7.0  8  2"
      ]
     },
     "execution_count": 214,
     "metadata": {},
     "output_type": "execute_result"
    }
   ],
   "source": [
    "df"
   ]
  },
  {
   "cell_type": "code",
   "execution_count": 215,
   "id": "88d139ec",
   "metadata": {},
   "outputs": [],
   "source": [
    "df['A'] = df['A'] * 2"
   ]
  },
  {
   "cell_type": "code",
   "execution_count": 216,
   "id": "68ffbaef",
   "metadata": {},
   "outputs": [
    {
     "data": {
      "text/html": [
       "<div>\n",
       "<style scoped>\n",
       "    .dataframe tbody tr th:only-of-type {\n",
       "        vertical-align: middle;\n",
       "    }\n",
       "\n",
       "    .dataframe tbody tr th {\n",
       "        vertical-align: top;\n",
       "    }\n",
       "\n",
       "    .dataframe thead th {\n",
       "        text-align: right;\n",
       "    }\n",
       "</style>\n",
       "<table border=\"1\" class=\"dataframe\">\n",
       "  <thead>\n",
       "    <tr style=\"text-align: right;\">\n",
       "      <th></th>\n",
       "      <th>A</th>\n",
       "      <th>B</th>\n",
       "      <th>C</th>\n",
       "      <th>D</th>\n",
       "    </tr>\n",
       "  </thead>\n",
       "  <tbody>\n",
       "    <tr>\n",
       "      <th>a</th>\n",
       "      <td>6</td>\n",
       "      <td>5.6</td>\n",
       "      <td>6</td>\n",
       "      <td>5</td>\n",
       "    </tr>\n",
       "    <tr>\n",
       "      <th>b</th>\n",
       "      <td>4</td>\n",
       "      <td>1.2</td>\n",
       "      <td>2</td>\n",
       "      <td>9</td>\n",
       "    </tr>\n",
       "    <tr>\n",
       "      <th>c</th>\n",
       "      <td>6</td>\n",
       "      <td>2.1</td>\n",
       "      <td>1</td>\n",
       "      <td>1</td>\n",
       "    </tr>\n",
       "    <tr>\n",
       "      <th>d</th>\n",
       "      <td>8</td>\n",
       "      <td>7.0</td>\n",
       "      <td>8</td>\n",
       "      <td>2</td>\n",
       "    </tr>\n",
       "  </tbody>\n",
       "</table>\n",
       "</div>"
      ],
      "text/plain": [
       "   A    B  C  D\n",
       "a  6  5.6  6  5\n",
       "b  4  1.2  2  9\n",
       "c  6  2.1  1  1\n",
       "d  8  7.0  8  2"
      ]
     },
     "execution_count": 216,
     "metadata": {},
     "output_type": "execute_result"
    }
   ],
   "source": [
    "df"
   ]
  },
  {
   "cell_type": "code",
   "execution_count": 217,
   "id": "4a250b0f",
   "metadata": {},
   "outputs": [
    {
     "data": {
      "text/html": [
       "<div>\n",
       "<style scoped>\n",
       "    .dataframe tbody tr th:only-of-type {\n",
       "        vertical-align: middle;\n",
       "    }\n",
       "\n",
       "    .dataframe tbody tr th {\n",
       "        vertical-align: top;\n",
       "    }\n",
       "\n",
       "    .dataframe thead th {\n",
       "        text-align: right;\n",
       "    }\n",
       "</style>\n",
       "<table border=\"1\" class=\"dataframe\">\n",
       "  <thead>\n",
       "    <tr style=\"text-align: right;\">\n",
       "      <th></th>\n",
       "      <th>A</th>\n",
       "      <th>B</th>\n",
       "      <th>C</th>\n",
       "      <th>D</th>\n",
       "    </tr>\n",
       "  </thead>\n",
       "  <tbody>\n",
       "    <tr>\n",
       "      <th>a</th>\n",
       "      <td>6</td>\n",
       "      <td>5.6</td>\n",
       "      <td>6</td>\n",
       "      <td>5</td>\n",
       "    </tr>\n",
       "    <tr>\n",
       "      <th>b</th>\n",
       "      <td>4</td>\n",
       "      <td>1.2</td>\n",
       "      <td>2</td>\n",
       "      <td>9</td>\n",
       "    </tr>\n",
       "    <tr>\n",
       "      <th>c</th>\n",
       "      <td>6</td>\n",
       "      <td>2.1</td>\n",
       "      <td>1</td>\n",
       "      <td>1</td>\n",
       "    </tr>\n",
       "    <tr>\n",
       "      <th>d</th>\n",
       "      <td>8</td>\n",
       "      <td>7.0</td>\n",
       "      <td>8</td>\n",
       "      <td>2</td>\n",
       "    </tr>\n",
       "  </tbody>\n",
       "</table>\n",
       "</div>"
      ],
      "text/plain": [
       "   A    B  C  D\n",
       "a  6  5.6  6  5\n",
       "b  4  1.2  2  9\n",
       "c  6  2.1  1  1\n",
       "d  8  7.0  8  2"
      ]
     },
     "execution_count": 217,
     "metadata": {},
     "output_type": "execute_result"
    }
   ],
   "source": [
    "df"
   ]
  },
  {
   "cell_type": "code",
   "execution_count": 226,
   "id": "edd390e6",
   "metadata": {},
   "outputs": [],
   "source": [
    "df2 = df.reset_index(drop = True)"
   ]
  },
  {
   "cell_type": "code",
   "execution_count": 227,
   "id": "9a4b2ba8",
   "metadata": {},
   "outputs": [
    {
     "data": {
      "text/html": [
       "<div>\n",
       "<style scoped>\n",
       "    .dataframe tbody tr th:only-of-type {\n",
       "        vertical-align: middle;\n",
       "    }\n",
       "\n",
       "    .dataframe tbody tr th {\n",
       "        vertical-align: top;\n",
       "    }\n",
       "\n",
       "    .dataframe thead th {\n",
       "        text-align: right;\n",
       "    }\n",
       "</style>\n",
       "<table border=\"1\" class=\"dataframe\">\n",
       "  <thead>\n",
       "    <tr style=\"text-align: right;\">\n",
       "      <th></th>\n",
       "      <th>A</th>\n",
       "      <th>B</th>\n",
       "      <th>C</th>\n",
       "      <th>D</th>\n",
       "    </tr>\n",
       "  </thead>\n",
       "  <tbody>\n",
       "    <tr>\n",
       "      <th>a</th>\n",
       "      <td>6</td>\n",
       "      <td>5.6</td>\n",
       "      <td>6</td>\n",
       "      <td>5</td>\n",
       "    </tr>\n",
       "    <tr>\n",
       "      <th>b</th>\n",
       "      <td>4</td>\n",
       "      <td>1.2</td>\n",
       "      <td>2</td>\n",
       "      <td>9</td>\n",
       "    </tr>\n",
       "    <tr>\n",
       "      <th>c</th>\n",
       "      <td>6</td>\n",
       "      <td>2.1</td>\n",
       "      <td>1</td>\n",
       "      <td>1</td>\n",
       "    </tr>\n",
       "    <tr>\n",
       "      <th>d</th>\n",
       "      <td>8</td>\n",
       "      <td>7.0</td>\n",
       "      <td>8</td>\n",
       "      <td>2</td>\n",
       "    </tr>\n",
       "  </tbody>\n",
       "</table>\n",
       "</div>"
      ],
      "text/plain": [
       "   A    B  C  D\n",
       "a  6  5.6  6  5\n",
       "b  4  1.2  2  9\n",
       "c  6  2.1  1  1\n",
       "d  8  7.0  8  2"
      ]
     },
     "execution_count": 227,
     "metadata": {},
     "output_type": "execute_result"
    }
   ],
   "source": [
    "df"
   ]
  },
  {
   "cell_type": "code",
   "execution_count": 228,
   "id": "b70a8dba",
   "metadata": {},
   "outputs": [
    {
     "data": {
      "text/html": [
       "<div>\n",
       "<style scoped>\n",
       "    .dataframe tbody tr th:only-of-type {\n",
       "        vertical-align: middle;\n",
       "    }\n",
       "\n",
       "    .dataframe tbody tr th {\n",
       "        vertical-align: top;\n",
       "    }\n",
       "\n",
       "    .dataframe thead th {\n",
       "        text-align: right;\n",
       "    }\n",
       "</style>\n",
       "<table border=\"1\" class=\"dataframe\">\n",
       "  <thead>\n",
       "    <tr style=\"text-align: right;\">\n",
       "      <th></th>\n",
       "      <th>A</th>\n",
       "      <th>B</th>\n",
       "      <th>C</th>\n",
       "      <th>D</th>\n",
       "    </tr>\n",
       "  </thead>\n",
       "  <tbody>\n",
       "    <tr>\n",
       "      <th>0</th>\n",
       "      <td>6</td>\n",
       "      <td>5.6</td>\n",
       "      <td>6</td>\n",
       "      <td>5</td>\n",
       "    </tr>\n",
       "    <tr>\n",
       "      <th>1</th>\n",
       "      <td>4</td>\n",
       "      <td>1.2</td>\n",
       "      <td>2</td>\n",
       "      <td>9</td>\n",
       "    </tr>\n",
       "    <tr>\n",
       "      <th>2</th>\n",
       "      <td>6</td>\n",
       "      <td>2.1</td>\n",
       "      <td>1</td>\n",
       "      <td>1</td>\n",
       "    </tr>\n",
       "    <tr>\n",
       "      <th>3</th>\n",
       "      <td>8</td>\n",
       "      <td>7.0</td>\n",
       "      <td>8</td>\n",
       "      <td>2</td>\n",
       "    </tr>\n",
       "  </tbody>\n",
       "</table>\n",
       "</div>"
      ],
      "text/plain": [
       "   A    B  C  D\n",
       "0  6  5.6  6  5\n",
       "1  4  1.2  2  9\n",
       "2  6  2.1  1  1\n",
       "3  8  7.0  8  2"
      ]
     },
     "execution_count": 228,
     "metadata": {},
     "output_type": "execute_result"
    }
   ],
   "source": [
    "df2"
   ]
  },
  {
   "cell_type": "code",
   "execution_count": 229,
   "id": "c90ab89a",
   "metadata": {},
   "outputs": [],
   "source": [
    "df.reset_index(drop = True, inplace = True)"
   ]
  },
  {
   "cell_type": "code",
   "execution_count": 230,
   "id": "ad259413",
   "metadata": {},
   "outputs": [
    {
     "data": {
      "text/html": [
       "<div>\n",
       "<style scoped>\n",
       "    .dataframe tbody tr th:only-of-type {\n",
       "        vertical-align: middle;\n",
       "    }\n",
       "\n",
       "    .dataframe tbody tr th {\n",
       "        vertical-align: top;\n",
       "    }\n",
       "\n",
       "    .dataframe thead th {\n",
       "        text-align: right;\n",
       "    }\n",
       "</style>\n",
       "<table border=\"1\" class=\"dataframe\">\n",
       "  <thead>\n",
       "    <tr style=\"text-align: right;\">\n",
       "      <th></th>\n",
       "      <th>A</th>\n",
       "      <th>B</th>\n",
       "      <th>C</th>\n",
       "      <th>D</th>\n",
       "    </tr>\n",
       "  </thead>\n",
       "  <tbody>\n",
       "    <tr>\n",
       "      <th>0</th>\n",
       "      <td>6</td>\n",
       "      <td>5.6</td>\n",
       "      <td>6</td>\n",
       "      <td>5</td>\n",
       "    </tr>\n",
       "    <tr>\n",
       "      <th>1</th>\n",
       "      <td>4</td>\n",
       "      <td>1.2</td>\n",
       "      <td>2</td>\n",
       "      <td>9</td>\n",
       "    </tr>\n",
       "    <tr>\n",
       "      <th>2</th>\n",
       "      <td>6</td>\n",
       "      <td>2.1</td>\n",
       "      <td>1</td>\n",
       "      <td>1</td>\n",
       "    </tr>\n",
       "    <tr>\n",
       "      <th>3</th>\n",
       "      <td>8</td>\n",
       "      <td>7.0</td>\n",
       "      <td>8</td>\n",
       "      <td>2</td>\n",
       "    </tr>\n",
       "  </tbody>\n",
       "</table>\n",
       "</div>"
      ],
      "text/plain": [
       "   A    B  C  D\n",
       "0  6  5.6  6  5\n",
       "1  4  1.2  2  9\n",
       "2  6  2.1  1  1\n",
       "3  8  7.0  8  2"
      ]
     },
     "execution_count": 230,
     "metadata": {},
     "output_type": "execute_result"
    }
   ],
   "source": [
    "df"
   ]
  },
  {
   "cell_type": "code",
   "execution_count": 231,
   "id": "1d87e618",
   "metadata": {},
   "outputs": [
    {
     "data": {
      "text/html": [
       "<div>\n",
       "<style scoped>\n",
       "    .dataframe tbody tr th:only-of-type {\n",
       "        vertical-align: middle;\n",
       "    }\n",
       "\n",
       "    .dataframe tbody tr th {\n",
       "        vertical-align: top;\n",
       "    }\n",
       "\n",
       "    .dataframe thead th {\n",
       "        text-align: right;\n",
       "    }\n",
       "</style>\n",
       "<table border=\"1\" class=\"dataframe\">\n",
       "  <thead>\n",
       "    <tr style=\"text-align: right;\">\n",
       "      <th></th>\n",
       "      <th>A</th>\n",
       "      <th>B</th>\n",
       "      <th>D</th>\n",
       "    </tr>\n",
       "    <tr>\n",
       "      <th>C</th>\n",
       "      <th></th>\n",
       "      <th></th>\n",
       "      <th></th>\n",
       "    </tr>\n",
       "  </thead>\n",
       "  <tbody>\n",
       "    <tr>\n",
       "      <th>6</th>\n",
       "      <td>6</td>\n",
       "      <td>5.6</td>\n",
       "      <td>5</td>\n",
       "    </tr>\n",
       "    <tr>\n",
       "      <th>2</th>\n",
       "      <td>4</td>\n",
       "      <td>1.2</td>\n",
       "      <td>9</td>\n",
       "    </tr>\n",
       "    <tr>\n",
       "      <th>1</th>\n",
       "      <td>6</td>\n",
       "      <td>2.1</td>\n",
       "      <td>1</td>\n",
       "    </tr>\n",
       "    <tr>\n",
       "      <th>8</th>\n",
       "      <td>8</td>\n",
       "      <td>7.0</td>\n",
       "      <td>2</td>\n",
       "    </tr>\n",
       "  </tbody>\n",
       "</table>\n",
       "</div>"
      ],
      "text/plain": [
       "   A    B  D\n",
       "C           \n",
       "6  6  5.6  5\n",
       "2  4  1.2  9\n",
       "1  6  2.1  1\n",
       "8  8  7.0  2"
      ]
     },
     "execution_count": 231,
     "metadata": {},
     "output_type": "execute_result"
    }
   ],
   "source": [
    "df.set_index('C')"
   ]
  },
  {
   "cell_type": "code",
   "execution_count": 232,
   "id": "adfb2a68",
   "metadata": {},
   "outputs": [
    {
     "data": {
      "text/html": [
       "<div>\n",
       "<style scoped>\n",
       "    .dataframe tbody tr th:only-of-type {\n",
       "        vertical-align: middle;\n",
       "    }\n",
       "\n",
       "    .dataframe tbody tr th {\n",
       "        vertical-align: top;\n",
       "    }\n",
       "\n",
       "    .dataframe thead th {\n",
       "        text-align: right;\n",
       "    }\n",
       "</style>\n",
       "<table border=\"1\" class=\"dataframe\">\n",
       "  <thead>\n",
       "    <tr style=\"text-align: right;\">\n",
       "      <th></th>\n",
       "      <th>A</th>\n",
       "      <th>B</th>\n",
       "      <th>C</th>\n",
       "      <th>D</th>\n",
       "    </tr>\n",
       "  </thead>\n",
       "  <tbody>\n",
       "    <tr>\n",
       "      <th>0</th>\n",
       "      <td>6</td>\n",
       "      <td>5.6</td>\n",
       "      <td>6</td>\n",
       "      <td>5</td>\n",
       "    </tr>\n",
       "    <tr>\n",
       "      <th>1</th>\n",
       "      <td>4</td>\n",
       "      <td>1.2</td>\n",
       "      <td>2</td>\n",
       "      <td>9</td>\n",
       "    </tr>\n",
       "    <tr>\n",
       "      <th>2</th>\n",
       "      <td>6</td>\n",
       "      <td>2.1</td>\n",
       "      <td>1</td>\n",
       "      <td>1</td>\n",
       "    </tr>\n",
       "    <tr>\n",
       "      <th>3</th>\n",
       "      <td>8</td>\n",
       "      <td>7.0</td>\n",
       "      <td>8</td>\n",
       "      <td>2</td>\n",
       "    </tr>\n",
       "  </tbody>\n",
       "</table>\n",
       "</div>"
      ],
      "text/plain": [
       "   A    B  C  D\n",
       "0  6  5.6  6  5\n",
       "1  4  1.2  2  9\n",
       "2  6  2.1  1  1\n",
       "3  8  7.0  8  2"
      ]
     },
     "execution_count": 232,
     "metadata": {},
     "output_type": "execute_result"
    }
   ],
   "source": [
    "df"
   ]
  },
  {
   "cell_type": "code",
   "execution_count": 233,
   "id": "f9b2083c",
   "metadata": {},
   "outputs": [
    {
     "data": {
      "text/html": [
       "<div>\n",
       "<style scoped>\n",
       "    .dataframe tbody tr th:only-of-type {\n",
       "        vertical-align: middle;\n",
       "    }\n",
       "\n",
       "    .dataframe tbody tr th {\n",
       "        vertical-align: top;\n",
       "    }\n",
       "\n",
       "    .dataframe thead th {\n",
       "        text-align: right;\n",
       "    }\n",
       "</style>\n",
       "<table border=\"1\" class=\"dataframe\">\n",
       "  <thead>\n",
       "    <tr style=\"text-align: right;\">\n",
       "      <th></th>\n",
       "      <th>A</th>\n",
       "      <th>B</th>\n",
       "      <th>C</th>\n",
       "      <th>D</th>\n",
       "    </tr>\n",
       "  </thead>\n",
       "  <tbody>\n",
       "    <tr>\n",
       "      <th>0</th>\n",
       "      <td>6</td>\n",
       "      <td>5.6</td>\n",
       "      <td>6</td>\n",
       "      <td>5</td>\n",
       "    </tr>\n",
       "    <tr>\n",
       "      <th>1</th>\n",
       "      <td>4</td>\n",
       "      <td>1.2</td>\n",
       "      <td>2</td>\n",
       "      <td>9</td>\n",
       "    </tr>\n",
       "    <tr>\n",
       "      <th>2</th>\n",
       "      <td>6</td>\n",
       "      <td>2.1</td>\n",
       "      <td>1</td>\n",
       "      <td>1</td>\n",
       "    </tr>\n",
       "    <tr>\n",
       "      <th>3</th>\n",
       "      <td>8</td>\n",
       "      <td>7.0</td>\n",
       "      <td>8</td>\n",
       "      <td>2</td>\n",
       "    </tr>\n",
       "  </tbody>\n",
       "</table>\n",
       "</div>"
      ],
      "text/plain": [
       "   A    B  C  D\n",
       "0  6  5.6  6  5\n",
       "1  4  1.2  2  9\n",
       "2  6  2.1  1  1\n",
       "3  8  7.0  8  2"
      ]
     },
     "execution_count": 233,
     "metadata": {},
     "output_type": "execute_result"
    }
   ],
   "source": [
    "df1 = df.copy()\n",
    "df1"
   ]
  },
  {
   "cell_type": "code",
   "execution_count": 237,
   "id": "8279f860",
   "metadata": {},
   "outputs": [
    {
     "data": {
      "text/html": [
       "<div>\n",
       "<style scoped>\n",
       "    .dataframe tbody tr th:only-of-type {\n",
       "        vertical-align: middle;\n",
       "    }\n",
       "\n",
       "    .dataframe tbody tr th {\n",
       "        vertical-align: top;\n",
       "    }\n",
       "\n",
       "    .dataframe thead th {\n",
       "        text-align: right;\n",
       "    }\n",
       "</style>\n",
       "<table border=\"1\" class=\"dataframe\">\n",
       "  <thead>\n",
       "    <tr style=\"text-align: right;\">\n",
       "      <th></th>\n",
       "      <th>B</th>\n",
       "      <th>F</th>\n",
       "      <th>G</th>\n",
       "    </tr>\n",
       "  </thead>\n",
       "  <tbody>\n",
       "    <tr>\n",
       "      <th>0</th>\n",
       "      <td>5.6</td>\n",
       "      <td>5</td>\n",
       "      <td>6</td>\n",
       "    </tr>\n",
       "    <tr>\n",
       "      <th>1</th>\n",
       "      <td>2.0</td>\n",
       "      <td>10</td>\n",
       "      <td>2</td>\n",
       "    </tr>\n",
       "    <tr>\n",
       "      <th>2</th>\n",
       "      <td>2.1</td>\n",
       "      <td>2</td>\n",
       "      <td>1</td>\n",
       "    </tr>\n",
       "    <tr>\n",
       "      <th>3</th>\n",
       "      <td>7.0</td>\n",
       "      <td>7</td>\n",
       "      <td>8</td>\n",
       "    </tr>\n",
       "  </tbody>\n",
       "</table>\n",
       "</div>"
      ],
      "text/plain": [
       "     B   F  G\n",
       "0  5.6   5  6\n",
       "1  2.0  10  2\n",
       "2  2.1   2  1\n",
       "3  7.0   7  8"
      ]
     },
     "execution_count": 237,
     "metadata": {},
     "output_type": "execute_result"
    }
   ],
   "source": [
    "df2 = pd.DataFrame(data = [[5.6,5,6], [2,10,2], [2.1,2,1], [7.0,7,8]],\n",
    "                  columns =['B', 'F', 'G'])\n",
    "df2"
   ]
  },
  {
   "cell_type": "code",
   "execution_count": null,
   "id": "bf8aa304",
   "metadata": {},
   "outputs": [],
   "source": [
    "concat\n",
    "join\n",
    "merge - inner, left, right, outer"
   ]
  },
  {
   "cell_type": "code",
   "execution_count": 235,
   "id": "71a54c4e",
   "metadata": {},
   "outputs": [
    {
     "data": {
      "text/html": [
       "<div>\n",
       "<style scoped>\n",
       "    .dataframe tbody tr th:only-of-type {\n",
       "        vertical-align: middle;\n",
       "    }\n",
       "\n",
       "    .dataframe tbody tr th {\n",
       "        vertical-align: top;\n",
       "    }\n",
       "\n",
       "    .dataframe thead th {\n",
       "        text-align: right;\n",
       "    }\n",
       "</style>\n",
       "<table border=\"1\" class=\"dataframe\">\n",
       "  <thead>\n",
       "    <tr style=\"text-align: right;\">\n",
       "      <th></th>\n",
       "      <th>A</th>\n",
       "      <th>B</th>\n",
       "      <th>C</th>\n",
       "      <th>D</th>\n",
       "    </tr>\n",
       "  </thead>\n",
       "  <tbody>\n",
       "    <tr>\n",
       "      <th>0</th>\n",
       "      <td>6</td>\n",
       "      <td>5.6</td>\n",
       "      <td>6</td>\n",
       "      <td>5</td>\n",
       "    </tr>\n",
       "    <tr>\n",
       "      <th>1</th>\n",
       "      <td>4</td>\n",
       "      <td>1.2</td>\n",
       "      <td>2</td>\n",
       "      <td>9</td>\n",
       "    </tr>\n",
       "    <tr>\n",
       "      <th>2</th>\n",
       "      <td>6</td>\n",
       "      <td>2.1</td>\n",
       "      <td>1</td>\n",
       "      <td>1</td>\n",
       "    </tr>\n",
       "    <tr>\n",
       "      <th>3</th>\n",
       "      <td>8</td>\n",
       "      <td>7.0</td>\n",
       "      <td>8</td>\n",
       "      <td>2</td>\n",
       "    </tr>\n",
       "  </tbody>\n",
       "</table>\n",
       "</div>"
      ],
      "text/plain": [
       "   A    B  C  D\n",
       "0  6  5.6  6  5\n",
       "1  4  1.2  2  9\n",
       "2  6  2.1  1  1\n",
       "3  8  7.0  8  2"
      ]
     },
     "execution_count": 235,
     "metadata": {},
     "output_type": "execute_result"
    }
   ],
   "source": [
    "df1"
   ]
  },
  {
   "cell_type": "code",
   "execution_count": 238,
   "id": "a676db41",
   "metadata": {},
   "outputs": [
    {
     "data": {
      "text/html": [
       "<div>\n",
       "<style scoped>\n",
       "    .dataframe tbody tr th:only-of-type {\n",
       "        vertical-align: middle;\n",
       "    }\n",
       "\n",
       "    .dataframe tbody tr th {\n",
       "        vertical-align: top;\n",
       "    }\n",
       "\n",
       "    .dataframe thead th {\n",
       "        text-align: right;\n",
       "    }\n",
       "</style>\n",
       "<table border=\"1\" class=\"dataframe\">\n",
       "  <thead>\n",
       "    <tr style=\"text-align: right;\">\n",
       "      <th></th>\n",
       "      <th>B</th>\n",
       "      <th>F</th>\n",
       "      <th>G</th>\n",
       "    </tr>\n",
       "  </thead>\n",
       "  <tbody>\n",
       "    <tr>\n",
       "      <th>0</th>\n",
       "      <td>5.6</td>\n",
       "      <td>5</td>\n",
       "      <td>6</td>\n",
       "    </tr>\n",
       "    <tr>\n",
       "      <th>1</th>\n",
       "      <td>2.0</td>\n",
       "      <td>10</td>\n",
       "      <td>2</td>\n",
       "    </tr>\n",
       "    <tr>\n",
       "      <th>2</th>\n",
       "      <td>2.1</td>\n",
       "      <td>2</td>\n",
       "      <td>1</td>\n",
       "    </tr>\n",
       "    <tr>\n",
       "      <th>3</th>\n",
       "      <td>7.0</td>\n",
       "      <td>7</td>\n",
       "      <td>8</td>\n",
       "    </tr>\n",
       "  </tbody>\n",
       "</table>\n",
       "</div>"
      ],
      "text/plain": [
       "     B   F  G\n",
       "0  5.6   5  6\n",
       "1  2.0  10  2\n",
       "2  2.1   2  1\n",
       "3  7.0   7  8"
      ]
     },
     "execution_count": 238,
     "metadata": {},
     "output_type": "execute_result"
    }
   ],
   "source": [
    "df2"
   ]
  },
  {
   "cell_type": "code",
   "execution_count": 240,
   "id": "6c5bd30a",
   "metadata": {},
   "outputs": [
    {
     "data": {
      "text/html": [
       "<div>\n",
       "<style scoped>\n",
       "    .dataframe tbody tr th:only-of-type {\n",
       "        vertical-align: middle;\n",
       "    }\n",
       "\n",
       "    .dataframe tbody tr th {\n",
       "        vertical-align: top;\n",
       "    }\n",
       "\n",
       "    .dataframe thead th {\n",
       "        text-align: right;\n",
       "    }\n",
       "</style>\n",
       "<table border=\"1\" class=\"dataframe\">\n",
       "  <thead>\n",
       "    <tr style=\"text-align: right;\">\n",
       "      <th></th>\n",
       "      <th>A</th>\n",
       "      <th>B</th>\n",
       "      <th>C</th>\n",
       "      <th>D</th>\n",
       "      <th>F</th>\n",
       "      <th>G</th>\n",
       "    </tr>\n",
       "  </thead>\n",
       "  <tbody>\n",
       "    <tr>\n",
       "      <th>0</th>\n",
       "      <td>6</td>\n",
       "      <td>5.6</td>\n",
       "      <td>6</td>\n",
       "      <td>5</td>\n",
       "      <td>5</td>\n",
       "      <td>6</td>\n",
       "    </tr>\n",
       "    <tr>\n",
       "      <th>1</th>\n",
       "      <td>6</td>\n",
       "      <td>2.1</td>\n",
       "      <td>1</td>\n",
       "      <td>1</td>\n",
       "      <td>2</td>\n",
       "      <td>1</td>\n",
       "    </tr>\n",
       "    <tr>\n",
       "      <th>2</th>\n",
       "      <td>8</td>\n",
       "      <td>7.0</td>\n",
       "      <td>8</td>\n",
       "      <td>2</td>\n",
       "      <td>7</td>\n",
       "      <td>8</td>\n",
       "    </tr>\n",
       "  </tbody>\n",
       "</table>\n",
       "</div>"
      ],
      "text/plain": [
       "   A    B  C  D  F  G\n",
       "0  6  5.6  6  5  5  6\n",
       "1  6  2.1  1  1  2  1\n",
       "2  8  7.0  8  2  7  8"
      ]
     },
     "execution_count": 240,
     "metadata": {},
     "output_type": "execute_result"
    }
   ],
   "source": [
    "pd.merge(left =df1, right =df2, how = 'inner', on = 'B')"
   ]
  },
  {
   "cell_type": "code",
   "execution_count": 241,
   "id": "adf88ca9",
   "metadata": {},
   "outputs": [
    {
     "data": {
      "text/html": [
       "<div>\n",
       "<style scoped>\n",
       "    .dataframe tbody tr th:only-of-type {\n",
       "        vertical-align: middle;\n",
       "    }\n",
       "\n",
       "    .dataframe tbody tr th {\n",
       "        vertical-align: top;\n",
       "    }\n",
       "\n",
       "    .dataframe thead th {\n",
       "        text-align: right;\n",
       "    }\n",
       "</style>\n",
       "<table border=\"1\" class=\"dataframe\">\n",
       "  <thead>\n",
       "    <tr style=\"text-align: right;\">\n",
       "      <th></th>\n",
       "      <th>A</th>\n",
       "      <th>B</th>\n",
       "      <th>C</th>\n",
       "      <th>D</th>\n",
       "      <th>F</th>\n",
       "      <th>G</th>\n",
       "    </tr>\n",
       "  </thead>\n",
       "  <tbody>\n",
       "    <tr>\n",
       "      <th>0</th>\n",
       "      <td>6</td>\n",
       "      <td>5.6</td>\n",
       "      <td>6</td>\n",
       "      <td>5</td>\n",
       "      <td>5.0</td>\n",
       "      <td>6.0</td>\n",
       "    </tr>\n",
       "    <tr>\n",
       "      <th>1</th>\n",
       "      <td>4</td>\n",
       "      <td>1.2</td>\n",
       "      <td>2</td>\n",
       "      <td>9</td>\n",
       "      <td>NaN</td>\n",
       "      <td>NaN</td>\n",
       "    </tr>\n",
       "    <tr>\n",
       "      <th>2</th>\n",
       "      <td>6</td>\n",
       "      <td>2.1</td>\n",
       "      <td>1</td>\n",
       "      <td>1</td>\n",
       "      <td>2.0</td>\n",
       "      <td>1.0</td>\n",
       "    </tr>\n",
       "    <tr>\n",
       "      <th>3</th>\n",
       "      <td>8</td>\n",
       "      <td>7.0</td>\n",
       "      <td>8</td>\n",
       "      <td>2</td>\n",
       "      <td>7.0</td>\n",
       "      <td>8.0</td>\n",
       "    </tr>\n",
       "  </tbody>\n",
       "</table>\n",
       "</div>"
      ],
      "text/plain": [
       "   A    B  C  D    F    G\n",
       "0  6  5.6  6  5  5.0  6.0\n",
       "1  4  1.2  2  9  NaN  NaN\n",
       "2  6  2.1  1  1  2.0  1.0\n",
       "3  8  7.0  8  2  7.0  8.0"
      ]
     },
     "execution_count": 241,
     "metadata": {},
     "output_type": "execute_result"
    }
   ],
   "source": [
    "pd.merge(left =df1, right =df2, how = 'left', on = 'B')"
   ]
  },
  {
   "cell_type": "code",
   "execution_count": 242,
   "id": "9d6abbed",
   "metadata": {},
   "outputs": [
    {
     "data": {
      "text/html": [
       "<div>\n",
       "<style scoped>\n",
       "    .dataframe tbody tr th:only-of-type {\n",
       "        vertical-align: middle;\n",
       "    }\n",
       "\n",
       "    .dataframe tbody tr th {\n",
       "        vertical-align: top;\n",
       "    }\n",
       "\n",
       "    .dataframe thead th {\n",
       "        text-align: right;\n",
       "    }\n",
       "</style>\n",
       "<table border=\"1\" class=\"dataframe\">\n",
       "  <thead>\n",
       "    <tr style=\"text-align: right;\">\n",
       "      <th></th>\n",
       "      <th>A</th>\n",
       "      <th>B</th>\n",
       "      <th>C</th>\n",
       "      <th>D</th>\n",
       "      <th>F</th>\n",
       "      <th>G</th>\n",
       "    </tr>\n",
       "  </thead>\n",
       "  <tbody>\n",
       "    <tr>\n",
       "      <th>0</th>\n",
       "      <td>6.0</td>\n",
       "      <td>5.6</td>\n",
       "      <td>6.0</td>\n",
       "      <td>5.0</td>\n",
       "      <td>5</td>\n",
       "      <td>6</td>\n",
       "    </tr>\n",
       "    <tr>\n",
       "      <th>1</th>\n",
       "      <td>NaN</td>\n",
       "      <td>2.0</td>\n",
       "      <td>NaN</td>\n",
       "      <td>NaN</td>\n",
       "      <td>10</td>\n",
       "      <td>2</td>\n",
       "    </tr>\n",
       "    <tr>\n",
       "      <th>2</th>\n",
       "      <td>6.0</td>\n",
       "      <td>2.1</td>\n",
       "      <td>1.0</td>\n",
       "      <td>1.0</td>\n",
       "      <td>2</td>\n",
       "      <td>1</td>\n",
       "    </tr>\n",
       "    <tr>\n",
       "      <th>3</th>\n",
       "      <td>8.0</td>\n",
       "      <td>7.0</td>\n",
       "      <td>8.0</td>\n",
       "      <td>2.0</td>\n",
       "      <td>7</td>\n",
       "      <td>8</td>\n",
       "    </tr>\n",
       "  </tbody>\n",
       "</table>\n",
       "</div>"
      ],
      "text/plain": [
       "     A    B    C    D   F  G\n",
       "0  6.0  5.6  6.0  5.0   5  6\n",
       "1  NaN  2.0  NaN  NaN  10  2\n",
       "2  6.0  2.1  1.0  1.0   2  1\n",
       "3  8.0  7.0  8.0  2.0   7  8"
      ]
     },
     "execution_count": 242,
     "metadata": {},
     "output_type": "execute_result"
    }
   ],
   "source": [
    "pd.merge(left =df1, right =df2, how = 'right', on = 'B')"
   ]
  },
  {
   "cell_type": "code",
   "execution_count": 243,
   "id": "be5e9ef0",
   "metadata": {},
   "outputs": [
    {
     "data": {
      "text/html": [
       "<div>\n",
       "<style scoped>\n",
       "    .dataframe tbody tr th:only-of-type {\n",
       "        vertical-align: middle;\n",
       "    }\n",
       "\n",
       "    .dataframe tbody tr th {\n",
       "        vertical-align: top;\n",
       "    }\n",
       "\n",
       "    .dataframe thead th {\n",
       "        text-align: right;\n",
       "    }\n",
       "</style>\n",
       "<table border=\"1\" class=\"dataframe\">\n",
       "  <thead>\n",
       "    <tr style=\"text-align: right;\">\n",
       "      <th></th>\n",
       "      <th>A</th>\n",
       "      <th>B</th>\n",
       "      <th>C</th>\n",
       "      <th>D</th>\n",
       "      <th>F</th>\n",
       "      <th>G</th>\n",
       "    </tr>\n",
       "  </thead>\n",
       "  <tbody>\n",
       "    <tr>\n",
       "      <th>0</th>\n",
       "      <td>6.0</td>\n",
       "      <td>5.6</td>\n",
       "      <td>6.0</td>\n",
       "      <td>5.0</td>\n",
       "      <td>5.0</td>\n",
       "      <td>6.0</td>\n",
       "    </tr>\n",
       "    <tr>\n",
       "      <th>1</th>\n",
       "      <td>4.0</td>\n",
       "      <td>1.2</td>\n",
       "      <td>2.0</td>\n",
       "      <td>9.0</td>\n",
       "      <td>NaN</td>\n",
       "      <td>NaN</td>\n",
       "    </tr>\n",
       "    <tr>\n",
       "      <th>2</th>\n",
       "      <td>6.0</td>\n",
       "      <td>2.1</td>\n",
       "      <td>1.0</td>\n",
       "      <td>1.0</td>\n",
       "      <td>2.0</td>\n",
       "      <td>1.0</td>\n",
       "    </tr>\n",
       "    <tr>\n",
       "      <th>3</th>\n",
       "      <td>8.0</td>\n",
       "      <td>7.0</td>\n",
       "      <td>8.0</td>\n",
       "      <td>2.0</td>\n",
       "      <td>7.0</td>\n",
       "      <td>8.0</td>\n",
       "    </tr>\n",
       "    <tr>\n",
       "      <th>4</th>\n",
       "      <td>NaN</td>\n",
       "      <td>2.0</td>\n",
       "      <td>NaN</td>\n",
       "      <td>NaN</td>\n",
       "      <td>10.0</td>\n",
       "      <td>2.0</td>\n",
       "    </tr>\n",
       "  </tbody>\n",
       "</table>\n",
       "</div>"
      ],
      "text/plain": [
       "     A    B    C    D     F    G\n",
       "0  6.0  5.6  6.0  5.0   5.0  6.0\n",
       "1  4.0  1.2  2.0  9.0   NaN  NaN\n",
       "2  6.0  2.1  1.0  1.0   2.0  1.0\n",
       "3  8.0  7.0  8.0  2.0   7.0  8.0\n",
       "4  NaN  2.0  NaN  NaN  10.0  2.0"
      ]
     },
     "execution_count": 243,
     "metadata": {},
     "output_type": "execute_result"
    }
   ],
   "source": [
    "pd.merge(left =df1, right =df2, how = 'outer', on = 'B')"
   ]
  },
  {
   "cell_type": "markdown",
   "id": "ba98aa3b",
   "metadata": {},
   "source": [
    "## FEATURE SELECTION"
   ]
  },
  {
   "cell_type": "code",
   "execution_count": 395,
   "id": "5f6b2370",
   "metadata": {},
   "outputs": [],
   "source": [
    "import pandas as pd\n",
    "import numpy as np\n",
    "from sklearn.datasets import fetch_california_housing"
   ]
  },
  {
   "cell_type": "code",
   "execution_count": 396,
   "id": "e1beac99",
   "metadata": {},
   "outputs": [],
   "source": [
    "data_dict = fetch_california_housing(as_frame = True)"
   ]
  },
  {
   "cell_type": "code",
   "execution_count": 397,
   "id": "2f1fc6d2",
   "metadata": {},
   "outputs": [],
   "source": [
    "X = data_dict['data']\n",
    "y = data_dict['target']"
   ]
  },
  {
   "cell_type": "code",
   "execution_count": 255,
   "id": "bda70dab",
   "metadata": {},
   "outputs": [
    {
     "data": {
      "text/html": [
       "<div>\n",
       "<style scoped>\n",
       "    .dataframe tbody tr th:only-of-type {\n",
       "        vertical-align: middle;\n",
       "    }\n",
       "\n",
       "    .dataframe tbody tr th {\n",
       "        vertical-align: top;\n",
       "    }\n",
       "\n",
       "    .dataframe thead th {\n",
       "        text-align: right;\n",
       "    }\n",
       "</style>\n",
       "<table border=\"1\" class=\"dataframe\">\n",
       "  <thead>\n",
       "    <tr style=\"text-align: right;\">\n",
       "      <th></th>\n",
       "      <th>MedInc</th>\n",
       "      <th>HouseAge</th>\n",
       "      <th>AveRooms</th>\n",
       "      <th>AveBedrms</th>\n",
       "      <th>Population</th>\n",
       "      <th>AveOccup</th>\n",
       "      <th>Latitude</th>\n",
       "      <th>Longitude</th>\n",
       "    </tr>\n",
       "  </thead>\n",
       "  <tbody>\n",
       "    <tr>\n",
       "      <th>0</th>\n",
       "      <td>8.3252</td>\n",
       "      <td>41.0</td>\n",
       "      <td>6.984127</td>\n",
       "      <td>1.023810</td>\n",
       "      <td>322.0</td>\n",
       "      <td>2.555556</td>\n",
       "      <td>37.88</td>\n",
       "      <td>-122.23</td>\n",
       "    </tr>\n",
       "    <tr>\n",
       "      <th>1</th>\n",
       "      <td>8.3014</td>\n",
       "      <td>21.0</td>\n",
       "      <td>6.238137</td>\n",
       "      <td>0.971880</td>\n",
       "      <td>2401.0</td>\n",
       "      <td>2.109842</td>\n",
       "      <td>37.86</td>\n",
       "      <td>-122.22</td>\n",
       "    </tr>\n",
       "    <tr>\n",
       "      <th>2</th>\n",
       "      <td>7.2574</td>\n",
       "      <td>52.0</td>\n",
       "      <td>8.288136</td>\n",
       "      <td>1.073446</td>\n",
       "      <td>496.0</td>\n",
       "      <td>2.802260</td>\n",
       "      <td>37.85</td>\n",
       "      <td>-122.24</td>\n",
       "    </tr>\n",
       "    <tr>\n",
       "      <th>3</th>\n",
       "      <td>5.6431</td>\n",
       "      <td>52.0</td>\n",
       "      <td>5.817352</td>\n",
       "      <td>1.073059</td>\n",
       "      <td>558.0</td>\n",
       "      <td>2.547945</td>\n",
       "      <td>37.85</td>\n",
       "      <td>-122.25</td>\n",
       "    </tr>\n",
       "    <tr>\n",
       "      <th>4</th>\n",
       "      <td>3.8462</td>\n",
       "      <td>52.0</td>\n",
       "      <td>6.281853</td>\n",
       "      <td>1.081081</td>\n",
       "      <td>565.0</td>\n",
       "      <td>2.181467</td>\n",
       "      <td>37.85</td>\n",
       "      <td>-122.25</td>\n",
       "    </tr>\n",
       "    <tr>\n",
       "      <th>...</th>\n",
       "      <td>...</td>\n",
       "      <td>...</td>\n",
       "      <td>...</td>\n",
       "      <td>...</td>\n",
       "      <td>...</td>\n",
       "      <td>...</td>\n",
       "      <td>...</td>\n",
       "      <td>...</td>\n",
       "    </tr>\n",
       "    <tr>\n",
       "      <th>20635</th>\n",
       "      <td>1.5603</td>\n",
       "      <td>25.0</td>\n",
       "      <td>5.045455</td>\n",
       "      <td>1.133333</td>\n",
       "      <td>845.0</td>\n",
       "      <td>2.560606</td>\n",
       "      <td>39.48</td>\n",
       "      <td>-121.09</td>\n",
       "    </tr>\n",
       "    <tr>\n",
       "      <th>20636</th>\n",
       "      <td>2.5568</td>\n",
       "      <td>18.0</td>\n",
       "      <td>6.114035</td>\n",
       "      <td>1.315789</td>\n",
       "      <td>356.0</td>\n",
       "      <td>3.122807</td>\n",
       "      <td>39.49</td>\n",
       "      <td>-121.21</td>\n",
       "    </tr>\n",
       "    <tr>\n",
       "      <th>20637</th>\n",
       "      <td>1.7000</td>\n",
       "      <td>17.0</td>\n",
       "      <td>5.205543</td>\n",
       "      <td>1.120092</td>\n",
       "      <td>1007.0</td>\n",
       "      <td>2.325635</td>\n",
       "      <td>39.43</td>\n",
       "      <td>-121.22</td>\n",
       "    </tr>\n",
       "    <tr>\n",
       "      <th>20638</th>\n",
       "      <td>1.8672</td>\n",
       "      <td>18.0</td>\n",
       "      <td>5.329513</td>\n",
       "      <td>1.171920</td>\n",
       "      <td>741.0</td>\n",
       "      <td>2.123209</td>\n",
       "      <td>39.43</td>\n",
       "      <td>-121.32</td>\n",
       "    </tr>\n",
       "    <tr>\n",
       "      <th>20639</th>\n",
       "      <td>2.3886</td>\n",
       "      <td>16.0</td>\n",
       "      <td>5.254717</td>\n",
       "      <td>1.162264</td>\n",
       "      <td>1387.0</td>\n",
       "      <td>2.616981</td>\n",
       "      <td>39.37</td>\n",
       "      <td>-121.24</td>\n",
       "    </tr>\n",
       "  </tbody>\n",
       "</table>\n",
       "<p>20640 rows × 8 columns</p>\n",
       "</div>"
      ],
      "text/plain": [
       "       MedInc  HouseAge  AveRooms  AveBedrms  Population  AveOccup  Latitude  \\\n",
       "0      8.3252      41.0  6.984127   1.023810       322.0  2.555556     37.88   \n",
       "1      8.3014      21.0  6.238137   0.971880      2401.0  2.109842     37.86   \n",
       "2      7.2574      52.0  8.288136   1.073446       496.0  2.802260     37.85   \n",
       "3      5.6431      52.0  5.817352   1.073059       558.0  2.547945     37.85   \n",
       "4      3.8462      52.0  6.281853   1.081081       565.0  2.181467     37.85   \n",
       "...       ...       ...       ...        ...         ...       ...       ...   \n",
       "20635  1.5603      25.0  5.045455   1.133333       845.0  2.560606     39.48   \n",
       "20636  2.5568      18.0  6.114035   1.315789       356.0  3.122807     39.49   \n",
       "20637  1.7000      17.0  5.205543   1.120092      1007.0  2.325635     39.43   \n",
       "20638  1.8672      18.0  5.329513   1.171920       741.0  2.123209     39.43   \n",
       "20639  2.3886      16.0  5.254717   1.162264      1387.0  2.616981     39.37   \n",
       "\n",
       "       Longitude  \n",
       "0        -122.23  \n",
       "1        -122.22  \n",
       "2        -122.24  \n",
       "3        -122.25  \n",
       "4        -122.25  \n",
       "...          ...  \n",
       "20635    -121.09  \n",
       "20636    -121.21  \n",
       "20637    -121.22  \n",
       "20638    -121.32  \n",
       "20639    -121.24  \n",
       "\n",
       "[20640 rows x 8 columns]"
      ]
     },
     "execution_count": 255,
     "metadata": {},
     "output_type": "execute_result"
    }
   ],
   "source": [
    "X"
   ]
  },
  {
   "cell_type": "code",
   "execution_count": 256,
   "id": "71d9a1f1",
   "metadata": {},
   "outputs": [
    {
     "data": {
      "text/plain": [
       "0        4.526\n",
       "1        3.585\n",
       "2        3.521\n",
       "3        3.413\n",
       "4        3.422\n",
       "         ...  \n",
       "20635    0.781\n",
       "20636    0.771\n",
       "20637    0.923\n",
       "20638    0.847\n",
       "20639    0.894\n",
       "Name: MedHouseVal, Length: 20640, dtype: float64"
      ]
     },
     "execution_count": 256,
     "metadata": {},
     "output_type": "execute_result"
    }
   ],
   "source": [
    "y"
   ]
  },
  {
   "cell_type": "code",
   "execution_count": 257,
   "id": "cfc3852a",
   "metadata": {},
   "outputs": [
    {
     "data": {
      "text/plain": [
       "MedInc        0\n",
       "HouseAge      0\n",
       "AveRooms      0\n",
       "AveBedrms     0\n",
       "Population    0\n",
       "AveOccup      0\n",
       "Latitude      0\n",
       "Longitude     0\n",
       "dtype: int64"
      ]
     },
     "execution_count": 257,
     "metadata": {},
     "output_type": "execute_result"
    }
   ],
   "source": [
    "X.isnull().sum()"
   ]
  },
  {
   "cell_type": "code",
   "execution_count": 398,
   "id": "a957b2d3",
   "metadata": {},
   "outputs": [],
   "source": [
    "from sklearn.model_selection import train_test_split"
   ]
  },
  {
   "cell_type": "code",
   "execution_count": 399,
   "id": "955ec870",
   "metadata": {},
   "outputs": [],
   "source": [
    "X_train, X_test, y_train, y_test = train_test_split(X,y, test_size = 0.3,\n",
    "                                                    random_state = 21)"
   ]
  },
  {
   "cell_type": "code",
   "execution_count": 263,
   "id": "f0729c24",
   "metadata": {},
   "outputs": [
    {
     "data": {
      "text/plain": [
       "(14448, 8)"
      ]
     },
     "execution_count": 263,
     "metadata": {},
     "output_type": "execute_result"
    }
   ],
   "source": [
    "X_train.shape"
   ]
  },
  {
   "cell_type": "code",
   "execution_count": 332,
   "id": "00868a0f",
   "metadata": {},
   "outputs": [],
   "source": [
    "from sklearn.feature_selection import SelectKBest,f_regression, mutual_info_regression"
   ]
  },
  {
   "cell_type": "code",
   "execution_count": 333,
   "id": "aaf532cc",
   "metadata": {},
   "outputs": [],
   "source": [
    "kbest = SelectKBest(score_func = mutual_info_regression ,k= 5)"
   ]
  },
  {
   "cell_type": "code",
   "execution_count": 334,
   "id": "e8d47eba",
   "metadata": {},
   "outputs": [],
   "source": [
    "X_new = kbest.fit_transform(X_train, y_train)"
   ]
  },
  {
   "cell_type": "code",
   "execution_count": 335,
   "id": "2b207c33",
   "metadata": {},
   "outputs": [
    {
     "data": {
      "text/plain": [
       "(14448, 5)"
      ]
     },
     "execution_count": 335,
     "metadata": {},
     "output_type": "execute_result"
    }
   ],
   "source": [
    "X_new.shape"
   ]
  },
  {
   "cell_type": "code",
   "execution_count": 336,
   "id": "69960e08",
   "metadata": {},
   "outputs": [
    {
     "data": {
      "text/plain": [
       "array([[   5.8186    ,    4.79683973,    2.28893905,   37.31      ,\n",
       "        -121.9       ],\n",
       "       [   2.1186    ,    4.70758123,    3.10288809,   37.8       ,\n",
       "        -121.22      ],\n",
       "       [   3.9625    ,    4.01878453,    2.48508287,   37.34      ,\n",
       "        -121.99      ],\n",
       "       ...,\n",
       "       [   4.0023    ,    5.15694444,    2.925     ,   34.13      ,\n",
       "        -117.88      ],\n",
       "       [   3.6673    ,    3.53085106,    1.96595745,   34.04      ,\n",
       "        -118.45      ],\n",
       "       [   1.8214    ,    3.45745577,    3.98399326,   33.19      ,\n",
       "        -117.37      ]])"
      ]
     },
     "execution_count": 336,
     "metadata": {},
     "output_type": "execute_result"
    }
   ],
   "source": [
    "X_new"
   ]
  },
  {
   "cell_type": "code",
   "execution_count": 337,
   "id": "687bf61a",
   "metadata": {},
   "outputs": [
    {
     "data": {
      "text/plain": [
       "array([ True, False,  True, False, False,  True,  True,  True])"
      ]
     },
     "execution_count": 337,
     "metadata": {},
     "output_type": "execute_result"
    }
   ],
   "source": [
    "kbest.get_support()"
   ]
  },
  {
   "cell_type": "code",
   "execution_count": 338,
   "id": "123c4d2b",
   "metadata": {},
   "outputs": [
    {
     "data": {
      "text/plain": [
       "Index(['MedInc', 'HouseAge', 'AveRooms', 'AveBedrms', 'Population', 'AveOccup',\n",
       "       'Latitude', 'Longitude'],\n",
       "      dtype='object')"
      ]
     },
     "execution_count": 338,
     "metadata": {},
     "output_type": "execute_result"
    }
   ],
   "source": [
    "X_train.columns"
   ]
  },
  {
   "cell_type": "code",
   "execution_count": 339,
   "id": "0f43f9df",
   "metadata": {},
   "outputs": [
    {
     "data": {
      "text/plain": [
       "array([0, 2, 5, 6, 7], dtype=int64)"
      ]
     },
     "execution_count": 339,
     "metadata": {},
     "output_type": "execute_result"
    }
   ],
   "source": [
    "kbest.get_support(indices = True)"
   ]
  },
  {
   "cell_type": "code",
   "execution_count": 340,
   "id": "ac721fea",
   "metadata": {},
   "outputs": [
    {
     "data": {
      "text/plain": [
       "array([[   5.8186    ,    4.79683973,    2.28893905,   37.31      ,\n",
       "        -121.9       ],\n",
       "       [   2.1186    ,    4.70758123,    3.10288809,   37.8       ,\n",
       "        -121.22      ],\n",
       "       [   3.9625    ,    4.01878453,    2.48508287,   37.34      ,\n",
       "        -121.99      ],\n",
       "       ...,\n",
       "       [   4.0023    ,    5.15694444,    2.925     ,   34.13      ,\n",
       "        -117.88      ],\n",
       "       [   3.6673    ,    3.53085106,    1.96595745,   34.04      ,\n",
       "        -118.45      ],\n",
       "       [   1.8214    ,    3.45745577,    3.98399326,   33.19      ,\n",
       "        -117.37      ]])"
      ]
     },
     "execution_count": 340,
     "metadata": {},
     "output_type": "execute_result"
    }
   ],
   "source": [
    "X_new"
   ]
  },
  {
   "cell_type": "code",
   "execution_count": 341,
   "id": "c8844620",
   "metadata": {},
   "outputs": [],
   "source": [
    "from sklearn.linear_model import LinearRegression"
   ]
  },
  {
   "cell_type": "code",
   "execution_count": 342,
   "id": "6b74db84",
   "metadata": {},
   "outputs": [
    {
     "data": {
      "text/plain": [
       "LinearRegression()"
      ]
     },
     "execution_count": 342,
     "metadata": {},
     "output_type": "execute_result"
    }
   ],
   "source": [
    "lr = LinearRegression()\n",
    "lr.fit(X_new, y_train)"
   ]
  },
  {
   "cell_type": "code",
   "execution_count": 343,
   "id": "bc952a08",
   "metadata": {},
   "outputs": [
    {
     "data": {
      "text/html": [
       "<div>\n",
       "<style scoped>\n",
       "    .dataframe tbody tr th:only-of-type {\n",
       "        vertical-align: middle;\n",
       "    }\n",
       "\n",
       "    .dataframe tbody tr th {\n",
       "        vertical-align: top;\n",
       "    }\n",
       "\n",
       "    .dataframe thead th {\n",
       "        text-align: right;\n",
       "    }\n",
       "</style>\n",
       "<table border=\"1\" class=\"dataframe\">\n",
       "  <thead>\n",
       "    <tr style=\"text-align: right;\">\n",
       "      <th></th>\n",
       "      <th>MedInc</th>\n",
       "      <th>HouseAge</th>\n",
       "      <th>AveRooms</th>\n",
       "      <th>AveBedrms</th>\n",
       "      <th>Population</th>\n",
       "      <th>AveOccup</th>\n",
       "      <th>Latitude</th>\n",
       "      <th>Longitude</th>\n",
       "    </tr>\n",
       "  </thead>\n",
       "  <tbody>\n",
       "    <tr>\n",
       "      <th>18726</th>\n",
       "      <td>1.6033</td>\n",
       "      <td>19.0</td>\n",
       "      <td>5.699454</td>\n",
       "      <td>1.114754</td>\n",
       "      <td>505.0</td>\n",
       "      <td>2.759563</td>\n",
       "      <td>40.58</td>\n",
       "      <td>-122.30</td>\n",
       "    </tr>\n",
       "    <tr>\n",
       "      <th>1046</th>\n",
       "      <td>2.5250</td>\n",
       "      <td>9.0</td>\n",
       "      <td>5.839869</td>\n",
       "      <td>1.133987</td>\n",
       "      <td>806.0</td>\n",
       "      <td>2.633987</td>\n",
       "      <td>38.38</td>\n",
       "      <td>-120.72</td>\n",
       "    </tr>\n",
       "    <tr>\n",
       "      <th>15508</th>\n",
       "      <td>4.2357</td>\n",
       "      <td>11.0</td>\n",
       "      <td>4.863946</td>\n",
       "      <td>0.993197</td>\n",
       "      <td>921.0</td>\n",
       "      <td>3.132653</td>\n",
       "      <td>33.14</td>\n",
       "      <td>-117.08</td>\n",
       "    </tr>\n",
       "    <tr>\n",
       "      <th>828</th>\n",
       "      <td>5.6400</td>\n",
       "      <td>27.0</td>\n",
       "      <td>5.833866</td>\n",
       "      <td>0.987220</td>\n",
       "      <td>1016.0</td>\n",
       "      <td>3.246006</td>\n",
       "      <td>37.62</td>\n",
       "      <td>-122.08</td>\n",
       "    </tr>\n",
       "    <tr>\n",
       "      <th>19007</th>\n",
       "      <td>2.4330</td>\n",
       "      <td>33.0</td>\n",
       "      <td>5.334975</td>\n",
       "      <td>1.068966</td>\n",
       "      <td>562.0</td>\n",
       "      <td>2.768473</td>\n",
       "      <td>38.36</td>\n",
       "      <td>-121.98</td>\n",
       "    </tr>\n",
       "    <tr>\n",
       "      <th>...</th>\n",
       "      <td>...</td>\n",
       "      <td>...</td>\n",
       "      <td>...</td>\n",
       "      <td>...</td>\n",
       "      <td>...</td>\n",
       "      <td>...</td>\n",
       "      <td>...</td>\n",
       "      <td>...</td>\n",
       "    </tr>\n",
       "    <tr>\n",
       "      <th>2752</th>\n",
       "      <td>1.6838</td>\n",
       "      <td>19.0</td>\n",
       "      <td>4.350746</td>\n",
       "      <td>0.843284</td>\n",
       "      <td>531.0</td>\n",
       "      <td>3.962687</td>\n",
       "      <td>32.70</td>\n",
       "      <td>-115.40</td>\n",
       "    </tr>\n",
       "    <tr>\n",
       "      <th>4359</th>\n",
       "      <td>3.2149</td>\n",
       "      <td>22.0</td>\n",
       "      <td>3.686275</td>\n",
       "      <td>1.149510</td>\n",
       "      <td>1224.0</td>\n",
       "      <td>1.500000</td>\n",
       "      <td>34.08</td>\n",
       "      <td>-118.37</td>\n",
       "    </tr>\n",
       "    <tr>\n",
       "      <th>11865</th>\n",
       "      <td>5.8453</td>\n",
       "      <td>10.0</td>\n",
       "      <td>15.115385</td>\n",
       "      <td>2.230769</td>\n",
       "      <td>247.0</td>\n",
       "      <td>2.375000</td>\n",
       "      <td>40.23</td>\n",
       "      <td>-121.19</td>\n",
       "    </tr>\n",
       "    <tr>\n",
       "      <th>11113</th>\n",
       "      <td>2.3173</td>\n",
       "      <td>25.0</td>\n",
       "      <td>4.329825</td>\n",
       "      <td>1.231579</td>\n",
       "      <td>507.0</td>\n",
       "      <td>1.778947</td>\n",
       "      <td>33.85</td>\n",
       "      <td>-117.88</td>\n",
       "    </tr>\n",
       "    <tr>\n",
       "      <th>13026</th>\n",
       "      <td>4.1071</td>\n",
       "      <td>11.0</td>\n",
       "      <td>5.813953</td>\n",
       "      <td>1.010571</td>\n",
       "      <td>2827.0</td>\n",
       "      <td>2.988372</td>\n",
       "      <td>38.67</td>\n",
       "      <td>-121.21</td>\n",
       "    </tr>\n",
       "  </tbody>\n",
       "</table>\n",
       "<p>6192 rows × 8 columns</p>\n",
       "</div>"
      ],
      "text/plain": [
       "       MedInc  HouseAge   AveRooms  AveBedrms  Population  AveOccup  Latitude  \\\n",
       "18726  1.6033      19.0   5.699454   1.114754       505.0  2.759563     40.58   \n",
       "1046   2.5250       9.0   5.839869   1.133987       806.0  2.633987     38.38   \n",
       "15508  4.2357      11.0   4.863946   0.993197       921.0  3.132653     33.14   \n",
       "828    5.6400      27.0   5.833866   0.987220      1016.0  3.246006     37.62   \n",
       "19007  2.4330      33.0   5.334975   1.068966       562.0  2.768473     38.36   \n",
       "...       ...       ...        ...        ...         ...       ...       ...   \n",
       "2752   1.6838      19.0   4.350746   0.843284       531.0  3.962687     32.70   \n",
       "4359   3.2149      22.0   3.686275   1.149510      1224.0  1.500000     34.08   \n",
       "11865  5.8453      10.0  15.115385   2.230769       247.0  2.375000     40.23   \n",
       "11113  2.3173      25.0   4.329825   1.231579       507.0  1.778947     33.85   \n",
       "13026  4.1071      11.0   5.813953   1.010571      2827.0  2.988372     38.67   \n",
       "\n",
       "       Longitude  \n",
       "18726    -122.30  \n",
       "1046     -120.72  \n",
       "15508    -117.08  \n",
       "828      -122.08  \n",
       "19007    -121.98  \n",
       "...          ...  \n",
       "2752     -115.40  \n",
       "4359     -118.37  \n",
       "11865    -121.19  \n",
       "11113    -117.88  \n",
       "13026    -121.21  \n",
       "\n",
       "[6192 rows x 8 columns]"
      ]
     },
     "execution_count": 343,
     "metadata": {},
     "output_type": "execute_result"
    }
   ],
   "source": [
    "X_test"
   ]
  },
  {
   "cell_type": "code",
   "execution_count": 344,
   "id": "0b073529",
   "metadata": {},
   "outputs": [],
   "source": [
    "X_test_new = kbest.transform(X_test)"
   ]
  },
  {
   "cell_type": "code",
   "execution_count": 345,
   "id": "55080662",
   "metadata": {},
   "outputs": [],
   "source": [
    "y_pred = lr.predict(X_test_new)"
   ]
  },
  {
   "cell_type": "code",
   "execution_count": 346,
   "id": "bb44de10",
   "metadata": {},
   "outputs": [
    {
     "data": {
      "text/plain": [
       "array([0.19009885, 0.81049398, 2.15455088, ..., 1.46527164, 1.51815508,\n",
       "       1.48448286])"
      ]
     },
     "execution_count": 346,
     "metadata": {},
     "output_type": "execute_result"
    }
   ],
   "source": [
    "y_pred"
   ]
  },
  {
   "cell_type": "code",
   "execution_count": 347,
   "id": "e2063d94",
   "metadata": {},
   "outputs": [],
   "source": [
    "from sklearn.metrics import r2_score, mean_squared_error, mean_absolute_error"
   ]
  },
  {
   "cell_type": "code",
   "execution_count": 348,
   "id": "ad9e9f73",
   "metadata": {},
   "outputs": [
    {
     "data": {
      "text/plain": [
       "0.5817849394035784"
      ]
     },
     "execution_count": 348,
     "metadata": {},
     "output_type": "execute_result"
    }
   ],
   "source": [
    "r2_score(y_test, y_pred)"
   ]
  },
  {
   "cell_type": "code",
   "execution_count": 349,
   "id": "f98567de",
   "metadata": {},
   "outputs": [],
   "source": [
    "from sklearn.tree import DecisionTreeRegressor"
   ]
  },
  {
   "cell_type": "code",
   "execution_count": 362,
   "id": "6c1b7b79",
   "metadata": {},
   "outputs": [
    {
     "data": {
      "text/plain": [
       "DecisionTreeRegressor(ccp_alpha=0.0005, max_depth=10, random_state=3)"
      ]
     },
     "execution_count": 362,
     "metadata": {},
     "output_type": "execute_result"
    }
   ],
   "source": [
    "dtr = DecisionTreeRegressor(ccp_alpha = 0.0005, max_depth = 10, random_state = 3)\n",
    "dtr.fit(X_new, y_train)"
   ]
  },
  {
   "cell_type": "code",
   "execution_count": 363,
   "id": "badf7a23",
   "metadata": {},
   "outputs": [],
   "source": [
    "y_pred = dtr.predict(X_test_new)"
   ]
  },
  {
   "cell_type": "code",
   "execution_count": 364,
   "id": "a419d138",
   "metadata": {},
   "outputs": [
    {
     "data": {
      "text/plain": [
       "0.7098959645211693"
      ]
     },
     "execution_count": 364,
     "metadata": {},
     "output_type": "execute_result"
    }
   ],
   "source": [
    "r2_score(y_test, y_pred)"
   ]
  },
  {
   "cell_type": "code",
   "execution_count": 365,
   "id": "c84e76da",
   "metadata": {},
   "outputs": [
    {
     "data": {
      "text/plain": [
       "0.7884218432748027"
      ]
     },
     "execution_count": 365,
     "metadata": {},
     "output_type": "execute_result"
    }
   ],
   "source": [
    "r2_score(y_train, dtr.predict(X_new))"
   ]
  },
  {
   "cell_type": "code",
   "execution_count": 366,
   "id": "1425fbaf",
   "metadata": {},
   "outputs": [],
   "source": [
    "from sklearn.feature_selection import RFE"
   ]
  },
  {
   "cell_type": "code",
   "execution_count": 367,
   "id": "7a66e76e",
   "metadata": {},
   "outputs": [],
   "source": [
    "rfe = RFE(estimator = dtr, n_features_to_select = 5)"
   ]
  },
  {
   "cell_type": "code",
   "execution_count": 369,
   "id": "f09dfca0",
   "metadata": {},
   "outputs": [],
   "source": [
    "X_train_new = rfe.fit_transform(X_train,y_train)"
   ]
  },
  {
   "cell_type": "code",
   "execution_count": 370,
   "id": "7a597599",
   "metadata": {},
   "outputs": [
    {
     "data": {
      "text/plain": [
       "array([1, 1, 2, 4, 3, 1, 1, 1])"
      ]
     },
     "execution_count": 370,
     "metadata": {},
     "output_type": "execute_result"
    }
   ],
   "source": [
    "rfe.ranking_"
   ]
  },
  {
   "cell_type": "code",
   "execution_count": 371,
   "id": "3d300907",
   "metadata": {},
   "outputs": [
    {
     "data": {
      "text/plain": [
       "Index(['MedInc', 'HouseAge', 'AveRooms', 'AveBedrms', 'Population', 'AveOccup',\n",
       "       'Latitude', 'Longitude'],\n",
       "      dtype='object')"
      ]
     },
     "execution_count": 371,
     "metadata": {},
     "output_type": "execute_result"
    }
   ],
   "source": [
    "X_train.columns"
   ]
  },
  {
   "cell_type": "code",
   "execution_count": 372,
   "id": "80adfc23",
   "metadata": {},
   "outputs": [
    {
     "data": {
      "text/plain": [
       "array([ True,  True, False, False, False,  True,  True,  True])"
      ]
     },
     "execution_count": 372,
     "metadata": {},
     "output_type": "execute_result"
    }
   ],
   "source": [
    "rfe.support_"
   ]
  },
  {
   "cell_type": "code",
   "execution_count": 373,
   "id": "359653f3",
   "metadata": {},
   "outputs": [
    {
     "data": {
      "text/plain": [
       "DecisionTreeRegressor(ccp_alpha=0.0005, max_depth=10, random_state=3)"
      ]
     },
     "execution_count": 373,
     "metadata": {},
     "output_type": "execute_result"
    }
   ],
   "source": [
    "dtr.fit(X_train_new, y_train)"
   ]
  },
  {
   "cell_type": "code",
   "execution_count": 375,
   "id": "44e6ba0e",
   "metadata": {},
   "outputs": [],
   "source": [
    "from sklearn.ensemble import RandomForestRegressor"
   ]
  },
  {
   "cell_type": "code",
   "execution_count": 377,
   "id": "249e3cfb",
   "metadata": {},
   "outputs": [],
   "source": [
    "rf = RandomForestRegressor()"
   ]
  },
  {
   "cell_type": "code",
   "execution_count": 378,
   "id": "17f33867",
   "metadata": {},
   "outputs": [],
   "source": [
    "rfe = RFE(estimator = rf, n_features_to_select = 5)"
   ]
  },
  {
   "cell_type": "code",
   "execution_count": 379,
   "id": "025193b2",
   "metadata": {},
   "outputs": [
    {
     "data": {
      "text/plain": [
       "RFE(estimator=RandomForestRegressor(), n_features_to_select=5)"
      ]
     },
     "execution_count": 379,
     "metadata": {},
     "output_type": "execute_result"
    }
   ],
   "source": [
    "rfe.fit(X_train, y_train)"
   ]
  },
  {
   "cell_type": "code",
   "execution_count": 380,
   "id": "374d4f47",
   "metadata": {},
   "outputs": [
    {
     "data": {
      "text/plain": [
       "array([1, 1, 2, 4, 3, 1, 1, 1])"
      ]
     },
     "execution_count": 380,
     "metadata": {},
     "output_type": "execute_result"
    }
   ],
   "source": [
    "rfe.ranking_"
   ]
  },
  {
   "cell_type": "code",
   "execution_count": 381,
   "id": "afc72866",
   "metadata": {},
   "outputs": [
    {
     "data": {
      "text/plain": [
       "RandomForestRegressor()"
      ]
     },
     "execution_count": 381,
     "metadata": {},
     "output_type": "execute_result"
    }
   ],
   "source": [
    "rf.fit(X_train, y_train)"
   ]
  },
  {
   "cell_type": "code",
   "execution_count": 383,
   "id": "83184491",
   "metadata": {},
   "outputs": [
    {
     "data": {
      "text/plain": [
       "array([0.52234016, 0.05245906, 0.04285353, 0.0309186 , 0.03171651,\n",
       "       0.13545596, 0.09193293, 0.09232325])"
      ]
     },
     "execution_count": 383,
     "metadata": {},
     "output_type": "execute_result"
    }
   ],
   "source": [
    "rf.feature_importances_"
   ]
  },
  {
   "cell_type": "code",
   "execution_count": 384,
   "id": "3d1ee08f",
   "metadata": {},
   "outputs": [
    {
     "data": {
      "text/plain": [
       "Index(['MedInc', 'HouseAge', 'AveRooms', 'AveBedrms', 'Population', 'AveOccup',\n",
       "       'Latitude', 'Longitude'],\n",
       "      dtype='object')"
      ]
     },
     "execution_count": 384,
     "metadata": {},
     "output_type": "execute_result"
    }
   ],
   "source": [
    "X_train.columns"
   ]
  },
  {
   "cell_type": "code",
   "execution_count": 390,
   "id": "ac189b83",
   "metadata": {},
   "outputs": [],
   "source": [
    "X_train_new =X_train[['MedInc', 'AveOccup','Latitude', 'Longitude', 'HouseAge']]"
   ]
  },
  {
   "cell_type": "code",
   "execution_count": 391,
   "id": "a4b510d5",
   "metadata": {},
   "outputs": [
    {
     "data": {
      "text/plain": [
       "RandomForestRegressor()"
      ]
     },
     "execution_count": 391,
     "metadata": {},
     "output_type": "execute_result"
    }
   ],
   "source": [
    "rf.fit(X_train_new, y_train)"
   ]
  },
  {
   "cell_type": "code",
   "execution_count": 392,
   "id": "a2e9e10a",
   "metadata": {},
   "outputs": [],
   "source": [
    "X_test_new =X_test[['MedInc', 'AveOccup','Latitude', 'Longitude', 'HouseAge']]"
   ]
  },
  {
   "cell_type": "code",
   "execution_count": 393,
   "id": "e909f57c",
   "metadata": {},
   "outputs": [
    {
     "data": {
      "text/plain": [
       "0.8092103251948704"
      ]
     },
     "execution_count": 393,
     "metadata": {},
     "output_type": "execute_result"
    }
   ],
   "source": [
    "rf.score(X_test_new, y_test)"
   ]
  },
  {
   "cell_type": "code",
   "execution_count": 394,
   "id": "5a99d26c",
   "metadata": {},
   "outputs": [
    {
     "data": {
      "text/plain": [
       "0.9732796556998794"
      ]
     },
     "execution_count": 394,
     "metadata": {},
     "output_type": "execute_result"
    }
   ],
   "source": [
    "rf.score(X_train_new, y_train)"
   ]
  },
  {
   "cell_type": "markdown",
   "id": "a3ef8e53",
   "metadata": {},
   "source": [
    "# MODEL SELECTION, HYPER PARAMETER TUNING AND CROSSVALIDATION"
   ]
  },
  {
   "cell_type": "code",
   "execution_count": 400,
   "id": "d777e6ea",
   "metadata": {},
   "outputs": [
    {
     "data": {
      "text/html": [
       "<div>\n",
       "<style scoped>\n",
       "    .dataframe tbody tr th:only-of-type {\n",
       "        vertical-align: middle;\n",
       "    }\n",
       "\n",
       "    .dataframe tbody tr th {\n",
       "        vertical-align: top;\n",
       "    }\n",
       "\n",
       "    .dataframe thead th {\n",
       "        text-align: right;\n",
       "    }\n",
       "</style>\n",
       "<table border=\"1\" class=\"dataframe\">\n",
       "  <thead>\n",
       "    <tr style=\"text-align: right;\">\n",
       "      <th></th>\n",
       "      <th>MedInc</th>\n",
       "      <th>HouseAge</th>\n",
       "      <th>AveRooms</th>\n",
       "      <th>AveBedrms</th>\n",
       "      <th>Population</th>\n",
       "      <th>AveOccup</th>\n",
       "      <th>Latitude</th>\n",
       "      <th>Longitude</th>\n",
       "    </tr>\n",
       "  </thead>\n",
       "  <tbody>\n",
       "    <tr>\n",
       "      <th>17564</th>\n",
       "      <td>5.8186</td>\n",
       "      <td>52.0</td>\n",
       "      <td>4.796840</td>\n",
       "      <td>0.972912</td>\n",
       "      <td>1014.0</td>\n",
       "      <td>2.288939</td>\n",
       "      <td>37.31</td>\n",
       "      <td>-121.90</td>\n",
       "    </tr>\n",
       "    <tr>\n",
       "      <th>16514</th>\n",
       "      <td>2.1186</td>\n",
       "      <td>28.0</td>\n",
       "      <td>4.707581</td>\n",
       "      <td>1.039711</td>\n",
       "      <td>1719.0</td>\n",
       "      <td>3.102888</td>\n",
       "      <td>37.80</td>\n",
       "      <td>-121.22</td>\n",
       "    </tr>\n",
       "    <tr>\n",
       "      <th>17926</th>\n",
       "      <td>3.9625</td>\n",
       "      <td>26.0</td>\n",
       "      <td>4.018785</td>\n",
       "      <td>1.030939</td>\n",
       "      <td>2249.0</td>\n",
       "      <td>2.485083</td>\n",
       "      <td>37.34</td>\n",
       "      <td>-121.99</td>\n",
       "    </tr>\n",
       "    <tr>\n",
       "      <th>15277</th>\n",
       "      <td>4.3182</td>\n",
       "      <td>17.0</td>\n",
       "      <td>6.744417</td>\n",
       "      <td>1.285360</td>\n",
       "      <td>815.0</td>\n",
       "      <td>2.022333</td>\n",
       "      <td>33.06</td>\n",
       "      <td>-117.34</td>\n",
       "    </tr>\n",
       "    <tr>\n",
       "      <th>8395</th>\n",
       "      <td>4.8750</td>\n",
       "      <td>26.0</td>\n",
       "      <td>6.900000</td>\n",
       "      <td>1.150000</td>\n",
       "      <td>100.0</td>\n",
       "      <td>5.000000</td>\n",
       "      <td>33.96</td>\n",
       "      <td>-118.37</td>\n",
       "    </tr>\n",
       "    <tr>\n",
       "      <th>...</th>\n",
       "      <td>...</td>\n",
       "      <td>...</td>\n",
       "      <td>...</td>\n",
       "      <td>...</td>\n",
       "      <td>...</td>\n",
       "      <td>...</td>\n",
       "      <td>...</td>\n",
       "      <td>...</td>\n",
       "    </tr>\n",
       "    <tr>\n",
       "      <th>16432</th>\n",
       "      <td>3.9500</td>\n",
       "      <td>22.0</td>\n",
       "      <td>6.894737</td>\n",
       "      <td>1.017544</td>\n",
       "      <td>134.0</td>\n",
       "      <td>2.350877</td>\n",
       "      <td>38.12</td>\n",
       "      <td>-121.23</td>\n",
       "    </tr>\n",
       "    <tr>\n",
       "      <th>8964</th>\n",
       "      <td>5.1322</td>\n",
       "      <td>43.0</td>\n",
       "      <td>4.309859</td>\n",
       "      <td>0.950704</td>\n",
       "      <td>402.0</td>\n",
       "      <td>2.830986</td>\n",
       "      <td>33.99</td>\n",
       "      <td>-118.39</td>\n",
       "    </tr>\n",
       "    <tr>\n",
       "      <th>5944</th>\n",
       "      <td>4.0023</td>\n",
       "      <td>33.0</td>\n",
       "      <td>5.156944</td>\n",
       "      <td>0.997222</td>\n",
       "      <td>2106.0</td>\n",
       "      <td>2.925000</td>\n",
       "      <td>34.13</td>\n",
       "      <td>-117.88</td>\n",
       "    </tr>\n",
       "    <tr>\n",
       "      <th>5327</th>\n",
       "      <td>3.6673</td>\n",
       "      <td>22.0</td>\n",
       "      <td>3.530851</td>\n",
       "      <td>1.111702</td>\n",
       "      <td>1848.0</td>\n",
       "      <td>1.965957</td>\n",
       "      <td>34.04</td>\n",
       "      <td>-118.45</td>\n",
       "    </tr>\n",
       "    <tr>\n",
       "      <th>15305</th>\n",
       "      <td>1.8214</td>\n",
       "      <td>23.0</td>\n",
       "      <td>3.457456</td>\n",
       "      <td>1.073294</td>\n",
       "      <td>4729.0</td>\n",
       "      <td>3.983993</td>\n",
       "      <td>33.19</td>\n",
       "      <td>-117.37</td>\n",
       "    </tr>\n",
       "  </tbody>\n",
       "</table>\n",
       "<p>14448 rows × 8 columns</p>\n",
       "</div>"
      ],
      "text/plain": [
       "       MedInc  HouseAge  AveRooms  AveBedrms  Population  AveOccup  Latitude  \\\n",
       "17564  5.8186      52.0  4.796840   0.972912      1014.0  2.288939     37.31   \n",
       "16514  2.1186      28.0  4.707581   1.039711      1719.0  3.102888     37.80   \n",
       "17926  3.9625      26.0  4.018785   1.030939      2249.0  2.485083     37.34   \n",
       "15277  4.3182      17.0  6.744417   1.285360       815.0  2.022333     33.06   \n",
       "8395   4.8750      26.0  6.900000   1.150000       100.0  5.000000     33.96   \n",
       "...       ...       ...       ...        ...         ...       ...       ...   \n",
       "16432  3.9500      22.0  6.894737   1.017544       134.0  2.350877     38.12   \n",
       "8964   5.1322      43.0  4.309859   0.950704       402.0  2.830986     33.99   \n",
       "5944   4.0023      33.0  5.156944   0.997222      2106.0  2.925000     34.13   \n",
       "5327   3.6673      22.0  3.530851   1.111702      1848.0  1.965957     34.04   \n",
       "15305  1.8214      23.0  3.457456   1.073294      4729.0  3.983993     33.19   \n",
       "\n",
       "       Longitude  \n",
       "17564    -121.90  \n",
       "16514    -121.22  \n",
       "17926    -121.99  \n",
       "15277    -117.34  \n",
       "8395     -118.37  \n",
       "...          ...  \n",
       "16432    -121.23  \n",
       "8964     -118.39  \n",
       "5944     -117.88  \n",
       "5327     -118.45  \n",
       "15305    -117.37  \n",
       "\n",
       "[14448 rows x 8 columns]"
      ]
     },
     "execution_count": 400,
     "metadata": {},
     "output_type": "execute_result"
    }
   ],
   "source": [
    "X_train"
   ]
  },
  {
   "cell_type": "code",
   "execution_count": 403,
   "id": "82c3bd14",
   "metadata": {},
   "outputs": [],
   "source": [
    "from sklearn.ensemble import RandomForestRegressor\n",
    "from sklearn.model_selection import GridSearchCV, RandomizedSearchCV\n",
    "import numpy as np"
   ]
  },
  {
   "cell_type": "code",
   "execution_count": 402,
   "id": "f1f0cfc2",
   "metadata": {},
   "outputs": [],
   "source": [
    "rf = RandomForestRegressor(random_state = 1)\n",
    "#n_estimators, max_features, min_samples_split, max_depth, criterion"
   ]
  },
  {
   "cell_type": "code",
   "execution_count": 408,
   "id": "3149610c",
   "metadata": {},
   "outputs": [],
   "source": [
    "params = {'n_estimators': [10, 12],\n",
    "         'max_features': [ 'sqrt', 'log2'],\n",
    "         'min_samples_split':np.arange(2,4),\n",
    "         'max_depth': [5,7,9],\n",
    "         'criterion': [\"squared_error\", \"absolute_error\"]}"
   ]
  },
  {
   "cell_type": "code",
   "execution_count": 409,
   "id": "ed2fcd82",
   "metadata": {},
   "outputs": [],
   "source": [
    "gs = GridSearchCV(estimator = rf, cv = 5, param_grid = params, verbose = 1,\n",
    "            n_jobs = -1)"
   ]
  },
  {
   "cell_type": "code",
   "execution_count": 410,
   "id": "9199cbc0",
   "metadata": {},
   "outputs": [
    {
     "name": "stdout",
     "output_type": "stream",
     "text": [
      "Fitting 5 folds for each of 48 candidates, totalling 240 fits\n"
     ]
    },
    {
     "data": {
      "text/plain": [
       "GridSearchCV(cv=5, estimator=RandomForestRegressor(), n_jobs=-1,\n",
       "             param_grid={'criterion': ['squared_error', 'absolute_error'],\n",
       "                         'max_depth': [5, 7, 9],\n",
       "                         'max_features': ['sqrt', 'log2'],\n",
       "                         'min_samples_split': array([2, 3]),\n",
       "                         'n_estimators': [10, 12]},\n",
       "             verbose=1)"
      ]
     },
     "execution_count": 410,
     "metadata": {},
     "output_type": "execute_result"
    }
   ],
   "source": [
    "gs.fit(X_train, y_train)"
   ]
  },
  {
   "cell_type": "code",
   "execution_count": 411,
   "id": "ddfee6ed",
   "metadata": {},
   "outputs": [
    {
     "data": {
      "text/plain": [
       "{'mean_fit_time': array([ 0.12012596,  0.13362985,  0.11303763,  0.13847251,  0.15336947,\n",
       "         0.17503676,  0.15340643,  0.18255248,  0.13889031,  0.16927452,\n",
       "         0.13787026,  0.16612196,  0.19440522,  0.23280396,  0.19762959,\n",
       "         0.24144783,  0.17888083,  0.21601195,  0.18136339,  0.21659336,\n",
       "         0.24278975,  0.30112338,  0.24464431,  0.29457364, 11.08667359,\n",
       "        13.50386553, 11.65046511, 14.00383215, 15.91207824, 19.42177773,\n",
       "        16.55401831, 19.52275553, 12.58718309, 15.27300963, 12.77685037,\n",
       "        15.60024018, 17.8309382 , 21.68586721, 17.2267581 , 21.15519824,\n",
       "        13.10768933, 16.06247773, 13.40932188, 15.57925892, 18.19316168,\n",
       "        21.97955928, 17.67344584, 14.97686009]),\n",
       " 'std_fit_time': array([0.00866703, 0.00841572, 0.01185922, 0.01147874, 0.0061091 ,\n",
       "        0.00532045, 0.00622268, 0.00690007, 0.00500336, 0.01173377,\n",
       "        0.00624976, 0.00769125, 0.00765296, 0.00649971, 0.01249809,\n",
       "        0.00775221, 0.00765316, 0.00781868, 0.00730571, 0.01175042,\n",
       "        0.00905219, 0.00625086, 0.00762326, 0.01161146, 0.44333261,\n",
       "        0.23868816, 0.5815624 , 0.28329266, 0.64575627, 0.90498531,\n",
       "        0.46576299, 0.67970786, 0.29115371, 0.21522432, 0.35188149,\n",
       "        0.57577645, 0.61231064, 0.8021479 , 0.45394852, 0.74796644,\n",
       "        0.55453716, 0.81771884, 0.35094102, 0.41349989, 0.73186022,\n",
       "        0.91124974, 1.02519791, 2.71703549]),\n",
       " 'mean_score_time': array([0.00312448, 0.00312428, 0.        , 0.00352817, 0.00140224,\n",
       "        0.00312438, 0.00624871, 0.00632892, 0.00250106, 0.01249719,\n",
       "        0.01249681, 0.00937591, 0.00865097, 0.00624862, 0.00795116,\n",
       "        0.0032032 , 0.00312424, 0.00532584, 0.0042263 , 0.00937271,\n",
       "        0.00624962, 0.        , 0.00312424, 0.01562214, 0.00914931,\n",
       "        0.        , 0.00937338, 0.00937338, 0.00622568, 0.00312428,\n",
       "        0.01249728, 0.00492611, 0.00632701, 0.        , 0.01249762,\n",
       "        0.00808644, 0.01017528, 0.00937343, 0.00624914, 0.0104754 ,\n",
       "        0.00312428, 0.00624847, 0.00624857, 0.00831041, 0.00624928,\n",
       "        0.01249833, 0.00352564, 0.0068574 ]),\n",
       " 'std_score_time': array([6.24895096e-03, 6.24856949e-03, 0.00000000e+00, 6.56302744e-03,\n",
       "        2.80447006e-03, 6.24876022e-03, 7.65307864e-03, 6.52175742e-03,\n",
       "        5.00211716e-03, 6.24859334e-03, 6.24840260e-03, 7.65539526e-03,\n",
       "        7.18541983e-03, 7.65296188e-03, 6.99272849e-03, 6.40640259e-03,\n",
       "        6.24847412e-03, 6.68393698e-03, 6.08402794e-03, 7.65278664e-03,\n",
       "        7.65418834e-03, 0.00000000e+00, 6.24847412e-03, 1.55977509e-06,\n",
       "        7.48150172e-03, 0.00000000e+00, 7.65333175e-03, 7.65333182e-03,\n",
       "        7.62495713e-03, 6.24856949e-03, 1.16901688e-02, 6.38535139e-03,\n",
       "        7.74996694e-03, 0.00000000e+00, 6.24880800e-03, 4.40345775e-03,\n",
       "        8.43596207e-03, 7.65337071e-03, 7.65360433e-03, 6.54054628e-03,\n",
       "        6.24856949e-03, 7.65278663e-03, 7.65290344e-03, 4.97019067e-03,\n",
       "        7.65377952e-03, 6.24916568e-03, 6.09741554e-03, 7.25472991e-03]),\n",
       " 'param_criterion': masked_array(data=['squared_error', 'squared_error', 'squared_error',\n",
       "                    'squared_error', 'squared_error', 'squared_error',\n",
       "                    'squared_error', 'squared_error', 'squared_error',\n",
       "                    'squared_error', 'squared_error', 'squared_error',\n",
       "                    'squared_error', 'squared_error', 'squared_error',\n",
       "                    'squared_error', 'squared_error', 'squared_error',\n",
       "                    'squared_error', 'squared_error', 'squared_error',\n",
       "                    'squared_error', 'squared_error', 'squared_error',\n",
       "                    'absolute_error', 'absolute_error', 'absolute_error',\n",
       "                    'absolute_error', 'absolute_error', 'absolute_error',\n",
       "                    'absolute_error', 'absolute_error', 'absolute_error',\n",
       "                    'absolute_error', 'absolute_error', 'absolute_error',\n",
       "                    'absolute_error', 'absolute_error', 'absolute_error',\n",
       "                    'absolute_error', 'absolute_error', 'absolute_error',\n",
       "                    'absolute_error', 'absolute_error', 'absolute_error',\n",
       "                    'absolute_error', 'absolute_error', 'absolute_error'],\n",
       "              mask=[False, False, False, False, False, False, False, False,\n",
       "                    False, False, False, False, False, False, False, False,\n",
       "                    False, False, False, False, False, False, False, False,\n",
       "                    False, False, False, False, False, False, False, False,\n",
       "                    False, False, False, False, False, False, False, False,\n",
       "                    False, False, False, False, False, False, False, False],\n",
       "        fill_value='?',\n",
       "             dtype=object),\n",
       " 'param_max_depth': masked_array(data=[5, 5, 5, 5, 5, 5, 5, 5, 7, 7, 7, 7, 7, 7, 7, 7, 9, 9,\n",
       "                    9, 9, 9, 9, 9, 9, 5, 5, 5, 5, 5, 5, 5, 5, 7, 7, 7, 7,\n",
       "                    7, 7, 7, 7, 9, 9, 9, 9, 9, 9, 9, 9],\n",
       "              mask=[False, False, False, False, False, False, False, False,\n",
       "                    False, False, False, False, False, False, False, False,\n",
       "                    False, False, False, False, False, False, False, False,\n",
       "                    False, False, False, False, False, False, False, False,\n",
       "                    False, False, False, False, False, False, False, False,\n",
       "                    False, False, False, False, False, False, False, False],\n",
       "        fill_value='?',\n",
       "             dtype=object),\n",
       " 'param_max_features': masked_array(data=['sqrt', 'sqrt', 'sqrt', 'sqrt', 'log2', 'log2', 'log2',\n",
       "                    'log2', 'sqrt', 'sqrt', 'sqrt', 'sqrt', 'log2', 'log2',\n",
       "                    'log2', 'log2', 'sqrt', 'sqrt', 'sqrt', 'sqrt', 'log2',\n",
       "                    'log2', 'log2', 'log2', 'sqrt', 'sqrt', 'sqrt', 'sqrt',\n",
       "                    'log2', 'log2', 'log2', 'log2', 'sqrt', 'sqrt', 'sqrt',\n",
       "                    'sqrt', 'log2', 'log2', 'log2', 'log2', 'sqrt', 'sqrt',\n",
       "                    'sqrt', 'sqrt', 'log2', 'log2', 'log2', 'log2'],\n",
       "              mask=[False, False, False, False, False, False, False, False,\n",
       "                    False, False, False, False, False, False, False, False,\n",
       "                    False, False, False, False, False, False, False, False,\n",
       "                    False, False, False, False, False, False, False, False,\n",
       "                    False, False, False, False, False, False, False, False,\n",
       "                    False, False, False, False, False, False, False, False],\n",
       "        fill_value='?',\n",
       "             dtype=object),\n",
       " 'param_min_samples_split': masked_array(data=[2, 2, 3, 3, 2, 2, 3, 3, 2, 2, 3, 3, 2, 2, 3, 3, 2, 2,\n",
       "                    3, 3, 2, 2, 3, 3, 2, 2, 3, 3, 2, 2, 3, 3, 2, 2, 3, 3,\n",
       "                    2, 2, 3, 3, 2, 2, 3, 3, 2, 2, 3, 3],\n",
       "              mask=[False, False, False, False, False, False, False, False,\n",
       "                    False, False, False, False, False, False, False, False,\n",
       "                    False, False, False, False, False, False, False, False,\n",
       "                    False, False, False, False, False, False, False, False,\n",
       "                    False, False, False, False, False, False, False, False,\n",
       "                    False, False, False, False, False, False, False, False],\n",
       "        fill_value='?',\n",
       "             dtype=object),\n",
       " 'param_n_estimators': masked_array(data=[10, 12, 10, 12, 10, 12, 10, 12, 10, 12, 10, 12, 10, 12,\n",
       "                    10, 12, 10, 12, 10, 12, 10, 12, 10, 12, 10, 12, 10, 12,\n",
       "                    10, 12, 10, 12, 10, 12, 10, 12, 10, 12, 10, 12, 10, 12,\n",
       "                    10, 12, 10, 12, 10, 12],\n",
       "              mask=[False, False, False, False, False, False, False, False,\n",
       "                    False, False, False, False, False, False, False, False,\n",
       "                    False, False, False, False, False, False, False, False,\n",
       "                    False, False, False, False, False, False, False, False,\n",
       "                    False, False, False, False, False, False, False, False,\n",
       "                    False, False, False, False, False, False, False, False],\n",
       "        fill_value='?',\n",
       "             dtype=object),\n",
       " 'params': [{'criterion': 'squared_error',\n",
       "   'max_depth': 5,\n",
       "   'max_features': 'sqrt',\n",
       "   'min_samples_split': 2,\n",
       "   'n_estimators': 10},\n",
       "  {'criterion': 'squared_error',\n",
       "   'max_depth': 5,\n",
       "   'max_features': 'sqrt',\n",
       "   'min_samples_split': 2,\n",
       "   'n_estimators': 12},\n",
       "  {'criterion': 'squared_error',\n",
       "   'max_depth': 5,\n",
       "   'max_features': 'sqrt',\n",
       "   'min_samples_split': 3,\n",
       "   'n_estimators': 10},\n",
       "  {'criterion': 'squared_error',\n",
       "   'max_depth': 5,\n",
       "   'max_features': 'sqrt',\n",
       "   'min_samples_split': 3,\n",
       "   'n_estimators': 12},\n",
       "  {'criterion': 'squared_error',\n",
       "   'max_depth': 5,\n",
       "   'max_features': 'log2',\n",
       "   'min_samples_split': 2,\n",
       "   'n_estimators': 10},\n",
       "  {'criterion': 'squared_error',\n",
       "   'max_depth': 5,\n",
       "   'max_features': 'log2',\n",
       "   'min_samples_split': 2,\n",
       "   'n_estimators': 12},\n",
       "  {'criterion': 'squared_error',\n",
       "   'max_depth': 5,\n",
       "   'max_features': 'log2',\n",
       "   'min_samples_split': 3,\n",
       "   'n_estimators': 10},\n",
       "  {'criterion': 'squared_error',\n",
       "   'max_depth': 5,\n",
       "   'max_features': 'log2',\n",
       "   'min_samples_split': 3,\n",
       "   'n_estimators': 12},\n",
       "  {'criterion': 'squared_error',\n",
       "   'max_depth': 7,\n",
       "   'max_features': 'sqrt',\n",
       "   'min_samples_split': 2,\n",
       "   'n_estimators': 10},\n",
       "  {'criterion': 'squared_error',\n",
       "   'max_depth': 7,\n",
       "   'max_features': 'sqrt',\n",
       "   'min_samples_split': 2,\n",
       "   'n_estimators': 12},\n",
       "  {'criterion': 'squared_error',\n",
       "   'max_depth': 7,\n",
       "   'max_features': 'sqrt',\n",
       "   'min_samples_split': 3,\n",
       "   'n_estimators': 10},\n",
       "  {'criterion': 'squared_error',\n",
       "   'max_depth': 7,\n",
       "   'max_features': 'sqrt',\n",
       "   'min_samples_split': 3,\n",
       "   'n_estimators': 12},\n",
       "  {'criterion': 'squared_error',\n",
       "   'max_depth': 7,\n",
       "   'max_features': 'log2',\n",
       "   'min_samples_split': 2,\n",
       "   'n_estimators': 10},\n",
       "  {'criterion': 'squared_error',\n",
       "   'max_depth': 7,\n",
       "   'max_features': 'log2',\n",
       "   'min_samples_split': 2,\n",
       "   'n_estimators': 12},\n",
       "  {'criterion': 'squared_error',\n",
       "   'max_depth': 7,\n",
       "   'max_features': 'log2',\n",
       "   'min_samples_split': 3,\n",
       "   'n_estimators': 10},\n",
       "  {'criterion': 'squared_error',\n",
       "   'max_depth': 7,\n",
       "   'max_features': 'log2',\n",
       "   'min_samples_split': 3,\n",
       "   'n_estimators': 12},\n",
       "  {'criterion': 'squared_error',\n",
       "   'max_depth': 9,\n",
       "   'max_features': 'sqrt',\n",
       "   'min_samples_split': 2,\n",
       "   'n_estimators': 10},\n",
       "  {'criterion': 'squared_error',\n",
       "   'max_depth': 9,\n",
       "   'max_features': 'sqrt',\n",
       "   'min_samples_split': 2,\n",
       "   'n_estimators': 12},\n",
       "  {'criterion': 'squared_error',\n",
       "   'max_depth': 9,\n",
       "   'max_features': 'sqrt',\n",
       "   'min_samples_split': 3,\n",
       "   'n_estimators': 10},\n",
       "  {'criterion': 'squared_error',\n",
       "   'max_depth': 9,\n",
       "   'max_features': 'sqrt',\n",
       "   'min_samples_split': 3,\n",
       "   'n_estimators': 12},\n",
       "  {'criterion': 'squared_error',\n",
       "   'max_depth': 9,\n",
       "   'max_features': 'log2',\n",
       "   'min_samples_split': 2,\n",
       "   'n_estimators': 10},\n",
       "  {'criterion': 'squared_error',\n",
       "   'max_depth': 9,\n",
       "   'max_features': 'log2',\n",
       "   'min_samples_split': 2,\n",
       "   'n_estimators': 12},\n",
       "  {'criterion': 'squared_error',\n",
       "   'max_depth': 9,\n",
       "   'max_features': 'log2',\n",
       "   'min_samples_split': 3,\n",
       "   'n_estimators': 10},\n",
       "  {'criterion': 'squared_error',\n",
       "   'max_depth': 9,\n",
       "   'max_features': 'log2',\n",
       "   'min_samples_split': 3,\n",
       "   'n_estimators': 12},\n",
       "  {'criterion': 'absolute_error',\n",
       "   'max_depth': 5,\n",
       "   'max_features': 'sqrt',\n",
       "   'min_samples_split': 2,\n",
       "   'n_estimators': 10},\n",
       "  {'criterion': 'absolute_error',\n",
       "   'max_depth': 5,\n",
       "   'max_features': 'sqrt',\n",
       "   'min_samples_split': 2,\n",
       "   'n_estimators': 12},\n",
       "  {'criterion': 'absolute_error',\n",
       "   'max_depth': 5,\n",
       "   'max_features': 'sqrt',\n",
       "   'min_samples_split': 3,\n",
       "   'n_estimators': 10},\n",
       "  {'criterion': 'absolute_error',\n",
       "   'max_depth': 5,\n",
       "   'max_features': 'sqrt',\n",
       "   'min_samples_split': 3,\n",
       "   'n_estimators': 12},\n",
       "  {'criterion': 'absolute_error',\n",
       "   'max_depth': 5,\n",
       "   'max_features': 'log2',\n",
       "   'min_samples_split': 2,\n",
       "   'n_estimators': 10},\n",
       "  {'criterion': 'absolute_error',\n",
       "   'max_depth': 5,\n",
       "   'max_features': 'log2',\n",
       "   'min_samples_split': 2,\n",
       "   'n_estimators': 12},\n",
       "  {'criterion': 'absolute_error',\n",
       "   'max_depth': 5,\n",
       "   'max_features': 'log2',\n",
       "   'min_samples_split': 3,\n",
       "   'n_estimators': 10},\n",
       "  {'criterion': 'absolute_error',\n",
       "   'max_depth': 5,\n",
       "   'max_features': 'log2',\n",
       "   'min_samples_split': 3,\n",
       "   'n_estimators': 12},\n",
       "  {'criterion': 'absolute_error',\n",
       "   'max_depth': 7,\n",
       "   'max_features': 'sqrt',\n",
       "   'min_samples_split': 2,\n",
       "   'n_estimators': 10},\n",
       "  {'criterion': 'absolute_error',\n",
       "   'max_depth': 7,\n",
       "   'max_features': 'sqrt',\n",
       "   'min_samples_split': 2,\n",
       "   'n_estimators': 12},\n",
       "  {'criterion': 'absolute_error',\n",
       "   'max_depth': 7,\n",
       "   'max_features': 'sqrt',\n",
       "   'min_samples_split': 3,\n",
       "   'n_estimators': 10},\n",
       "  {'criterion': 'absolute_error',\n",
       "   'max_depth': 7,\n",
       "   'max_features': 'sqrt',\n",
       "   'min_samples_split': 3,\n",
       "   'n_estimators': 12},\n",
       "  {'criterion': 'absolute_error',\n",
       "   'max_depth': 7,\n",
       "   'max_features': 'log2',\n",
       "   'min_samples_split': 2,\n",
       "   'n_estimators': 10},\n",
       "  {'criterion': 'absolute_error',\n",
       "   'max_depth': 7,\n",
       "   'max_features': 'log2',\n",
       "   'min_samples_split': 2,\n",
       "   'n_estimators': 12},\n",
       "  {'criterion': 'absolute_error',\n",
       "   'max_depth': 7,\n",
       "   'max_features': 'log2',\n",
       "   'min_samples_split': 3,\n",
       "   'n_estimators': 10},\n",
       "  {'criterion': 'absolute_error',\n",
       "   'max_depth': 7,\n",
       "   'max_features': 'log2',\n",
       "   'min_samples_split': 3,\n",
       "   'n_estimators': 12},\n",
       "  {'criterion': 'absolute_error',\n",
       "   'max_depth': 9,\n",
       "   'max_features': 'sqrt',\n",
       "   'min_samples_split': 2,\n",
       "   'n_estimators': 10},\n",
       "  {'criterion': 'absolute_error',\n",
       "   'max_depth': 9,\n",
       "   'max_features': 'sqrt',\n",
       "   'min_samples_split': 2,\n",
       "   'n_estimators': 12},\n",
       "  {'criterion': 'absolute_error',\n",
       "   'max_depth': 9,\n",
       "   'max_features': 'sqrt',\n",
       "   'min_samples_split': 3,\n",
       "   'n_estimators': 10},\n",
       "  {'criterion': 'absolute_error',\n",
       "   'max_depth': 9,\n",
       "   'max_features': 'sqrt',\n",
       "   'min_samples_split': 3,\n",
       "   'n_estimators': 12},\n",
       "  {'criterion': 'absolute_error',\n",
       "   'max_depth': 9,\n",
       "   'max_features': 'log2',\n",
       "   'min_samples_split': 2,\n",
       "   'n_estimators': 10},\n",
       "  {'criterion': 'absolute_error',\n",
       "   'max_depth': 9,\n",
       "   'max_features': 'log2',\n",
       "   'min_samples_split': 2,\n",
       "   'n_estimators': 12},\n",
       "  {'criterion': 'absolute_error',\n",
       "   'max_depth': 9,\n",
       "   'max_features': 'log2',\n",
       "   'min_samples_split': 3,\n",
       "   'n_estimators': 10},\n",
       "  {'criterion': 'absolute_error',\n",
       "   'max_depth': 9,\n",
       "   'max_features': 'log2',\n",
       "   'min_samples_split': 3,\n",
       "   'n_estimators': 12}],\n",
       " 'split0_test_score': array([0.61750277, 0.6391679 , 0.6268626 , 0.61917122, 0.66128397,\n",
       "        0.64101608, 0.65537136, 0.66176678, 0.71166453, 0.70379364,\n",
       "        0.70624781, 0.69799958, 0.71751599, 0.72348716, 0.72682377,\n",
       "        0.73216765, 0.75776765, 0.74968757, 0.74637925, 0.75298641,\n",
       "        0.76389046, 0.77389926, 0.76230605, 0.76103479, 0.62566774,\n",
       "        0.64134247, 0.61761024, 0.63432473, 0.64019691, 0.65177662,\n",
       "        0.64785729, 0.66555706, 0.69714247, 0.69421619, 0.69422618,\n",
       "        0.71302139, 0.72720639, 0.73057144, 0.72381475, 0.72712119,\n",
       "        0.75385537, 0.73826461, 0.73937495, 0.75417178, 0.75566454,\n",
       "        0.7741421 , 0.75943367, 0.76057319]),\n",
       " 'split1_test_score': array([0.58843829, 0.59864822, 0.59846314, 0.58700832, 0.62759252,\n",
       "        0.6322673 , 0.64440623, 0.64405539, 0.7009739 , 0.70863877,\n",
       "        0.70214541, 0.68511666, 0.71304282, 0.70804361, 0.71062345,\n",
       "        0.72218239, 0.75053889, 0.74610481, 0.73902716, 0.73715448,\n",
       "        0.75850039, 0.75944184, 0.7606411 , 0.76374446, 0.5956992 ,\n",
       "        0.6173653 , 0.60191058, 0.60617115, 0.65850666, 0.65179061,\n",
       "        0.61478195, 0.62957027, 0.66556908, 0.67301669, 0.65521956,\n",
       "        0.67698272, 0.71236488, 0.70836579, 0.70549216, 0.70967751,\n",
       "        0.73852252, 0.73773551, 0.73245674, 0.74106888, 0.75348358,\n",
       "        0.74390943, 0.74905682, 0.7599938 ]),\n",
       " 'split2_test_score': array([0.60066816, 0.60115829, 0.60499026, 0.59394378, 0.6339093 ,\n",
       "        0.63120597, 0.63289215, 0.64330304, 0.69178531, 0.68686859,\n",
       "        0.68582715, 0.68445347, 0.70162989, 0.69313811, 0.69487105,\n",
       "        0.70248077, 0.71928138, 0.736314  , 0.72707553, 0.73981005,\n",
       "        0.75679949, 0.74551149, 0.74804038, 0.75493146, 0.59761808,\n",
       "        0.59928598, 0.61241331, 0.60891495, 0.62761558, 0.62177098,\n",
       "        0.61271738, 0.61463192, 0.68032759, 0.68403454, 0.66935536,\n",
       "        0.65785178, 0.70161206, 0.70777763, 0.69466543, 0.70416791,\n",
       "        0.73811372, 0.73572129, 0.71973265, 0.73163535, 0.75167461,\n",
       "        0.74982456, 0.73964155, 0.75679991]),\n",
       " 'split3_test_score': array([0.60908371, 0.60654618, 0.58329141, 0.62932377, 0.62368299,\n",
       "        0.64955868, 0.63693318, 0.62379878, 0.65611151, 0.68694264,\n",
       "        0.66308141, 0.67276029, 0.69109179, 0.70225411, 0.70605901,\n",
       "        0.71137949, 0.73292232, 0.72817139, 0.74141545, 0.72412761,\n",
       "        0.7450379 , 0.73300644, 0.74037634, 0.75046289, 0.59382071,\n",
       "        0.60245921, 0.58495311, 0.5685599 , 0.64739657, 0.63133076,\n",
       "        0.6217547 , 0.63085211, 0.68097334, 0.68162322, 0.68119949,\n",
       "        0.6701589 , 0.7037416 , 0.69153307, 0.68652407, 0.68030281,\n",
       "        0.70601467, 0.7118793 , 0.69998873, 0.70957084, 0.75179624,\n",
       "        0.73723183, 0.72642055, 0.72826108]),\n",
       " 'split4_test_score': array([0.6431464 , 0.66706139, 0.63909295, 0.66016872, 0.68014719,\n",
       "        0.68003947, 0.67435691, 0.7010959 , 0.71668816, 0.71147707,\n",
       "        0.71616669, 0.71935637, 0.74354363, 0.74224363, 0.75151094,\n",
       "        0.74691139, 0.77059626, 0.77233232, 0.75226866, 0.76618984,\n",
       "        0.77729374, 0.78242114, 0.77825711, 0.78217606, 0.62076109,\n",
       "        0.63778539, 0.63211016, 0.63920817, 0.66090833, 0.67857971,\n",
       "        0.6454145 , 0.67006892, 0.70401263, 0.71096722, 0.7113266 ,\n",
       "        0.70883515, 0.73537436, 0.74651666, 0.72665339, 0.75199088,\n",
       "        0.76453926, 0.76090996, 0.75486049, 0.76796497, 0.77555679,\n",
       "        0.78039541, 0.7916326 , 0.77923612]),\n",
       " 'mean_test_score': array([0.61176787, 0.6225164 , 0.61054007, 0.61792316, 0.64532319,\n",
       "        0.6468175 , 0.64879197, 0.65480398, 0.69544468, 0.69954414,\n",
       "        0.69469369, 0.69193727, 0.71336483, 0.71383332, 0.71797764,\n",
       "        0.72302434, 0.7462213 , 0.74652202, 0.74123321, 0.74405368,\n",
       "        0.7603044 , 0.75885603, 0.7579242 , 0.76246993, 0.60671337,\n",
       "        0.61964767, 0.60979948, 0.61143578, 0.64692481, 0.64704974,\n",
       "        0.62850517, 0.64213606, 0.68560502, 0.68877157, 0.68226544,\n",
       "        0.68536999, 0.71605986, 0.71695292, 0.70742996, 0.71465206,\n",
       "        0.74020911, 0.73690213, 0.72928271, 0.74088236, 0.75763515,\n",
       "        0.75710067, 0.75323704, 0.75697282]),\n",
       " 'std_test_score': array([0.01839662, 0.02661742, 0.02000417, 0.02625626, 0.0218193 ,\n",
       "        0.01789021, 0.01489647, 0.02607892, 0.02147292, 0.01060786,\n",
       "        0.01859068, 0.01586722, 0.01767423, 0.01729875, 0.01966107,\n",
       "        0.01557267, 0.01815886, 0.01494868, 0.00840955, 0.01436982,\n",
       "        0.01048907, 0.01804569, 0.01300482, 0.01089048, 0.01361517,\n",
       "        0.01740627, 0.0157809 , 0.02516991, 0.0122312 , 0.01962173,\n",
       "        0.01512336, 0.0217738 , 0.01358452, 0.01299265, 0.01942625,\n",
       "        0.02179077, 0.01320172, 0.01930581, 0.0157591 , 0.02393408,\n",
       "        0.01977206, 0.0155336 , 0.01852291, 0.01987979, 0.00907662,\n",
       "        0.01705741, 0.02206378, 0.01638376]),\n",
       " 'rank_test_score': array([44, 41, 46, 43, 38, 37, 34, 33, 26, 25, 27, 28, 23, 22, 18, 17, 10,\n",
       "         9, 12, 11,  2,  3,  4,  1, 48, 42, 47, 45, 36, 35, 40, 39, 30, 29,\n",
       "        32, 31, 20, 19, 24, 21, 14, 15, 16, 13,  5,  6,  8,  7])}"
      ]
     },
     "execution_count": 411,
     "metadata": {},
     "output_type": "execute_result"
    }
   ],
   "source": [
    "gs.cv_results_"
   ]
  },
  {
   "cell_type": "code",
   "execution_count": 412,
   "id": "71e4bf92",
   "metadata": {},
   "outputs": [
    {
     "data": {
      "text/html": [
       "<div>\n",
       "<style scoped>\n",
       "    .dataframe tbody tr th:only-of-type {\n",
       "        vertical-align: middle;\n",
       "    }\n",
       "\n",
       "    .dataframe tbody tr th {\n",
       "        vertical-align: top;\n",
       "    }\n",
       "\n",
       "    .dataframe thead th {\n",
       "        text-align: right;\n",
       "    }\n",
       "</style>\n",
       "<table border=\"1\" class=\"dataframe\">\n",
       "  <thead>\n",
       "    <tr style=\"text-align: right;\">\n",
       "      <th></th>\n",
       "      <th>mean_fit_time</th>\n",
       "      <th>std_fit_time</th>\n",
       "      <th>mean_score_time</th>\n",
       "      <th>std_score_time</th>\n",
       "      <th>param_criterion</th>\n",
       "      <th>param_max_depth</th>\n",
       "      <th>param_max_features</th>\n",
       "      <th>param_min_samples_split</th>\n",
       "      <th>param_n_estimators</th>\n",
       "      <th>params</th>\n",
       "      <th>split0_test_score</th>\n",
       "      <th>split1_test_score</th>\n",
       "      <th>split2_test_score</th>\n",
       "      <th>split3_test_score</th>\n",
       "      <th>split4_test_score</th>\n",
       "      <th>mean_test_score</th>\n",
       "      <th>std_test_score</th>\n",
       "      <th>rank_test_score</th>\n",
       "    </tr>\n",
       "  </thead>\n",
       "  <tbody>\n",
       "    <tr>\n",
       "      <th>0</th>\n",
       "      <td>0.120126</td>\n",
       "      <td>0.008667</td>\n",
       "      <td>0.003124</td>\n",
       "      <td>0.006249</td>\n",
       "      <td>squared_error</td>\n",
       "      <td>5</td>\n",
       "      <td>sqrt</td>\n",
       "      <td>2</td>\n",
       "      <td>10</td>\n",
       "      <td>{'criterion': 'squared_error', 'max_depth': 5,...</td>\n",
       "      <td>0.617503</td>\n",
       "      <td>0.588438</td>\n",
       "      <td>0.600668</td>\n",
       "      <td>0.609084</td>\n",
       "      <td>0.643146</td>\n",
       "      <td>0.611768</td>\n",
       "      <td>0.018397</td>\n",
       "      <td>44</td>\n",
       "    </tr>\n",
       "    <tr>\n",
       "      <th>1</th>\n",
       "      <td>0.133630</td>\n",
       "      <td>0.008416</td>\n",
       "      <td>0.003124</td>\n",
       "      <td>0.006249</td>\n",
       "      <td>squared_error</td>\n",
       "      <td>5</td>\n",
       "      <td>sqrt</td>\n",
       "      <td>2</td>\n",
       "      <td>12</td>\n",
       "      <td>{'criterion': 'squared_error', 'max_depth': 5,...</td>\n",
       "      <td>0.639168</td>\n",
       "      <td>0.598648</td>\n",
       "      <td>0.601158</td>\n",
       "      <td>0.606546</td>\n",
       "      <td>0.667061</td>\n",
       "      <td>0.622516</td>\n",
       "      <td>0.026617</td>\n",
       "      <td>41</td>\n",
       "    </tr>\n",
       "    <tr>\n",
       "      <th>2</th>\n",
       "      <td>0.113038</td>\n",
       "      <td>0.011859</td>\n",
       "      <td>0.000000</td>\n",
       "      <td>0.000000</td>\n",
       "      <td>squared_error</td>\n",
       "      <td>5</td>\n",
       "      <td>sqrt</td>\n",
       "      <td>3</td>\n",
       "      <td>10</td>\n",
       "      <td>{'criterion': 'squared_error', 'max_depth': 5,...</td>\n",
       "      <td>0.626863</td>\n",
       "      <td>0.598463</td>\n",
       "      <td>0.604990</td>\n",
       "      <td>0.583291</td>\n",
       "      <td>0.639093</td>\n",
       "      <td>0.610540</td>\n",
       "      <td>0.020004</td>\n",
       "      <td>46</td>\n",
       "    </tr>\n",
       "    <tr>\n",
       "      <th>3</th>\n",
       "      <td>0.138473</td>\n",
       "      <td>0.011479</td>\n",
       "      <td>0.003528</td>\n",
       "      <td>0.006563</td>\n",
       "      <td>squared_error</td>\n",
       "      <td>5</td>\n",
       "      <td>sqrt</td>\n",
       "      <td>3</td>\n",
       "      <td>12</td>\n",
       "      <td>{'criterion': 'squared_error', 'max_depth': 5,...</td>\n",
       "      <td>0.619171</td>\n",
       "      <td>0.587008</td>\n",
       "      <td>0.593944</td>\n",
       "      <td>0.629324</td>\n",
       "      <td>0.660169</td>\n",
       "      <td>0.617923</td>\n",
       "      <td>0.026256</td>\n",
       "      <td>43</td>\n",
       "    </tr>\n",
       "    <tr>\n",
       "      <th>4</th>\n",
       "      <td>0.153369</td>\n",
       "      <td>0.006109</td>\n",
       "      <td>0.001402</td>\n",
       "      <td>0.002804</td>\n",
       "      <td>squared_error</td>\n",
       "      <td>5</td>\n",
       "      <td>log2</td>\n",
       "      <td>2</td>\n",
       "      <td>10</td>\n",
       "      <td>{'criterion': 'squared_error', 'max_depth': 5,...</td>\n",
       "      <td>0.661284</td>\n",
       "      <td>0.627593</td>\n",
       "      <td>0.633909</td>\n",
       "      <td>0.623683</td>\n",
       "      <td>0.680147</td>\n",
       "      <td>0.645323</td>\n",
       "      <td>0.021819</td>\n",
       "      <td>38</td>\n",
       "    </tr>\n",
       "    <tr>\n",
       "      <th>5</th>\n",
       "      <td>0.175037</td>\n",
       "      <td>0.005320</td>\n",
       "      <td>0.003124</td>\n",
       "      <td>0.006249</td>\n",
       "      <td>squared_error</td>\n",
       "      <td>5</td>\n",
       "      <td>log2</td>\n",
       "      <td>2</td>\n",
       "      <td>12</td>\n",
       "      <td>{'criterion': 'squared_error', 'max_depth': 5,...</td>\n",
       "      <td>0.641016</td>\n",
       "      <td>0.632267</td>\n",
       "      <td>0.631206</td>\n",
       "      <td>0.649559</td>\n",
       "      <td>0.680039</td>\n",
       "      <td>0.646818</td>\n",
       "      <td>0.017890</td>\n",
       "      <td>37</td>\n",
       "    </tr>\n",
       "    <tr>\n",
       "      <th>6</th>\n",
       "      <td>0.153406</td>\n",
       "      <td>0.006223</td>\n",
       "      <td>0.006249</td>\n",
       "      <td>0.007653</td>\n",
       "      <td>squared_error</td>\n",
       "      <td>5</td>\n",
       "      <td>log2</td>\n",
       "      <td>3</td>\n",
       "      <td>10</td>\n",
       "      <td>{'criterion': 'squared_error', 'max_depth': 5,...</td>\n",
       "      <td>0.655371</td>\n",
       "      <td>0.644406</td>\n",
       "      <td>0.632892</td>\n",
       "      <td>0.636933</td>\n",
       "      <td>0.674357</td>\n",
       "      <td>0.648792</td>\n",
       "      <td>0.014896</td>\n",
       "      <td>34</td>\n",
       "    </tr>\n",
       "    <tr>\n",
       "      <th>7</th>\n",
       "      <td>0.182552</td>\n",
       "      <td>0.006900</td>\n",
       "      <td>0.006329</td>\n",
       "      <td>0.006522</td>\n",
       "      <td>squared_error</td>\n",
       "      <td>5</td>\n",
       "      <td>log2</td>\n",
       "      <td>3</td>\n",
       "      <td>12</td>\n",
       "      <td>{'criterion': 'squared_error', 'max_depth': 5,...</td>\n",
       "      <td>0.661767</td>\n",
       "      <td>0.644055</td>\n",
       "      <td>0.643303</td>\n",
       "      <td>0.623799</td>\n",
       "      <td>0.701096</td>\n",
       "      <td>0.654804</td>\n",
       "      <td>0.026079</td>\n",
       "      <td>33</td>\n",
       "    </tr>\n",
       "    <tr>\n",
       "      <th>8</th>\n",
       "      <td>0.138890</td>\n",
       "      <td>0.005003</td>\n",
       "      <td>0.002501</td>\n",
       "      <td>0.005002</td>\n",
       "      <td>squared_error</td>\n",
       "      <td>7</td>\n",
       "      <td>sqrt</td>\n",
       "      <td>2</td>\n",
       "      <td>10</td>\n",
       "      <td>{'criterion': 'squared_error', 'max_depth': 7,...</td>\n",
       "      <td>0.711665</td>\n",
       "      <td>0.700974</td>\n",
       "      <td>0.691785</td>\n",
       "      <td>0.656112</td>\n",
       "      <td>0.716688</td>\n",
       "      <td>0.695445</td>\n",
       "      <td>0.021473</td>\n",
       "      <td>26</td>\n",
       "    </tr>\n",
       "    <tr>\n",
       "      <th>9</th>\n",
       "      <td>0.169275</td>\n",
       "      <td>0.011734</td>\n",
       "      <td>0.012497</td>\n",
       "      <td>0.006249</td>\n",
       "      <td>squared_error</td>\n",
       "      <td>7</td>\n",
       "      <td>sqrt</td>\n",
       "      <td>2</td>\n",
       "      <td>12</td>\n",
       "      <td>{'criterion': 'squared_error', 'max_depth': 7,...</td>\n",
       "      <td>0.703794</td>\n",
       "      <td>0.708639</td>\n",
       "      <td>0.686869</td>\n",
       "      <td>0.686943</td>\n",
       "      <td>0.711477</td>\n",
       "      <td>0.699544</td>\n",
       "      <td>0.010608</td>\n",
       "      <td>25</td>\n",
       "    </tr>\n",
       "    <tr>\n",
       "      <th>10</th>\n",
       "      <td>0.137870</td>\n",
       "      <td>0.006250</td>\n",
       "      <td>0.012497</td>\n",
       "      <td>0.006248</td>\n",
       "      <td>squared_error</td>\n",
       "      <td>7</td>\n",
       "      <td>sqrt</td>\n",
       "      <td>3</td>\n",
       "      <td>10</td>\n",
       "      <td>{'criterion': 'squared_error', 'max_depth': 7,...</td>\n",
       "      <td>0.706248</td>\n",
       "      <td>0.702145</td>\n",
       "      <td>0.685827</td>\n",
       "      <td>0.663081</td>\n",
       "      <td>0.716167</td>\n",
       "      <td>0.694694</td>\n",
       "      <td>0.018591</td>\n",
       "      <td>27</td>\n",
       "    </tr>\n",
       "    <tr>\n",
       "      <th>11</th>\n",
       "      <td>0.166122</td>\n",
       "      <td>0.007691</td>\n",
       "      <td>0.009376</td>\n",
       "      <td>0.007655</td>\n",
       "      <td>squared_error</td>\n",
       "      <td>7</td>\n",
       "      <td>sqrt</td>\n",
       "      <td>3</td>\n",
       "      <td>12</td>\n",
       "      <td>{'criterion': 'squared_error', 'max_depth': 7,...</td>\n",
       "      <td>0.698000</td>\n",
       "      <td>0.685117</td>\n",
       "      <td>0.684453</td>\n",
       "      <td>0.672760</td>\n",
       "      <td>0.719356</td>\n",
       "      <td>0.691937</td>\n",
       "      <td>0.015867</td>\n",
       "      <td>28</td>\n",
       "    </tr>\n",
       "    <tr>\n",
       "      <th>12</th>\n",
       "      <td>0.194405</td>\n",
       "      <td>0.007653</td>\n",
       "      <td>0.008651</td>\n",
       "      <td>0.007185</td>\n",
       "      <td>squared_error</td>\n",
       "      <td>7</td>\n",
       "      <td>log2</td>\n",
       "      <td>2</td>\n",
       "      <td>10</td>\n",
       "      <td>{'criterion': 'squared_error', 'max_depth': 7,...</td>\n",
       "      <td>0.717516</td>\n",
       "      <td>0.713043</td>\n",
       "      <td>0.701630</td>\n",
       "      <td>0.691092</td>\n",
       "      <td>0.743544</td>\n",
       "      <td>0.713365</td>\n",
       "      <td>0.017674</td>\n",
       "      <td>23</td>\n",
       "    </tr>\n",
       "    <tr>\n",
       "      <th>13</th>\n",
       "      <td>0.232804</td>\n",
       "      <td>0.006500</td>\n",
       "      <td>0.006249</td>\n",
       "      <td>0.007653</td>\n",
       "      <td>squared_error</td>\n",
       "      <td>7</td>\n",
       "      <td>log2</td>\n",
       "      <td>2</td>\n",
       "      <td>12</td>\n",
       "      <td>{'criterion': 'squared_error', 'max_depth': 7,...</td>\n",
       "      <td>0.723487</td>\n",
       "      <td>0.708044</td>\n",
       "      <td>0.693138</td>\n",
       "      <td>0.702254</td>\n",
       "      <td>0.742244</td>\n",
       "      <td>0.713833</td>\n",
       "      <td>0.017299</td>\n",
       "      <td>22</td>\n",
       "    </tr>\n",
       "    <tr>\n",
       "      <th>14</th>\n",
       "      <td>0.197630</td>\n",
       "      <td>0.012498</td>\n",
       "      <td>0.007951</td>\n",
       "      <td>0.006993</td>\n",
       "      <td>squared_error</td>\n",
       "      <td>7</td>\n",
       "      <td>log2</td>\n",
       "      <td>3</td>\n",
       "      <td>10</td>\n",
       "      <td>{'criterion': 'squared_error', 'max_depth': 7,...</td>\n",
       "      <td>0.726824</td>\n",
       "      <td>0.710623</td>\n",
       "      <td>0.694871</td>\n",
       "      <td>0.706059</td>\n",
       "      <td>0.751511</td>\n",
       "      <td>0.717978</td>\n",
       "      <td>0.019661</td>\n",
       "      <td>18</td>\n",
       "    </tr>\n",
       "    <tr>\n",
       "      <th>15</th>\n",
       "      <td>0.241448</td>\n",
       "      <td>0.007752</td>\n",
       "      <td>0.003203</td>\n",
       "      <td>0.006406</td>\n",
       "      <td>squared_error</td>\n",
       "      <td>7</td>\n",
       "      <td>log2</td>\n",
       "      <td>3</td>\n",
       "      <td>12</td>\n",
       "      <td>{'criterion': 'squared_error', 'max_depth': 7,...</td>\n",
       "      <td>0.732168</td>\n",
       "      <td>0.722182</td>\n",
       "      <td>0.702481</td>\n",
       "      <td>0.711379</td>\n",
       "      <td>0.746911</td>\n",
       "      <td>0.723024</td>\n",
       "      <td>0.015573</td>\n",
       "      <td>17</td>\n",
       "    </tr>\n",
       "    <tr>\n",
       "      <th>16</th>\n",
       "      <td>0.178881</td>\n",
       "      <td>0.007653</td>\n",
       "      <td>0.003124</td>\n",
       "      <td>0.006248</td>\n",
       "      <td>squared_error</td>\n",
       "      <td>9</td>\n",
       "      <td>sqrt</td>\n",
       "      <td>2</td>\n",
       "      <td>10</td>\n",
       "      <td>{'criterion': 'squared_error', 'max_depth': 9,...</td>\n",
       "      <td>0.757768</td>\n",
       "      <td>0.750539</td>\n",
       "      <td>0.719281</td>\n",
       "      <td>0.732922</td>\n",
       "      <td>0.770596</td>\n",
       "      <td>0.746221</td>\n",
       "      <td>0.018159</td>\n",
       "      <td>10</td>\n",
       "    </tr>\n",
       "    <tr>\n",
       "      <th>17</th>\n",
       "      <td>0.216012</td>\n",
       "      <td>0.007819</td>\n",
       "      <td>0.005326</td>\n",
       "      <td>0.006684</td>\n",
       "      <td>squared_error</td>\n",
       "      <td>9</td>\n",
       "      <td>sqrt</td>\n",
       "      <td>2</td>\n",
       "      <td>12</td>\n",
       "      <td>{'criterion': 'squared_error', 'max_depth': 9,...</td>\n",
       "      <td>0.749688</td>\n",
       "      <td>0.746105</td>\n",
       "      <td>0.736314</td>\n",
       "      <td>0.728171</td>\n",
       "      <td>0.772332</td>\n",
       "      <td>0.746522</td>\n",
       "      <td>0.014949</td>\n",
       "      <td>9</td>\n",
       "    </tr>\n",
       "    <tr>\n",
       "      <th>18</th>\n",
       "      <td>0.181363</td>\n",
       "      <td>0.007306</td>\n",
       "      <td>0.004226</td>\n",
       "      <td>0.006084</td>\n",
       "      <td>squared_error</td>\n",
       "      <td>9</td>\n",
       "      <td>sqrt</td>\n",
       "      <td>3</td>\n",
       "      <td>10</td>\n",
       "      <td>{'criterion': 'squared_error', 'max_depth': 9,...</td>\n",
       "      <td>0.746379</td>\n",
       "      <td>0.739027</td>\n",
       "      <td>0.727076</td>\n",
       "      <td>0.741415</td>\n",
       "      <td>0.752269</td>\n",
       "      <td>0.741233</td>\n",
       "      <td>0.008410</td>\n",
       "      <td>12</td>\n",
       "    </tr>\n",
       "    <tr>\n",
       "      <th>19</th>\n",
       "      <td>0.216593</td>\n",
       "      <td>0.011750</td>\n",
       "      <td>0.009373</td>\n",
       "      <td>0.007653</td>\n",
       "      <td>squared_error</td>\n",
       "      <td>9</td>\n",
       "      <td>sqrt</td>\n",
       "      <td>3</td>\n",
       "      <td>12</td>\n",
       "      <td>{'criterion': 'squared_error', 'max_depth': 9,...</td>\n",
       "      <td>0.752986</td>\n",
       "      <td>0.737154</td>\n",
       "      <td>0.739810</td>\n",
       "      <td>0.724128</td>\n",
       "      <td>0.766190</td>\n",
       "      <td>0.744054</td>\n",
       "      <td>0.014370</td>\n",
       "      <td>11</td>\n",
       "    </tr>\n",
       "    <tr>\n",
       "      <th>20</th>\n",
       "      <td>0.242790</td>\n",
       "      <td>0.009052</td>\n",
       "      <td>0.006250</td>\n",
       "      <td>0.007654</td>\n",
       "      <td>squared_error</td>\n",
       "      <td>9</td>\n",
       "      <td>log2</td>\n",
       "      <td>2</td>\n",
       "      <td>10</td>\n",
       "      <td>{'criterion': 'squared_error', 'max_depth': 9,...</td>\n",
       "      <td>0.763890</td>\n",
       "      <td>0.758500</td>\n",
       "      <td>0.756799</td>\n",
       "      <td>0.745038</td>\n",
       "      <td>0.777294</td>\n",
       "      <td>0.760304</td>\n",
       "      <td>0.010489</td>\n",
       "      <td>2</td>\n",
       "    </tr>\n",
       "    <tr>\n",
       "      <th>21</th>\n",
       "      <td>0.301123</td>\n",
       "      <td>0.006251</td>\n",
       "      <td>0.000000</td>\n",
       "      <td>0.000000</td>\n",
       "      <td>squared_error</td>\n",
       "      <td>9</td>\n",
       "      <td>log2</td>\n",
       "      <td>2</td>\n",
       "      <td>12</td>\n",
       "      <td>{'criterion': 'squared_error', 'max_depth': 9,...</td>\n",
       "      <td>0.773899</td>\n",
       "      <td>0.759442</td>\n",
       "      <td>0.745511</td>\n",
       "      <td>0.733006</td>\n",
       "      <td>0.782421</td>\n",
       "      <td>0.758856</td>\n",
       "      <td>0.018046</td>\n",
       "      <td>3</td>\n",
       "    </tr>\n",
       "    <tr>\n",
       "      <th>22</th>\n",
       "      <td>0.244644</td>\n",
       "      <td>0.007623</td>\n",
       "      <td>0.003124</td>\n",
       "      <td>0.006248</td>\n",
       "      <td>squared_error</td>\n",
       "      <td>9</td>\n",
       "      <td>log2</td>\n",
       "      <td>3</td>\n",
       "      <td>10</td>\n",
       "      <td>{'criterion': 'squared_error', 'max_depth': 9,...</td>\n",
       "      <td>0.762306</td>\n",
       "      <td>0.760641</td>\n",
       "      <td>0.748040</td>\n",
       "      <td>0.740376</td>\n",
       "      <td>0.778257</td>\n",
       "      <td>0.757924</td>\n",
       "      <td>0.013005</td>\n",
       "      <td>4</td>\n",
       "    </tr>\n",
       "    <tr>\n",
       "      <th>23</th>\n",
       "      <td>0.294574</td>\n",
       "      <td>0.011611</td>\n",
       "      <td>0.015622</td>\n",
       "      <td>0.000002</td>\n",
       "      <td>squared_error</td>\n",
       "      <td>9</td>\n",
       "      <td>log2</td>\n",
       "      <td>3</td>\n",
       "      <td>12</td>\n",
       "      <td>{'criterion': 'squared_error', 'max_depth': 9,...</td>\n",
       "      <td>0.761035</td>\n",
       "      <td>0.763744</td>\n",
       "      <td>0.754931</td>\n",
       "      <td>0.750463</td>\n",
       "      <td>0.782176</td>\n",
       "      <td>0.762470</td>\n",
       "      <td>0.010890</td>\n",
       "      <td>1</td>\n",
       "    </tr>\n",
       "    <tr>\n",
       "      <th>24</th>\n",
       "      <td>11.086674</td>\n",
       "      <td>0.443333</td>\n",
       "      <td>0.009149</td>\n",
       "      <td>0.007482</td>\n",
       "      <td>absolute_error</td>\n",
       "      <td>5</td>\n",
       "      <td>sqrt</td>\n",
       "      <td>2</td>\n",
       "      <td>10</td>\n",
       "      <td>{'criterion': 'absolute_error', 'max_depth': 5...</td>\n",
       "      <td>0.625668</td>\n",
       "      <td>0.595699</td>\n",
       "      <td>0.597618</td>\n",
       "      <td>0.593821</td>\n",
       "      <td>0.620761</td>\n",
       "      <td>0.606713</td>\n",
       "      <td>0.013615</td>\n",
       "      <td>48</td>\n",
       "    </tr>\n",
       "    <tr>\n",
       "      <th>25</th>\n",
       "      <td>13.503866</td>\n",
       "      <td>0.238688</td>\n",
       "      <td>0.000000</td>\n",
       "      <td>0.000000</td>\n",
       "      <td>absolute_error</td>\n",
       "      <td>5</td>\n",
       "      <td>sqrt</td>\n",
       "      <td>2</td>\n",
       "      <td>12</td>\n",
       "      <td>{'criterion': 'absolute_error', 'max_depth': 5...</td>\n",
       "      <td>0.641342</td>\n",
       "      <td>0.617365</td>\n",
       "      <td>0.599286</td>\n",
       "      <td>0.602459</td>\n",
       "      <td>0.637785</td>\n",
       "      <td>0.619648</td>\n",
       "      <td>0.017406</td>\n",
       "      <td>42</td>\n",
       "    </tr>\n",
       "    <tr>\n",
       "      <th>26</th>\n",
       "      <td>11.650465</td>\n",
       "      <td>0.581562</td>\n",
       "      <td>0.009373</td>\n",
       "      <td>0.007653</td>\n",
       "      <td>absolute_error</td>\n",
       "      <td>5</td>\n",
       "      <td>sqrt</td>\n",
       "      <td>3</td>\n",
       "      <td>10</td>\n",
       "      <td>{'criterion': 'absolute_error', 'max_depth': 5...</td>\n",
       "      <td>0.617610</td>\n",
       "      <td>0.601911</td>\n",
       "      <td>0.612413</td>\n",
       "      <td>0.584953</td>\n",
       "      <td>0.632110</td>\n",
       "      <td>0.609799</td>\n",
       "      <td>0.015781</td>\n",
       "      <td>47</td>\n",
       "    </tr>\n",
       "    <tr>\n",
       "      <th>27</th>\n",
       "      <td>14.003832</td>\n",
       "      <td>0.283293</td>\n",
       "      <td>0.009373</td>\n",
       "      <td>0.007653</td>\n",
       "      <td>absolute_error</td>\n",
       "      <td>5</td>\n",
       "      <td>sqrt</td>\n",
       "      <td>3</td>\n",
       "      <td>12</td>\n",
       "      <td>{'criterion': 'absolute_error', 'max_depth': 5...</td>\n",
       "      <td>0.634325</td>\n",
       "      <td>0.606171</td>\n",
       "      <td>0.608915</td>\n",
       "      <td>0.568560</td>\n",
       "      <td>0.639208</td>\n",
       "      <td>0.611436</td>\n",
       "      <td>0.025170</td>\n",
       "      <td>45</td>\n",
       "    </tr>\n",
       "    <tr>\n",
       "      <th>28</th>\n",
       "      <td>15.912078</td>\n",
       "      <td>0.645756</td>\n",
       "      <td>0.006226</td>\n",
       "      <td>0.007625</td>\n",
       "      <td>absolute_error</td>\n",
       "      <td>5</td>\n",
       "      <td>log2</td>\n",
       "      <td>2</td>\n",
       "      <td>10</td>\n",
       "      <td>{'criterion': 'absolute_error', 'max_depth': 5...</td>\n",
       "      <td>0.640197</td>\n",
       "      <td>0.658507</td>\n",
       "      <td>0.627616</td>\n",
       "      <td>0.647397</td>\n",
       "      <td>0.660908</td>\n",
       "      <td>0.646925</td>\n",
       "      <td>0.012231</td>\n",
       "      <td>36</td>\n",
       "    </tr>\n",
       "    <tr>\n",
       "      <th>29</th>\n",
       "      <td>19.421778</td>\n",
       "      <td>0.904985</td>\n",
       "      <td>0.003124</td>\n",
       "      <td>0.006249</td>\n",
       "      <td>absolute_error</td>\n",
       "      <td>5</td>\n",
       "      <td>log2</td>\n",
       "      <td>2</td>\n",
       "      <td>12</td>\n",
       "      <td>{'criterion': 'absolute_error', 'max_depth': 5...</td>\n",
       "      <td>0.651777</td>\n",
       "      <td>0.651791</td>\n",
       "      <td>0.621771</td>\n",
       "      <td>0.631331</td>\n",
       "      <td>0.678580</td>\n",
       "      <td>0.647050</td>\n",
       "      <td>0.019622</td>\n",
       "      <td>35</td>\n",
       "    </tr>\n",
       "    <tr>\n",
       "      <th>30</th>\n",
       "      <td>16.554018</td>\n",
       "      <td>0.465763</td>\n",
       "      <td>0.012497</td>\n",
       "      <td>0.011690</td>\n",
       "      <td>absolute_error</td>\n",
       "      <td>5</td>\n",
       "      <td>log2</td>\n",
       "      <td>3</td>\n",
       "      <td>10</td>\n",
       "      <td>{'criterion': 'absolute_error', 'max_depth': 5...</td>\n",
       "      <td>0.647857</td>\n",
       "      <td>0.614782</td>\n",
       "      <td>0.612717</td>\n",
       "      <td>0.621755</td>\n",
       "      <td>0.645415</td>\n",
       "      <td>0.628505</td>\n",
       "      <td>0.015123</td>\n",
       "      <td>40</td>\n",
       "    </tr>\n",
       "    <tr>\n",
       "      <th>31</th>\n",
       "      <td>19.522756</td>\n",
       "      <td>0.679708</td>\n",
       "      <td>0.004926</td>\n",
       "      <td>0.006385</td>\n",
       "      <td>absolute_error</td>\n",
       "      <td>5</td>\n",
       "      <td>log2</td>\n",
       "      <td>3</td>\n",
       "      <td>12</td>\n",
       "      <td>{'criterion': 'absolute_error', 'max_depth': 5...</td>\n",
       "      <td>0.665557</td>\n",
       "      <td>0.629570</td>\n",
       "      <td>0.614632</td>\n",
       "      <td>0.630852</td>\n",
       "      <td>0.670069</td>\n",
       "      <td>0.642136</td>\n",
       "      <td>0.021774</td>\n",
       "      <td>39</td>\n",
       "    </tr>\n",
       "    <tr>\n",
       "      <th>32</th>\n",
       "      <td>12.587183</td>\n",
       "      <td>0.291154</td>\n",
       "      <td>0.006327</td>\n",
       "      <td>0.007750</td>\n",
       "      <td>absolute_error</td>\n",
       "      <td>7</td>\n",
       "      <td>sqrt</td>\n",
       "      <td>2</td>\n",
       "      <td>10</td>\n",
       "      <td>{'criterion': 'absolute_error', 'max_depth': 7...</td>\n",
       "      <td>0.697142</td>\n",
       "      <td>0.665569</td>\n",
       "      <td>0.680328</td>\n",
       "      <td>0.680973</td>\n",
       "      <td>0.704013</td>\n",
       "      <td>0.685605</td>\n",
       "      <td>0.013585</td>\n",
       "      <td>30</td>\n",
       "    </tr>\n",
       "    <tr>\n",
       "      <th>33</th>\n",
       "      <td>15.273010</td>\n",
       "      <td>0.215224</td>\n",
       "      <td>0.000000</td>\n",
       "      <td>0.000000</td>\n",
       "      <td>absolute_error</td>\n",
       "      <td>7</td>\n",
       "      <td>sqrt</td>\n",
       "      <td>2</td>\n",
       "      <td>12</td>\n",
       "      <td>{'criterion': 'absolute_error', 'max_depth': 7...</td>\n",
       "      <td>0.694216</td>\n",
       "      <td>0.673017</td>\n",
       "      <td>0.684035</td>\n",
       "      <td>0.681623</td>\n",
       "      <td>0.710967</td>\n",
       "      <td>0.688772</td>\n",
       "      <td>0.012993</td>\n",
       "      <td>29</td>\n",
       "    </tr>\n",
       "    <tr>\n",
       "      <th>34</th>\n",
       "      <td>12.776850</td>\n",
       "      <td>0.351881</td>\n",
       "      <td>0.012498</td>\n",
       "      <td>0.006249</td>\n",
       "      <td>absolute_error</td>\n",
       "      <td>7</td>\n",
       "      <td>sqrt</td>\n",
       "      <td>3</td>\n",
       "      <td>10</td>\n",
       "      <td>{'criterion': 'absolute_error', 'max_depth': 7...</td>\n",
       "      <td>0.694226</td>\n",
       "      <td>0.655220</td>\n",
       "      <td>0.669355</td>\n",
       "      <td>0.681199</td>\n",
       "      <td>0.711327</td>\n",
       "      <td>0.682265</td>\n",
       "      <td>0.019426</td>\n",
       "      <td>32</td>\n",
       "    </tr>\n",
       "    <tr>\n",
       "      <th>35</th>\n",
       "      <td>15.600240</td>\n",
       "      <td>0.575776</td>\n",
       "      <td>0.008086</td>\n",
       "      <td>0.004403</td>\n",
       "      <td>absolute_error</td>\n",
       "      <td>7</td>\n",
       "      <td>sqrt</td>\n",
       "      <td>3</td>\n",
       "      <td>12</td>\n",
       "      <td>{'criterion': 'absolute_error', 'max_depth': 7...</td>\n",
       "      <td>0.713021</td>\n",
       "      <td>0.676983</td>\n",
       "      <td>0.657852</td>\n",
       "      <td>0.670159</td>\n",
       "      <td>0.708835</td>\n",
       "      <td>0.685370</td>\n",
       "      <td>0.021791</td>\n",
       "      <td>31</td>\n",
       "    </tr>\n",
       "    <tr>\n",
       "      <th>36</th>\n",
       "      <td>17.830938</td>\n",
       "      <td>0.612311</td>\n",
       "      <td>0.010175</td>\n",
       "      <td>0.008436</td>\n",
       "      <td>absolute_error</td>\n",
       "      <td>7</td>\n",
       "      <td>log2</td>\n",
       "      <td>2</td>\n",
       "      <td>10</td>\n",
       "      <td>{'criterion': 'absolute_error', 'max_depth': 7...</td>\n",
       "      <td>0.727206</td>\n",
       "      <td>0.712365</td>\n",
       "      <td>0.701612</td>\n",
       "      <td>0.703742</td>\n",
       "      <td>0.735374</td>\n",
       "      <td>0.716060</td>\n",
       "      <td>0.013202</td>\n",
       "      <td>20</td>\n",
       "    </tr>\n",
       "    <tr>\n",
       "      <th>37</th>\n",
       "      <td>21.685867</td>\n",
       "      <td>0.802148</td>\n",
       "      <td>0.009373</td>\n",
       "      <td>0.007653</td>\n",
       "      <td>absolute_error</td>\n",
       "      <td>7</td>\n",
       "      <td>log2</td>\n",
       "      <td>2</td>\n",
       "      <td>12</td>\n",
       "      <td>{'criterion': 'absolute_error', 'max_depth': 7...</td>\n",
       "      <td>0.730571</td>\n",
       "      <td>0.708366</td>\n",
       "      <td>0.707778</td>\n",
       "      <td>0.691533</td>\n",
       "      <td>0.746517</td>\n",
       "      <td>0.716953</td>\n",
       "      <td>0.019306</td>\n",
       "      <td>19</td>\n",
       "    </tr>\n",
       "    <tr>\n",
       "      <th>38</th>\n",
       "      <td>17.226758</td>\n",
       "      <td>0.453949</td>\n",
       "      <td>0.006249</td>\n",
       "      <td>0.007654</td>\n",
       "      <td>absolute_error</td>\n",
       "      <td>7</td>\n",
       "      <td>log2</td>\n",
       "      <td>3</td>\n",
       "      <td>10</td>\n",
       "      <td>{'criterion': 'absolute_error', 'max_depth': 7...</td>\n",
       "      <td>0.723815</td>\n",
       "      <td>0.705492</td>\n",
       "      <td>0.694665</td>\n",
       "      <td>0.686524</td>\n",
       "      <td>0.726653</td>\n",
       "      <td>0.707430</td>\n",
       "      <td>0.015759</td>\n",
       "      <td>24</td>\n",
       "    </tr>\n",
       "    <tr>\n",
       "      <th>39</th>\n",
       "      <td>21.155198</td>\n",
       "      <td>0.747966</td>\n",
       "      <td>0.010475</td>\n",
       "      <td>0.006541</td>\n",
       "      <td>absolute_error</td>\n",
       "      <td>7</td>\n",
       "      <td>log2</td>\n",
       "      <td>3</td>\n",
       "      <td>12</td>\n",
       "      <td>{'criterion': 'absolute_error', 'max_depth': 7...</td>\n",
       "      <td>0.727121</td>\n",
       "      <td>0.709678</td>\n",
       "      <td>0.704168</td>\n",
       "      <td>0.680303</td>\n",
       "      <td>0.751991</td>\n",
       "      <td>0.714652</td>\n",
       "      <td>0.023934</td>\n",
       "      <td>21</td>\n",
       "    </tr>\n",
       "    <tr>\n",
       "      <th>40</th>\n",
       "      <td>13.107689</td>\n",
       "      <td>0.554537</td>\n",
       "      <td>0.003124</td>\n",
       "      <td>0.006249</td>\n",
       "      <td>absolute_error</td>\n",
       "      <td>9</td>\n",
       "      <td>sqrt</td>\n",
       "      <td>2</td>\n",
       "      <td>10</td>\n",
       "      <td>{'criterion': 'absolute_error', 'max_depth': 9...</td>\n",
       "      <td>0.753855</td>\n",
       "      <td>0.738523</td>\n",
       "      <td>0.738114</td>\n",
       "      <td>0.706015</td>\n",
       "      <td>0.764539</td>\n",
       "      <td>0.740209</td>\n",
       "      <td>0.019772</td>\n",
       "      <td>14</td>\n",
       "    </tr>\n",
       "    <tr>\n",
       "      <th>41</th>\n",
       "      <td>16.062478</td>\n",
       "      <td>0.817719</td>\n",
       "      <td>0.006248</td>\n",
       "      <td>0.007653</td>\n",
       "      <td>absolute_error</td>\n",
       "      <td>9</td>\n",
       "      <td>sqrt</td>\n",
       "      <td>2</td>\n",
       "      <td>12</td>\n",
       "      <td>{'criterion': 'absolute_error', 'max_depth': 9...</td>\n",
       "      <td>0.738265</td>\n",
       "      <td>0.737736</td>\n",
       "      <td>0.735721</td>\n",
       "      <td>0.711879</td>\n",
       "      <td>0.760910</td>\n",
       "      <td>0.736902</td>\n",
       "      <td>0.015534</td>\n",
       "      <td>15</td>\n",
       "    </tr>\n",
       "    <tr>\n",
       "      <th>42</th>\n",
       "      <td>13.409322</td>\n",
       "      <td>0.350941</td>\n",
       "      <td>0.006249</td>\n",
       "      <td>0.007653</td>\n",
       "      <td>absolute_error</td>\n",
       "      <td>9</td>\n",
       "      <td>sqrt</td>\n",
       "      <td>3</td>\n",
       "      <td>10</td>\n",
       "      <td>{'criterion': 'absolute_error', 'max_depth': 9...</td>\n",
       "      <td>0.739375</td>\n",
       "      <td>0.732457</td>\n",
       "      <td>0.719733</td>\n",
       "      <td>0.699989</td>\n",
       "      <td>0.754860</td>\n",
       "      <td>0.729283</td>\n",
       "      <td>0.018523</td>\n",
       "      <td>16</td>\n",
       "    </tr>\n",
       "    <tr>\n",
       "      <th>43</th>\n",
       "      <td>15.579259</td>\n",
       "      <td>0.413500</td>\n",
       "      <td>0.008310</td>\n",
       "      <td>0.004970</td>\n",
       "      <td>absolute_error</td>\n",
       "      <td>9</td>\n",
       "      <td>sqrt</td>\n",
       "      <td>3</td>\n",
       "      <td>12</td>\n",
       "      <td>{'criterion': 'absolute_error', 'max_depth': 9...</td>\n",
       "      <td>0.754172</td>\n",
       "      <td>0.741069</td>\n",
       "      <td>0.731635</td>\n",
       "      <td>0.709571</td>\n",
       "      <td>0.767965</td>\n",
       "      <td>0.740882</td>\n",
       "      <td>0.019880</td>\n",
       "      <td>13</td>\n",
       "    </tr>\n",
       "    <tr>\n",
       "      <th>44</th>\n",
       "      <td>18.193162</td>\n",
       "      <td>0.731860</td>\n",
       "      <td>0.006249</td>\n",
       "      <td>0.007654</td>\n",
       "      <td>absolute_error</td>\n",
       "      <td>9</td>\n",
       "      <td>log2</td>\n",
       "      <td>2</td>\n",
       "      <td>10</td>\n",
       "      <td>{'criterion': 'absolute_error', 'max_depth': 9...</td>\n",
       "      <td>0.755665</td>\n",
       "      <td>0.753484</td>\n",
       "      <td>0.751675</td>\n",
       "      <td>0.751796</td>\n",
       "      <td>0.775557</td>\n",
       "      <td>0.757635</td>\n",
       "      <td>0.009077</td>\n",
       "      <td>5</td>\n",
       "    </tr>\n",
       "    <tr>\n",
       "      <th>45</th>\n",
       "      <td>21.979559</td>\n",
       "      <td>0.911250</td>\n",
       "      <td>0.012498</td>\n",
       "      <td>0.006249</td>\n",
       "      <td>absolute_error</td>\n",
       "      <td>9</td>\n",
       "      <td>log2</td>\n",
       "      <td>2</td>\n",
       "      <td>12</td>\n",
       "      <td>{'criterion': 'absolute_error', 'max_depth': 9...</td>\n",
       "      <td>0.774142</td>\n",
       "      <td>0.743909</td>\n",
       "      <td>0.749825</td>\n",
       "      <td>0.737232</td>\n",
       "      <td>0.780395</td>\n",
       "      <td>0.757101</td>\n",
       "      <td>0.017057</td>\n",
       "      <td>6</td>\n",
       "    </tr>\n",
       "    <tr>\n",
       "      <th>46</th>\n",
       "      <td>17.673446</td>\n",
       "      <td>1.025198</td>\n",
       "      <td>0.003526</td>\n",
       "      <td>0.006097</td>\n",
       "      <td>absolute_error</td>\n",
       "      <td>9</td>\n",
       "      <td>log2</td>\n",
       "      <td>3</td>\n",
       "      <td>10</td>\n",
       "      <td>{'criterion': 'absolute_error', 'max_depth': 9...</td>\n",
       "      <td>0.759434</td>\n",
       "      <td>0.749057</td>\n",
       "      <td>0.739642</td>\n",
       "      <td>0.726421</td>\n",
       "      <td>0.791633</td>\n",
       "      <td>0.753237</td>\n",
       "      <td>0.022064</td>\n",
       "      <td>8</td>\n",
       "    </tr>\n",
       "    <tr>\n",
       "      <th>47</th>\n",
       "      <td>14.976860</td>\n",
       "      <td>2.717035</td>\n",
       "      <td>0.006857</td>\n",
       "      <td>0.007255</td>\n",
       "      <td>absolute_error</td>\n",
       "      <td>9</td>\n",
       "      <td>log2</td>\n",
       "      <td>3</td>\n",
       "      <td>12</td>\n",
       "      <td>{'criterion': 'absolute_error', 'max_depth': 9...</td>\n",
       "      <td>0.760573</td>\n",
       "      <td>0.759994</td>\n",
       "      <td>0.756800</td>\n",
       "      <td>0.728261</td>\n",
       "      <td>0.779236</td>\n",
       "      <td>0.756973</td>\n",
       "      <td>0.016384</td>\n",
       "      <td>7</td>\n",
       "    </tr>\n",
       "  </tbody>\n",
       "</table>\n",
       "</div>"
      ],
      "text/plain": [
       "    mean_fit_time  std_fit_time  mean_score_time  std_score_time  \\\n",
       "0        0.120126      0.008667         0.003124        0.006249   \n",
       "1        0.133630      0.008416         0.003124        0.006249   \n",
       "2        0.113038      0.011859         0.000000        0.000000   \n",
       "3        0.138473      0.011479         0.003528        0.006563   \n",
       "4        0.153369      0.006109         0.001402        0.002804   \n",
       "5        0.175037      0.005320         0.003124        0.006249   \n",
       "6        0.153406      0.006223         0.006249        0.007653   \n",
       "7        0.182552      0.006900         0.006329        0.006522   \n",
       "8        0.138890      0.005003         0.002501        0.005002   \n",
       "9        0.169275      0.011734         0.012497        0.006249   \n",
       "10       0.137870      0.006250         0.012497        0.006248   \n",
       "11       0.166122      0.007691         0.009376        0.007655   \n",
       "12       0.194405      0.007653         0.008651        0.007185   \n",
       "13       0.232804      0.006500         0.006249        0.007653   \n",
       "14       0.197630      0.012498         0.007951        0.006993   \n",
       "15       0.241448      0.007752         0.003203        0.006406   \n",
       "16       0.178881      0.007653         0.003124        0.006248   \n",
       "17       0.216012      0.007819         0.005326        0.006684   \n",
       "18       0.181363      0.007306         0.004226        0.006084   \n",
       "19       0.216593      0.011750         0.009373        0.007653   \n",
       "20       0.242790      0.009052         0.006250        0.007654   \n",
       "21       0.301123      0.006251         0.000000        0.000000   \n",
       "22       0.244644      0.007623         0.003124        0.006248   \n",
       "23       0.294574      0.011611         0.015622        0.000002   \n",
       "24      11.086674      0.443333         0.009149        0.007482   \n",
       "25      13.503866      0.238688         0.000000        0.000000   \n",
       "26      11.650465      0.581562         0.009373        0.007653   \n",
       "27      14.003832      0.283293         0.009373        0.007653   \n",
       "28      15.912078      0.645756         0.006226        0.007625   \n",
       "29      19.421778      0.904985         0.003124        0.006249   \n",
       "30      16.554018      0.465763         0.012497        0.011690   \n",
       "31      19.522756      0.679708         0.004926        0.006385   \n",
       "32      12.587183      0.291154         0.006327        0.007750   \n",
       "33      15.273010      0.215224         0.000000        0.000000   \n",
       "34      12.776850      0.351881         0.012498        0.006249   \n",
       "35      15.600240      0.575776         0.008086        0.004403   \n",
       "36      17.830938      0.612311         0.010175        0.008436   \n",
       "37      21.685867      0.802148         0.009373        0.007653   \n",
       "38      17.226758      0.453949         0.006249        0.007654   \n",
       "39      21.155198      0.747966         0.010475        0.006541   \n",
       "40      13.107689      0.554537         0.003124        0.006249   \n",
       "41      16.062478      0.817719         0.006248        0.007653   \n",
       "42      13.409322      0.350941         0.006249        0.007653   \n",
       "43      15.579259      0.413500         0.008310        0.004970   \n",
       "44      18.193162      0.731860         0.006249        0.007654   \n",
       "45      21.979559      0.911250         0.012498        0.006249   \n",
       "46      17.673446      1.025198         0.003526        0.006097   \n",
       "47      14.976860      2.717035         0.006857        0.007255   \n",
       "\n",
       "   param_criterion param_max_depth param_max_features param_min_samples_split  \\\n",
       "0    squared_error               5               sqrt                       2   \n",
       "1    squared_error               5               sqrt                       2   \n",
       "2    squared_error               5               sqrt                       3   \n",
       "3    squared_error               5               sqrt                       3   \n",
       "4    squared_error               5               log2                       2   \n",
       "5    squared_error               5               log2                       2   \n",
       "6    squared_error               5               log2                       3   \n",
       "7    squared_error               5               log2                       3   \n",
       "8    squared_error               7               sqrt                       2   \n",
       "9    squared_error               7               sqrt                       2   \n",
       "10   squared_error               7               sqrt                       3   \n",
       "11   squared_error               7               sqrt                       3   \n",
       "12   squared_error               7               log2                       2   \n",
       "13   squared_error               7               log2                       2   \n",
       "14   squared_error               7               log2                       3   \n",
       "15   squared_error               7               log2                       3   \n",
       "16   squared_error               9               sqrt                       2   \n",
       "17   squared_error               9               sqrt                       2   \n",
       "18   squared_error               9               sqrt                       3   \n",
       "19   squared_error               9               sqrt                       3   \n",
       "20   squared_error               9               log2                       2   \n",
       "21   squared_error               9               log2                       2   \n",
       "22   squared_error               9               log2                       3   \n",
       "23   squared_error               9               log2                       3   \n",
       "24  absolute_error               5               sqrt                       2   \n",
       "25  absolute_error               5               sqrt                       2   \n",
       "26  absolute_error               5               sqrt                       3   \n",
       "27  absolute_error               5               sqrt                       3   \n",
       "28  absolute_error               5               log2                       2   \n",
       "29  absolute_error               5               log2                       2   \n",
       "30  absolute_error               5               log2                       3   \n",
       "31  absolute_error               5               log2                       3   \n",
       "32  absolute_error               7               sqrt                       2   \n",
       "33  absolute_error               7               sqrt                       2   \n",
       "34  absolute_error               7               sqrt                       3   \n",
       "35  absolute_error               7               sqrt                       3   \n",
       "36  absolute_error               7               log2                       2   \n",
       "37  absolute_error               7               log2                       2   \n",
       "38  absolute_error               7               log2                       3   \n",
       "39  absolute_error               7               log2                       3   \n",
       "40  absolute_error               9               sqrt                       2   \n",
       "41  absolute_error               9               sqrt                       2   \n",
       "42  absolute_error               9               sqrt                       3   \n",
       "43  absolute_error               9               sqrt                       3   \n",
       "44  absolute_error               9               log2                       2   \n",
       "45  absolute_error               9               log2                       2   \n",
       "46  absolute_error               9               log2                       3   \n",
       "47  absolute_error               9               log2                       3   \n",
       "\n",
       "   param_n_estimators                                             params  \\\n",
       "0                  10  {'criterion': 'squared_error', 'max_depth': 5,...   \n",
       "1                  12  {'criterion': 'squared_error', 'max_depth': 5,...   \n",
       "2                  10  {'criterion': 'squared_error', 'max_depth': 5,...   \n",
       "3                  12  {'criterion': 'squared_error', 'max_depth': 5,...   \n",
       "4                  10  {'criterion': 'squared_error', 'max_depth': 5,...   \n",
       "5                  12  {'criterion': 'squared_error', 'max_depth': 5,...   \n",
       "6                  10  {'criterion': 'squared_error', 'max_depth': 5,...   \n",
       "7                  12  {'criterion': 'squared_error', 'max_depth': 5,...   \n",
       "8                  10  {'criterion': 'squared_error', 'max_depth': 7,...   \n",
       "9                  12  {'criterion': 'squared_error', 'max_depth': 7,...   \n",
       "10                 10  {'criterion': 'squared_error', 'max_depth': 7,...   \n",
       "11                 12  {'criterion': 'squared_error', 'max_depth': 7,...   \n",
       "12                 10  {'criterion': 'squared_error', 'max_depth': 7,...   \n",
       "13                 12  {'criterion': 'squared_error', 'max_depth': 7,...   \n",
       "14                 10  {'criterion': 'squared_error', 'max_depth': 7,...   \n",
       "15                 12  {'criterion': 'squared_error', 'max_depth': 7,...   \n",
       "16                 10  {'criterion': 'squared_error', 'max_depth': 9,...   \n",
       "17                 12  {'criterion': 'squared_error', 'max_depth': 9,...   \n",
       "18                 10  {'criterion': 'squared_error', 'max_depth': 9,...   \n",
       "19                 12  {'criterion': 'squared_error', 'max_depth': 9,...   \n",
       "20                 10  {'criterion': 'squared_error', 'max_depth': 9,...   \n",
       "21                 12  {'criterion': 'squared_error', 'max_depth': 9,...   \n",
       "22                 10  {'criterion': 'squared_error', 'max_depth': 9,...   \n",
       "23                 12  {'criterion': 'squared_error', 'max_depth': 9,...   \n",
       "24                 10  {'criterion': 'absolute_error', 'max_depth': 5...   \n",
       "25                 12  {'criterion': 'absolute_error', 'max_depth': 5...   \n",
       "26                 10  {'criterion': 'absolute_error', 'max_depth': 5...   \n",
       "27                 12  {'criterion': 'absolute_error', 'max_depth': 5...   \n",
       "28                 10  {'criterion': 'absolute_error', 'max_depth': 5...   \n",
       "29                 12  {'criterion': 'absolute_error', 'max_depth': 5...   \n",
       "30                 10  {'criterion': 'absolute_error', 'max_depth': 5...   \n",
       "31                 12  {'criterion': 'absolute_error', 'max_depth': 5...   \n",
       "32                 10  {'criterion': 'absolute_error', 'max_depth': 7...   \n",
       "33                 12  {'criterion': 'absolute_error', 'max_depth': 7...   \n",
       "34                 10  {'criterion': 'absolute_error', 'max_depth': 7...   \n",
       "35                 12  {'criterion': 'absolute_error', 'max_depth': 7...   \n",
       "36                 10  {'criterion': 'absolute_error', 'max_depth': 7...   \n",
       "37                 12  {'criterion': 'absolute_error', 'max_depth': 7...   \n",
       "38                 10  {'criterion': 'absolute_error', 'max_depth': 7...   \n",
       "39                 12  {'criterion': 'absolute_error', 'max_depth': 7...   \n",
       "40                 10  {'criterion': 'absolute_error', 'max_depth': 9...   \n",
       "41                 12  {'criterion': 'absolute_error', 'max_depth': 9...   \n",
       "42                 10  {'criterion': 'absolute_error', 'max_depth': 9...   \n",
       "43                 12  {'criterion': 'absolute_error', 'max_depth': 9...   \n",
       "44                 10  {'criterion': 'absolute_error', 'max_depth': 9...   \n",
       "45                 12  {'criterion': 'absolute_error', 'max_depth': 9...   \n",
       "46                 10  {'criterion': 'absolute_error', 'max_depth': 9...   \n",
       "47                 12  {'criterion': 'absolute_error', 'max_depth': 9...   \n",
       "\n",
       "    split0_test_score  split1_test_score  split2_test_score  \\\n",
       "0            0.617503           0.588438           0.600668   \n",
       "1            0.639168           0.598648           0.601158   \n",
       "2            0.626863           0.598463           0.604990   \n",
       "3            0.619171           0.587008           0.593944   \n",
       "4            0.661284           0.627593           0.633909   \n",
       "5            0.641016           0.632267           0.631206   \n",
       "6            0.655371           0.644406           0.632892   \n",
       "7            0.661767           0.644055           0.643303   \n",
       "8            0.711665           0.700974           0.691785   \n",
       "9            0.703794           0.708639           0.686869   \n",
       "10           0.706248           0.702145           0.685827   \n",
       "11           0.698000           0.685117           0.684453   \n",
       "12           0.717516           0.713043           0.701630   \n",
       "13           0.723487           0.708044           0.693138   \n",
       "14           0.726824           0.710623           0.694871   \n",
       "15           0.732168           0.722182           0.702481   \n",
       "16           0.757768           0.750539           0.719281   \n",
       "17           0.749688           0.746105           0.736314   \n",
       "18           0.746379           0.739027           0.727076   \n",
       "19           0.752986           0.737154           0.739810   \n",
       "20           0.763890           0.758500           0.756799   \n",
       "21           0.773899           0.759442           0.745511   \n",
       "22           0.762306           0.760641           0.748040   \n",
       "23           0.761035           0.763744           0.754931   \n",
       "24           0.625668           0.595699           0.597618   \n",
       "25           0.641342           0.617365           0.599286   \n",
       "26           0.617610           0.601911           0.612413   \n",
       "27           0.634325           0.606171           0.608915   \n",
       "28           0.640197           0.658507           0.627616   \n",
       "29           0.651777           0.651791           0.621771   \n",
       "30           0.647857           0.614782           0.612717   \n",
       "31           0.665557           0.629570           0.614632   \n",
       "32           0.697142           0.665569           0.680328   \n",
       "33           0.694216           0.673017           0.684035   \n",
       "34           0.694226           0.655220           0.669355   \n",
       "35           0.713021           0.676983           0.657852   \n",
       "36           0.727206           0.712365           0.701612   \n",
       "37           0.730571           0.708366           0.707778   \n",
       "38           0.723815           0.705492           0.694665   \n",
       "39           0.727121           0.709678           0.704168   \n",
       "40           0.753855           0.738523           0.738114   \n",
       "41           0.738265           0.737736           0.735721   \n",
       "42           0.739375           0.732457           0.719733   \n",
       "43           0.754172           0.741069           0.731635   \n",
       "44           0.755665           0.753484           0.751675   \n",
       "45           0.774142           0.743909           0.749825   \n",
       "46           0.759434           0.749057           0.739642   \n",
       "47           0.760573           0.759994           0.756800   \n",
       "\n",
       "    split3_test_score  split4_test_score  mean_test_score  std_test_score  \\\n",
       "0            0.609084           0.643146         0.611768        0.018397   \n",
       "1            0.606546           0.667061         0.622516        0.026617   \n",
       "2            0.583291           0.639093         0.610540        0.020004   \n",
       "3            0.629324           0.660169         0.617923        0.026256   \n",
       "4            0.623683           0.680147         0.645323        0.021819   \n",
       "5            0.649559           0.680039         0.646818        0.017890   \n",
       "6            0.636933           0.674357         0.648792        0.014896   \n",
       "7            0.623799           0.701096         0.654804        0.026079   \n",
       "8            0.656112           0.716688         0.695445        0.021473   \n",
       "9            0.686943           0.711477         0.699544        0.010608   \n",
       "10           0.663081           0.716167         0.694694        0.018591   \n",
       "11           0.672760           0.719356         0.691937        0.015867   \n",
       "12           0.691092           0.743544         0.713365        0.017674   \n",
       "13           0.702254           0.742244         0.713833        0.017299   \n",
       "14           0.706059           0.751511         0.717978        0.019661   \n",
       "15           0.711379           0.746911         0.723024        0.015573   \n",
       "16           0.732922           0.770596         0.746221        0.018159   \n",
       "17           0.728171           0.772332         0.746522        0.014949   \n",
       "18           0.741415           0.752269         0.741233        0.008410   \n",
       "19           0.724128           0.766190         0.744054        0.014370   \n",
       "20           0.745038           0.777294         0.760304        0.010489   \n",
       "21           0.733006           0.782421         0.758856        0.018046   \n",
       "22           0.740376           0.778257         0.757924        0.013005   \n",
       "23           0.750463           0.782176         0.762470        0.010890   \n",
       "24           0.593821           0.620761         0.606713        0.013615   \n",
       "25           0.602459           0.637785         0.619648        0.017406   \n",
       "26           0.584953           0.632110         0.609799        0.015781   \n",
       "27           0.568560           0.639208         0.611436        0.025170   \n",
       "28           0.647397           0.660908         0.646925        0.012231   \n",
       "29           0.631331           0.678580         0.647050        0.019622   \n",
       "30           0.621755           0.645415         0.628505        0.015123   \n",
       "31           0.630852           0.670069         0.642136        0.021774   \n",
       "32           0.680973           0.704013         0.685605        0.013585   \n",
       "33           0.681623           0.710967         0.688772        0.012993   \n",
       "34           0.681199           0.711327         0.682265        0.019426   \n",
       "35           0.670159           0.708835         0.685370        0.021791   \n",
       "36           0.703742           0.735374         0.716060        0.013202   \n",
       "37           0.691533           0.746517         0.716953        0.019306   \n",
       "38           0.686524           0.726653         0.707430        0.015759   \n",
       "39           0.680303           0.751991         0.714652        0.023934   \n",
       "40           0.706015           0.764539         0.740209        0.019772   \n",
       "41           0.711879           0.760910         0.736902        0.015534   \n",
       "42           0.699989           0.754860         0.729283        0.018523   \n",
       "43           0.709571           0.767965         0.740882        0.019880   \n",
       "44           0.751796           0.775557         0.757635        0.009077   \n",
       "45           0.737232           0.780395         0.757101        0.017057   \n",
       "46           0.726421           0.791633         0.753237        0.022064   \n",
       "47           0.728261           0.779236         0.756973        0.016384   \n",
       "\n",
       "    rank_test_score  \n",
       "0                44  \n",
       "1                41  \n",
       "2                46  \n",
       "3                43  \n",
       "4                38  \n",
       "5                37  \n",
       "6                34  \n",
       "7                33  \n",
       "8                26  \n",
       "9                25  \n",
       "10               27  \n",
       "11               28  \n",
       "12               23  \n",
       "13               22  \n",
       "14               18  \n",
       "15               17  \n",
       "16               10  \n",
       "17                9  \n",
       "18               12  \n",
       "19               11  \n",
       "20                2  \n",
       "21                3  \n",
       "22                4  \n",
       "23                1  \n",
       "24               48  \n",
       "25               42  \n",
       "26               47  \n",
       "27               45  \n",
       "28               36  \n",
       "29               35  \n",
       "30               40  \n",
       "31               39  \n",
       "32               30  \n",
       "33               29  \n",
       "34               32  \n",
       "35               31  \n",
       "36               20  \n",
       "37               19  \n",
       "38               24  \n",
       "39               21  \n",
       "40               14  \n",
       "41               15  \n",
       "42               16  \n",
       "43               13  \n",
       "44                5  \n",
       "45                6  \n",
       "46                8  \n",
       "47                7  "
      ]
     },
     "execution_count": 412,
     "metadata": {},
     "output_type": "execute_result"
    }
   ],
   "source": [
    "pd.DataFrame(gs.cv_results_)"
   ]
  },
  {
   "cell_type": "code",
   "execution_count": 413,
   "id": "a9bd057e",
   "metadata": {},
   "outputs": [
    {
     "data": {
      "text/plain": [
       "{'criterion': 'squared_error',\n",
       " 'max_depth': 9,\n",
       " 'max_features': 'log2',\n",
       " 'min_samples_split': 3,\n",
       " 'n_estimators': 12}"
      ]
     },
     "execution_count": 413,
     "metadata": {},
     "output_type": "execute_result"
    }
   ],
   "source": [
    "gs.best_params_"
   ]
  },
  {
   "cell_type": "code",
   "execution_count": 414,
   "id": "fa1e1adf",
   "metadata": {},
   "outputs": [
    {
     "data": {
      "text/plain": [
       "0.7624699342495885"
      ]
     },
     "execution_count": 414,
     "metadata": {},
     "output_type": "execute_result"
    }
   ],
   "source": [
    "gs.best_score_"
   ]
  },
  {
   "cell_type": "code",
   "execution_count": 415,
   "id": "6ad01c35",
   "metadata": {},
   "outputs": [],
   "source": [
    "rs = RandomizedSearchCV(rf, params, cv = 5, verbose = 2, n_jobs = -1)"
   ]
  },
  {
   "cell_type": "code",
   "execution_count": 416,
   "id": "74d4291b",
   "metadata": {},
   "outputs": [
    {
     "name": "stdout",
     "output_type": "stream",
     "text": [
      "Fitting 5 folds for each of 10 candidates, totalling 50 fits\n"
     ]
    },
    {
     "data": {
      "text/plain": [
       "RandomizedSearchCV(cv=5, estimator=RandomForestRegressor(), n_jobs=-1,\n",
       "                   param_distributions={'criterion': ['squared_error',\n",
       "                                                      'absolute_error'],\n",
       "                                        'max_depth': [5, 7, 9],\n",
       "                                        'max_features': ['sqrt', 'log2'],\n",
       "                                        'min_samples_split': array([2, 3]),\n",
       "                                        'n_estimators': [10, 12]},\n",
       "                   verbose=2)"
      ]
     },
     "execution_count": 416,
     "metadata": {},
     "output_type": "execute_result"
    }
   ],
   "source": [
    "rs.fit(X_train, y_train)"
   ]
  },
  {
   "cell_type": "code",
   "execution_count": 417,
   "id": "4290375e",
   "metadata": {},
   "outputs": [
    {
     "data": {
      "text/plain": [
       "{'n_estimators': 12,\n",
       " 'min_samples_split': 2,\n",
       " 'max_features': 'sqrt',\n",
       " 'max_depth': 9,\n",
       " 'criterion': 'squared_error'}"
      ]
     },
     "execution_count": 417,
     "metadata": {},
     "output_type": "execute_result"
    }
   ],
   "source": [
    "rs.best_params_"
   ]
  },
  {
   "cell_type": "code",
   "execution_count": 418,
   "id": "86d94866",
   "metadata": {},
   "outputs": [
    {
     "data": {
      "text/plain": [
       "0.7443013759034751"
      ]
     },
     "execution_count": 418,
     "metadata": {},
     "output_type": "execute_result"
    }
   ],
   "source": [
    "rs.best_score_"
   ]
  },
  {
   "cell_type": "code",
   "execution_count": 419,
   "id": "555c92ec",
   "metadata": {},
   "outputs": [],
   "source": [
    "MedInc = 8.5\n",
    "HouseAge = 38\n",
    "AveRooms = 4\n",
    "AveBedrms = 3\n",
    "Population = 800\n",
    "AveOccup = 2.1\n",
    "Latitude = 37.85\n",
    "Longitude = -122.24"
   ]
  },
  {
   "cell_type": "code",
   "execution_count": 420,
   "id": "824ab05f",
   "metadata": {},
   "outputs": [],
   "source": [
    "ex_list = [[MedInc, HouseAge, AveRooms, AveBedrms, Population,AveOccup,Latitude,Longitude]]"
   ]
  },
  {
   "cell_type": "code",
   "execution_count": 421,
   "id": "be27917c",
   "metadata": {},
   "outputs": [],
   "source": [
    "ex_arr = np.array(ex_list)"
   ]
  },
  {
   "cell_type": "code",
   "execution_count": 424,
   "id": "6c2352b3",
   "metadata": {},
   "outputs": [
    {
     "data": {
      "text/plain": [
       "array([[   8.5 ,   38.  ,    4.  ,    3.  ,  800.  ,    2.1 ,   37.85,\n",
       "        -122.24]])"
      ]
     },
     "execution_count": 424,
     "metadata": {},
     "output_type": "execute_result"
    }
   ],
   "source": [
    "ex_arr"
   ]
  },
  {
   "cell_type": "code",
   "execution_count": 425,
   "id": "16abf776",
   "metadata": {},
   "outputs": [
    {
     "data": {
      "text/plain": [
       "(1, 8)"
      ]
     },
     "execution_count": 425,
     "metadata": {},
     "output_type": "execute_result"
    }
   ],
   "source": [
    "ex_arr.shape"
   ]
  },
  {
   "cell_type": "code",
   "execution_count": 427,
   "id": "0b7a83a8",
   "metadata": {},
   "outputs": [
    {
     "name": "stderr",
     "output_type": "stream",
     "text": [
      "C:\\Users\\USER\\anaconda3\\lib\\site-packages\\sklearn\\base.py:450: UserWarning: X does not have valid feature names, but RandomForestRegressor was fitted with feature names\n",
      "  warnings.warn(\n"
     ]
    },
    {
     "data": {
      "text/plain": [
       "4.250728012931415"
      ]
     },
     "execution_count": 427,
     "metadata": {},
     "output_type": "execute_result"
    }
   ],
   "source": [
    "gs.predict(ex_arr)[0]"
   ]
  },
  {
   "cell_type": "code",
   "execution_count": 428,
   "id": "b457e5b6",
   "metadata": {},
   "outputs": [
    {
     "name": "stdout",
     "output_type": "stream",
     "text": [
      "Requirement already satisfied: pyinstaller in c:\\users\\user\\anaconda3\\lib\\site-packages (5.10.1)\n",
      "Requirement already satisfied: setuptools>=42.0.0 in c:\\users\\user\\anaconda3\\lib\\site-packages (from pyinstaller) (67.6.1)\n",
      "Requirement already satisfied: pywin32-ctypes>=0.2.0 in c:\\users\\user\\anaconda3\\lib\\site-packages (from pyinstaller) (0.2.0)\n",
      "Requirement already satisfied: pefile>=2022.5.30 in c:\\users\\user\\anaconda3\\lib\\site-packages (from pyinstaller) (2023.2.7)\n",
      "Requirement already satisfied: pyinstaller-hooks-contrib>=2021.4 in c:\\users\\user\\anaconda3\\lib\\site-packages (from pyinstaller) (2023.2)\n",
      "Requirement already satisfied: altgraph in c:\\users\\user\\anaconda3\\lib\\site-packages (from pyinstaller) (0.17.3)\n"
     ]
    }
   ],
   "source": [
    "!pip install pyinstaller"
   ]
  },
  {
   "cell_type": "code",
   "execution_count": 1,
   "id": "d8b834c1",
   "metadata": {},
   "outputs": [],
   "source": [
    "import os\n",
    "import cv2\n",
    "import numpy as np"
   ]
  },
  {
   "cell_type": "code",
   "execution_count": 2,
   "id": "54b0442d-36a4-4345-bfe6-06ad2ed1290d",
   "metadata": {},
   "outputs": [],
   "source": [
    "filepath = r\"C:\\Users\\USER\\Documents\\TripleA\\Downloads\\MalariaCellImages\\cell_images\""
   ]
  },
  {
   "cell_type": "code",
   "execution_count": 8,
   "id": "821cf907-cc88-4010-8087-2d3fbba261e2",
   "metadata": {},
   "outputs": [],
   "source": [
    "X = []\n",
    "y = []\n",
    "#Parasitized - 1, unifected - 0"
   ]
  },
  {
   "cell_type": "code",
   "execution_count": 9,
   "id": "2e6f26f3-fff5-4821-a1ee-30723e22f088",
   "metadata": {},
   "outputs": [],
   "source": [
    "for img_name in os.listdir(f\"{filepath}\\Parasitized\"):\n",
    "    try:\n",
    "        img = cv2.imread(f\"{filepath}/Parasitized/{img_name}\")\n",
    "        img = cv2.resize(img, (60,60))\n",
    "        img = img/255\n",
    "        \n",
    "        X.append(img)\n",
    "        y.append(1)    \n",
    "    except:\n",
    "        pass"
   ]
  },
  {
   "cell_type": "code",
   "execution_count": 13,
   "id": "dc351e32-e32f-48b7-a4d1-dd208fa63d33",
   "metadata": {},
   "outputs": [
    {
     "data": {
      "text/plain": [
       "27558"
      ]
     },
     "execution_count": 13,
     "metadata": {},
     "output_type": "execute_result"
    }
   ],
   "source": [
    "len(X)"
   ]
  },
  {
   "cell_type": "code",
   "execution_count": 12,
   "id": "5c088f8b-6258-482a-8113-da73ab3a8756",
   "metadata": {},
   "outputs": [],
   "source": [
    "for img_name in os.listdir(f\"{filepath}/Uninfected\"):\n",
    "    try:\n",
    "        img = cv2.imread(f\"{filepath}/Uninfected/{img_name}\")\n",
    "        img = cv2.resize(img, (60,60))\n",
    "        img = img/255\n",
    "        \n",
    "        X.append(img)\n",
    "        y.append(0)\n",
    "        \n",
    "    except:\n",
    "        pass"
   ]
  },
  {
   "cell_type": "code",
   "execution_count": 14,
   "id": "54bc31a9-6dfb-4235-a3c7-902d99f996ca",
   "metadata": {},
   "outputs": [],
   "source": [
    "X_arr = np.array(X)\n",
    "y_arr = np.array(y)"
   ]
  },
  {
   "cell_type": "code",
   "execution_count": null,
   "id": "2f3abcce-f0ce-435e-9e87-e443fcb081d6",
   "metadata": {},
   "outputs": [],
   "source": []
  }
 ],
 "metadata": {
  "kernelspec": {
   "display_name": "Python 3 (ipykernel)",
   "language": "python",
   "name": "python3"
  },
  "language_info": {
   "codemirror_mode": {
    "name": "ipython",
    "version": 3
   },
   "file_extension": ".py",
   "mimetype": "text/x-python",
   "name": "python",
   "nbconvert_exporter": "python",
   "pygments_lexer": "ipython3",
   "version": "3.9.7"
  }
 },
 "nbformat": 4,
 "nbformat_minor": 5
}
