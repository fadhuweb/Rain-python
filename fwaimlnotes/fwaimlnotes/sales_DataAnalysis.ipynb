{
 "cells": [
  {
   "cell_type": "code",
   "execution_count": 2,
   "metadata": {},
   "outputs": [],
   "source": [
    "import pandas as pd\n",
    "import numpy as np\n",
    "import os"
   ]
  },
  {
   "cell_type": "code",
   "execution_count": 3,
   "metadata": {},
   "outputs": [],
   "source": [
    "file_path = r\"fwaimlnotes\\Sales_Data\\Sales_Data\""
   ]
  },
  {
   "cell_type": "code",
   "execution_count": 4,
   "metadata": {},
   "outputs": [
    {
     "ename": "FileNotFoundError",
     "evalue": "[WinError 3] The system cannot find the path specified: 'fwaimlnotes\\\\Sales_Data\\\\Sales_Data'",
     "output_type": "error",
     "traceback": [
      "\u001b[1;31m---------------------------------------------------------------------------\u001b[0m",
      "\u001b[1;31mFileNotFoundError\u001b[0m                         Traceback (most recent call last)",
      "Input \u001b[1;32mIn [4]\u001b[0m, in \u001b[0;36m<cell line: 5>\u001b[1;34m()\u001b[0m\n\u001b[0;32m      1\u001b[0m \u001b[38;5;28;01mfrom\u001b[39;00m \u001b[38;5;21;01mtraitlets\u001b[39;00m \u001b[38;5;28;01mimport\u001b[39;00m All\n\u001b[0;32m      4\u001b[0m all_df \u001b[38;5;241m=\u001b[39m pd\u001b[38;5;241m.\u001b[39mDataFrame()\n\u001b[1;32m----> 5\u001b[0m \u001b[38;5;28;01mfor\u001b[39;00m file_name \u001b[38;5;129;01min\u001b[39;00m \u001b[43mos\u001b[49m\u001b[38;5;241;43m.\u001b[39;49m\u001b[43mlistdir\u001b[49m\u001b[43m(\u001b[49m\u001b[43mfile_path\u001b[49m\u001b[43m)\u001b[49m:\n\u001b[0;32m      6\u001b[0m     month_df \u001b[38;5;241m=\u001b[39m pd\u001b[38;5;241m.\u001b[39mread_csv(\u001b[38;5;124mrf\u001b[39m\u001b[38;5;124m\"\u001b[39m\u001b[38;5;132;01m{\u001b[39;00mfile_path\u001b[38;5;132;01m}\u001b[39;00m\u001b[38;5;124m/\u001b[39m\u001b[38;5;132;01m{\u001b[39;00mfile_name\u001b[38;5;132;01m}\u001b[39;00m\u001b[38;5;124m\"\u001b[39m)\n\u001b[0;32m      7\u001b[0m     all_df \u001b[38;5;241m=\u001b[39m pd\u001b[38;5;241m.\u001b[39mconcat([all_df,month_df], axis \u001b[38;5;241m=\u001b[39m \u001b[38;5;241m0\u001b[39m)\n",
      "\u001b[1;31mFileNotFoundError\u001b[0m: [WinError 3] The system cannot find the path specified: 'fwaimlnotes\\\\Sales_Data\\\\Sales_Data'"
     ]
    }
   ],
   "source": [
    "from traitlets import All\n",
    "\n",
    "all_df = pd.DataFrame()\n",
    "for file_name in os.listdir(file_path):\n",
    "    month_df = pd.read_csv(rf\"{file_path}/{file_name}\")\n",
    "    all_df = pd.concat([all_df,month_df], axis = 0)\n",
    "all_df"
   ]
  },
  {
   "cell_type": "code",
   "execution_count": null,
   "metadata": {},
   "outputs": [],
   "source": [
    "#Converting wrong data type to sutiable dt based on column data\n",
    "all_df['Quantity Ordered'] = pd.to_numeric(all_df['Quantity Ordered'], errors = 'coerce')\n",
    "all_df['Price Each'] = pd.to_numeric(all_df['Price Each'], errors = 'coerce')"
   ]
  },
  {
   "cell_type": "code",
   "execution_count": null,
   "metadata": {},
   "outputs": [],
   "source": [
    "#Creating a new column derived from other exsiting columns\n",
    "all_df['Total Price'] = all_df['Quantity Ordered'] * all_df['Price Each']\n",
    "all_df"
   ]
  },
  {
   "cell_type": "code",
   "execution_count": null,
   "metadata": {},
   "outputs": [],
   "source": [
    "#Converting order date column to a date_time from an object data type\n",
    "\n",
    "all_df['Order Date'] = pd.to_datetime(all_df['Order Date'], errors = 'coerce', format='%m/%d/%y %H:%M')"
   ]
  },
  {
   "cell_type": "code",
   "execution_count": null,
   "metadata": {},
   "outputs": [],
   "source": [
    "all_df"
   ]
  },
  {
   "cell_type": "code",
   "execution_count": null,
   "metadata": {},
   "outputs": [],
   "source": [
    "all_df.isnull().sum()"
   ]
  },
  {
   "cell_type": "code",
   "execution_count": null,
   "metadata": {},
   "outputs": [],
   "source": [
    "#Dropping all null values\n",
    "all_df.dropna(axis = 0,inplace= True)"
   ]
  },
  {
   "cell_type": "code",
   "execution_count": null,
   "metadata": {},
   "outputs": [],
   "source": [
    "all_df.isnull().sum()"
   ]
  },
  {
   "cell_type": "code",
   "execution_count": null,
   "metadata": {},
   "outputs": [],
   "source": [
    "all_df"
   ]
  },
  {
   "cell_type": "code",
   "execution_count": null,
   "metadata": {},
   "outputs": [],
   "source": [
    "#Creating new columns derived from \n",
    "all_df['Hour'] = all_df['Order Date'].dt.hour\n",
    "all_df['Day in the month'] = all_df['Order Date'].dt.day\n",
    "all_df['Month'] = all_df['Order Date'].dt.month"
   ]
  },
  {
   "cell_type": "code",
   "execution_count": null,
   "metadata": {},
   "outputs": [],
   "source": [
    "all_df"
   ]
  },
  {
   "cell_type": "code",
   "execution_count": null,
   "metadata": {},
   "outputs": [],
   "source": [
    "def extract_city_postcode(address):\n",
    "    street,city,post_code = address.split(',')\n",
    "    post_code = post_code.split()[0]\n",
    "    return f\"{city.strip()} {post_code}\"\n",
    "\n"
   ]
  },
  {
   "cell_type": "code",
   "execution_count": null,
   "metadata": {},
   "outputs": [],
   "source": [
    "all_df['City'] = all_df['Purchase Address'].apply(extract_city_postcode)"
   ]
  },
  {
   "cell_type": "code",
   "execution_count": null,
   "metadata": {},
   "outputs": [],
   "source": [
    "all_df"
   ]
  },
  {
   "cell_type": "markdown",
   "metadata": {},
   "source": [
    "# Assginment\n",
    "1. What is average price of a product.\n",
    "2. Products ordered by a customer based on address.\n",
    "3. Which address bought the most or least products.\n",
    "4. Most frequently bought product.\n",
    "5. Top 5 cities that bought the most product at the end of the year and month.\n",
    "6. peak day(Day of week).\n",
    "7. peak hour.\n",
    "8. which state buys the most expensive product.\n",
    "9. month with the highest/lowest purchase.\n",
    "\n",
    "\n"
   ]
  },
  {
   "cell_type": "code",
   "execution_count": null,
   "metadata": {},
   "outputs": [],
   "source": []
  },
  {
   "cell_type": "code",
   "execution_count": null,
   "metadata": {},
   "outputs": [],
   "source": [
    "#Average price of a product\n",
    "avg_price = all_df['Price Each'].mean()\n",
    "avg_price"
   ]
  },
  {
   "cell_type": "code",
   "execution_count": 135,
   "metadata": {},
   "outputs": [
    {
     "name": "stdout",
     "output_type": "stream",
     "text": [
      "The city that bought the most product is San Francisco CA with a total amount of 8262203.91 spent on products\n"
     ]
    }
   ],
   "source": [
    "# Which city bought the most product\n",
    "\n",
    "most_profitable_city = all_df.groupby('City')['Total Price'].sum().sort_values(ascending=False)\n",
    "print(f\"The city that bought the most product is {most_profitable_city.index[0]} with a total amount of {most_profitable_city.values[0]} spent on products\")\n"
   ]
  },
  {
   "cell_type": "code",
   "execution_count": 136,
   "metadata": {},
   "outputs": [
    {
     "name": "stdout",
     "output_type": "stream",
     "text": [
      "The most bought product is USB-C Charging Cable with a total number of 21903 of the product bought\n"
     ]
    }
   ],
   "source": [
    "# Most frequently bought product\n",
    "\n",
    "most_bought_product = all_df.groupby('Product')['Quantity Ordered'].count().sort_values(ascending=False)\n",
    "print(f\"The most bought product is {most_bought_product.index[0]} with a total number of {most_bought_product.values[0]} of the product bought\")"
   ]
  },
  {
   "cell_type": "code",
   "execution_count": null,
   "metadata": {},
   "outputs": [],
   "source": [
    "# which state buys the most expensive product\n",
    "\n",
    "#find the most expensive product\n",
    "all_df.groupby('Product')['Price Each'].max().sort_values(ascending=False)"
   ]
  },
  {
   "cell_type": "code",
   "execution_count": null,
   "metadata": {},
   "outputs": [],
   "source": [
    "macbook_pro_citygroup = all_df[all_df['Product'] == \"Macbook Pro Laptop\"]\n",
    "macbook_pro_citygroup.groupby('City')['Quantity Ordered'].count().sort_values(ascending = False)\n"
   ]
  },
  {
   "cell_type": "code",
   "execution_count": null,
   "metadata": {},
   "outputs": [],
   "source": [
    "#Which address bought the most or least products\n",
    "\n",
    "#Most Products\n",
    "big_baller = all_df.groupby('Purchase Address')['Total Price'].sum().sort_values(ascending=False).index[0]\n",
    "\n",
    "#Least Products\n",
    "small_baller = all_df.groupby('Purchase Address')['Total Price'].sum().sort_values()\n",
    "# small_baller_count = len(pd.DataFrame(small_baller[(small_baller['Total Price']==2.99)]))\n",
    "print(f\"The address which bought the most products based on the total amount spent  is {big_baller}\")"
   ]
  },
  {
   "cell_type": "code",
   "execution_count": null,
   "metadata": {},
   "outputs": [],
   "source": [
    "# month with the highest/lowest purchases\n",
    "\n",
    "highest_month = all_df.groupby('Month')['Total Price'].sum().sort_values(ascending=False)\n",
    "lowest_month = all_df.groupby('Month')['Total Price'].sum().sort_values()\n",
    "print(f'The highest month of purchase with a total of {highest_month.values[0]} was the month of {highest_month.index[0]}')\n",
    "print(f'The highest month of purchase with a total of {lowest_month.values[0]} was the month of {lowest_month.index[0]}')"
   ]
  },
  {
   "cell_type": "code",
   "execution_count": null,
   "metadata": {},
   "outputs": [],
   "source": [
    "# Top 5 cities that bought the most product at the end of the year and month.\n",
    "\n",
    "end_of_year_top5 = all_df.groupby('City')['Total Price'].sum().sort_values(ascending=False).head()\n",
    "# end_of_month_top5 = all_df.groupby(['Month','City'])['Total Price'].sum().sort_values()\n",
    "end_of_month_top5 = all_df.groupby(['Month', 'City'])['Total Price'].sum().groupby('Month', group_keys=False).nlargest(5).reset_index()\n"
   ]
  },
  {
   "cell_type": "code",
   "execution_count": null,
   "metadata": {},
   "outputs": [],
   "source": [
    "end_of_month_top5"
   ]
  },
  {
   "cell_type": "code",
   "execution_count": 137,
   "metadata": {},
   "outputs": [
    {
     "name": "stdout",
     "output_type": "stream",
     "text": [
      "The hour of the day with most traffic is 19\n"
     ]
    }
   ],
   "source": [
    "#Peak hour\n",
    "peak_hour = all_df.groupby('Hour')['Total Price'].sum().sort_values(ascending=False).head().index[0]\n",
    "print(f\"The hour of the day with most traffic is {peak_hour}\")"
   ]
  },
  {
   "cell_type": "code",
   "execution_count": null,
   "metadata": {},
   "outputs": [],
   "source": [
    "all_df.head()"
   ]
  },
  {
   "cell_type": "code",
   "execution_count": null,
   "metadata": {},
   "outputs": [],
   "source": [
    "#Peak Day of the week\n",
    "\n",
    "#Map Order date to day of week and create a new column\n",
    "\n",
    "all_df['Week Day'] = all_df['Order Date'].dt.day_name()\n",
    "peak_week_day = all_df.groupby('Week Day')['Total Price'].sum().sort_values(ascending=False)\n",
    "print(f\"The peak day of the week is {peak_week_day.index[0]} with a total sales amount of {peak_week_day.values[0]}\")"
   ]
  },
  {
   "cell_type": "code",
   "execution_count": null,
   "metadata": {},
   "outputs": [],
   "source": []
  },
  {
   "cell_type": "code",
   "execution_count": null,
   "metadata": {},
   "outputs": [],
   "source": []
  }
 ],
 "metadata": {
  "kernelspec": {
   "display_name": "Python 3 (ipykernel)",
   "language": "python",
   "name": "python3"
  },
  "language_info": {
   "codemirror_mode": {
    "name": "ipython",
    "version": 3
   },
   "file_extension": ".py",
   "mimetype": "text/x-python",
   "name": "python",
   "nbconvert_exporter": "python",
   "pygments_lexer": "ipython3",
   "version": "3.9.12"
  }
 },
 "nbformat": 4,
 "nbformat_minor": 2
}
