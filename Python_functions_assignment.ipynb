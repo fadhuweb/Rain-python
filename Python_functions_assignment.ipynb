{
 "cells": [
  {
   "cell_type": "markdown",
   "id": "d16921f4",
   "metadata": {},
   "source": [
    "## EXCERCISE 1"
   ]
  },
  {
   "cell_type": "code",
   "execution_count": 2,
   "id": "2d7165bf",
   "metadata": {},
   "outputs": [
    {
     "data": {
      "text/plain": [
       "9.320565"
      ]
     },
     "execution_count": 2,
     "metadata": {},
     "output_type": "execute_result"
    }
   ],
   "source": [
    "def km_to_miles(kilometers):\n",
    "    miles = kilometers * 0.621371\n",
    "    return miles\n",
    "km_to_miles(15)"
   ]
  },
  {
   "cell_type": "markdown",
   "id": "823269a2",
   "metadata": {},
   "source": [
    "## EXERCISE 2"
   ]
  },
  {
   "cell_type": "code",
   "execution_count": 3,
   "id": "085d68ed",
   "metadata": {},
   "outputs": [
    {
     "data": {
      "text/plain": [
       "False"
      ]
     },
     "execution_count": 3,
     "metadata": {},
     "output_type": "execute_result"
    }
   ],
   "source": [
    "def is_divisible_by_11(n):\n",
    "    if n % 11 == 0:\n",
    "        return True\n",
    "    else:\n",
    "        return False\n",
    "is_divisible_by_11(20)"
   ]
  },
  {
   "cell_type": "markdown",
   "id": "8317412a",
   "metadata": {},
   "source": [
    "## EXERCISE 3"
   ]
  },
  {
   "cell_type": "code",
   "execution_count": 4,
   "id": "cc9d7b68",
   "metadata": {},
   "outputs": [
    {
     "data": {
      "text/plain": [
       "5"
      ]
     },
     "execution_count": 4,
     "metadata": {},
     "output_type": "execute_result"
    }
   ],
   "source": [
    "def get_highest(num1, num2):\n",
    "    return max(num1, num2)\n",
    "get_highest(3,5)"
   ]
  },
  {
   "cell_type": "markdown",
   "id": "27b26af6",
   "metadata": {},
   "source": [
    "## EXERCISE 4"
   ]
  },
  {
   "cell_type": "code",
   "execution_count": 5,
   "id": "0e95c2a1",
   "metadata": {},
   "outputs": [
    {
     "data": {
      "text/plain": [
       "64.9519052838329"
      ]
     },
     "execution_count": 5,
     "metadata": {},
     "output_type": "execute_result"
    }
   ],
   "source": [
    "import math\n",
    "\n",
    "def hexagon_area(side_length):\n",
    "    area = (3 * math.sqrt(3) / 2) * (side_length ** 2)\n",
    "    return area\n",
    "hexagon_area(5)"
   ]
  },
  {
   "cell_type": "markdown",
   "id": "05f70c20",
   "metadata": {},
   "source": [
    "## EXERCISE 7"
   ]
  },
  {
   "cell_type": "code",
   "execution_count": 7,
   "id": "496100b9",
   "metadata": {},
   "outputs": [
    {
     "data": {
      "text/plain": [
       "0.2"
      ]
     },
     "execution_count": 7,
     "metadata": {},
     "output_type": "execute_result"
    }
   ],
   "source": [
    "def fuel_cost(distance, mpg=50, fuel_cost=1):\n",
    "    fuel_needed = distance / mpg\n",
    "    cost = fuel_needed * fuel_cost\n",
    "    return cost\n",
    "fuel_cost(10)"
   ]
  },
  {
   "cell_type": "markdown",
   "id": "3b1b5690",
   "metadata": {},
   "source": [
    "## EXCERCISE 9"
   ]
  },
  {
   "cell_type": "code",
   "execution_count": 9,
   "id": "7d155ff4",
   "metadata": {},
   "outputs": [
    {
     "data": {
      "text/plain": [
       "False"
      ]
     },
     "execution_count": 9,
     "metadata": {},
     "output_type": "execute_result"
    }
   ],
   "source": [
    "def is_prime(n):\n",
    "    if n < 2:\n",
    "        return False\n",
    "    for i in range(2, int(n**0.5) + 1):\n",
    "        if n % i == 0:\n",
    "            return False\n",
    "    return True\n",
    "is_prime(9)"
   ]
  },
  {
   "cell_type": "markdown",
   "id": "b274e008",
   "metadata": {},
   "source": [
    "## EXCERCISE 10"
   ]
  },
  {
   "cell_type": "code",
   "execution_count": 10,
   "id": "2703ef7b",
   "metadata": {},
   "outputs": [
    {
     "data": {
      "text/plain": [
       "[2, 3, 5, 7]"
      ]
     },
     "execution_count": 10,
     "metadata": {},
     "output_type": "execute_result"
    }
   ],
   "source": [
    "def primes(n):\n",
    "    if n < 2:\n",
    "        return []\n",
    "    primes = [2]\n",
    "    for i in range(3, n + 1, 2):\n",
    "        if is_prime(i):\n",
    "            primes.append(i)\n",
    "    return primes\n",
    "primes(10)"
   ]
  },
  {
   "cell_type": "markdown",
   "id": "a8b0c42c",
   "metadata": {},
   "source": [
    "## EXERCISE 11"
   ]
  },
  {
   "cell_type": "code",
   "execution_count": 13,
   "id": "839388e7",
   "metadata": {},
   "outputs": [
    {
     "data": {
      "text/plain": [
       "5"
      ]
     },
     "execution_count": 13,
     "metadata": {},
     "output_type": "execute_result"
    }
   ],
   "source": [
    "def hcf(a, b):\n",
    "    if b == 0:\n",
    "        return abs(a)\n",
    "    else:\n",
    "        return hcf(b, a % b)\n",
    "hcf(-5,0)"
   ]
  },
  {
   "cell_type": "markdown",
   "id": "9d8516a6",
   "metadata": {},
   "source": [
    "## EXERCISE "
   ]
  }
 ],
 "metadata": {
  "kernelspec": {
   "display_name": "Python 3 (ipykernel)",
   "language": "python",
   "name": "python3"
  },
  "language_info": {
   "codemirror_mode": {
    "name": "ipython",
    "version": 3
   },
   "file_extension": ".py",
   "mimetype": "text/x-python",
   "name": "python",
   "nbconvert_exporter": "python",
   "pygments_lexer": "ipython3",
   "version": "3.11.7"
  }
 },
 "nbformat": 4,
 "nbformat_minor": 5
}
