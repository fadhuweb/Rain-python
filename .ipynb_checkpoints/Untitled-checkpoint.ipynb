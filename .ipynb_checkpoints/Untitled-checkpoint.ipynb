{
 "cells": [
  {
   "cell_type": "markdown",
   "id": "36661c37",
   "metadata": {},
   "source": [
    "## Exercise 1: Create a list by picking an odd-index items from the first list and even index items from the second\n",
    "Given two lists, l1 and l2, \n",
    "write a program to create a third list l3 by picking an odd-index element from the list l1 and even index elements from the list l2."
   ]
  },
  {
   "cell_type": "code",
   "execution_count": 1,
   "id": "972d08c1",
   "metadata": {},
   "outputs": [
    {
     "name": "stdout",
     "output_type": "stream",
     "text": [
      "[6, 12, 18]\n",
      "[4, 12, 20, 28]\n",
      "[6, 12, 18, 4, 12, 20, 28]\n"
     ]
    }
   ],
   "source": [
    "l1 = [3, 6, 9, 12, 15, 18, 21]\n",
    "l2 = [4, 8, 12, 16, 20, 24, 28]\n",
    "\n",
    "res= list()\n",
    "\n",
    "# code to print odd-index element from list l1\n",
    "odd_elements= l1[1::2]\n",
    "print(odd_elements)\n",
    "\n",
    "#code to print even-index elements from list\n",
    "even_elements = l2[0::2]\n",
    "print (even_elements)\n",
    "\n",
    "# code to combine odd_elements and even_elements\n",
    "res.extend(odd_elements)\n",
    "res.extend(even_elements)\n",
    "print(res)"
   ]
  },
  {
   "cell_type": "markdown",
   "id": "18bb4a15",
   "metadata": {},
   "source": [
    "##Exercise 2: Remove and add item in a list\n",
    "\n",
    "Write a program to remove the item present at index 4 and add it to the 2nd position and at the end of the list."
   ]
  },
  {
   "cell_type": "code",
   "execution_count": 4,
   "id": "b01b30cd",
   "metadata": {},
   "outputs": [
    {
     "name": "stdout",
     "output_type": "stream",
     "text": [
      "[54, 44, 27, 79, 41]\n",
      "[54, 44, 91, 27, 79, 41]\n",
      "[54, 44, 91, 27, 79, 41, 91]\n"
     ]
    }
   ],
   "source": [
    "list1 = [54, 44, 27, 79, 91, 41]\n",
    "\n",
    "# remove element at index 4 from list1\n",
    "element =list1.pop(4)\n",
    "print(list1)\n",
    "\n",
    "# add removed element fro index 4 to index 2\n",
    "list1.insert(2, element)\n",
    "print(list1)\n",
    "\n",
    "# add removed element to the end of the list\n",
    "list1.append(element)\n",
    "print (list1)"
   ]
  },
  {
   "cell_type": "markdown",
   "id": "3311be98",
   "metadata": {},
   "source": [
    "## Exercise 3: Slice list into 3 equal chunks and reverse each chunk"
   ]
  },
  {
   "cell_type": "code",
   "execution_count": 5,
   "id": "10df44a8",
   "metadata": {},
   "outputs": [
    {
     "name": "stdout",
     "output_type": "stream",
     "text": [
      "Original list  [11, 45, 8, 23, 14, 12, 78, 45, 89]\n",
      "Chunk  0 [11, 45, 8]\n",
      "After reversing it  [8, 45, 11]\n",
      "Chunk  1 [23, 14, 12]\n",
      "After reversing it  [12, 14, 23]\n",
      "Chunk  2 [78, 45, 89]\n",
      "After reversing it  [89, 45, 78]\n"
     ]
    }
   ],
   "source": [
    "sample_list = [11, 45, 8, 23, 14, 12, 78, 45, 89]\n",
    "print(\"Original list \", sample_list)\n",
    "\n",
    "length = len(sample_list)\n",
    "chunk_size = int(length / 3)\n",
    "start = 0\n",
    "end = chunk_size\n",
    "\n",
    "# run loop 3 times\n",
    "for i in range(3):\n",
    "    # get indexes\n",
    "    indexes = slice(start, end)\n",
    "    \n",
    "    # get chunk\n",
    "    list_chunk = sample_list[indexes]\n",
    "    print(\"Chunk \", i, list_chunk)\n",
    "    \n",
    "    # reverse chunk\n",
    "    print(\"After reversing it \", list(reversed(list_chunk)))\n",
    "\n",
    "    start = end\n",
    "    end += chunk_size\n"
   ]
  },
  {
   "cell_type": "markdown",
   "id": "f838850d",
   "metadata": {},
   "source": [
    "### Exercise 4: Count the occurrence of each element from a list\n",
    "Write a program to iterate a given list and count the occurrence of each element and create a dictionary to show the count of each element."
   ]
  },
  {
   "cell_type": "code",
   "execution_count": 16,
   "id": "e01f4176",
   "metadata": {},
   "outputs": [
    {
     "name": "stdout",
     "output_type": "stream",
     "text": [
      "{11: 2, 45: 3, 8: 1, 23: 2, 89: 1}\n"
     ]
    }
   ],
   "source": [
    "sample_list = [11, 45, 8, 11, 23, 45, 23, 45, 89]\n",
    "\n",
    "count_dict = dict()\n",
    "for item in sample_list:\n",
    "    if item in count_dict:\n",
    "        count_dict[item] += 1\n",
    "    else:\n",
    "        count_dict[item] = 1\n",
    "\n",
    "print(count_dict)\n"
   ]
  },
  {
   "cell_type": "markdown",
   "id": "f3da2108",
   "metadata": {},
   "source": [
    "## Exercise 5: Create a Python set such that it shows the element from both lists in a pair"
   ]
  },
  {
   "cell_type": "code",
   "execution_count": 19,
   "id": "b64ab65a",
   "metadata": {},
   "outputs": [
    {
     "name": "stdout",
     "output_type": "stream",
     "text": [
      "{(7, 49), (2, 4), (4, 16), (8, 64), (6, 36), (3, 9), (5, 25)}\n"
     ]
    }
   ],
   "source": [
    "first_list = [2, 3, 4, 5, 6, 7, 8]\n",
    "second_list = [4, 9, 16, 25, 36, 49, 64]\n",
    "\n",
    "list3 = set(zip(first_list, second_list))\n",
    "print(list3) "
   ]
  },
  {
   "cell_type": "code",
   "execution_count": 18,
   "id": "dd291beb",
   "metadata": {},
   "outputs": [
    {
     "name": "stdout",
     "output_type": "stream",
     "text": [
      "<zip object at 0x0000022C6BBF2C40>\n"
     ]
    }
   ],
   "source": [
    "print(list3)"
   ]
  },
  {
   "cell_type": "code",
   "execution_count": null,
   "id": "b703bc3e",
   "metadata": {},
   "outputs": [],
   "source": []
  }
 ],
 "metadata": {
  "kernelspec": {
   "display_name": "Python 3 (ipykernel)",
   "language": "python",
   "name": "python3"
  },
  "language_info": {
   "codemirror_mode": {
    "name": "ipython",
    "version": 3
   },
   "file_extension": ".py",
   "mimetype": "text/x-python",
   "name": "python",
   "nbconvert_exporter": "python",
   "pygments_lexer": "ipython3",
   "version": "3.11.7"
  }
 },
 "nbformat": 4,
 "nbformat_minor": 5
}
