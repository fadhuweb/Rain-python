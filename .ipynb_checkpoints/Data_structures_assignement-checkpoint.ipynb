{
 "cells": [
  {
   "cell_type": "markdown",
   "id": "91320c95",
   "metadata": {},
   "source": [
    "## QUESTION 1"
   ]
  },
  {
   "cell_type": "code",
   "execution_count": 2,
   "id": "585e4b03",
   "metadata": {},
   "outputs": [],
   "source": [
    "def count_elements(lst):\n",
    "    freq = {}\n",
    "    for items in lst:\n",
    "        if items in freq:\n",
    "            freq[items] += 1\n",
    "        else:\n",
    "            freq[items] = 1\n",
    "    return freq"
   ]
  },
  {
   "cell_type": "code",
   "execution_count": 4,
   "id": "da0d469d",
   "metadata": {},
   "outputs": [],
   "source": [
    "lst= [1, 1, 1, 2, 2, 2, 2, 3, 3, 4, 4, 4, 5]"
   ]
  },
  {
   "cell_type": "code",
   "execution_count": 5,
   "id": "ea6c5905",
   "metadata": {},
   "outputs": [
    {
     "data": {
      "text/plain": [
       "[1, 1, 1, 2, 2, 2, 2, 3, 3, 4, 4, 4, 5]"
      ]
     },
     "execution_count": 5,
     "metadata": {},
     "output_type": "execute_result"
    }
   ],
   "source": [
    "lst"
   ]
  },
  {
   "cell_type": "code",
   "execution_count": 6,
   "id": "6467b1b5",
   "metadata": {},
   "outputs": [
    {
     "name": "stdout",
     "output_type": "stream",
     "text": [
      "{1: 3, 2: 4, 3: 2, 4: 3, 5: 1}\n"
     ]
    }
   ],
   "source": [
    "print(count_elements (lst))"
   ]
  },
  {
   "cell_type": "markdown",
   "id": "71df4e3d",
   "metadata": {},
   "source": [
    "## QUESTION 2"
   ]
  },
  {
   "cell_type": "code",
   "execution_count": 7,
   "id": "0a34b1c5",
   "metadata": {},
   "outputs": [],
   "source": [
    "def remove_duplicates(lst):\n",
    "    return(list(set(lst)))\n"
   ]
  },
  {
   "cell_type": "code",
   "execution_count": 8,
   "id": "a4ab7e21",
   "metadata": {},
   "outputs": [
    {
     "name": "stdout",
     "output_type": "stream",
     "text": [
      "[1, 2, 3, 4, 5]\n"
     ]
    }
   ],
   "source": [
    "print (remove_duplicates(lst))"
   ]
  },
  {
   "cell_type": "markdown",
   "id": "f22baee6",
   "metadata": {},
   "source": [
    "## QUESTION 3\n"
   ]
  },
  {
   "cell_type": "code",
   "execution_count": null,
   "id": "f8bcd042",
   "metadata": {},
   "outputs": [],
   "source": [
    "def create_square_dict(n):\n",
    "    square_dict = {i: i**2 for i in range(1, n+1)}\n",
    "    return square_dict\n",
    "\n",
    "n = int(input(\"Enter the limit: \"))\n",
    "result = create_square_dict(n)\n",
    "print(result) "
   ]
  }
 ],
 "metadata": {
  "kernelspec": {
   "display_name": "Python 3 (ipykernel)",
   "language": "python",
   "name": "python3"
  },
  "language_info": {
   "codemirror_mode": {
    "name": "ipython",
    "version": 3
   },
   "file_extension": ".py",
   "mimetype": "text/x-python",
   "name": "python",
   "nbconvert_exporter": "python",
   "pygments_lexer": "ipython3",
   "version": "3.11.7"
  }
 },
 "nbformat": 4,
 "nbformat_minor": 5
}
